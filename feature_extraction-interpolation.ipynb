{
 "metadata": {
  "language_info": {
   "codemirror_mode": {
    "name": "ipython",
    "version": 3
   },
   "file_extension": ".py",
   "mimetype": "text/x-python",
   "name": "python",
   "nbconvert_exporter": "python",
   "pygments_lexer": "ipython3",
   "version": "3.8.5-final"
  },
  "orig_nbformat": 2,
  "kernelspec": {
   "name": "python3",
   "display_name": "Python 3",
   "language": "python"
  }
 },
 "nbformat": 4,
 "nbformat_minor": 2,
 "cells": [
  {
   "cell_type": "code",
   "execution_count": 1,
   "metadata": {},
   "outputs": [],
   "source": [
    "import pandas as pd\n",
    "import numpy as np\n",
    "import matplotlib.pyplot as plt\n",
    "from scipy import stats\n",
    "import seaborn as sns\n",
    "import glob\n",
    "import os\n",
    "from IPython.display import display"
   ]
  },
  {
   "source": [
    "## Data frome with normal valeus"
   ],
   "cell_type": "markdown",
   "metadata": {}
  },
  {
   "cell_type": "code",
   "execution_count": 3,
   "metadata": {},
   "outputs": [],
   "source": [
    "path = r'database-interpolated'\n",
    "files = os.listdir(path)\n",
    "mean_f =[]\n",
    "median_f = []\n",
    "sd_f = []\n",
    "peak_f = []\n",
    "rms_f = []\n",
    "peakto_rms_f = []\n",
    "\n",
    "mean_u =[]\n",
    "median_u = []\n",
    "sd_u = []\n",
    "peak_u = []\n",
    "rms_u = []\n",
    "peakto_rms_u = []\n",
    "\n",
    "target = []\n",
    "ids = []\n",
    "for f in files:\n",
    "    file_path = os.path.join(path, f)\n",
    "    df = pd.read_csv(file_path)\n",
    "    # FHR\n",
    "    mean_f.append(np.mean(df.FHR_denoised))\n",
    "    median_f.append(np.median(df.FHR_denoised))\n",
    "    sd_f.append(np.std(df.FHR_denoised))\n",
    "    rms_f.append(np.sqrt(np.mean(df.FHR_denoised**2)))\n",
    "    peak_f.append(np.max(df.FHR_denoised))\n",
    "    peakto_rms_f.append(np.max(df.FHR_denoised) - np.sqrt(np.mean(df.FHR_denoised**2)))\n",
    "    # UC\n",
    "    mean_u.append(np.mean(df.UC))\n",
    "    median_u.append(np.median(df.UC))\n",
    "    sd_u.append(np.std(df.UC))\n",
    "    rms_u.append(np.sqrt(np.mean(df.UC**2)))\n",
    "    peak_u.append(np.max(df.UC))\n",
    "    peakto_rms_u.append(np.max(df.UC) - np.sqrt(np.mean(df.UC**2)))\n",
    "    \n",
    "    if f[0]=='1':\n",
    "        target.append(1)\n",
    "    else:\n",
    "        target.append(0)\n",
    "    \n",
    "    ids.append(int(f.split(\".\")[0]))"
   ]
  },
  {
   "cell_type": "code",
   "execution_count": 4,
   "metadata": {},
   "outputs": [],
   "source": [
    "main_df = pd.DataFrame({\n",
    "    'Patient_ID':ids,\n",
    "    'Mean_FHR': mean_f,\n",
    "    'Mean_UC': mean_u,\n",
    "    'Median_FHR': median_f,\n",
    "    'Median_UC': median_u,\n",
    "    'Std_FHR': sd_f,\n",
    "    'Std_UC': sd_u,\n",
    "    'RMS_FHR': rms_f,\n",
    "    'RMS_UC': rms_u,\n",
    "    'Peak_to_RMS_FHR': peakto_rms_f,\n",
    "    'Peak_to_RMS_UC': peakto_rms_u,\n",
    "    'Peak_FHR': peak_f,\n",
    "    'Peak_UC': peak_u,\n",
    "    'target': target,\n",
    "})"
   ]
  },
  {
   "cell_type": "code",
   "execution_count": 5,
   "metadata": {},
   "outputs": [
    {
     "output_type": "execute_result",
     "data": {
      "text/plain": [
       "     Patient_ID    Mean_FHR    Mean_UC  Median_FHR  Median_UC    Std_FHR  \\\n",
       "0          1001  112.698633  24.815130     137.750       23.0  55.948729   \n",
       "1          1002  130.907630  24.777604     150.000       20.5  50.734943   \n",
       "2          1003   98.878819  14.892778     123.000        3.0  50.552578   \n",
       "3          1004  133.908646  22.084762     139.000        6.0  24.087743   \n",
       "4          1005   92.547375  15.335806     116.000       14.0  51.581668   \n",
       "..          ...         ...        ...         ...        ...        ...   \n",
       "547        2042   90.791597  39.765486     119.750       53.0  56.349493   \n",
       "548        2043   87.229167  18.059265     121.500       11.5  59.528506   \n",
       "549        2044  115.756109  15.543302     150.250       12.5  66.712791   \n",
       "550        2045   96.764016  14.546898     119.875        9.0  45.510715   \n",
       "551        2046   68.106678  22.010634      94.750       19.0  55.981223   \n",
       "\n",
       "        Std_UC     RMS_FHR     RMS_UC  Peak_to_RMS_FHR  Peak_to_RMS_UC  \\\n",
       "0    21.970835  125.822264  33.143752        67.177736       93.856248   \n",
       "1    24.685834  140.395307  34.975993        83.604693       92.024007   \n",
       "2    21.705502  111.052168  26.323443        63.447832       73.676557   \n",
       "3    30.393657  136.057873  37.570082        30.692127       62.429918   \n",
       "4    16.210997  105.951334  22.315540       123.048666      100.684460   \n",
       "..         ...         ...        ...              ...             ...   \n",
       "547  27.015161  106.856817  48.074035        53.393183       48.425965   \n",
       "548  21.489166  105.605732  28.069936       127.894268       98.930064   \n",
       "549  16.887054  133.604167  22.951402        48.395833       79.548598   \n",
       "550  17.320340  106.932221  22.618719        60.567779      104.381281   \n",
       "551  21.014401   88.161312  30.431449       110.588688       81.068551   \n",
       "\n",
       "     Peak_FHR  Peak_UC  target  \n",
       "0      193.00    127.0       1  \n",
       "1      224.00    127.0       1  \n",
       "2      174.50    100.0       1  \n",
       "3      166.75    100.0       1  \n",
       "4      229.00    123.0       1  \n",
       "..        ...      ...     ...  \n",
       "547    160.25     96.5       0  \n",
       "548    233.50    127.0       0  \n",
       "549    182.00    102.5       0  \n",
       "550    167.50    127.0       0  \n",
       "551    198.75    111.5       0  \n",
       "\n",
       "[552 rows x 14 columns]"
      ],
      "text/html": "<div>\n<style scoped>\n    .dataframe tbody tr th:only-of-type {\n        vertical-align: middle;\n    }\n\n    .dataframe tbody tr th {\n        vertical-align: top;\n    }\n\n    .dataframe thead th {\n        text-align: right;\n    }\n</style>\n<table border=\"1\" class=\"dataframe\">\n  <thead>\n    <tr style=\"text-align: right;\">\n      <th></th>\n      <th>Patient_ID</th>\n      <th>Mean_FHR</th>\n      <th>Mean_UC</th>\n      <th>Median_FHR</th>\n      <th>Median_UC</th>\n      <th>Std_FHR</th>\n      <th>Std_UC</th>\n      <th>RMS_FHR</th>\n      <th>RMS_UC</th>\n      <th>Peak_to_RMS_FHR</th>\n      <th>Peak_to_RMS_UC</th>\n      <th>Peak_FHR</th>\n      <th>Peak_UC</th>\n      <th>target</th>\n    </tr>\n  </thead>\n  <tbody>\n    <tr>\n      <th>0</th>\n      <td>1001</td>\n      <td>112.698633</td>\n      <td>24.815130</td>\n      <td>137.750</td>\n      <td>23.0</td>\n      <td>55.948729</td>\n      <td>21.970835</td>\n      <td>125.822264</td>\n      <td>33.143752</td>\n      <td>67.177736</td>\n      <td>93.856248</td>\n      <td>193.00</td>\n      <td>127.0</td>\n      <td>1</td>\n    </tr>\n    <tr>\n      <th>1</th>\n      <td>1002</td>\n      <td>130.907630</td>\n      <td>24.777604</td>\n      <td>150.000</td>\n      <td>20.5</td>\n      <td>50.734943</td>\n      <td>24.685834</td>\n      <td>140.395307</td>\n      <td>34.975993</td>\n      <td>83.604693</td>\n      <td>92.024007</td>\n      <td>224.00</td>\n      <td>127.0</td>\n      <td>1</td>\n    </tr>\n    <tr>\n      <th>2</th>\n      <td>1003</td>\n      <td>98.878819</td>\n      <td>14.892778</td>\n      <td>123.000</td>\n      <td>3.0</td>\n      <td>50.552578</td>\n      <td>21.705502</td>\n      <td>111.052168</td>\n      <td>26.323443</td>\n      <td>63.447832</td>\n      <td>73.676557</td>\n      <td>174.50</td>\n      <td>100.0</td>\n      <td>1</td>\n    </tr>\n    <tr>\n      <th>3</th>\n      <td>1004</td>\n      <td>133.908646</td>\n      <td>22.084762</td>\n      <td>139.000</td>\n      <td>6.0</td>\n      <td>24.087743</td>\n      <td>30.393657</td>\n      <td>136.057873</td>\n      <td>37.570082</td>\n      <td>30.692127</td>\n      <td>62.429918</td>\n      <td>166.75</td>\n      <td>100.0</td>\n      <td>1</td>\n    </tr>\n    <tr>\n      <th>4</th>\n      <td>1005</td>\n      <td>92.547375</td>\n      <td>15.335806</td>\n      <td>116.000</td>\n      <td>14.0</td>\n      <td>51.581668</td>\n      <td>16.210997</td>\n      <td>105.951334</td>\n      <td>22.315540</td>\n      <td>123.048666</td>\n      <td>100.684460</td>\n      <td>229.00</td>\n      <td>123.0</td>\n      <td>1</td>\n    </tr>\n    <tr>\n      <th>...</th>\n      <td>...</td>\n      <td>...</td>\n      <td>...</td>\n      <td>...</td>\n      <td>...</td>\n      <td>...</td>\n      <td>...</td>\n      <td>...</td>\n      <td>...</td>\n      <td>...</td>\n      <td>...</td>\n      <td>...</td>\n      <td>...</td>\n      <td>...</td>\n    </tr>\n    <tr>\n      <th>547</th>\n      <td>2042</td>\n      <td>90.791597</td>\n      <td>39.765486</td>\n      <td>119.750</td>\n      <td>53.0</td>\n      <td>56.349493</td>\n      <td>27.015161</td>\n      <td>106.856817</td>\n      <td>48.074035</td>\n      <td>53.393183</td>\n      <td>48.425965</td>\n      <td>160.25</td>\n      <td>96.5</td>\n      <td>0</td>\n    </tr>\n    <tr>\n      <th>548</th>\n      <td>2043</td>\n      <td>87.229167</td>\n      <td>18.059265</td>\n      <td>121.500</td>\n      <td>11.5</td>\n      <td>59.528506</td>\n      <td>21.489166</td>\n      <td>105.605732</td>\n      <td>28.069936</td>\n      <td>127.894268</td>\n      <td>98.930064</td>\n      <td>233.50</td>\n      <td>127.0</td>\n      <td>0</td>\n    </tr>\n    <tr>\n      <th>549</th>\n      <td>2044</td>\n      <td>115.756109</td>\n      <td>15.543302</td>\n      <td>150.250</td>\n      <td>12.5</td>\n      <td>66.712791</td>\n      <td>16.887054</td>\n      <td>133.604167</td>\n      <td>22.951402</td>\n      <td>48.395833</td>\n      <td>79.548598</td>\n      <td>182.00</td>\n      <td>102.5</td>\n      <td>0</td>\n    </tr>\n    <tr>\n      <th>550</th>\n      <td>2045</td>\n      <td>96.764016</td>\n      <td>14.546898</td>\n      <td>119.875</td>\n      <td>9.0</td>\n      <td>45.510715</td>\n      <td>17.320340</td>\n      <td>106.932221</td>\n      <td>22.618719</td>\n      <td>60.567779</td>\n      <td>104.381281</td>\n      <td>167.50</td>\n      <td>127.0</td>\n      <td>0</td>\n    </tr>\n    <tr>\n      <th>551</th>\n      <td>2046</td>\n      <td>68.106678</td>\n      <td>22.010634</td>\n      <td>94.750</td>\n      <td>19.0</td>\n      <td>55.981223</td>\n      <td>21.014401</td>\n      <td>88.161312</td>\n      <td>30.431449</td>\n      <td>110.588688</td>\n      <td>81.068551</td>\n      <td>198.75</td>\n      <td>111.5</td>\n      <td>0</td>\n    </tr>\n  </tbody>\n</table>\n<p>552 rows × 14 columns</p>\n</div>"
     },
     "metadata": {},
     "execution_count": 5
    }
   ],
   "source": [
    "main_df"
   ]
  },
  {
   "cell_type": "code",
   "execution_count": 6,
   "metadata": {},
   "outputs": [],
   "source": [
    "main_df.sort_values('Patient_ID', inplace=True)"
   ]
  },
  {
   "cell_type": "code",
   "execution_count": 7,
   "metadata": {},
   "outputs": [
    {
     "output_type": "execute_result",
     "data": {
      "text/plain": [
       "        Patient_ID    Mean_FHR     Mean_UC  Median_FHR   Median_UC  \\\n",
       "count   552.000000  552.000000  552.000000  552.000000  552.000000   \n",
       "mean   1317.666667  112.246434   19.711267  132.039855   14.894022   \n",
       "std     254.914906   19.234467    9.655020   18.491446   10.494666   \n",
       "min    1001.000000   58.507217    0.000000    0.000000    0.000000   \n",
       "25%    1138.750000   99.137666   12.908070  123.750000    7.000000   \n",
       "50%    1276.500000  113.635198   18.094007  133.250000   14.000000   \n",
       "75%    1414.250000  126.023597   25.312928  142.000000   20.500000   \n",
       "max    2046.000000  159.554909   80.188274  172.250000   81.000000   \n",
       "\n",
       "          Std_FHR      Std_UC     RMS_FHR      RMS_UC  Peak_to_RMS_FHR  \\\n",
       "count  552.000000  552.000000  552.000000  552.000000       552.000000   \n",
       "mean    47.701179   18.633507  123.732994   27.493065        70.698165   \n",
       "std     16.229789    7.709972   14.049607   11.510844        29.935515   \n",
       "min      8.643981    0.000000   83.382952    0.000000        14.122671   \n",
       "25%     35.986436   13.076540  113.868139   19.704456        47.128247   \n",
       "50%     51.524920   17.930106  123.929673   26.039199        65.232734   \n",
       "75%     59.736549   23.676678  133.609013   34.584816        95.536859   \n",
       "max     85.408646   42.916205  162.860161   82.475007       199.864996   \n",
       "\n",
       "       Peak_to_RMS_UC    Peak_FHR     Peak_UC      target  \n",
       "count      552.000000  552.000000  552.000000  552.000000  \n",
       "mean        72.801319  194.431159  100.294384    0.916667  \n",
       "std         21.551436   25.697833   25.807149    0.276636  \n",
       "min          0.000000  141.500000    0.000000    0.000000  \n",
       "25%         61.714626  174.000000   90.875000    1.000000  \n",
       "50%         75.147609  191.500000  100.000000    1.000000  \n",
       "75%         89.558185  212.125000  127.000000    1.000000  \n",
       "max        114.296265  293.000000  127.500000    1.000000  "
      ],
      "text/html": "<div>\n<style scoped>\n    .dataframe tbody tr th:only-of-type {\n        vertical-align: middle;\n    }\n\n    .dataframe tbody tr th {\n        vertical-align: top;\n    }\n\n    .dataframe thead th {\n        text-align: right;\n    }\n</style>\n<table border=\"1\" class=\"dataframe\">\n  <thead>\n    <tr style=\"text-align: right;\">\n      <th></th>\n      <th>Patient_ID</th>\n      <th>Mean_FHR</th>\n      <th>Mean_UC</th>\n      <th>Median_FHR</th>\n      <th>Median_UC</th>\n      <th>Std_FHR</th>\n      <th>Std_UC</th>\n      <th>RMS_FHR</th>\n      <th>RMS_UC</th>\n      <th>Peak_to_RMS_FHR</th>\n      <th>Peak_to_RMS_UC</th>\n      <th>Peak_FHR</th>\n      <th>Peak_UC</th>\n      <th>target</th>\n    </tr>\n  </thead>\n  <tbody>\n    <tr>\n      <th>count</th>\n      <td>552.000000</td>\n      <td>552.000000</td>\n      <td>552.000000</td>\n      <td>552.000000</td>\n      <td>552.000000</td>\n      <td>552.000000</td>\n      <td>552.000000</td>\n      <td>552.000000</td>\n      <td>552.000000</td>\n      <td>552.000000</td>\n      <td>552.000000</td>\n      <td>552.000000</td>\n      <td>552.000000</td>\n      <td>552.000000</td>\n    </tr>\n    <tr>\n      <th>mean</th>\n      <td>1317.666667</td>\n      <td>112.246434</td>\n      <td>19.711267</td>\n      <td>132.039855</td>\n      <td>14.894022</td>\n      <td>47.701179</td>\n      <td>18.633507</td>\n      <td>123.732994</td>\n      <td>27.493065</td>\n      <td>70.698165</td>\n      <td>72.801319</td>\n      <td>194.431159</td>\n      <td>100.294384</td>\n      <td>0.916667</td>\n    </tr>\n    <tr>\n      <th>std</th>\n      <td>254.914906</td>\n      <td>19.234467</td>\n      <td>9.655020</td>\n      <td>18.491446</td>\n      <td>10.494666</td>\n      <td>16.229789</td>\n      <td>7.709972</td>\n      <td>14.049607</td>\n      <td>11.510844</td>\n      <td>29.935515</td>\n      <td>21.551436</td>\n      <td>25.697833</td>\n      <td>25.807149</td>\n      <td>0.276636</td>\n    </tr>\n    <tr>\n      <th>min</th>\n      <td>1001.000000</td>\n      <td>58.507217</td>\n      <td>0.000000</td>\n      <td>0.000000</td>\n      <td>0.000000</td>\n      <td>8.643981</td>\n      <td>0.000000</td>\n      <td>83.382952</td>\n      <td>0.000000</td>\n      <td>14.122671</td>\n      <td>0.000000</td>\n      <td>141.500000</td>\n      <td>0.000000</td>\n      <td>0.000000</td>\n    </tr>\n    <tr>\n      <th>25%</th>\n      <td>1138.750000</td>\n      <td>99.137666</td>\n      <td>12.908070</td>\n      <td>123.750000</td>\n      <td>7.000000</td>\n      <td>35.986436</td>\n      <td>13.076540</td>\n      <td>113.868139</td>\n      <td>19.704456</td>\n      <td>47.128247</td>\n      <td>61.714626</td>\n      <td>174.000000</td>\n      <td>90.875000</td>\n      <td>1.000000</td>\n    </tr>\n    <tr>\n      <th>50%</th>\n      <td>1276.500000</td>\n      <td>113.635198</td>\n      <td>18.094007</td>\n      <td>133.250000</td>\n      <td>14.000000</td>\n      <td>51.524920</td>\n      <td>17.930106</td>\n      <td>123.929673</td>\n      <td>26.039199</td>\n      <td>65.232734</td>\n      <td>75.147609</td>\n      <td>191.500000</td>\n      <td>100.000000</td>\n      <td>1.000000</td>\n    </tr>\n    <tr>\n      <th>75%</th>\n      <td>1414.250000</td>\n      <td>126.023597</td>\n      <td>25.312928</td>\n      <td>142.000000</td>\n      <td>20.500000</td>\n      <td>59.736549</td>\n      <td>23.676678</td>\n      <td>133.609013</td>\n      <td>34.584816</td>\n      <td>95.536859</td>\n      <td>89.558185</td>\n      <td>212.125000</td>\n      <td>127.000000</td>\n      <td>1.000000</td>\n    </tr>\n    <tr>\n      <th>max</th>\n      <td>2046.000000</td>\n      <td>159.554909</td>\n      <td>80.188274</td>\n      <td>172.250000</td>\n      <td>81.000000</td>\n      <td>85.408646</td>\n      <td>42.916205</td>\n      <td>162.860161</td>\n      <td>82.475007</td>\n      <td>199.864996</td>\n      <td>114.296265</td>\n      <td>293.000000</td>\n      <td>127.500000</td>\n      <td>1.000000</td>\n    </tr>\n  </tbody>\n</table>\n</div>"
     },
     "metadata": {},
     "execution_count": 7
    }
   ],
   "source": [
    "main_df.describe()"
   ]
  },
  {
   "cell_type": "code",
   "execution_count": 8,
   "metadata": {},
   "outputs": [
    {
     "output_type": "execute_result",
     "data": {
      "text/plain": [
       "       ID    pH  BDecf  pCO2   BE  Apgar1  Apgar5  Gest. Weeks  Weight(g)  \\\n",
       "0    1220  7.30   3.52   6.0 -4.7       9      10           42     3100.0   \n",
       "1    1234  7.29   2.50   6.5 -4.2       8       9           41     3200.0   \n",
       "2    1208  7.23   5.84   6.6 -7.4       9       9           40     3900.0   \n",
       "3    1038  7.33   2.72   5.7 -4.0      10      10           39     2740.0   \n",
       "4    1004  7.30   5.19   5.5 -6.4       8       9           41     3370.0   \n",
       "..    ...   ...    ...   ...  ...     ...     ...          ...        ...   \n",
       "547  1088  7.25   2.58   7.3 -4.5       8       8           38     3340.0   \n",
       "548  1253  7.32   0.89   6.4 -1.7       8       9           38     3290.0   \n",
       "549  1247  7.32  -0.86   6.9 -1.0       9      10           40     3270.0   \n",
       "550  2028  7.18   4.82   8.1 -7.2       8       9           41     3430.0   \n",
       "551  2014  7.32   2.28   6.0 -3.2      10      10           40     4100.0   \n",
       "\n",
       "     Sex  ...  Induced  I.stage  NoProgress  CK/KP  II.stage  Deliv. type  \\\n",
       "0      2  ...        1      165           0      0        15            1   \n",
       "1      1  ...        0      135           0      0        10            1   \n",
       "2      2  ...        0      260           0      0        30            1   \n",
       "3      1  ...        0       15           0      0        10            1   \n",
       "4      1  ...        1       55           0      0        10            1   \n",
       "..   ...  ...      ...      ...         ...    ...       ...          ...   \n",
       "547    1  ...        0      340           0      0        30            1   \n",
       "548    1  ...        1      190           0      0        10            1   \n",
       "549    1  ...        0      270           0      0        20            1   \n",
       "550    1  ...        1      125           1      0        -1            2   \n",
       "551    1  ...        0      246           0      0        -1            2   \n",
       "\n",
       "        dbID  Rec. type  Pos. II.st.  Sig2Birth  \n",
       "0    1051632          2        14400          0  \n",
       "1    1054195          1        14400          0  \n",
       "2    1049536         12        14400          0  \n",
       "3    1002508          1        14400          0  \n",
       "4     983277         12        14400          0  \n",
       "..       ...        ...          ...        ...  \n",
       "547  1019042          1        14400          0  \n",
       "548  1057430          1        14400          0  \n",
       "549  1056594          1        14400          0  \n",
       "550  1042878         12           -1          0  \n",
       "551  1011294         12           -1          0  \n",
       "\n",
       "[552 rows x 30 columns]"
      ],
      "text/html": "<div>\n<style scoped>\n    .dataframe tbody tr th:only-of-type {\n        vertical-align: middle;\n    }\n\n    .dataframe tbody tr th {\n        vertical-align: top;\n    }\n\n    .dataframe thead th {\n        text-align: right;\n    }\n</style>\n<table border=\"1\" class=\"dataframe\">\n  <thead>\n    <tr style=\"text-align: right;\">\n      <th></th>\n      <th>ID</th>\n      <th>pH</th>\n      <th>BDecf</th>\n      <th>pCO2</th>\n      <th>BE</th>\n      <th>Apgar1</th>\n      <th>Apgar5</th>\n      <th>Gest. Weeks</th>\n      <th>Weight(g)</th>\n      <th>Sex</th>\n      <th>...</th>\n      <th>Induced</th>\n      <th>I.stage</th>\n      <th>NoProgress</th>\n      <th>CK/KP</th>\n      <th>II.stage</th>\n      <th>Deliv. type</th>\n      <th>dbID</th>\n      <th>Rec. type</th>\n      <th>Pos. II.st.</th>\n      <th>Sig2Birth</th>\n    </tr>\n  </thead>\n  <tbody>\n    <tr>\n      <th>0</th>\n      <td>1220</td>\n      <td>7.30</td>\n      <td>3.52</td>\n      <td>6.0</td>\n      <td>-4.7</td>\n      <td>9</td>\n      <td>10</td>\n      <td>42</td>\n      <td>3100.0</td>\n      <td>2</td>\n      <td>...</td>\n      <td>1</td>\n      <td>165</td>\n      <td>0</td>\n      <td>0</td>\n      <td>15</td>\n      <td>1</td>\n      <td>1051632</td>\n      <td>2</td>\n      <td>14400</td>\n      <td>0</td>\n    </tr>\n    <tr>\n      <th>1</th>\n      <td>1234</td>\n      <td>7.29</td>\n      <td>2.50</td>\n      <td>6.5</td>\n      <td>-4.2</td>\n      <td>8</td>\n      <td>9</td>\n      <td>41</td>\n      <td>3200.0</td>\n      <td>1</td>\n      <td>...</td>\n      <td>0</td>\n      <td>135</td>\n      <td>0</td>\n      <td>0</td>\n      <td>10</td>\n      <td>1</td>\n      <td>1054195</td>\n      <td>1</td>\n      <td>14400</td>\n      <td>0</td>\n    </tr>\n    <tr>\n      <th>2</th>\n      <td>1208</td>\n      <td>7.23</td>\n      <td>5.84</td>\n      <td>6.6</td>\n      <td>-7.4</td>\n      <td>9</td>\n      <td>9</td>\n      <td>40</td>\n      <td>3900.0</td>\n      <td>2</td>\n      <td>...</td>\n      <td>0</td>\n      <td>260</td>\n      <td>0</td>\n      <td>0</td>\n      <td>30</td>\n      <td>1</td>\n      <td>1049536</td>\n      <td>12</td>\n      <td>14400</td>\n      <td>0</td>\n    </tr>\n    <tr>\n      <th>3</th>\n      <td>1038</td>\n      <td>7.33</td>\n      <td>2.72</td>\n      <td>5.7</td>\n      <td>-4.0</td>\n      <td>10</td>\n      <td>10</td>\n      <td>39</td>\n      <td>2740.0</td>\n      <td>1</td>\n      <td>...</td>\n      <td>0</td>\n      <td>15</td>\n      <td>0</td>\n      <td>0</td>\n      <td>10</td>\n      <td>1</td>\n      <td>1002508</td>\n      <td>1</td>\n      <td>14400</td>\n      <td>0</td>\n    </tr>\n    <tr>\n      <th>4</th>\n      <td>1004</td>\n      <td>7.30</td>\n      <td>5.19</td>\n      <td>5.5</td>\n      <td>-6.4</td>\n      <td>8</td>\n      <td>9</td>\n      <td>41</td>\n      <td>3370.0</td>\n      <td>1</td>\n      <td>...</td>\n      <td>1</td>\n      <td>55</td>\n      <td>0</td>\n      <td>0</td>\n      <td>10</td>\n      <td>1</td>\n      <td>983277</td>\n      <td>12</td>\n      <td>14400</td>\n      <td>0</td>\n    </tr>\n    <tr>\n      <th>...</th>\n      <td>...</td>\n      <td>...</td>\n      <td>...</td>\n      <td>...</td>\n      <td>...</td>\n      <td>...</td>\n      <td>...</td>\n      <td>...</td>\n      <td>...</td>\n      <td>...</td>\n      <td>...</td>\n      <td>...</td>\n      <td>...</td>\n      <td>...</td>\n      <td>...</td>\n      <td>...</td>\n      <td>...</td>\n      <td>...</td>\n      <td>...</td>\n      <td>...</td>\n      <td>...</td>\n    </tr>\n    <tr>\n      <th>547</th>\n      <td>1088</td>\n      <td>7.25</td>\n      <td>2.58</td>\n      <td>7.3</td>\n      <td>-4.5</td>\n      <td>8</td>\n      <td>8</td>\n      <td>38</td>\n      <td>3340.0</td>\n      <td>1</td>\n      <td>...</td>\n      <td>0</td>\n      <td>340</td>\n      <td>0</td>\n      <td>0</td>\n      <td>30</td>\n      <td>1</td>\n      <td>1019042</td>\n      <td>1</td>\n      <td>14400</td>\n      <td>0</td>\n    </tr>\n    <tr>\n      <th>548</th>\n      <td>1253</td>\n      <td>7.32</td>\n      <td>0.89</td>\n      <td>6.4</td>\n      <td>-1.7</td>\n      <td>8</td>\n      <td>9</td>\n      <td>38</td>\n      <td>3290.0</td>\n      <td>1</td>\n      <td>...</td>\n      <td>1</td>\n      <td>190</td>\n      <td>0</td>\n      <td>0</td>\n      <td>10</td>\n      <td>1</td>\n      <td>1057430</td>\n      <td>1</td>\n      <td>14400</td>\n      <td>0</td>\n    </tr>\n    <tr>\n      <th>549</th>\n      <td>1247</td>\n      <td>7.32</td>\n      <td>-0.86</td>\n      <td>6.9</td>\n      <td>-1.0</td>\n      <td>9</td>\n      <td>10</td>\n      <td>40</td>\n      <td>3270.0</td>\n      <td>1</td>\n      <td>...</td>\n      <td>0</td>\n      <td>270</td>\n      <td>0</td>\n      <td>0</td>\n      <td>20</td>\n      <td>1</td>\n      <td>1056594</td>\n      <td>1</td>\n      <td>14400</td>\n      <td>0</td>\n    </tr>\n    <tr>\n      <th>550</th>\n      <td>2028</td>\n      <td>7.18</td>\n      <td>4.82</td>\n      <td>8.1</td>\n      <td>-7.2</td>\n      <td>8</td>\n      <td>9</td>\n      <td>41</td>\n      <td>3430.0</td>\n      <td>1</td>\n      <td>...</td>\n      <td>1</td>\n      <td>125</td>\n      <td>1</td>\n      <td>0</td>\n      <td>-1</td>\n      <td>2</td>\n      <td>1042878</td>\n      <td>12</td>\n      <td>-1</td>\n      <td>0</td>\n    </tr>\n    <tr>\n      <th>551</th>\n      <td>2014</td>\n      <td>7.32</td>\n      <td>2.28</td>\n      <td>6.0</td>\n      <td>-3.2</td>\n      <td>10</td>\n      <td>10</td>\n      <td>40</td>\n      <td>4100.0</td>\n      <td>1</td>\n      <td>...</td>\n      <td>0</td>\n      <td>246</td>\n      <td>0</td>\n      <td>0</td>\n      <td>-1</td>\n      <td>2</td>\n      <td>1011294</td>\n      <td>12</td>\n      <td>-1</td>\n      <td>0</td>\n    </tr>\n  </tbody>\n</table>\n<p>552 rows × 30 columns</p>\n</div>"
     },
     "metadata": {},
     "execution_count": 8
    }
   ],
   "source": [
    "df=pd.read_csv('ann_db.csv')\n",
    "df"
   ]
  },
  {
   "cell_type": "code",
   "execution_count": 9,
   "metadata": {},
   "outputs": [],
   "source": [
    "df.sort_values('ID', inplace=True)"
   ]
  },
  {
   "cell_type": "code",
   "execution_count": 10,
   "metadata": {},
   "outputs": [],
   "source": [
    "final_df = pd.concat([df, main_df], axis=1)"
   ]
  },
  {
   "cell_type": "code",
   "execution_count": 11,
   "metadata": {},
   "outputs": [
    {
     "output_type": "execute_result",
     "data": {
      "text/plain": [
       "Index(['ID', 'pH', 'BDecf', 'pCO2', 'BE', 'Apgar1', 'Apgar5', 'Gest. Weeks',\n",
       "       'Weight(g)', 'Sex', 'Age', 'Gravidity', 'Parity', 'Diabetes',\n",
       "       'Hypertension', 'Preeclampsia', 'Liq.', 'Pyrexia', 'Meconium',\n",
       "       'Presentation', 'Induced', 'I.stage', 'NoProgress', 'CK/KP', 'II.stage',\n",
       "       'Deliv. type', 'dbID', 'Rec. type', 'Pos. II.st.', 'Sig2Birth',\n",
       "       'Patient_ID', 'Mean_FHR', 'Mean_UC', 'Median_FHR', 'Median_UC',\n",
       "       'Std_FHR', 'Std_UC', 'RMS_FHR', 'RMS_UC', 'Peak_to_RMS_FHR',\n",
       "       'Peak_to_RMS_UC', 'Peak_FHR', 'Peak_UC', 'target'],\n",
       "      dtype='object')"
      ]
     },
     "metadata": {},
     "execution_count": 11
    }
   ],
   "source": [
    "final_df.columns"
   ]
  },
  {
   "cell_type": "code",
   "execution_count": 14,
   "metadata": {},
   "outputs": [
    {
     "output_type": "execute_result",
     "data": {
      "text/plain": [
       "       ID    pH  BDecf  pCO2   BE  Apgar1  Apgar5  Gest. Weeks  Weight(g)  \\\n",
       "0    1220  7.30   3.52   6.0 -4.7       9      10           42     3100.0   \n",
       "1    1234  7.29   2.50   6.5 -4.2       8       9           41     3200.0   \n",
       "2    1208  7.23   5.84   6.6 -7.4       9       9           40     3900.0   \n",
       "3    1038  7.33   2.72   5.7 -4.0      10      10           39     2740.0   \n",
       "4    1004  7.30   5.19   5.5 -6.4       8       9           41     3370.0   \n",
       "..    ...   ...    ...   ...  ...     ...     ...          ...        ...   \n",
       "547  1088  7.25   2.58   7.3 -4.5       8       8           38     3340.0   \n",
       "548  1253  7.32   0.89   6.4 -1.7       8       9           38     3290.0   \n",
       "549  1247  7.32  -0.86   6.9 -1.0       9      10           40     3270.0   \n",
       "550  2028  7.18   4.82   8.1 -7.2       8       9           41     3430.0   \n",
       "551  2014  7.32   2.28   6.0 -3.2      10      10           40     4100.0   \n",
       "\n",
       "     Sex  ...  Median_UC    Std_FHR     Std_UC     RMS_FHR     RMS_UC  \\\n",
       "0      2  ...       23.0  55.948729  21.970835  125.822264  33.143752   \n",
       "1      1  ...       20.5  50.734943  24.685834  140.395307  34.975993   \n",
       "2      2  ...        3.0  50.552578  21.705502  111.052168  26.323443   \n",
       "3      1  ...        6.0  24.087743  30.393657  136.057873  37.570082   \n",
       "4      1  ...       14.0  51.581668  16.210997  105.951334  22.315540   \n",
       "..   ...  ...        ...        ...        ...         ...        ...   \n",
       "547    1  ...       53.0  56.349493  27.015161  106.856817  48.074035   \n",
       "548    1  ...       11.5  59.528506  21.489166  105.605732  28.069936   \n",
       "549    1  ...       12.5  66.712791  16.887054  133.604167  22.951402   \n",
       "550    1  ...        9.0  45.510715  17.320340  106.932221  22.618719   \n",
       "551    1  ...       19.0  55.981223  21.014401   88.161312  30.431449   \n",
       "\n",
       "     Peak_to_RMS_FHR  Peak_to_RMS_UC  Peak_FHR  Peak_UC  target  \n",
       "0          67.177736       93.856248    193.00    127.0       1  \n",
       "1          83.604693       92.024007    224.00    127.0       1  \n",
       "2          63.447832       73.676557    174.50    100.0       1  \n",
       "3          30.692127       62.429918    166.75    100.0       1  \n",
       "4         123.048666      100.684460    229.00    123.0       1  \n",
       "..               ...             ...       ...      ...     ...  \n",
       "547        53.393183       48.425965    160.25     96.5       0  \n",
       "548       127.894268       98.930064    233.50    127.0       0  \n",
       "549        48.395833       79.548598    182.00    102.5       0  \n",
       "550        60.567779      104.381281    167.50    127.0       0  \n",
       "551       110.588688       81.068551    198.75    111.5       0  \n",
       "\n",
       "[552 rows x 43 columns]"
      ],
      "text/html": "<div>\n<style scoped>\n    .dataframe tbody tr th:only-of-type {\n        vertical-align: middle;\n    }\n\n    .dataframe tbody tr th {\n        vertical-align: top;\n    }\n\n    .dataframe thead th {\n        text-align: right;\n    }\n</style>\n<table border=\"1\" class=\"dataframe\">\n  <thead>\n    <tr style=\"text-align: right;\">\n      <th></th>\n      <th>ID</th>\n      <th>pH</th>\n      <th>BDecf</th>\n      <th>pCO2</th>\n      <th>BE</th>\n      <th>Apgar1</th>\n      <th>Apgar5</th>\n      <th>Gest. Weeks</th>\n      <th>Weight(g)</th>\n      <th>Sex</th>\n      <th>...</th>\n      <th>Median_UC</th>\n      <th>Std_FHR</th>\n      <th>Std_UC</th>\n      <th>RMS_FHR</th>\n      <th>RMS_UC</th>\n      <th>Peak_to_RMS_FHR</th>\n      <th>Peak_to_RMS_UC</th>\n      <th>Peak_FHR</th>\n      <th>Peak_UC</th>\n      <th>target</th>\n    </tr>\n  </thead>\n  <tbody>\n    <tr>\n      <th>0</th>\n      <td>1220</td>\n      <td>7.30</td>\n      <td>3.52</td>\n      <td>6.0</td>\n      <td>-4.7</td>\n      <td>9</td>\n      <td>10</td>\n      <td>42</td>\n      <td>3100.0</td>\n      <td>2</td>\n      <td>...</td>\n      <td>23.0</td>\n      <td>55.948729</td>\n      <td>21.970835</td>\n      <td>125.822264</td>\n      <td>33.143752</td>\n      <td>67.177736</td>\n      <td>93.856248</td>\n      <td>193.00</td>\n      <td>127.0</td>\n      <td>1</td>\n    </tr>\n    <tr>\n      <th>1</th>\n      <td>1234</td>\n      <td>7.29</td>\n      <td>2.50</td>\n      <td>6.5</td>\n      <td>-4.2</td>\n      <td>8</td>\n      <td>9</td>\n      <td>41</td>\n      <td>3200.0</td>\n      <td>1</td>\n      <td>...</td>\n      <td>20.5</td>\n      <td>50.734943</td>\n      <td>24.685834</td>\n      <td>140.395307</td>\n      <td>34.975993</td>\n      <td>83.604693</td>\n      <td>92.024007</td>\n      <td>224.00</td>\n      <td>127.0</td>\n      <td>1</td>\n    </tr>\n    <tr>\n      <th>2</th>\n      <td>1208</td>\n      <td>7.23</td>\n      <td>5.84</td>\n      <td>6.6</td>\n      <td>-7.4</td>\n      <td>9</td>\n      <td>9</td>\n      <td>40</td>\n      <td>3900.0</td>\n      <td>2</td>\n      <td>...</td>\n      <td>3.0</td>\n      <td>50.552578</td>\n      <td>21.705502</td>\n      <td>111.052168</td>\n      <td>26.323443</td>\n      <td>63.447832</td>\n      <td>73.676557</td>\n      <td>174.50</td>\n      <td>100.0</td>\n      <td>1</td>\n    </tr>\n    <tr>\n      <th>3</th>\n      <td>1038</td>\n      <td>7.33</td>\n      <td>2.72</td>\n      <td>5.7</td>\n      <td>-4.0</td>\n      <td>10</td>\n      <td>10</td>\n      <td>39</td>\n      <td>2740.0</td>\n      <td>1</td>\n      <td>...</td>\n      <td>6.0</td>\n      <td>24.087743</td>\n      <td>30.393657</td>\n      <td>136.057873</td>\n      <td>37.570082</td>\n      <td>30.692127</td>\n      <td>62.429918</td>\n      <td>166.75</td>\n      <td>100.0</td>\n      <td>1</td>\n    </tr>\n    <tr>\n      <th>4</th>\n      <td>1004</td>\n      <td>7.30</td>\n      <td>5.19</td>\n      <td>5.5</td>\n      <td>-6.4</td>\n      <td>8</td>\n      <td>9</td>\n      <td>41</td>\n      <td>3370.0</td>\n      <td>1</td>\n      <td>...</td>\n      <td>14.0</td>\n      <td>51.581668</td>\n      <td>16.210997</td>\n      <td>105.951334</td>\n      <td>22.315540</td>\n      <td>123.048666</td>\n      <td>100.684460</td>\n      <td>229.00</td>\n      <td>123.0</td>\n      <td>1</td>\n    </tr>\n    <tr>\n      <th>...</th>\n      <td>...</td>\n      <td>...</td>\n      <td>...</td>\n      <td>...</td>\n      <td>...</td>\n      <td>...</td>\n      <td>...</td>\n      <td>...</td>\n      <td>...</td>\n      <td>...</td>\n      <td>...</td>\n      <td>...</td>\n      <td>...</td>\n      <td>...</td>\n      <td>...</td>\n      <td>...</td>\n      <td>...</td>\n      <td>...</td>\n      <td>...</td>\n      <td>...</td>\n      <td>...</td>\n    </tr>\n    <tr>\n      <th>547</th>\n      <td>1088</td>\n      <td>7.25</td>\n      <td>2.58</td>\n      <td>7.3</td>\n      <td>-4.5</td>\n      <td>8</td>\n      <td>8</td>\n      <td>38</td>\n      <td>3340.0</td>\n      <td>1</td>\n      <td>...</td>\n      <td>53.0</td>\n      <td>56.349493</td>\n      <td>27.015161</td>\n      <td>106.856817</td>\n      <td>48.074035</td>\n      <td>53.393183</td>\n      <td>48.425965</td>\n      <td>160.25</td>\n      <td>96.5</td>\n      <td>0</td>\n    </tr>\n    <tr>\n      <th>548</th>\n      <td>1253</td>\n      <td>7.32</td>\n      <td>0.89</td>\n      <td>6.4</td>\n      <td>-1.7</td>\n      <td>8</td>\n      <td>9</td>\n      <td>38</td>\n      <td>3290.0</td>\n      <td>1</td>\n      <td>...</td>\n      <td>11.5</td>\n      <td>59.528506</td>\n      <td>21.489166</td>\n      <td>105.605732</td>\n      <td>28.069936</td>\n      <td>127.894268</td>\n      <td>98.930064</td>\n      <td>233.50</td>\n      <td>127.0</td>\n      <td>0</td>\n    </tr>\n    <tr>\n      <th>549</th>\n      <td>1247</td>\n      <td>7.32</td>\n      <td>-0.86</td>\n      <td>6.9</td>\n      <td>-1.0</td>\n      <td>9</td>\n      <td>10</td>\n      <td>40</td>\n      <td>3270.0</td>\n      <td>1</td>\n      <td>...</td>\n      <td>12.5</td>\n      <td>66.712791</td>\n      <td>16.887054</td>\n      <td>133.604167</td>\n      <td>22.951402</td>\n      <td>48.395833</td>\n      <td>79.548598</td>\n      <td>182.00</td>\n      <td>102.5</td>\n      <td>0</td>\n    </tr>\n    <tr>\n      <th>550</th>\n      <td>2028</td>\n      <td>7.18</td>\n      <td>4.82</td>\n      <td>8.1</td>\n      <td>-7.2</td>\n      <td>8</td>\n      <td>9</td>\n      <td>41</td>\n      <td>3430.0</td>\n      <td>1</td>\n      <td>...</td>\n      <td>9.0</td>\n      <td>45.510715</td>\n      <td>17.320340</td>\n      <td>106.932221</td>\n      <td>22.618719</td>\n      <td>60.567779</td>\n      <td>104.381281</td>\n      <td>167.50</td>\n      <td>127.0</td>\n      <td>0</td>\n    </tr>\n    <tr>\n      <th>551</th>\n      <td>2014</td>\n      <td>7.32</td>\n      <td>2.28</td>\n      <td>6.0</td>\n      <td>-3.2</td>\n      <td>10</td>\n      <td>10</td>\n      <td>40</td>\n      <td>4100.0</td>\n      <td>1</td>\n      <td>...</td>\n      <td>19.0</td>\n      <td>55.981223</td>\n      <td>21.014401</td>\n      <td>88.161312</td>\n      <td>30.431449</td>\n      <td>110.588688</td>\n      <td>81.068551</td>\n      <td>198.75</td>\n      <td>111.5</td>\n      <td>0</td>\n    </tr>\n  </tbody>\n</table>\n<p>552 rows × 43 columns</p>\n</div>"
     },
     "metadata": {},
     "execution_count": 14
    }
   ],
   "source": [
    "final_df"
   ]
  },
  {
   "cell_type": "code",
   "execution_count": 15,
   "metadata": {},
   "outputs": [
    {
     "output_type": "error",
     "ename": "KeyError",
     "evalue": "\"['Patient_ID'] not found in axis\"",
     "traceback": [
      "\u001b[1;31m---------------------------------------------------------------------------\u001b[0m",
      "\u001b[1;31mKeyError\u001b[0m                                  Traceback (most recent call last)",
      "\u001b[1;32m<ipython-input-15-e595b49c0bdc>\u001b[0m in \u001b[0;36m<module>\u001b[1;34m\u001b[0m\n\u001b[1;32m----> 1\u001b[1;33m \u001b[0mfinal_df\u001b[0m\u001b[1;33m.\u001b[0m\u001b[0mdrop\u001b[0m\u001b[1;33m(\u001b[0m\u001b[1;33m[\u001b[0m\u001b[1;34m'Patient_ID'\u001b[0m\u001b[1;33m]\u001b[0m\u001b[1;33m,\u001b[0m \u001b[0maxis\u001b[0m\u001b[1;33m=\u001b[0m\u001b[1;36m1\u001b[0m\u001b[1;33m,\u001b[0m\u001b[0minplace\u001b[0m\u001b[1;33m=\u001b[0m\u001b[1;32mTrue\u001b[0m\u001b[1;33m)\u001b[0m\u001b[1;33m\u001b[0m\u001b[1;33m\u001b[0m\u001b[0m\n\u001b[0m\u001b[0;32m      2\u001b[0m \u001b[0mfinal_df\u001b[0m\u001b[1;33m\u001b[0m\u001b[1;33m\u001b[0m\u001b[0m\n",
      "\u001b[1;32m~\\anaconda3\\lib\\site-packages\\pandas\\core\\frame.py\u001b[0m in \u001b[0;36mdrop\u001b[1;34m(self, labels, axis, index, columns, level, inplace, errors)\u001b[0m\n\u001b[0;32m   4161\u001b[0m                 \u001b[0mweight\u001b[0m  \u001b[1;36m1.0\u001b[0m     \u001b[1;36m0.8\u001b[0m\u001b[1;33m\u001b[0m\u001b[1;33m\u001b[0m\u001b[0m\n\u001b[0;32m   4162\u001b[0m         \"\"\"\n\u001b[1;32m-> 4163\u001b[1;33m         return super().drop(\n\u001b[0m\u001b[0;32m   4164\u001b[0m             \u001b[0mlabels\u001b[0m\u001b[1;33m=\u001b[0m\u001b[0mlabels\u001b[0m\u001b[1;33m,\u001b[0m\u001b[1;33m\u001b[0m\u001b[1;33m\u001b[0m\u001b[0m\n\u001b[0;32m   4165\u001b[0m             \u001b[0maxis\u001b[0m\u001b[1;33m=\u001b[0m\u001b[0maxis\u001b[0m\u001b[1;33m,\u001b[0m\u001b[1;33m\u001b[0m\u001b[1;33m\u001b[0m\u001b[0m\n",
      "\u001b[1;32m~\\anaconda3\\lib\\site-packages\\pandas\\core\\generic.py\u001b[0m in \u001b[0;36mdrop\u001b[1;34m(self, labels, axis, index, columns, level, inplace, errors)\u001b[0m\n\u001b[0;32m   3885\u001b[0m         \u001b[1;32mfor\u001b[0m \u001b[0maxis\u001b[0m\u001b[1;33m,\u001b[0m \u001b[0mlabels\u001b[0m \u001b[1;32min\u001b[0m \u001b[0maxes\u001b[0m\u001b[1;33m.\u001b[0m\u001b[0mitems\u001b[0m\u001b[1;33m(\u001b[0m\u001b[1;33m)\u001b[0m\u001b[1;33m:\u001b[0m\u001b[1;33m\u001b[0m\u001b[1;33m\u001b[0m\u001b[0m\n\u001b[0;32m   3886\u001b[0m             \u001b[1;32mif\u001b[0m \u001b[0mlabels\u001b[0m \u001b[1;32mis\u001b[0m \u001b[1;32mnot\u001b[0m \u001b[1;32mNone\u001b[0m\u001b[1;33m:\u001b[0m\u001b[1;33m\u001b[0m\u001b[1;33m\u001b[0m\u001b[0m\n\u001b[1;32m-> 3887\u001b[1;33m                 \u001b[0mobj\u001b[0m \u001b[1;33m=\u001b[0m \u001b[0mobj\u001b[0m\u001b[1;33m.\u001b[0m\u001b[0m_drop_axis\u001b[0m\u001b[1;33m(\u001b[0m\u001b[0mlabels\u001b[0m\u001b[1;33m,\u001b[0m \u001b[0maxis\u001b[0m\u001b[1;33m,\u001b[0m \u001b[0mlevel\u001b[0m\u001b[1;33m=\u001b[0m\u001b[0mlevel\u001b[0m\u001b[1;33m,\u001b[0m \u001b[0merrors\u001b[0m\u001b[1;33m=\u001b[0m\u001b[0merrors\u001b[0m\u001b[1;33m)\u001b[0m\u001b[1;33m\u001b[0m\u001b[1;33m\u001b[0m\u001b[0m\n\u001b[0m\u001b[0;32m   3888\u001b[0m \u001b[1;33m\u001b[0m\u001b[0m\n\u001b[0;32m   3889\u001b[0m         \u001b[1;32mif\u001b[0m \u001b[0minplace\u001b[0m\u001b[1;33m:\u001b[0m\u001b[1;33m\u001b[0m\u001b[1;33m\u001b[0m\u001b[0m\n",
      "\u001b[1;32m~\\anaconda3\\lib\\site-packages\\pandas\\core\\generic.py\u001b[0m in \u001b[0;36m_drop_axis\u001b[1;34m(self, labels, axis, level, errors)\u001b[0m\n\u001b[0;32m   3919\u001b[0m                 \u001b[0mnew_axis\u001b[0m \u001b[1;33m=\u001b[0m \u001b[0maxis\u001b[0m\u001b[1;33m.\u001b[0m\u001b[0mdrop\u001b[0m\u001b[1;33m(\u001b[0m\u001b[0mlabels\u001b[0m\u001b[1;33m,\u001b[0m \u001b[0mlevel\u001b[0m\u001b[1;33m=\u001b[0m\u001b[0mlevel\u001b[0m\u001b[1;33m,\u001b[0m \u001b[0merrors\u001b[0m\u001b[1;33m=\u001b[0m\u001b[0merrors\u001b[0m\u001b[1;33m)\u001b[0m\u001b[1;33m\u001b[0m\u001b[1;33m\u001b[0m\u001b[0m\n\u001b[0;32m   3920\u001b[0m             \u001b[1;32melse\u001b[0m\u001b[1;33m:\u001b[0m\u001b[1;33m\u001b[0m\u001b[1;33m\u001b[0m\u001b[0m\n\u001b[1;32m-> 3921\u001b[1;33m                 \u001b[0mnew_axis\u001b[0m \u001b[1;33m=\u001b[0m \u001b[0maxis\u001b[0m\u001b[1;33m.\u001b[0m\u001b[0mdrop\u001b[0m\u001b[1;33m(\u001b[0m\u001b[0mlabels\u001b[0m\u001b[1;33m,\u001b[0m \u001b[0merrors\u001b[0m\u001b[1;33m=\u001b[0m\u001b[0merrors\u001b[0m\u001b[1;33m)\u001b[0m\u001b[1;33m\u001b[0m\u001b[1;33m\u001b[0m\u001b[0m\n\u001b[0m\u001b[0;32m   3922\u001b[0m             \u001b[0mresult\u001b[0m \u001b[1;33m=\u001b[0m \u001b[0mself\u001b[0m\u001b[1;33m.\u001b[0m\u001b[0mreindex\u001b[0m\u001b[1;33m(\u001b[0m\u001b[1;33m**\u001b[0m\u001b[1;33m{\u001b[0m\u001b[0maxis_name\u001b[0m\u001b[1;33m:\u001b[0m \u001b[0mnew_axis\u001b[0m\u001b[1;33m}\u001b[0m\u001b[1;33m)\u001b[0m\u001b[1;33m\u001b[0m\u001b[1;33m\u001b[0m\u001b[0m\n\u001b[0;32m   3923\u001b[0m \u001b[1;33m\u001b[0m\u001b[0m\n",
      "\u001b[1;32m~\\anaconda3\\lib\\site-packages\\pandas\\core\\indexes\\base.py\u001b[0m in \u001b[0;36mdrop\u001b[1;34m(self, labels, errors)\u001b[0m\n\u001b[0;32m   5280\u001b[0m         \u001b[1;32mif\u001b[0m \u001b[0mmask\u001b[0m\u001b[1;33m.\u001b[0m\u001b[0many\u001b[0m\u001b[1;33m(\u001b[0m\u001b[1;33m)\u001b[0m\u001b[1;33m:\u001b[0m\u001b[1;33m\u001b[0m\u001b[1;33m\u001b[0m\u001b[0m\n\u001b[0;32m   5281\u001b[0m             \u001b[1;32mif\u001b[0m \u001b[0merrors\u001b[0m \u001b[1;33m!=\u001b[0m \u001b[1;34m\"ignore\"\u001b[0m\u001b[1;33m:\u001b[0m\u001b[1;33m\u001b[0m\u001b[1;33m\u001b[0m\u001b[0m\n\u001b[1;32m-> 5282\u001b[1;33m                 \u001b[1;32mraise\u001b[0m \u001b[0mKeyError\u001b[0m\u001b[1;33m(\u001b[0m\u001b[1;34mf\"{labels[mask]} not found in axis\"\u001b[0m\u001b[1;33m)\u001b[0m\u001b[1;33m\u001b[0m\u001b[1;33m\u001b[0m\u001b[0m\n\u001b[0m\u001b[0;32m   5283\u001b[0m             \u001b[0mindexer\u001b[0m \u001b[1;33m=\u001b[0m \u001b[0mindexer\u001b[0m\u001b[1;33m[\u001b[0m\u001b[1;33m~\u001b[0m\u001b[0mmask\u001b[0m\u001b[1;33m]\u001b[0m\u001b[1;33m\u001b[0m\u001b[1;33m\u001b[0m\u001b[0m\n\u001b[0;32m   5284\u001b[0m         \u001b[1;32mreturn\u001b[0m \u001b[0mself\u001b[0m\u001b[1;33m.\u001b[0m\u001b[0mdelete\u001b[0m\u001b[1;33m(\u001b[0m\u001b[0mindexer\u001b[0m\u001b[1;33m)\u001b[0m\u001b[1;33m\u001b[0m\u001b[1;33m\u001b[0m\u001b[0m\n",
      "\u001b[1;31mKeyError\u001b[0m: \"['Patient_ID'] not found in axis\""
     ]
    }
   ],
   "source": [
    "final_df.drop(['Patient_ID'], axis=1,inplace=True)\n",
    "final_df"
   ]
  },
  {
   "cell_type": "code",
   "execution_count": 16,
   "metadata": {},
   "outputs": [],
   "source": [
    "final_df.to_csv(\"database/ctu_df-interpolated.csv\", index=False) # saving the csv file"
   ]
  },
  {
   "cell_type": "code",
   "execution_count": 17,
   "metadata": {},
   "outputs": [
    {
     "output_type": "stream",
     "name": "stderr",
     "text": [
      "<ipython-input-17-1390d13c0cdd>:4: FutureWarning: Passing a negative integer is deprecated in version 1.0 and will not be supported in future version. Instead, use None to not limit the column width.\n  pd.set_option('display.max_colwidth', -1)\n"
     ]
    }
   ],
   "source": [
    "pd.set_option('display.max_rows', None)\n",
    "pd.set_option('display.max_columns', None)\n",
    "pd.set_option('display.width', None)\n",
    "pd.set_option('display.max_colwidth', -1)"
   ]
  },
  {
   "cell_type": "code",
   "execution_count": 18,
   "metadata": {},
   "outputs": [
    {
     "output_type": "display_data",
     "data": {
      "text/plain": "                ID          pH       BDecf        pCO2          BE  \\\ncount  552.000000   552.000000  541.000000  541.000000  541.000000   \nmean   1317.666667  7.230054    4.601904    7.069501   -6.384104     \nstd    254.914906   0.105039    3.553392    1.556686    3.827455     \nmin    1001.000000  6.850000   -3.400000    0.700000   -26.800000    \n25%    1138.750000  7.170000    2.490000    5.900000   -8.000000     \n50%    1276.500000  7.250000    4.130000    7.000000   -5.600000     \n75%    1414.250000  7.300000    6.140000    7.900000   -4.000000     \nmax    2046.000000  7.470000    26.110000   12.300000  -0.200000     \n\n           Apgar1      Apgar5  Gest. Weeks    Weight(g)         Sex  \\\ncount  552.000000  552.000000  552.000000   551.000000   552.000000   \nmean   8.262681    9.068841    39.994565    3400.426497  1.481884     \nstd    1.624959    1.085613    1.132737     454.781915   0.500125     \nmin    1.000000    4.000000    37.000000    1970.000000  1.000000     \n25%    8.000000    9.000000    39.000000    3100.000000  1.000000     \n50%    9.000000    9.000000    40.000000    3410.000000  1.000000     \n75%    9.000000    10.000000   41.000000    3700.000000  2.000000     \nmax    10.000000   10.000000   43.000000    4750.000000  2.000000     \n\n              Age   Gravidity      Parity    Diabetes  Hypertension  \\\ncount  552.000000  548.000000  552.000000  552.000000  552.00000      \nmean   29.673913   1.406934    0.409420    0.067029    0.07971        \nstd    4.538863    1.031721    0.724814    0.250299    0.27109        \nmin    18.000000   1.000000    0.000000    0.000000    0.00000        \n25%    27.000000   1.000000    0.000000    0.000000    0.00000        \n50%    30.000000   1.000000    0.000000    0.000000    0.00000        \n75%    33.000000   1.000000    1.000000    0.000000    0.00000        \nmax    46.000000   11.000000   7.000000    1.000000    1.00000        \n\n       Preeclampsia        Liq.     Pyrexia    Meconium  Presentation  \\\ncount  552.000000    552.000000  552.000000  552.000000  549.000000     \nmean   0.030797      0.266304    0.010870    0.115942    1.149362       \nstd    0.172924      0.442426    0.103783    0.320446    0.494038       \nmin    0.000000      0.000000    0.000000    0.000000    1.000000       \n25%    0.000000      0.000000    0.000000    0.000000    1.000000       \n50%    0.000000      0.000000    0.000000    0.000000    1.000000       \n75%    0.000000      1.000000    0.000000    0.000000    1.000000       \nmax    1.000000      1.000000    1.000000    1.000000    3.000000       \n\n          Induced        I.stage  NoProgress       CK/KP    II.stage  \\\ncount  552.000000  552.000000     552.000000  552.000000  552.000000   \nmean   0.393116    934.798913     0.099638    0.025362    12.456522    \nstd    0.488885    16736.184811   0.299788    0.157366    8.233101     \nmin    0.000000   -30.000000      0.000000    0.000000   -1.000000     \n25%    0.000000    135.000000     0.000000    0.000000    5.000000     \n50%    0.000000    218.500000     0.000000    0.000000    10.000000    \n75%    1.000000    290.000000     0.000000    0.000000    20.000000    \nmax    1.000000    393425.000000  1.000000    1.000000    30.000000    \n\n       Deliv. type          dbID   Rec. type   Pos. II.st.  Sig2Birth  \\\ncount  552.000000   5.520000e+02  552.000000  552.000000    552.0       \nmean   1.083333     1.053090e+06  1.875000    13241.315217  0.0         \nstd    0.276636     3.450331e+04  2.668079    4012.185116   0.0         \nmin    1.000000     9.742040e+05 -1.000000   -1.000000      0.0         \n25%    1.000000     1.026766e+06  1.000000    14400.000000  0.0         \n50%    1.000000     1.056252e+06  1.000000    14400.000000  0.0         \n75%    1.000000     1.074182e+06  1.000000    14400.000000  0.0         \nmax    2.000000     1.117886e+06  12.000000   19277.000000  0.0         \n\n         Mean_FHR     Mean_UC  Median_FHR   Median_UC     Std_FHR      Std_UC  \\\ncount  552.000000  552.000000  552.000000  552.000000  552.000000  552.000000   \nmean   112.246434  19.711267   132.039855  14.894022   47.701179   18.633507    \nstd    19.234467   9.655020    18.491446   10.494666   16.229789   7.709972     \nmin    58.507217   0.000000    0.000000    0.000000    8.643981    0.000000     \n25%    99.137666   12.908070   123.750000  7.000000    35.986436   13.076540    \n50%    113.635198  18.094007   133.250000  14.000000   51.524920   17.930106    \n75%    126.023597  25.312928   142.000000  20.500000   59.736549   23.676678    \nmax    159.554909  80.188274   172.250000  81.000000   85.408646   42.916205    \n\n          RMS_FHR      RMS_UC  Peak_to_RMS_FHR  Peak_to_RMS_UC    Peak_FHR  \\\ncount  552.000000  552.000000  552.000000       552.000000      552.000000   \nmean   123.732994  27.493065   70.698165        72.801319       194.431159   \nstd    14.049607   11.510844   29.935515        21.551436       25.697833    \nmin    83.382952   0.000000    14.122671        0.000000        141.500000   \n25%    113.868139  19.704456   47.128247        61.714626       174.000000   \n50%    123.929673  26.039199   65.232734        75.147609       191.500000   \n75%    133.609013  34.584816   95.536859        89.558185       212.125000   \nmax    162.860161  82.475007   199.864996       114.296265      293.000000   \n\n          Peak_UC      target  \ncount  552.000000  552.000000  \nmean   100.294384  0.916667    \nstd    25.807149   0.276636    \nmin    0.000000    0.000000    \n25%    90.875000   1.000000    \n50%    100.000000  1.000000    \n75%    127.000000  1.000000    \nmax    127.500000  1.000000    ",
      "text/html": "<div>\n<style scoped>\n    .dataframe tbody tr th:only-of-type {\n        vertical-align: middle;\n    }\n\n    .dataframe tbody tr th {\n        vertical-align: top;\n    }\n\n    .dataframe thead th {\n        text-align: right;\n    }\n</style>\n<table border=\"1\" class=\"dataframe\">\n  <thead>\n    <tr style=\"text-align: right;\">\n      <th></th>\n      <th>ID</th>\n      <th>pH</th>\n      <th>BDecf</th>\n      <th>pCO2</th>\n      <th>BE</th>\n      <th>Apgar1</th>\n      <th>Apgar5</th>\n      <th>Gest. Weeks</th>\n      <th>Weight(g)</th>\n      <th>Sex</th>\n      <th>Age</th>\n      <th>Gravidity</th>\n      <th>Parity</th>\n      <th>Diabetes</th>\n      <th>Hypertension</th>\n      <th>Preeclampsia</th>\n      <th>Liq.</th>\n      <th>Pyrexia</th>\n      <th>Meconium</th>\n      <th>Presentation</th>\n      <th>Induced</th>\n      <th>I.stage</th>\n      <th>NoProgress</th>\n      <th>CK/KP</th>\n      <th>II.stage</th>\n      <th>Deliv. type</th>\n      <th>dbID</th>\n      <th>Rec. type</th>\n      <th>Pos. II.st.</th>\n      <th>Sig2Birth</th>\n      <th>Mean_FHR</th>\n      <th>Mean_UC</th>\n      <th>Median_FHR</th>\n      <th>Median_UC</th>\n      <th>Std_FHR</th>\n      <th>Std_UC</th>\n      <th>RMS_FHR</th>\n      <th>RMS_UC</th>\n      <th>Peak_to_RMS_FHR</th>\n      <th>Peak_to_RMS_UC</th>\n      <th>Peak_FHR</th>\n      <th>Peak_UC</th>\n      <th>target</th>\n    </tr>\n  </thead>\n  <tbody>\n    <tr>\n      <th>count</th>\n      <td>552.000000</td>\n      <td>552.000000</td>\n      <td>541.000000</td>\n      <td>541.000000</td>\n      <td>541.000000</td>\n      <td>552.000000</td>\n      <td>552.000000</td>\n      <td>552.000000</td>\n      <td>551.000000</td>\n      <td>552.000000</td>\n      <td>552.000000</td>\n      <td>548.000000</td>\n      <td>552.000000</td>\n      <td>552.000000</td>\n      <td>552.00000</td>\n      <td>552.000000</td>\n      <td>552.000000</td>\n      <td>552.000000</td>\n      <td>552.000000</td>\n      <td>549.000000</td>\n      <td>552.000000</td>\n      <td>552.000000</td>\n      <td>552.000000</td>\n      <td>552.000000</td>\n      <td>552.000000</td>\n      <td>552.000000</td>\n      <td>5.520000e+02</td>\n      <td>552.000000</td>\n      <td>552.000000</td>\n      <td>552.0</td>\n      <td>552.000000</td>\n      <td>552.000000</td>\n      <td>552.000000</td>\n      <td>552.000000</td>\n      <td>552.000000</td>\n      <td>552.000000</td>\n      <td>552.000000</td>\n      <td>552.000000</td>\n      <td>552.000000</td>\n      <td>552.000000</td>\n      <td>552.000000</td>\n      <td>552.000000</td>\n      <td>552.000000</td>\n    </tr>\n    <tr>\n      <th>mean</th>\n      <td>1317.666667</td>\n      <td>7.230054</td>\n      <td>4.601904</td>\n      <td>7.069501</td>\n      <td>-6.384104</td>\n      <td>8.262681</td>\n      <td>9.068841</td>\n      <td>39.994565</td>\n      <td>3400.426497</td>\n      <td>1.481884</td>\n      <td>29.673913</td>\n      <td>1.406934</td>\n      <td>0.409420</td>\n      <td>0.067029</td>\n      <td>0.07971</td>\n      <td>0.030797</td>\n      <td>0.266304</td>\n      <td>0.010870</td>\n      <td>0.115942</td>\n      <td>1.149362</td>\n      <td>0.393116</td>\n      <td>934.798913</td>\n      <td>0.099638</td>\n      <td>0.025362</td>\n      <td>12.456522</td>\n      <td>1.083333</td>\n      <td>1.053090e+06</td>\n      <td>1.875000</td>\n      <td>13241.315217</td>\n      <td>0.0</td>\n      <td>112.246434</td>\n      <td>19.711267</td>\n      <td>132.039855</td>\n      <td>14.894022</td>\n      <td>47.701179</td>\n      <td>18.633507</td>\n      <td>123.732994</td>\n      <td>27.493065</td>\n      <td>70.698165</td>\n      <td>72.801319</td>\n      <td>194.431159</td>\n      <td>100.294384</td>\n      <td>0.916667</td>\n    </tr>\n    <tr>\n      <th>std</th>\n      <td>254.914906</td>\n      <td>0.105039</td>\n      <td>3.553392</td>\n      <td>1.556686</td>\n      <td>3.827455</td>\n      <td>1.624959</td>\n      <td>1.085613</td>\n      <td>1.132737</td>\n      <td>454.781915</td>\n      <td>0.500125</td>\n      <td>4.538863</td>\n      <td>1.031721</td>\n      <td>0.724814</td>\n      <td>0.250299</td>\n      <td>0.27109</td>\n      <td>0.172924</td>\n      <td>0.442426</td>\n      <td>0.103783</td>\n      <td>0.320446</td>\n      <td>0.494038</td>\n      <td>0.488885</td>\n      <td>16736.184811</td>\n      <td>0.299788</td>\n      <td>0.157366</td>\n      <td>8.233101</td>\n      <td>0.276636</td>\n      <td>3.450331e+04</td>\n      <td>2.668079</td>\n      <td>4012.185116</td>\n      <td>0.0</td>\n      <td>19.234467</td>\n      <td>9.655020</td>\n      <td>18.491446</td>\n      <td>10.494666</td>\n      <td>16.229789</td>\n      <td>7.709972</td>\n      <td>14.049607</td>\n      <td>11.510844</td>\n      <td>29.935515</td>\n      <td>21.551436</td>\n      <td>25.697833</td>\n      <td>25.807149</td>\n      <td>0.276636</td>\n    </tr>\n    <tr>\n      <th>min</th>\n      <td>1001.000000</td>\n      <td>6.850000</td>\n      <td>-3.400000</td>\n      <td>0.700000</td>\n      <td>-26.800000</td>\n      <td>1.000000</td>\n      <td>4.000000</td>\n      <td>37.000000</td>\n      <td>1970.000000</td>\n      <td>1.000000</td>\n      <td>18.000000</td>\n      <td>1.000000</td>\n      <td>0.000000</td>\n      <td>0.000000</td>\n      <td>0.00000</td>\n      <td>0.000000</td>\n      <td>0.000000</td>\n      <td>0.000000</td>\n      <td>0.000000</td>\n      <td>1.000000</td>\n      <td>0.000000</td>\n      <td>-30.000000</td>\n      <td>0.000000</td>\n      <td>0.000000</td>\n      <td>-1.000000</td>\n      <td>1.000000</td>\n      <td>9.742040e+05</td>\n      <td>-1.000000</td>\n      <td>-1.000000</td>\n      <td>0.0</td>\n      <td>58.507217</td>\n      <td>0.000000</td>\n      <td>0.000000</td>\n      <td>0.000000</td>\n      <td>8.643981</td>\n      <td>0.000000</td>\n      <td>83.382952</td>\n      <td>0.000000</td>\n      <td>14.122671</td>\n      <td>0.000000</td>\n      <td>141.500000</td>\n      <td>0.000000</td>\n      <td>0.000000</td>\n    </tr>\n    <tr>\n      <th>25%</th>\n      <td>1138.750000</td>\n      <td>7.170000</td>\n      <td>2.490000</td>\n      <td>5.900000</td>\n      <td>-8.000000</td>\n      <td>8.000000</td>\n      <td>9.000000</td>\n      <td>39.000000</td>\n      <td>3100.000000</td>\n      <td>1.000000</td>\n      <td>27.000000</td>\n      <td>1.000000</td>\n      <td>0.000000</td>\n      <td>0.000000</td>\n      <td>0.00000</td>\n      <td>0.000000</td>\n      <td>0.000000</td>\n      <td>0.000000</td>\n      <td>0.000000</td>\n      <td>1.000000</td>\n      <td>0.000000</td>\n      <td>135.000000</td>\n      <td>0.000000</td>\n      <td>0.000000</td>\n      <td>5.000000</td>\n      <td>1.000000</td>\n      <td>1.026766e+06</td>\n      <td>1.000000</td>\n      <td>14400.000000</td>\n      <td>0.0</td>\n      <td>99.137666</td>\n      <td>12.908070</td>\n      <td>123.750000</td>\n      <td>7.000000</td>\n      <td>35.986436</td>\n      <td>13.076540</td>\n      <td>113.868139</td>\n      <td>19.704456</td>\n      <td>47.128247</td>\n      <td>61.714626</td>\n      <td>174.000000</td>\n      <td>90.875000</td>\n      <td>1.000000</td>\n    </tr>\n    <tr>\n      <th>50%</th>\n      <td>1276.500000</td>\n      <td>7.250000</td>\n      <td>4.130000</td>\n      <td>7.000000</td>\n      <td>-5.600000</td>\n      <td>9.000000</td>\n      <td>9.000000</td>\n      <td>40.000000</td>\n      <td>3410.000000</td>\n      <td>1.000000</td>\n      <td>30.000000</td>\n      <td>1.000000</td>\n      <td>0.000000</td>\n      <td>0.000000</td>\n      <td>0.00000</td>\n      <td>0.000000</td>\n      <td>0.000000</td>\n      <td>0.000000</td>\n      <td>0.000000</td>\n      <td>1.000000</td>\n      <td>0.000000</td>\n      <td>218.500000</td>\n      <td>0.000000</td>\n      <td>0.000000</td>\n      <td>10.000000</td>\n      <td>1.000000</td>\n      <td>1.056252e+06</td>\n      <td>1.000000</td>\n      <td>14400.000000</td>\n      <td>0.0</td>\n      <td>113.635198</td>\n      <td>18.094007</td>\n      <td>133.250000</td>\n      <td>14.000000</td>\n      <td>51.524920</td>\n      <td>17.930106</td>\n      <td>123.929673</td>\n      <td>26.039199</td>\n      <td>65.232734</td>\n      <td>75.147609</td>\n      <td>191.500000</td>\n      <td>100.000000</td>\n      <td>1.000000</td>\n    </tr>\n    <tr>\n      <th>75%</th>\n      <td>1414.250000</td>\n      <td>7.300000</td>\n      <td>6.140000</td>\n      <td>7.900000</td>\n      <td>-4.000000</td>\n      <td>9.000000</td>\n      <td>10.000000</td>\n      <td>41.000000</td>\n      <td>3700.000000</td>\n      <td>2.000000</td>\n      <td>33.000000</td>\n      <td>1.000000</td>\n      <td>1.000000</td>\n      <td>0.000000</td>\n      <td>0.00000</td>\n      <td>0.000000</td>\n      <td>1.000000</td>\n      <td>0.000000</td>\n      <td>0.000000</td>\n      <td>1.000000</td>\n      <td>1.000000</td>\n      <td>290.000000</td>\n      <td>0.000000</td>\n      <td>0.000000</td>\n      <td>20.000000</td>\n      <td>1.000000</td>\n      <td>1.074182e+06</td>\n      <td>1.000000</td>\n      <td>14400.000000</td>\n      <td>0.0</td>\n      <td>126.023597</td>\n      <td>25.312928</td>\n      <td>142.000000</td>\n      <td>20.500000</td>\n      <td>59.736549</td>\n      <td>23.676678</td>\n      <td>133.609013</td>\n      <td>34.584816</td>\n      <td>95.536859</td>\n      <td>89.558185</td>\n      <td>212.125000</td>\n      <td>127.000000</td>\n      <td>1.000000</td>\n    </tr>\n    <tr>\n      <th>max</th>\n      <td>2046.000000</td>\n      <td>7.470000</td>\n      <td>26.110000</td>\n      <td>12.300000</td>\n      <td>-0.200000</td>\n      <td>10.000000</td>\n      <td>10.000000</td>\n      <td>43.000000</td>\n      <td>4750.000000</td>\n      <td>2.000000</td>\n      <td>46.000000</td>\n      <td>11.000000</td>\n      <td>7.000000</td>\n      <td>1.000000</td>\n      <td>1.00000</td>\n      <td>1.000000</td>\n      <td>1.000000</td>\n      <td>1.000000</td>\n      <td>1.000000</td>\n      <td>3.000000</td>\n      <td>1.000000</td>\n      <td>393425.000000</td>\n      <td>1.000000</td>\n      <td>1.000000</td>\n      <td>30.000000</td>\n      <td>2.000000</td>\n      <td>1.117886e+06</td>\n      <td>12.000000</td>\n      <td>19277.000000</td>\n      <td>0.0</td>\n      <td>159.554909</td>\n      <td>80.188274</td>\n      <td>172.250000</td>\n      <td>81.000000</td>\n      <td>85.408646</td>\n      <td>42.916205</td>\n      <td>162.860161</td>\n      <td>82.475007</td>\n      <td>199.864996</td>\n      <td>114.296265</td>\n      <td>293.000000</td>\n      <td>127.500000</td>\n      <td>1.000000</td>\n    </tr>\n  </tbody>\n</table>\n</div>"
     },
     "metadata": {}
    }
   ],
   "source": [
    "display(final_df.describe())"
   ]
  },
  {
   "source": [
    "## dataframe with interpolation applied"
   ],
   "cell_type": "markdown",
   "metadata": {}
  }
 ]
}