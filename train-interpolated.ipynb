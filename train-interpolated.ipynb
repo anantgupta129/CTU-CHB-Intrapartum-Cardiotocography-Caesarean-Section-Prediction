{
 "cells": [
  {
   "cell_type": "code",
   "execution_count": 49,
   "metadata": {},
   "outputs": [],
   "source": [
    "import matplotlib.pylab as plt\n",
    "import numpy as np\n",
    "import pandas as pd\n",
    "import seaborn as sns\n",
    "import xgboost as xgb\n",
    "from sklearn.ensemble import RandomForestClassifier\n",
    "from sklearn.metrics import accuracy_score\n",
    "from sklearn.model_selection import (GridSearchCV, cross_val_score,\n",
    "                                     train_test_split)\n",
    "from sklearn.neighbors import KNeighborsClassifier\n",
    "from sklearn.preprocessing import StandardScaler\n",
    "from sklearn.svm import SVC\n",
    "from utils import evaluate\n",
    "from xgboost import XGBClassifier\n"
   ]
  },
  {
   "cell_type": "code",
   "execution_count": 25,
   "metadata": {},
   "outputs": [
    {
     "data": {
      "text/html": [
       "<div>\n",
       "<style scoped>\n",
       "    .dataframe tbody tr th:only-of-type {\n",
       "        vertical-align: middle;\n",
       "    }\n",
       "\n",
       "    .dataframe tbody tr th {\n",
       "        vertical-align: top;\n",
       "    }\n",
       "\n",
       "    .dataframe thead th {\n",
       "        text-align: right;\n",
       "    }\n",
       "</style>\n",
       "<table border=\"1\" class=\"dataframe\">\n",
       "  <thead>\n",
       "    <tr style=\"text-align: right;\">\n",
       "      <th></th>\n",
       "      <th>Unnamed: 0</th>\n",
       "      <th>ID</th>\n",
       "      <th>pH</th>\n",
       "      <th>BDecf</th>\n",
       "      <th>pCO2</th>\n",
       "      <th>BE</th>\n",
       "      <th>Apgar1</th>\n",
       "      <th>Apgar5</th>\n",
       "      <th>Gest. Weeks</th>\n",
       "      <th>Weight(g)</th>\n",
       "      <th>...</th>\n",
       "      <th>Median UC</th>\n",
       "      <th>Std FHR</th>\n",
       "      <th>Std UC</th>\n",
       "      <th>RMS FHR</th>\n",
       "      <th>RMS UC</th>\n",
       "      <th>Peak to RMS FHR</th>\n",
       "      <th>Peak to RMS UC</th>\n",
       "      <th>Peak FHR</th>\n",
       "      <th>Peak UC</th>\n",
       "      <th>target</th>\n",
       "    </tr>\n",
       "  </thead>\n",
       "  <tbody>\n",
       "    <tr>\n",
       "      <th>0</th>\n",
       "      <td>0</td>\n",
       "      <td>1220.000000</td>\n",
       "      <td>7.300000</td>\n",
       "      <td>3.520000</td>\n",
       "      <td>6.000000</td>\n",
       "      <td>-4.700000</td>\n",
       "      <td>9.000000</td>\n",
       "      <td>10.000000</td>\n",
       "      <td>42.000000</td>\n",
       "      <td>3100.000000</td>\n",
       "      <td>...</td>\n",
       "      <td>23.000000</td>\n",
       "      <td>59.376698</td>\n",
       "      <td>21.970835</td>\n",
       "      <td>122.357020</td>\n",
       "      <td>33.143752</td>\n",
       "      <td>70.642980</td>\n",
       "      <td>93.856248</td>\n",
       "      <td>193.000000</td>\n",
       "      <td>127.000000</td>\n",
       "      <td>1.0</td>\n",
       "    </tr>\n",
       "    <tr>\n",
       "      <th>1</th>\n",
       "      <td>1</td>\n",
       "      <td>1234.000000</td>\n",
       "      <td>7.290000</td>\n",
       "      <td>2.500000</td>\n",
       "      <td>6.500000</td>\n",
       "      <td>-4.200000</td>\n",
       "      <td>8.000000</td>\n",
       "      <td>9.000000</td>\n",
       "      <td>41.000000</td>\n",
       "      <td>3200.000000</td>\n",
       "      <td>...</td>\n",
       "      <td>20.500000</td>\n",
       "      <td>59.311329</td>\n",
       "      <td>24.685834</td>\n",
       "      <td>135.710988</td>\n",
       "      <td>34.975993</td>\n",
       "      <td>88.289012</td>\n",
       "      <td>92.024007</td>\n",
       "      <td>224.000000</td>\n",
       "      <td>127.000000</td>\n",
       "      <td>1.0</td>\n",
       "    </tr>\n",
       "    <tr>\n",
       "      <th>2</th>\n",
       "      <td>2</td>\n",
       "      <td>1208.000000</td>\n",
       "      <td>7.230000</td>\n",
       "      <td>5.840000</td>\n",
       "      <td>6.600000</td>\n",
       "      <td>-7.400000</td>\n",
       "      <td>9.000000</td>\n",
       "      <td>9.000000</td>\n",
       "      <td>40.000000</td>\n",
       "      <td>3900.000000</td>\n",
       "      <td>...</td>\n",
       "      <td>3.000000</td>\n",
       "      <td>51.554942</td>\n",
       "      <td>21.705502</td>\n",
       "      <td>109.963878</td>\n",
       "      <td>26.323443</td>\n",
       "      <td>64.536122</td>\n",
       "      <td>73.676557</td>\n",
       "      <td>174.500000</td>\n",
       "      <td>100.000000</td>\n",
       "      <td>1.0</td>\n",
       "    </tr>\n",
       "    <tr>\n",
       "      <th>3</th>\n",
       "      <td>3</td>\n",
       "      <td>1038.000000</td>\n",
       "      <td>7.330000</td>\n",
       "      <td>2.720000</td>\n",
       "      <td>5.700000</td>\n",
       "      <td>-4.000000</td>\n",
       "      <td>10.000000</td>\n",
       "      <td>10.000000</td>\n",
       "      <td>39.000000</td>\n",
       "      <td>2740.000000</td>\n",
       "      <td>...</td>\n",
       "      <td>6.000000</td>\n",
       "      <td>26.070361</td>\n",
       "      <td>30.393657</td>\n",
       "      <td>135.560556</td>\n",
       "      <td>37.570082</td>\n",
       "      <td>31.189444</td>\n",
       "      <td>62.429918</td>\n",
       "      <td>166.750000</td>\n",
       "      <td>100.000000</td>\n",
       "      <td>1.0</td>\n",
       "    </tr>\n",
       "    <tr>\n",
       "      <th>4</th>\n",
       "      <td>4</td>\n",
       "      <td>1004.000000</td>\n",
       "      <td>7.300000</td>\n",
       "      <td>5.190000</td>\n",
       "      <td>5.500000</td>\n",
       "      <td>-6.400000</td>\n",
       "      <td>8.000000</td>\n",
       "      <td>9.000000</td>\n",
       "      <td>41.000000</td>\n",
       "      <td>3370.000000</td>\n",
       "      <td>...</td>\n",
       "      <td>14.000000</td>\n",
       "      <td>51.581668</td>\n",
       "      <td>16.210997</td>\n",
       "      <td>105.951334</td>\n",
       "      <td>22.315540</td>\n",
       "      <td>123.048666</td>\n",
       "      <td>100.684460</td>\n",
       "      <td>229.000000</td>\n",
       "      <td>123.000000</td>\n",
       "      <td>1.0</td>\n",
       "    </tr>\n",
       "    <tr>\n",
       "      <th>...</th>\n",
       "      <td>...</td>\n",
       "      <td>...</td>\n",
       "      <td>...</td>\n",
       "      <td>...</td>\n",
       "      <td>...</td>\n",
       "      <td>...</td>\n",
       "      <td>...</td>\n",
       "      <td>...</td>\n",
       "      <td>...</td>\n",
       "      <td>...</td>\n",
       "      <td>...</td>\n",
       "      <td>...</td>\n",
       "      <td>...</td>\n",
       "      <td>...</td>\n",
       "      <td>...</td>\n",
       "      <td>...</td>\n",
       "      <td>...</td>\n",
       "      <td>...</td>\n",
       "      <td>...</td>\n",
       "      <td>...</td>\n",
       "      <td>...</td>\n",
       "    </tr>\n",
       "    <tr>\n",
       "      <th>970</th>\n",
       "      <td>970</td>\n",
       "      <td>1612.415502</td>\n",
       "      <td>7.277141</td>\n",
       "      <td>4.170062</td>\n",
       "      <td>6.214293</td>\n",
       "      <td>-5.257210</td>\n",
       "      <td>8.285658</td>\n",
       "      <td>8.714244</td>\n",
       "      <td>39.571415</td>\n",
       "      <td>4014.282925</td>\n",
       "      <td>...</td>\n",
       "      <td>13.642683</td>\n",
       "      <td>66.893660</td>\n",
       "      <td>15.123756</td>\n",
       "      <td>112.954032</td>\n",
       "      <td>21.790416</td>\n",
       "      <td>87.188871</td>\n",
       "      <td>69.994656</td>\n",
       "      <td>200.142902</td>\n",
       "      <td>91.785073</td>\n",
       "      <td>0.0</td>\n",
       "    </tr>\n",
       "    <tr>\n",
       "      <th>971</th>\n",
       "      <td>971</td>\n",
       "      <td>1767.337796</td>\n",
       "      <td>7.293675</td>\n",
       "      <td>3.440918</td>\n",
       "      <td>6.131623</td>\n",
       "      <td>-4.463584</td>\n",
       "      <td>8.947013</td>\n",
       "      <td>9.210260</td>\n",
       "      <td>39.736753</td>\n",
       "      <td>4047.350650</td>\n",
       "      <td>...</td>\n",
       "      <td>15.709416</td>\n",
       "      <td>62.683887</td>\n",
       "      <td>17.396235</td>\n",
       "      <td>103.389556</td>\n",
       "      <td>25.123933</td>\n",
       "      <td>96.215996</td>\n",
       "      <td>74.266717</td>\n",
       "      <td>199.605552</td>\n",
       "      <td>99.390650</td>\n",
       "      <td>0.0</td>\n",
       "    </tr>\n",
       "    <tr>\n",
       "      <th>972</th>\n",
       "      <td>972</td>\n",
       "      <td>1481.788323</td>\n",
       "      <td>7.230459</td>\n",
       "      <td>4.115599</td>\n",
       "      <td>7.287158</td>\n",
       "      <td>-5.830279</td>\n",
       "      <td>9.440366</td>\n",
       "      <td>10.000000</td>\n",
       "      <td>40.559634</td>\n",
       "      <td>4038.440290</td>\n",
       "      <td>...</td>\n",
       "      <td>15.922014</td>\n",
       "      <td>64.601882</td>\n",
       "      <td>18.569339</td>\n",
       "      <td>109.909654</td>\n",
       "      <td>26.431828</td>\n",
       "      <td>77.227946</td>\n",
       "      <td>77.513116</td>\n",
       "      <td>187.137600</td>\n",
       "      <td>103.944945</td>\n",
       "      <td>0.0</td>\n",
       "    </tr>\n",
       "    <tr>\n",
       "      <th>973</th>\n",
       "      <td>973</td>\n",
       "      <td>1199.005821</td>\n",
       "      <td>7.233021</td>\n",
       "      <td>6.115778</td>\n",
       "      <td>6.434896</td>\n",
       "      <td>-7.374997</td>\n",
       "      <td>6.520836</td>\n",
       "      <td>7.390627</td>\n",
       "      <td>39.130209</td>\n",
       "      <td>3926.041797</td>\n",
       "      <td>...</td>\n",
       "      <td>8.127612</td>\n",
       "      <td>78.127428</td>\n",
       "      <td>9.059652</td>\n",
       "      <td>138.476805</td>\n",
       "      <td>12.894938</td>\n",
       "      <td>63.100015</td>\n",
       "      <td>58.594676</td>\n",
       "      <td>201.576821</td>\n",
       "      <td>71.489613</td>\n",
       "      <td>0.0</td>\n",
       "    </tr>\n",
       "    <tr>\n",
       "      <th>974</th>\n",
       "      <td>974</td>\n",
       "      <td>1654.971118</td>\n",
       "      <td>7.281683</td>\n",
       "      <td>3.969773</td>\n",
       "      <td>6.191584</td>\n",
       "      <td>-5.039209</td>\n",
       "      <td>8.467326</td>\n",
       "      <td>8.850495</td>\n",
       "      <td>39.616832</td>\n",
       "      <td>4023.366301</td>\n",
       "      <td>...</td>\n",
       "      <td>14.210394</td>\n",
       "      <td>65.737277</td>\n",
       "      <td>15.747983</td>\n",
       "      <td>110.326765</td>\n",
       "      <td>22.706100</td>\n",
       "      <td>89.668532</td>\n",
       "      <td>71.168149</td>\n",
       "      <td>199.995298</td>\n",
       "      <td>93.874249</td>\n",
       "      <td>0.0</td>\n",
       "    </tr>\n",
       "  </tbody>\n",
       "</table>\n",
       "<p>975 rows × 44 columns</p>\n",
       "</div>"
      ],
      "text/plain": [
       "     Unnamed: 0           ID        pH     BDecf      pCO2        BE  \\\n",
       "0             0  1220.000000  7.300000  3.520000  6.000000 -4.700000   \n",
       "1             1  1234.000000  7.290000  2.500000  6.500000 -4.200000   \n",
       "2             2  1208.000000  7.230000  5.840000  6.600000 -7.400000   \n",
       "3             3  1038.000000  7.330000  2.720000  5.700000 -4.000000   \n",
       "4             4  1004.000000  7.300000  5.190000  5.500000 -6.400000   \n",
       "..          ...          ...       ...       ...       ...       ...   \n",
       "970         970  1612.415502  7.277141  4.170062  6.214293 -5.257210   \n",
       "971         971  1767.337796  7.293675  3.440918  6.131623 -4.463584   \n",
       "972         972  1481.788323  7.230459  4.115599  7.287158 -5.830279   \n",
       "973         973  1199.005821  7.233021  6.115778  6.434896 -7.374997   \n",
       "974         974  1654.971118  7.281683  3.969773  6.191584 -5.039209   \n",
       "\n",
       "        Apgar1     Apgar5  Gest. Weeks    Weight(g)  ...  Median UC  \\\n",
       "0     9.000000  10.000000    42.000000  3100.000000  ...  23.000000   \n",
       "1     8.000000   9.000000    41.000000  3200.000000  ...  20.500000   \n",
       "2     9.000000   9.000000    40.000000  3900.000000  ...   3.000000   \n",
       "3    10.000000  10.000000    39.000000  2740.000000  ...   6.000000   \n",
       "4     8.000000   9.000000    41.000000  3370.000000  ...  14.000000   \n",
       "..         ...        ...          ...          ...  ...        ...   \n",
       "970   8.285658   8.714244    39.571415  4014.282925  ...  13.642683   \n",
       "971   8.947013   9.210260    39.736753  4047.350650  ...  15.709416   \n",
       "972   9.440366  10.000000    40.559634  4038.440290  ...  15.922014   \n",
       "973   6.520836   7.390627    39.130209  3926.041797  ...   8.127612   \n",
       "974   8.467326   8.850495    39.616832  4023.366301  ...  14.210394   \n",
       "\n",
       "       Std FHR     Std UC     RMS FHR     RMS UC  Peak to RMS FHR  \\\n",
       "0    59.376698  21.970835  122.357020  33.143752        70.642980   \n",
       "1    59.311329  24.685834  135.710988  34.975993        88.289012   \n",
       "2    51.554942  21.705502  109.963878  26.323443        64.536122   \n",
       "3    26.070361  30.393657  135.560556  37.570082        31.189444   \n",
       "4    51.581668  16.210997  105.951334  22.315540       123.048666   \n",
       "..         ...        ...         ...        ...              ...   \n",
       "970  66.893660  15.123756  112.954032  21.790416        87.188871   \n",
       "971  62.683887  17.396235  103.389556  25.123933        96.215996   \n",
       "972  64.601882  18.569339  109.909654  26.431828        77.227946   \n",
       "973  78.127428   9.059652  138.476805  12.894938        63.100015   \n",
       "974  65.737277  15.747983  110.326765  22.706100        89.668532   \n",
       "\n",
       "     Peak to RMS UC    Peak FHR     Peak UC  target  \n",
       "0         93.856248  193.000000  127.000000     1.0  \n",
       "1         92.024007  224.000000  127.000000     1.0  \n",
       "2         73.676557  174.500000  100.000000     1.0  \n",
       "3         62.429918  166.750000  100.000000     1.0  \n",
       "4        100.684460  229.000000  123.000000     1.0  \n",
       "..              ...         ...         ...     ...  \n",
       "970       69.994656  200.142902   91.785073     0.0  \n",
       "971       74.266717  199.605552   99.390650     0.0  \n",
       "972       77.513116  187.137600  103.944945     0.0  \n",
       "973       58.594676  201.576821   71.489613     0.0  \n",
       "974       71.168149  199.995298   93.874249     0.0  \n",
       "\n",
       "[975 rows x 44 columns]"
      ]
     },
     "execution_count": 25,
     "metadata": {},
     "output_type": "execute_result"
    }
   ],
   "source": [
    "df = pd.read_csv('database/final.csv')\n",
    "df\n"
   ]
  },
  {
   "cell_type": "code",
   "execution_count": 26,
   "metadata": {},
   "outputs": [
    {
     "data": {
      "text/plain": [
       "(975, 42)"
      ]
     },
     "execution_count": 26,
     "metadata": {},
     "output_type": "execute_result"
    }
   ],
   "source": [
    "# droping unnecessary columns\n",
    "df.drop(['Unnamed: 0', 'ID'], axis=1, inplace=True)\n",
    "df.shape\n"
   ]
  },
  {
   "cell_type": "code",
   "execution_count": 27,
   "metadata": {},
   "outputs": [
    {
     "data": {
      "text/plain": [
       "0"
      ]
     },
     "execution_count": 27,
     "metadata": {},
     "output_type": "execute_result"
    }
   ],
   "source": [
    "df.isnull().sum().sum()  # checking for null values\n"
   ]
  },
  {
   "cell_type": "code",
   "execution_count": 28,
   "metadata": {},
   "outputs": [
    {
     "data": {
      "text/plain": [
       "Index(['pH', 'BDecf', 'pCO2', 'BE', 'Apgar1', 'Apgar5', 'Gest. Weeks',\n",
       "       'Weight(g)', 'Sex', 'Age', 'Gravidity', 'Parity', 'Diabetes',\n",
       "       'Hypertension', 'Preeclampsia', 'Liq.', 'Pyrexia', 'Meconium',\n",
       "       'Presentation', 'Induced', 'I.stage', 'NoProgress', 'CK/KP', 'II.stage',\n",
       "       'Deliv. type', 'dbID', 'Rec. type', 'Pos. II.st.', 'Sig2Birth',\n",
       "       'Mean FHR', 'Mean UC', 'Median FHR', 'Median UC', 'Std FHR', 'Std UC',\n",
       "       'RMS FHR', 'RMS UC', 'Peak to RMS FHR', 'Peak to RMS UC', 'Peak FHR',\n",
       "       'Peak UC', 'target'],\n",
       "      dtype='object')"
      ]
     },
     "execution_count": 28,
     "metadata": {},
     "output_type": "execute_result"
    }
   ],
   "source": [
    "df.columns\n"
   ]
  },
  {
   "cell_type": "markdown",
   "metadata": {},
   "source": [
    "# Feature Engineering"
   ]
  },
  {
   "cell_type": "code",
   "execution_count": 29,
   "metadata": {},
   "outputs": [],
   "source": [
    "def f(x):\n",
    "    if 6.5 < x <= 10:\n",
    "        return 'Excellent'\n",
    "    elif 4 < x <= 6.5:\n",
    "        return 'ModeratelyAbnormal'\n",
    "    elif x <= 4:\n",
    "        return 'Attention'\n"
   ]
  },
  {
   "cell_type": "code",
   "execution_count": 30,
   "metadata": {},
   "outputs": [],
   "source": [
    "df['Apgar1'] = df['Apgar1'].apply(lambda x: f(x))\n",
    "df['Apgar5'] = df['Apgar5'].apply(lambda x: f(x))\n"
   ]
  },
  {
   "cell_type": "code",
   "execution_count": 31,
   "metadata": {},
   "outputs": [
    {
     "data": {
      "text/plain": [
       "Excellent             901\n",
       "ModeratelyAbnormal     47\n",
       "Attention              27\n",
       "Name: Apgar1, dtype: int64"
      ]
     },
     "execution_count": 31,
     "metadata": {},
     "output_type": "execute_result"
    }
   ],
   "source": [
    "df.Apgar1.value_counts()\n"
   ]
  },
  {
   "cell_type": "code",
   "execution_count": 32,
   "metadata": {},
   "outputs": [
    {
     "data": {
      "text/plain": [
       "Excellent             957\n",
       "ModeratelyAbnormal     15\n",
       "Attention               3\n",
       "Name: Apgar5, dtype: int64"
      ]
     },
     "execution_count": 32,
     "metadata": {},
     "output_type": "execute_result"
    }
   ],
   "source": [
    "df.Apgar5.value_counts()\n"
   ]
  },
  {
   "cell_type": "code",
   "execution_count": 33,
   "metadata": {},
   "outputs": [
    {
     "data": {
      "text/plain": [
       "1.0    488\n",
       "0.0    487\n",
       "Name: target, dtype: int64"
      ]
     },
     "execution_count": 33,
     "metadata": {},
     "output_type": "execute_result"
    }
   ],
   "source": [
    "df.target.value_counts()\n"
   ]
  },
  {
   "cell_type": "code",
   "execution_count": 34,
   "metadata": {},
   "outputs": [
    {
     "data": {
      "text/plain": [
       "Normal          842\n",
       "Pathological    133\n",
       "Name: pH, dtype: int64"
      ]
     },
     "execution_count": 34,
     "metadata": {},
     "output_type": "execute_result"
    }
   ],
   "source": [
    "df['pH'] = df['pH'].apply(lambda x: 'Pathological' if x <= 7.15 else 'Normal')\n",
    "\n",
    "df.pH.value_counts()\n"
   ]
  },
  {
   "cell_type": "code",
   "execution_count": 35,
   "metadata": {},
   "outputs": [
    {
     "data": {
      "text/plain": [
       "(975, 42)"
      ]
     },
     "execution_count": 35,
     "metadata": {},
     "output_type": "execute_result"
    }
   ],
   "source": [
    "# one hot encoding\n",
    "dts = pd.get_dummies(df)\n",
    "df.shape\n"
   ]
  },
  {
   "cell_type": "code",
   "execution_count": 36,
   "metadata": {},
   "outputs": [
    {
     "data": {
      "text/html": [
       "<div>\n",
       "<style scoped>\n",
       "    .dataframe tbody tr th:only-of-type {\n",
       "        vertical-align: middle;\n",
       "    }\n",
       "\n",
       "    .dataframe tbody tr th {\n",
       "        vertical-align: top;\n",
       "    }\n",
       "\n",
       "    .dataframe thead th {\n",
       "        text-align: right;\n",
       "    }\n",
       "</style>\n",
       "<table border=\"1\" class=\"dataframe\">\n",
       "  <thead>\n",
       "    <tr style=\"text-align: right;\">\n",
       "      <th></th>\n",
       "      <th>BDecf</th>\n",
       "      <th>pCO2</th>\n",
       "      <th>BE</th>\n",
       "      <th>Gest. Weeks</th>\n",
       "      <th>Weight(g)</th>\n",
       "      <th>Sex</th>\n",
       "      <th>Age</th>\n",
       "      <th>Gravidity</th>\n",
       "      <th>Parity</th>\n",
       "      <th>Diabetes</th>\n",
       "      <th>...</th>\n",
       "      <th>Peak UC</th>\n",
       "      <th>target</th>\n",
       "      <th>pH_Normal</th>\n",
       "      <th>pH_Pathological</th>\n",
       "      <th>Apgar1_Attention</th>\n",
       "      <th>Apgar1_Excellent</th>\n",
       "      <th>Apgar1_ModeratelyAbnormal</th>\n",
       "      <th>Apgar5_Attention</th>\n",
       "      <th>Apgar5_Excellent</th>\n",
       "      <th>Apgar5_ModeratelyAbnormal</th>\n",
       "    </tr>\n",
       "  </thead>\n",
       "  <tbody>\n",
       "    <tr>\n",
       "      <th>0</th>\n",
       "      <td>3.52</td>\n",
       "      <td>6.0</td>\n",
       "      <td>-4.7</td>\n",
       "      <td>42.0</td>\n",
       "      <td>3100.0</td>\n",
       "      <td>2.0</td>\n",
       "      <td>34.0</td>\n",
       "      <td>2.0</td>\n",
       "      <td>2.0</td>\n",
       "      <td>0.0</td>\n",
       "      <td>...</td>\n",
       "      <td>127.0</td>\n",
       "      <td>1.0</td>\n",
       "      <td>1</td>\n",
       "      <td>0</td>\n",
       "      <td>0</td>\n",
       "      <td>1</td>\n",
       "      <td>0</td>\n",
       "      <td>0</td>\n",
       "      <td>1</td>\n",
       "      <td>0</td>\n",
       "    </tr>\n",
       "    <tr>\n",
       "      <th>1</th>\n",
       "      <td>2.50</td>\n",
       "      <td>6.5</td>\n",
       "      <td>-4.2</td>\n",
       "      <td>41.0</td>\n",
       "      <td>3200.0</td>\n",
       "      <td>1.0</td>\n",
       "      <td>29.0</td>\n",
       "      <td>1.0</td>\n",
       "      <td>0.0</td>\n",
       "      <td>0.0</td>\n",
       "      <td>...</td>\n",
       "      <td>127.0</td>\n",
       "      <td>1.0</td>\n",
       "      <td>1</td>\n",
       "      <td>0</td>\n",
       "      <td>0</td>\n",
       "      <td>1</td>\n",
       "      <td>0</td>\n",
       "      <td>0</td>\n",
       "      <td>1</td>\n",
       "      <td>0</td>\n",
       "    </tr>\n",
       "    <tr>\n",
       "      <th>2</th>\n",
       "      <td>5.84</td>\n",
       "      <td>6.6</td>\n",
       "      <td>-7.4</td>\n",
       "      <td>40.0</td>\n",
       "      <td>3900.0</td>\n",
       "      <td>2.0</td>\n",
       "      <td>26.0</td>\n",
       "      <td>1.0</td>\n",
       "      <td>0.0</td>\n",
       "      <td>0.0</td>\n",
       "      <td>...</td>\n",
       "      <td>100.0</td>\n",
       "      <td>1.0</td>\n",
       "      <td>1</td>\n",
       "      <td>0</td>\n",
       "      <td>0</td>\n",
       "      <td>1</td>\n",
       "      <td>0</td>\n",
       "      <td>0</td>\n",
       "      <td>1</td>\n",
       "      <td>0</td>\n",
       "    </tr>\n",
       "    <tr>\n",
       "      <th>3</th>\n",
       "      <td>2.72</td>\n",
       "      <td>5.7</td>\n",
       "      <td>-4.0</td>\n",
       "      <td>39.0</td>\n",
       "      <td>2740.0</td>\n",
       "      <td>1.0</td>\n",
       "      <td>24.0</td>\n",
       "      <td>1.0</td>\n",
       "      <td>1.0</td>\n",
       "      <td>0.0</td>\n",
       "      <td>...</td>\n",
       "      <td>100.0</td>\n",
       "      <td>1.0</td>\n",
       "      <td>1</td>\n",
       "      <td>0</td>\n",
       "      <td>0</td>\n",
       "      <td>1</td>\n",
       "      <td>0</td>\n",
       "      <td>0</td>\n",
       "      <td>1</td>\n",
       "      <td>0</td>\n",
       "    </tr>\n",
       "    <tr>\n",
       "      <th>4</th>\n",
       "      <td>5.19</td>\n",
       "      <td>5.5</td>\n",
       "      <td>-6.4</td>\n",
       "      <td>41.0</td>\n",
       "      <td>3370.0</td>\n",
       "      <td>1.0</td>\n",
       "      <td>36.0</td>\n",
       "      <td>1.0</td>\n",
       "      <td>0.0</td>\n",
       "      <td>0.0</td>\n",
       "      <td>...</td>\n",
       "      <td>123.0</td>\n",
       "      <td>1.0</td>\n",
       "      <td>1</td>\n",
       "      <td>0</td>\n",
       "      <td>0</td>\n",
       "      <td>1</td>\n",
       "      <td>0</td>\n",
       "      <td>0</td>\n",
       "      <td>1</td>\n",
       "      <td>0</td>\n",
       "    </tr>\n",
       "  </tbody>\n",
       "</table>\n",
       "<p>5 rows × 47 columns</p>\n",
       "</div>"
      ],
      "text/plain": [
       "   BDecf  pCO2   BE  Gest. Weeks  Weight(g)  Sex   Age  Gravidity  Parity  \\\n",
       "0   3.52   6.0 -4.7         42.0     3100.0  2.0  34.0        2.0     2.0   \n",
       "1   2.50   6.5 -4.2         41.0     3200.0  1.0  29.0        1.0     0.0   \n",
       "2   5.84   6.6 -7.4         40.0     3900.0  2.0  26.0        1.0     0.0   \n",
       "3   2.72   5.7 -4.0         39.0     2740.0  1.0  24.0        1.0     1.0   \n",
       "4   5.19   5.5 -6.4         41.0     3370.0  1.0  36.0        1.0     0.0   \n",
       "\n",
       "   Diabetes  ...  Peak UC  target  pH_Normal  pH_Pathological  \\\n",
       "0       0.0  ...    127.0     1.0          1                0   \n",
       "1       0.0  ...    127.0     1.0          1                0   \n",
       "2       0.0  ...    100.0     1.0          1                0   \n",
       "3       0.0  ...    100.0     1.0          1                0   \n",
       "4       0.0  ...    123.0     1.0          1                0   \n",
       "\n",
       "   Apgar1_Attention  Apgar1_Excellent  Apgar1_ModeratelyAbnormal  \\\n",
       "0                 0                 1                          0   \n",
       "1                 0                 1                          0   \n",
       "2                 0                 1                          0   \n",
       "3                 0                 1                          0   \n",
       "4                 0                 1                          0   \n",
       "\n",
       "   Apgar5_Attention  Apgar5_Excellent  Apgar5_ModeratelyAbnormal  \n",
       "0                 0                 1                          0  \n",
       "1                 0                 1                          0  \n",
       "2                 0                 1                          0  \n",
       "3                 0                 1                          0  \n",
       "4                 0                 1                          0  \n",
       "\n",
       "[5 rows x 47 columns]"
      ]
     },
     "execution_count": 36,
     "metadata": {},
     "output_type": "execute_result"
    }
   ],
   "source": [
    "dts.head()\n"
   ]
  },
  {
   "cell_type": "code",
   "execution_count": 37,
   "metadata": {},
   "outputs": [
    {
     "data": {
      "text/plain": [
       "Index(['BDecf', 'pCO2', 'BE', 'Gest. Weeks', 'Weight(g)', 'Sex', 'Age',\n",
       "       'Gravidity', 'Parity', 'Diabetes', 'Hypertension', 'Preeclampsia',\n",
       "       'Liq.', 'Pyrexia', 'Meconium', 'Presentation', 'Induced', 'I.stage',\n",
       "       'NoProgress', 'CK/KP', 'II.stage', 'Deliv. type', 'dbID', 'Rec. type',\n",
       "       'Pos. II.st.', 'Sig2Birth', 'Mean FHR', 'Mean UC', 'Median FHR',\n",
       "       'Median UC', 'Std FHR', 'Std UC', 'RMS FHR', 'RMS UC',\n",
       "       'Peak to RMS FHR', 'Peak to RMS UC', 'Peak FHR', 'Peak UC', 'target',\n",
       "       'pH_Normal', 'pH_Pathological', 'Apgar1_Attention', 'Apgar1_Excellent',\n",
       "       'Apgar1_ModeratelyAbnormal', 'Apgar5_Attention', 'Apgar5_Excellent',\n",
       "       'Apgar5_ModeratelyAbnormal'],\n",
       "      dtype='object')"
      ]
     },
     "execution_count": 37,
     "metadata": {},
     "output_type": "execute_result"
    }
   ],
   "source": [
    "dts.columns\n"
   ]
  },
  {
   "cell_type": "code",
   "execution_count": 38,
   "metadata": {},
   "outputs": [],
   "source": [
    "X = dts.drop('target', axis=1)\n",
    "y = dts['target']\n"
   ]
  },
  {
   "cell_type": "markdown",
   "metadata": {},
   "source": [
    "# Test  Train Split"
   ]
  },
  {
   "cell_type": "code",
   "execution_count": 39,
   "metadata": {},
   "outputs": [
    {
     "name": "stdout",
     "output_type": "stream",
     "text": [
      "Training dataset len: 780, Test data len: 195\n"
     ]
    }
   ],
   "source": [
    "X_train, X_test, y_train, y_test = train_test_split(\n",
    "    X, y, test_size=0.20, random_state=42)\n",
    "print('Training dataset len: {}, Test data len: {}'.format(\n",
    "    X_train.shape[0], y_test.shape[0]))\n"
   ]
  },
  {
   "cell_type": "markdown",
   "metadata": {},
   "source": [
    "# Scaling Dataset"
   ]
  },
  {
   "cell_type": "code",
   "execution_count": 40,
   "metadata": {},
   "outputs": [],
   "source": [
    "sc = StandardScaler()\n",
    "X_train = sc.fit_transform(X_train.values)\n",
    "X_test = sc.transform(X_test)\n"
   ]
  },
  {
   "cell_type": "markdown",
   "metadata": {},
   "source": [
    "# Training Different Models"
   ]
  },
  {
   "cell_type": "markdown",
   "metadata": {},
   "source": [
    "## KNN"
   ]
  },
  {
   "cell_type": "code",
   "execution_count": 41,
   "metadata": {},
   "outputs": [
    {
     "data": {
      "text/plain": [
       "KNeighborsClassifier()"
      ]
     },
     "execution_count": 41,
     "metadata": {},
     "output_type": "execute_result"
    }
   ],
   "source": [
    "# KNN\n",
    "model_knn = KNeighborsClassifier(n_neighbors=5)\n",
    "model_knn.fit(X_train, y_train)\n"
   ]
  },
  {
   "cell_type": "code",
   "execution_count": 42,
   "metadata": {},
   "outputs": [
    {
     "name": "stdout",
     "output_type": "stream",
     "text": [
      "Accuracy: 82.56%\n"
     ]
    }
   ],
   "source": [
    "y_pred = model_knn.predict(X_test)\n",
    "predictions = [round(value) for value in y_pred]\n",
    "\n",
    "accuracy = accuracy_score(y_test, y_pred)\n",
    "print(\"Accuracy: %.2f%%\" % (accuracy * 100.0))\n"
   ]
  },
  {
   "cell_type": "code",
   "execution_count": 43,
   "metadata": {},
   "outputs": [
    {
     "name": "stdout",
     "output_type": "stream",
     "text": [
      "Accuracy:- 82.56%\n",
      "Confusion matrix :- \n",
      " [[97  0]\n",
      " [34 64]]\n",
      "Classification Report:-\n",
      "               precision    recall  f1-score   support\n",
      "\n",
      "         0.0       0.74      1.00      0.85        97\n",
      "         1.0       1.00      0.65      0.79        98\n",
      "\n",
      "    accuracy                           0.83       195\n",
      "   macro avg       0.87      0.83      0.82       195\n",
      "weighted avg       0.87      0.83      0.82       195\n",
      "\n"
     ]
    }
   ],
   "source": [
    "evaluate.evaluate_model(model_knn, X_test, y_test)\n"
   ]
  },
  {
   "cell_type": "markdown",
   "metadata": {},
   "source": [
    "## Support Vector Machines"
   ]
  },
  {
   "cell_type": "code",
   "execution_count": 44,
   "metadata": {},
   "outputs": [
    {
     "name": "stdout",
     "output_type": "stream",
     "text": [
      "Accuracy:- 88.21%\n",
      "Confusion matrix :- \n",
      " [[94  3]\n",
      " [20 78]]\n",
      "Classification Report:-\n",
      "               precision    recall  f1-score   support\n",
      "\n",
      "         0.0       0.82      0.97      0.89        97\n",
      "         1.0       0.96      0.80      0.87        98\n",
      "\n",
      "    accuracy                           0.88       195\n",
      "   macro avg       0.89      0.88      0.88       195\n",
      "weighted avg       0.89      0.88      0.88       195\n",
      "\n"
     ]
    }
   ],
   "source": [
    "model = SVC(kernel='linear')\n",
    "model.fit(X_train, y_train)\n",
    "\n",
    "evaluate.evaluate_model(model, X_test, y_test)\n"
   ]
  },
  {
   "cell_type": "code",
   "execution_count": 45,
   "metadata": {},
   "outputs": [
    {
     "name": "stdout",
     "output_type": "stream",
     "text": [
      "Accuracy:- 95.90%\n",
      "Confusion matrix :- \n",
      " [[97  0]\n",
      " [ 8 90]]\n",
      "Classification Report:-\n",
      "               precision    recall  f1-score   support\n",
      "\n",
      "         0.0       0.92      1.00      0.96        97\n",
      "         1.0       1.00      0.92      0.96        98\n",
      "\n",
      "    accuracy                           0.96       195\n",
      "   macro avg       0.96      0.96      0.96       195\n",
      "weighted avg       0.96      0.96      0.96       195\n",
      "\n"
     ]
    }
   ],
   "source": [
    "model = SVC(kernel='rbf')\n",
    "model.fit(X_train, y_train)\n",
    "\n",
    "evaluate.evaluate_model(model, X_test, y_test)\n"
   ]
  },
  {
   "cell_type": "markdown",
   "metadata": {},
   "source": [
    "## Random Forest Classifier"
   ]
  },
  {
   "cell_type": "code",
   "execution_count": 48,
   "metadata": {},
   "outputs": [
    {
     "name": "stdout",
     "output_type": "stream",
     "text": [
      "Accuracy:- 98.97%\n",
      "Confusion matrix :- \n",
      " [[97  0]\n",
      " [ 2 96]]\n",
      "Classification Report:-\n",
      "               precision    recall  f1-score   support\n",
      "\n",
      "         0.0       0.98      1.00      0.99        97\n",
      "         1.0       1.00      0.98      0.99        98\n",
      "\n",
      "    accuracy                           0.99       195\n",
      "   macro avg       0.99      0.99      0.99       195\n",
      "weighted avg       0.99      0.99      0.99       195\n",
      "\n"
     ]
    }
   ],
   "source": [
    "model = RandomForestClassifier()\n",
    "model.fit(X_train, y_train)\n",
    "\n",
    "evaluate.evaluate_model(model, X_test, y_test)\n"
   ]
  },
  {
   "cell_type": "markdown",
   "metadata": {},
   "source": [
    "## XGBoost"
   ]
  },
  {
   "cell_type": "code",
   "execution_count": 46,
   "metadata": {},
   "outputs": [
    {
     "name": "stdout",
     "output_type": "stream",
     "text": [
      "[15:55:18] WARNING: ..\\src\\learner.cc:1061: Starting in XGBoost 1.3.0, the default evaluation metric used with the objective 'binary:logistic' was changed from 'error' to 'logloss'. Explicitly set eval_metric if you'd like to restore the old behavior.\n"
     ]
    },
    {
     "name": "stderr",
     "output_type": "stream",
     "text": [
      "C:\\Users\\AnantGupta\\Anaconda3\\envs\\mainenv\\lib\\site-packages\\xgboost\\sklearn.py:888: UserWarning: The use of label encoder in XGBClassifier is deprecated and will be removed in a future release. To remove this warning, do the following: 1) Pass option use_label_encoder=False when constructing XGBClassifier object; and 2) Encode your labels (y) as integers starting with 0, i.e. 0, 1, 2, ..., [num_class - 1].\n",
      "  warnings.warn(label_encoder_deprecation_msg, UserWarning)\n"
     ]
    },
    {
     "name": "stdout",
     "output_type": "stream",
     "text": [
      "Accuracy:- 94.36%\n",
      "Confusion matrix :- \n",
      " [[93  4]\n",
      " [ 7 91]]\n",
      "Classification Report:-\n",
      "               precision    recall  f1-score   support\n",
      "\n",
      "         0.0       0.93      0.96      0.94        97\n",
      "         1.0       0.96      0.93      0.94        98\n",
      "\n",
      "    accuracy                           0.94       195\n",
      "   macro avg       0.94      0.94      0.94       195\n",
      "weighted avg       0.94      0.94      0.94       195\n",
      "\n"
     ]
    }
   ],
   "source": [
    "model = XGBClassifier()\n",
    "model.fit(X_train, y_train)\n",
    "\n",
    "evaluate.evaluate_model(model, X_test, y_test)\n"
   ]
  },
  {
   "cell_type": "markdown",
   "metadata": {},
   "source": [
    "# Hyperparameter Tuning with Grid Search\n",
    "\n",
    "So, we have 3 candidates who performed well XGboost, Randomforest, SVM (rbf kernel)"
   ]
  },
  {
   "cell_type": "code",
   "execution_count": 57,
   "metadata": {},
   "outputs": [],
   "source": [
    "def hyperparameter_tuning(model, parameters, X_train, y_train):\n",
    "\n",
    "    grid = GridSearchCV(estimator=model, param_grid=parameters, cv=5,  n_jobs=5,\n",
    "                        scoring='roc_auc', refit=True, verbose=1)\n",
    "\n",
    "    grid.fit(X_train, y_train)\n",
    "    print(\"Best Score: {:.2f}%\".format(grid.best_score_*100))\n",
    "    print(\"Best Parameters:\", grid.best_params_)\n",
    "    best_model = grid.best_estimator_\n",
    "    return best_model\n"
   ]
  },
  {
   "cell_type": "markdown",
   "metadata": {},
   "source": [
    "## Tuning RandomForest"
   ]
  },
  {
   "cell_type": "code",
   "execution_count": 60,
   "metadata": {},
   "outputs": [
    {
     "name": "stdout",
     "output_type": "stream",
     "text": [
      "Fitting 5 folds for each of 1296 candidates, totalling 6480 fits\n",
      "Best Score: 99.69%\n",
      "Best Parameters: {'criterion': 'gini', 'max_depth': 30, 'max_features': 'log2', 'min_samples_leaf': 1, 'min_samples_split': 2, 'n_estimators': 700}\n"
     ]
    }
   ],
   "source": [
    "param_grid = {\n",
    "    'n_estimators': [100, 200, 500, 700],\n",
    "    'max_features': ['auto', 'sqrt', 'log2'],\n",
    "    'max_depth': [10, 30, 50, 70, 100, None],\n",
    "    'criterion': ['gini', 'entropy'],\n",
    "    'min_samples_leaf': [1, 2, 4],\n",
    "    'min_samples_split': [2, 5, 10],\n",
    "}\n",
    "\n",
    "best_rf = hyperparameter_tuning(\n",
    "    RandomForestClassifier(), param_grid, X_train, y_train)\n"
   ]
  },
  {
   "cell_type": "code",
   "execution_count": 61,
   "metadata": {},
   "outputs": [
    {
     "name": "stdout",
     "output_type": "stream",
     "text": [
      "Accuracy:- 99.49%\n",
      "Confusion matrix :- \n",
      " [[97  0]\n",
      " [ 1 97]]\n",
      "Classification Report:-\n",
      "               precision    recall  f1-score   support\n",
      "\n",
      "         0.0       0.99      1.00      0.99        97\n",
      "         1.0       1.00      0.99      0.99        98\n",
      "\n",
      "    accuracy                           0.99       195\n",
      "   macro avg       0.99      0.99      0.99       195\n",
      "weighted avg       0.99      0.99      0.99       195\n",
      "\n"
     ]
    }
   ],
   "source": [
    "evaluate.evaluate_model(best_rf, X_test, y_test)\n"
   ]
  },
  {
   "cell_type": "markdown",
   "metadata": {},
   "source": [
    "## Tuning SVM"
   ]
  },
  {
   "cell_type": "code",
   "execution_count": 62,
   "metadata": {},
   "outputs": [
    {
     "name": "stdout",
     "output_type": "stream",
     "text": [
      "Fitting 5 folds for each of 1344 candidates, totalling 6720 fits\n",
      "Best Score: 99.85%\n",
      "Best Parameters: {'C': 10, 'decision_function_shape': 'ovo', 'degree': 1, 'gamma': 0.1, 'kernel': 'rbf', 'shrinking': True}\n"
     ]
    }
   ],
   "source": [
    "param_grid = {\n",
    "    'C': [0.1, 0.25, 0.5, 0.75, 1, 10, 100],\n",
    "    'gamma': [1, 0.1, 0.01, 0.001],\n",
    "    'kernel': ['rbf', 'sigmoid'],\n",
    "    'degree': [1, 2, 3, 4, 5, 6],\n",
    "    'decision_function_shape': ('ovo', 'ovr'),\n",
    "    'shrinking': (True, False)\n",
    "}\n",
    "\n",
    "best_svc = hyperparameter_tuning(SVC(), param_grid, X_train, y_train)\n"
   ]
  },
  {
   "cell_type": "code",
   "execution_count": 63,
   "metadata": {},
   "outputs": [
    {
     "name": "stdout",
     "output_type": "stream",
     "text": [
      "Accuracy:- 98.46%\n",
      "Confusion matrix :- \n",
      " [[97  0]\n",
      " [ 3 95]]\n",
      "Classification Report:-\n",
      "               precision    recall  f1-score   support\n",
      "\n",
      "         0.0       0.97      1.00      0.98        97\n",
      "         1.0       1.00      0.97      0.98        98\n",
      "\n",
      "    accuracy                           0.98       195\n",
      "   macro avg       0.98      0.98      0.98       195\n",
      "weighted avg       0.99      0.98      0.98       195\n",
      "\n"
     ]
    }
   ],
   "source": [
    "evaluate.evaluate_model(best_svc, X_test, y_test)\n"
   ]
  },
  {
   "cell_type": "markdown",
   "metadata": {},
   "source": [
    "## Tuning XGBoost"
   ]
  },
  {
   "cell_type": "code",
   "execution_count": 58,
   "metadata": {},
   "outputs": [
    {
     "name": "stdout",
     "output_type": "stream",
     "text": [
      "Fitting 5 folds for each of 1296 candidates, totalling 6480 fits\n",
      "Best Score: 99.52%\n",
      "Best Parameters: {'colsample_bytree': 0.7, 'eval_metric': 'mlogloss', 'learning_rate': 0.05, 'max_depth': 7, 'n_estimators': 300, 'objective': 'binary:logistic', 'reg_alpha': 1.2, 'reg_lambda': 1.3, 'subsample': 1.0, 'use_label_encoder': False}\n"
     ]
    }
   ],
   "source": [
    "param_grid = {\n",
    "    'use_label_encoder': [False],\n",
    "    'eval_metric': ['mlogloss'],\n",
    "    'objective': ['binary:logistic'],\n",
    "    'learning_rate': [0.01, 0.05],\n",
    "    'subsample': [0.7, 0.8, 1.0],  # % of rows taken to build each tree\n",
    "    'colsample_bytree': [0.7, 0.8, 1.0],  # number of columns used by each tree\n",
    "    'max_depth': [7, 5],  # depth of each tree\n",
    "    'n_estimators': [100, 150, 200, 300],  # no. of trees\n",
    "    'reg_alpha': [1.1, 1.2, 1.3],\n",
    "    'reg_lambda': [1.1, 1.2, 1.3],\n",
    "}\n",
    "best_xgb = hyperparameter_tuning(XGBClassifier(), param_grid, X_train, y_train)\n"
   ]
  },
  {
   "cell_type": "code",
   "execution_count": 59,
   "metadata": {},
   "outputs": [
    {
     "name": "stdout",
     "output_type": "stream",
     "text": [
      "Accuracy:- 95.38%\n",
      "Confusion matrix :- \n",
      " [[94  3]\n",
      " [ 6 92]]\n",
      "Classification Report:-\n",
      "               precision    recall  f1-score   support\n",
      "\n",
      "         0.0       0.94      0.97      0.95        97\n",
      "         1.0       0.97      0.94      0.95        98\n",
      "\n",
      "    accuracy                           0.95       195\n",
      "   macro avg       0.95      0.95      0.95       195\n",
      "weighted avg       0.95      0.95      0.95       195\n",
      "\n"
     ]
    }
   ],
   "source": [
    "evaluate.evaluate_model(best_xgb, X_test, y_test)\n"
   ]
  },
  {
   "cell_type": "code",
   "execution_count": 64,
   "metadata": {},
   "outputs": [
    {
     "data": {
      "image/png": "[encoded data removed]",
      "text/plain": [
       "<Figure size 1080x1080 with 1 Axes>"
      ]
     },
     "metadata": {
      "needs_background": "light"
     },
     "output_type": "display_data"
    }
   ],
   "source": [
    "fig, (ax) = plt.subplots(ncols=1, figsize=(15, 15))\n",
    "xgb.plot_importance(best_xgb, height=0.8,\n",
    "                    title=\"Features importance (XGBoost)\", ax=ax, color=\"green\")\n",
    "plt.show()\n"
   ]
  },
  {
   "cell_type": "code",
   "execution_count": 77,
   "metadata": {},
   "outputs": [
    {
     "name": "stdout",
     "output_type": "stream",
     "text": [
      "Important Features According to XGBoost: \n",
      "dbID\n",
      "Std FHR\n",
      "Gest. Weeks\n",
      "Mean FHR\n",
      "pCO2\n",
      "Peak FHR\n",
      "Median UC\n",
      "I.stage\n"
     ]
    }
   ],
   "source": [
    "print(\"Important Features According to XGBoost: \")\n",
    "for i in [22,30,3,26,1,36,29,17]:\n",
    "    print(dts.columns[i])"
   ]
  },
  {
   "cell_type": "markdown",
   "metadata": {},
   "source": [
    "# AUC ROC"
   ]
  },
  {
   "cell_type": "code",
   "execution_count": 76,
   "metadata": {},
   "outputs": [
    {
     "name": "stdout",
     "output_type": "stream",
     "text": [
      "AUC ROC Scores\n",
      "XGBoost: \t 0.9539238375762678\n",
      "RandomForest: \t 0.9948979591836735\n",
      "SupportVectorMachines: \t 0.9846938775510203\n"
     ]
    },
    {
     "data": {
      "image/png": "[encoded data removed]",
      "text/plain": [
       "<Figure size 432x288 with 1 Axes>"
      ]
     },
     "metadata": {
      "needs_background": "light"
     },
     "output_type": "display_data"
    }
   ],
   "source": [
    "evaluate.plot_auc_roc([('XGBoost', best_xgb), ('RandomForest', best_rf), ('SupportVectorMachines', best_svc)], X_test, y_test)\n"
   ]
  },
  {
   "cell_type": "code",
   "execution_count": null,
   "metadata": {},
   "outputs": [],
   "source": []
  }
 ],
 "metadata": {
  "interpreter": {
   "hash": "03bc33754ff9dbbe153500dcec0d0c07a6b19bc01f477c0f6fe8747e680d5171"
  },
  "kernelspec": {
   "display_name": "Python 3.8.12 64-bit ('mainenv': conda)",
   "name": "python3"
  },
  "language_info": {
   "codemirror_mode": {
    "name": "ipython",
    "version": 3
   },
   "file_extension": ".py",
   "mimetype": "text/x-python",
   "name": "python",
   "nbconvert_exporter": "python",
   "pygments_lexer": "ipython3",
   "version": "3.8.12"
  },
  "orig_nbformat": 4
 },
 "nbformat": 4,
 "nbformat_minor": 2
}
