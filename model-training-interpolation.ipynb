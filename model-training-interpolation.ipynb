{
 "metadata": {
  "language_info": {
   "codemirror_mode": {
    "name": "ipython",
    "version": 3
   },
   "file_extension": ".py",
   "mimetype": "text/x-python",
   "name": "python",
   "nbconvert_exporter": "python",
   "pygments_lexer": "ipython3",
   "version": "3.8.8-final"
  },
  "orig_nbformat": 2,
  "kernelspec": {
   "name": "python3",
   "display_name": "Python 3.8.8 64-bit ('mainenv': conda)",
   "metadata": {
    "interpreter": {
     "hash": "03bc33754ff9dbbe153500dcec0d0c07a6b19bc01f477c0f6fe8747e680d5171"
    }
   }
  }
 },
 "nbformat": 4,
 "nbformat_minor": 2,
 "cells": [
  {
   "source": [
    "# Importing Libraries and Dataset"
   ],
   "cell_type": "markdown",
   "metadata": {}
  },
  {
   "cell_type": "code",
   "execution_count": 1,
   "metadata": {},
   "outputs": [],
   "source": [
    "import pandas as pd\n",
    "import numpy as np\n",
    "import matplotlib.pylab as plt\n",
    "from sklearn.metrics import accuracy_score, classification_report, confusion_matrix\n",
    "from sklearn.preprocessing import StandardScaler\n",
    "from sklearn.model_selection import train_test_split\n",
    "from xgboost import XGBClassifier\n",
    "import xgboost as xgb"
   ]
  },
  {
   "cell_type": "code",
   "execution_count": 2,
   "metadata": {},
   "outputs": [
    {
     "output_type": "execute_result",
     "data": {
      "text/plain": [
       "     Unnamed: 0           ID        pH     BDecf      pCO2        BE  \\\n",
       "0             0  1220.000000  7.300000  3.520000  6.000000 -4.700000   \n",
       "1             1  1234.000000  7.290000  2.500000  6.500000 -4.200000   \n",
       "2             2  1208.000000  7.230000  5.840000  6.600000 -7.400000   \n",
       "3             3  1038.000000  7.330000  2.720000  5.700000 -4.000000   \n",
       "4             4  1004.000000  7.300000  5.190000  5.500000 -6.400000   \n",
       "..          ...          ...       ...       ...       ...       ...   \n",
       "970         970  1612.415502  7.277141  4.170062  6.214293 -5.257210   \n",
       "971         971  1767.337796  7.293675  3.440918  6.131623 -4.463584   \n",
       "972         972  1481.788323  7.230459  4.115599  7.287158 -5.830279   \n",
       "973         973  1199.005821  7.233021  6.115778  6.434896 -7.374997   \n",
       "974         974  1654.971118  7.281683  3.969773  6.191584 -5.039209   \n",
       "\n",
       "        Apgar1     Apgar5  Gest. Weeks    Weight(g)  ...  Median_UC  \\\n",
       "0     9.000000  10.000000    42.000000  3100.000000  ...  23.000000   \n",
       "1     8.000000   9.000000    41.000000  3200.000000  ...  20.500000   \n",
       "2     9.000000   9.000000    40.000000  3900.000000  ...   3.000000   \n",
       "3    10.000000  10.000000    39.000000  2740.000000  ...   6.000000   \n",
       "4     8.000000   9.000000    41.000000  3370.000000  ...  14.000000   \n",
       "..         ...        ...          ...          ...  ...        ...   \n",
       "970   8.285658   8.714244    39.571415  4014.282925  ...  13.642683   \n",
       "971   8.947013   9.210260    39.736753  4047.350650  ...  15.709416   \n",
       "972   9.440366  10.000000    40.559634  4038.440290  ...  15.922014   \n",
       "973   6.520836   7.390627    39.130209  3926.041797  ...   8.127612   \n",
       "974   8.467326   8.850495    39.616832  4023.366301  ...  14.210394   \n",
       "\n",
       "       Std_FHR     Std_UC     RMS_FHR     RMS_UC  Peak_to_RMS_FHR  \\\n",
       "0    55.948729  21.970835  125.822264  33.143752        67.177736   \n",
       "1    50.734943  24.685834  140.395307  34.975993        83.604693   \n",
       "2    50.552578  21.705502  111.052168  26.323443        63.447832   \n",
       "3    24.087743  30.393657  136.057873  37.570082        30.692127   \n",
       "4    51.581668  16.210997  105.951334  22.315540       123.048666   \n",
       "..         ...        ...         ...        ...              ...   \n",
       "970  66.832155  15.123756  113.061862  21.790416        87.081041   \n",
       "971  62.646109  17.396235  103.455788  25.123933        96.149764   \n",
       "972  64.310246  18.569339  110.321673  26.431828        76.815927   \n",
       "973  78.002607   9.059652  138.695641  12.894938        62.881180   \n",
       "974  65.682290  15.747983  110.423169  22.706100        89.572129   \n",
       "\n",
       "     Peak_to_RMS_UC    Peak_FHR     Peak_UC  target  \n",
       "0         93.856248  193.000000  127.000000     1.0  \n",
       "1         92.024007  224.000000  127.000000     1.0  \n",
       "2         73.676557  174.500000  100.000000     1.0  \n",
       "3         62.429918  166.750000  100.000000     1.0  \n",
       "4        100.684460  229.000000  123.000000     1.0  \n",
       "..              ...         ...         ...     ...  \n",
       "970       69.994656  200.142902   91.785073     0.0  \n",
       "971       74.266717  199.605552   99.390650     0.0  \n",
       "972       77.513116  187.137600  103.944945     0.0  \n",
       "973       58.594676  201.576821   71.489613     0.0  \n",
       "974       71.168149  199.995298   93.874249     0.0  \n",
       "\n",
       "[975 rows x 44 columns]"
      ],
      "text/html": "<div>\n<style scoped>\n    .dataframe tbody tr th:only-of-type {\n        vertical-align: middle;\n    }\n\n    .dataframe tbody tr th {\n        vertical-align: top;\n    }\n\n    .dataframe thead th {\n        text-align: right;\n    }\n</style>\n<table border=\"1\" class=\"dataframe\">\n  <thead>\n    <tr style=\"text-align: right;\">\n      <th></th>\n      <th>Unnamed: 0</th>\n      <th>ID</th>\n      <th>pH</th>\n      <th>BDecf</th>\n      <th>pCO2</th>\n      <th>BE</th>\n      <th>Apgar1</th>\n      <th>Apgar5</th>\n      <th>Gest. Weeks</th>\n      <th>Weight(g)</th>\n      <th>...</th>\n      <th>Median_UC</th>\n      <th>Std_FHR</th>\n      <th>Std_UC</th>\n      <th>RMS_FHR</th>\n      <th>RMS_UC</th>\n      <th>Peak_to_RMS_FHR</th>\n      <th>Peak_to_RMS_UC</th>\n      <th>Peak_FHR</th>\n      <th>Peak_UC</th>\n      <th>target</th>\n    </tr>\n  </thead>\n  <tbody>\n    <tr>\n      <th>0</th>\n      <td>0</td>\n      <td>1220.000000</td>\n      <td>7.300000</td>\n      <td>3.520000</td>\n      <td>6.000000</td>\n      <td>-4.700000</td>\n      <td>9.000000</td>\n      <td>10.000000</td>\n      <td>42.000000</td>\n      <td>3100.000000</td>\n      <td>...</td>\n      <td>23.000000</td>\n      <td>55.948729</td>\n      <td>21.970835</td>\n      <td>125.822264</td>\n      <td>33.143752</td>\n      <td>67.177736</td>\n      <td>93.856248</td>\n      <td>193.000000</td>\n      <td>127.000000</td>\n      <td>1.0</td>\n    </tr>\n    <tr>\n      <th>1</th>\n      <td>1</td>\n      <td>1234.000000</td>\n      <td>7.290000</td>\n      <td>2.500000</td>\n      <td>6.500000</td>\n      <td>-4.200000</td>\n      <td>8.000000</td>\n      <td>9.000000</td>\n      <td>41.000000</td>\n      <td>3200.000000</td>\n      <td>...</td>\n      <td>20.500000</td>\n      <td>50.734943</td>\n      <td>24.685834</td>\n      <td>140.395307</td>\n      <td>34.975993</td>\n      <td>83.604693</td>\n      <td>92.024007</td>\n      <td>224.000000</td>\n      <td>127.000000</td>\n      <td>1.0</td>\n    </tr>\n    <tr>\n      <th>2</th>\n      <td>2</td>\n      <td>1208.000000</td>\n      <td>7.230000</td>\n      <td>5.840000</td>\n      <td>6.600000</td>\n      <td>-7.400000</td>\n      <td>9.000000</td>\n      <td>9.000000</td>\n      <td>40.000000</td>\n      <td>3900.000000</td>\n      <td>...</td>\n      <td>3.000000</td>\n      <td>50.552578</td>\n      <td>21.705502</td>\n      <td>111.052168</td>\n      <td>26.323443</td>\n      <td>63.447832</td>\n      <td>73.676557</td>\n      <td>174.500000</td>\n      <td>100.000000</td>\n      <td>1.0</td>\n    </tr>\n    <tr>\n      <th>3</th>\n      <td>3</td>\n      <td>1038.000000</td>\n      <td>7.330000</td>\n      <td>2.720000</td>\n      <td>5.700000</td>\n      <td>-4.000000</td>\n      <td>10.000000</td>\n      <td>10.000000</td>\n      <td>39.000000</td>\n      <td>2740.000000</td>\n      <td>...</td>\n      <td>6.000000</td>\n      <td>24.087743</td>\n      <td>30.393657</td>\n      <td>136.057873</td>\n      <td>37.570082</td>\n      <td>30.692127</td>\n      <td>62.429918</td>\n      <td>166.750000</td>\n      <td>100.000000</td>\n      <td>1.0</td>\n    </tr>\n    <tr>\n      <th>4</th>\n      <td>4</td>\n      <td>1004.000000</td>\n      <td>7.300000</td>\n      <td>5.190000</td>\n      <td>5.500000</td>\n      <td>-6.400000</td>\n      <td>8.000000</td>\n      <td>9.000000</td>\n      <td>41.000000</td>\n      <td>3370.000000</td>\n      <td>...</td>\n      <td>14.000000</td>\n      <td>51.581668</td>\n      <td>16.210997</td>\n      <td>105.951334</td>\n      <td>22.315540</td>\n      <td>123.048666</td>\n      <td>100.684460</td>\n      <td>229.000000</td>\n      <td>123.000000</td>\n      <td>1.0</td>\n    </tr>\n    <tr>\n      <th>...</th>\n      <td>...</td>\n      <td>...</td>\n      <td>...</td>\n      <td>...</td>\n      <td>...</td>\n      <td>...</td>\n      <td>...</td>\n      <td>...</td>\n      <td>...</td>\n      <td>...</td>\n      <td>...</td>\n      <td>...</td>\n      <td>...</td>\n      <td>...</td>\n      <td>...</td>\n      <td>...</td>\n      <td>...</td>\n      <td>...</td>\n      <td>...</td>\n      <td>...</td>\n      <td>...</td>\n    </tr>\n    <tr>\n      <th>970</th>\n      <td>970</td>\n      <td>1612.415502</td>\n      <td>7.277141</td>\n      <td>4.170062</td>\n      <td>6.214293</td>\n      <td>-5.257210</td>\n      <td>8.285658</td>\n      <td>8.714244</td>\n      <td>39.571415</td>\n      <td>4014.282925</td>\n      <td>...</td>\n      <td>13.642683</td>\n      <td>66.832155</td>\n      <td>15.123756</td>\n      <td>113.061862</td>\n      <td>21.790416</td>\n      <td>87.081041</td>\n      <td>69.994656</td>\n      <td>200.142902</td>\n      <td>91.785073</td>\n      <td>0.0</td>\n    </tr>\n    <tr>\n      <th>971</th>\n      <td>971</td>\n      <td>1767.337796</td>\n      <td>7.293675</td>\n      <td>3.440918</td>\n      <td>6.131623</td>\n      <td>-4.463584</td>\n      <td>8.947013</td>\n      <td>9.210260</td>\n      <td>39.736753</td>\n      <td>4047.350650</td>\n      <td>...</td>\n      <td>15.709416</td>\n      <td>62.646109</td>\n      <td>17.396235</td>\n      <td>103.455788</td>\n      <td>25.123933</td>\n      <td>96.149764</td>\n      <td>74.266717</td>\n      <td>199.605552</td>\n      <td>99.390650</td>\n      <td>0.0</td>\n    </tr>\n    <tr>\n      <th>972</th>\n      <td>972</td>\n      <td>1481.788323</td>\n      <td>7.230459</td>\n      <td>4.115599</td>\n      <td>7.287158</td>\n      <td>-5.830279</td>\n      <td>9.440366</td>\n      <td>10.000000</td>\n      <td>40.559634</td>\n      <td>4038.440290</td>\n      <td>...</td>\n      <td>15.922014</td>\n      <td>64.310246</td>\n      <td>18.569339</td>\n      <td>110.321673</td>\n      <td>26.431828</td>\n      <td>76.815927</td>\n      <td>77.513116</td>\n      <td>187.137600</td>\n      <td>103.944945</td>\n      <td>0.0</td>\n    </tr>\n    <tr>\n      <th>973</th>\n      <td>973</td>\n      <td>1199.005821</td>\n      <td>7.233021</td>\n      <td>6.115778</td>\n      <td>6.434896</td>\n      <td>-7.374997</td>\n      <td>6.520836</td>\n      <td>7.390627</td>\n      <td>39.130209</td>\n      <td>3926.041797</td>\n      <td>...</td>\n      <td>8.127612</td>\n      <td>78.002607</td>\n      <td>9.059652</td>\n      <td>138.695641</td>\n      <td>12.894938</td>\n      <td>62.881180</td>\n      <td>58.594676</td>\n      <td>201.576821</td>\n      <td>71.489613</td>\n      <td>0.0</td>\n    </tr>\n    <tr>\n      <th>974</th>\n      <td>974</td>\n      <td>1654.971118</td>\n      <td>7.281683</td>\n      <td>3.969773</td>\n      <td>6.191584</td>\n      <td>-5.039209</td>\n      <td>8.467326</td>\n      <td>8.850495</td>\n      <td>39.616832</td>\n      <td>4023.366301</td>\n      <td>...</td>\n      <td>14.210394</td>\n      <td>65.682290</td>\n      <td>15.747983</td>\n      <td>110.423169</td>\n      <td>22.706100</td>\n      <td>89.572129</td>\n      <td>71.168149</td>\n      <td>199.995298</td>\n      <td>93.874249</td>\n      <td>0.0</td>\n    </tr>\n  </tbody>\n</table>\n<p>975 rows × 44 columns</p>\n</div>"
     },
     "metadata": {},
     "execution_count": 2
    }
   ],
   "source": [
    "df = pd.read_csv(r'database\\final-interpolated.csv')\n",
    "df"
   ]
  },
  {
   "cell_type": "code",
   "execution_count": 3,
   "metadata": {},
   "outputs": [],
   "source": [
    "# droping unnecessary columns\n",
    "df.drop(['Unnamed: 0', 'ID'], axis=1, inplace=True)"
   ]
  },
  {
   "cell_type": "code",
   "execution_count": 4,
   "metadata": {},
   "outputs": [
    {
     "output_type": "execute_result",
     "data": {
      "text/plain": [
       "0"
      ]
     },
     "metadata": {},
     "execution_count": 4
    }
   ],
   "source": [
    "df.isnull().sum().sum()  # checking for null values"
   ]
  },
  {
   "cell_type": "code",
   "execution_count": 5,
   "metadata": {},
   "outputs": [
    {
     "output_type": "execute_result",
     "data": {
      "text/plain": [
       "           pH     BDecf      pCO2        BE     Apgar1     Apgar5  \\\n",
       "0    7.300000  3.520000  6.000000 -4.700000   9.000000  10.000000   \n",
       "1    7.290000  2.500000  6.500000 -4.200000   8.000000   9.000000   \n",
       "2    7.230000  5.840000  6.600000 -7.400000   9.000000   9.000000   \n",
       "3    7.330000  2.720000  5.700000 -4.000000  10.000000  10.000000   \n",
       "4    7.300000  5.190000  5.500000 -6.400000   8.000000   9.000000   \n",
       "..        ...       ...       ...       ...        ...        ...   \n",
       "970  7.277141  4.170062  6.214293 -5.257210   8.285658   8.714244   \n",
       "971  7.293675  3.440918  6.131623 -4.463584   8.947013   9.210260   \n",
       "972  7.230459  4.115599  7.287158 -5.830279   9.440366  10.000000   \n",
       "973  7.233021  6.115778  6.434896 -7.374997   6.520836   7.390627   \n",
       "974  7.281683  3.969773  6.191584 -5.039209   8.467326   8.850495   \n",
       "\n",
       "     Gest. Weeks    Weight(g)  Sex        Age  ...  Median_UC    Std_FHR  \\\n",
       "0      42.000000  3100.000000  2.0  34.000000  ...  23.000000  55.948729   \n",
       "1      41.000000  3200.000000  1.0  29.000000  ...  20.500000  50.734943   \n",
       "2      40.000000  3900.000000  2.0  26.000000  ...   3.000000  50.552578   \n",
       "3      39.000000  2740.000000  1.0  24.000000  ...   6.000000  24.087743   \n",
       "4      41.000000  3370.000000  1.0  36.000000  ...  14.000000  51.581668   \n",
       "..           ...          ...  ...        ...  ...        ...        ...   \n",
       "970    39.571415  4014.282925  1.0  29.714146  ...  13.642683  66.832155   \n",
       "971    39.736753  4047.350650  1.0  31.367533  ...  15.709416  62.646109   \n",
       "972    40.559634  4038.440290  1.0  32.880733  ...  15.922014  64.310246   \n",
       "973    39.130209  3926.041797  1.0  25.302090  ...   8.127612  78.002607   \n",
       "974    39.616832  4023.366301  1.0  30.168315  ...  14.210394  65.682290   \n",
       "\n",
       "        Std_UC     RMS_FHR     RMS_UC  Peak_to_RMS_FHR  Peak_to_RMS_UC  \\\n",
       "0    21.970835  125.822264  33.143752        67.177736       93.856248   \n",
       "1    24.685834  140.395307  34.975993        83.604693       92.024007   \n",
       "2    21.705502  111.052168  26.323443        63.447832       73.676557   \n",
       "3    30.393657  136.057873  37.570082        30.692127       62.429918   \n",
       "4    16.210997  105.951334  22.315540       123.048666      100.684460   \n",
       "..         ...         ...        ...              ...             ...   \n",
       "970  15.123756  113.061862  21.790416        87.081041       69.994656   \n",
       "971  17.396235  103.455788  25.123933        96.149764       74.266717   \n",
       "972  18.569339  110.321673  26.431828        76.815927       77.513116   \n",
       "973   9.059652  138.695641  12.894938        62.881180       58.594676   \n",
       "974  15.747983  110.423169  22.706100        89.572129       71.168149   \n",
       "\n",
       "       Peak_FHR     Peak_UC  target  \n",
       "0    193.000000  127.000000     1.0  \n",
       "1    224.000000  127.000000     1.0  \n",
       "2    174.500000  100.000000     1.0  \n",
       "3    166.750000  100.000000     1.0  \n",
       "4    229.000000  123.000000     1.0  \n",
       "..          ...         ...     ...  \n",
       "970  200.142902   91.785073     0.0  \n",
       "971  199.605552   99.390650     0.0  \n",
       "972  187.137600  103.944945     0.0  \n",
       "973  201.576821   71.489613     0.0  \n",
       "974  199.995298   93.874249     0.0  \n",
       "\n",
       "[975 rows x 42 columns]"
      ],
      "text/html": "<div>\n<style scoped>\n    .dataframe tbody tr th:only-of-type {\n        vertical-align: middle;\n    }\n\n    .dataframe tbody tr th {\n        vertical-align: top;\n    }\n\n    .dataframe thead th {\n        text-align: right;\n    }\n</style>\n<table border=\"1\" class=\"dataframe\">\n  <thead>\n    <tr style=\"text-align: right;\">\n      <th></th>\n      <th>pH</th>\n      <th>BDecf</th>\n      <th>pCO2</th>\n      <th>BE</th>\n      <th>Apgar1</th>\n      <th>Apgar5</th>\n      <th>Gest. Weeks</th>\n      <th>Weight(g)</th>\n      <th>Sex</th>\n      <th>Age</th>\n      <th>...</th>\n      <th>Median_UC</th>\n      <th>Std_FHR</th>\n      <th>Std_UC</th>\n      <th>RMS_FHR</th>\n      <th>RMS_UC</th>\n      <th>Peak_to_RMS_FHR</th>\n      <th>Peak_to_RMS_UC</th>\n      <th>Peak_FHR</th>\n      <th>Peak_UC</th>\n      <th>target</th>\n    </tr>\n  </thead>\n  <tbody>\n    <tr>\n      <th>0</th>\n      <td>7.300000</td>\n      <td>3.520000</td>\n      <td>6.000000</td>\n      <td>-4.700000</td>\n      <td>9.000000</td>\n      <td>10.000000</td>\n      <td>42.000000</td>\n      <td>3100.000000</td>\n      <td>2.0</td>\n      <td>34.000000</td>\n      <td>...</td>\n      <td>23.000000</td>\n      <td>55.948729</td>\n      <td>21.970835</td>\n      <td>125.822264</td>\n      <td>33.143752</td>\n      <td>67.177736</td>\n      <td>93.856248</td>\n      <td>193.000000</td>\n      <td>127.000000</td>\n      <td>1.0</td>\n    </tr>\n    <tr>\n      <th>1</th>\n      <td>7.290000</td>\n      <td>2.500000</td>\n      <td>6.500000</td>\n      <td>-4.200000</td>\n      <td>8.000000</td>\n      <td>9.000000</td>\n      <td>41.000000</td>\n      <td>3200.000000</td>\n      <td>1.0</td>\n      <td>29.000000</td>\n      <td>...</td>\n      <td>20.500000</td>\n      <td>50.734943</td>\n      <td>24.685834</td>\n      <td>140.395307</td>\n      <td>34.975993</td>\n      <td>83.604693</td>\n      <td>92.024007</td>\n      <td>224.000000</td>\n      <td>127.000000</td>\n      <td>1.0</td>\n    </tr>\n    <tr>\n      <th>2</th>\n      <td>7.230000</td>\n      <td>5.840000</td>\n      <td>6.600000</td>\n      <td>-7.400000</td>\n      <td>9.000000</td>\n      <td>9.000000</td>\n      <td>40.000000</td>\n      <td>3900.000000</td>\n      <td>2.0</td>\n      <td>26.000000</td>\n      <td>...</td>\n      <td>3.000000</td>\n      <td>50.552578</td>\n      <td>21.705502</td>\n      <td>111.052168</td>\n      <td>26.323443</td>\n      <td>63.447832</td>\n      <td>73.676557</td>\n      <td>174.500000</td>\n      <td>100.000000</td>\n      <td>1.0</td>\n    </tr>\n    <tr>\n      <th>3</th>\n      <td>7.330000</td>\n      <td>2.720000</td>\n      <td>5.700000</td>\n      <td>-4.000000</td>\n      <td>10.000000</td>\n      <td>10.000000</td>\n      <td>39.000000</td>\n      <td>2740.000000</td>\n      <td>1.0</td>\n      <td>24.000000</td>\n      <td>...</td>\n      <td>6.000000</td>\n      <td>24.087743</td>\n      <td>30.393657</td>\n      <td>136.057873</td>\n      <td>37.570082</td>\n      <td>30.692127</td>\n      <td>62.429918</td>\n      <td>166.750000</td>\n      <td>100.000000</td>\n      <td>1.0</td>\n    </tr>\n    <tr>\n      <th>4</th>\n      <td>7.300000</td>\n      <td>5.190000</td>\n      <td>5.500000</td>\n      <td>-6.400000</td>\n      <td>8.000000</td>\n      <td>9.000000</td>\n      <td>41.000000</td>\n      <td>3370.000000</td>\n      <td>1.0</td>\n      <td>36.000000</td>\n      <td>...</td>\n      <td>14.000000</td>\n      <td>51.581668</td>\n      <td>16.210997</td>\n      <td>105.951334</td>\n      <td>22.315540</td>\n      <td>123.048666</td>\n      <td>100.684460</td>\n      <td>229.000000</td>\n      <td>123.000000</td>\n      <td>1.0</td>\n    </tr>\n    <tr>\n      <th>...</th>\n      <td>...</td>\n      <td>...</td>\n      <td>...</td>\n      <td>...</td>\n      <td>...</td>\n      <td>...</td>\n      <td>...</td>\n      <td>...</td>\n      <td>...</td>\n      <td>...</td>\n      <td>...</td>\n      <td>...</td>\n      <td>...</td>\n      <td>...</td>\n      <td>...</td>\n      <td>...</td>\n      <td>...</td>\n      <td>...</td>\n      <td>...</td>\n      <td>...</td>\n      <td>...</td>\n    </tr>\n    <tr>\n      <th>970</th>\n      <td>7.277141</td>\n      <td>4.170062</td>\n      <td>6.214293</td>\n      <td>-5.257210</td>\n      <td>8.285658</td>\n      <td>8.714244</td>\n      <td>39.571415</td>\n      <td>4014.282925</td>\n      <td>1.0</td>\n      <td>29.714146</td>\n      <td>...</td>\n      <td>13.642683</td>\n      <td>66.832155</td>\n      <td>15.123756</td>\n      <td>113.061862</td>\n      <td>21.790416</td>\n      <td>87.081041</td>\n      <td>69.994656</td>\n      <td>200.142902</td>\n      <td>91.785073</td>\n      <td>0.0</td>\n    </tr>\n    <tr>\n      <th>971</th>\n      <td>7.293675</td>\n      <td>3.440918</td>\n      <td>6.131623</td>\n      <td>-4.463584</td>\n      <td>8.947013</td>\n      <td>9.210260</td>\n      <td>39.736753</td>\n      <td>4047.350650</td>\n      <td>1.0</td>\n      <td>31.367533</td>\n      <td>...</td>\n      <td>15.709416</td>\n      <td>62.646109</td>\n      <td>17.396235</td>\n      <td>103.455788</td>\n      <td>25.123933</td>\n      <td>96.149764</td>\n      <td>74.266717</td>\n      <td>199.605552</td>\n      <td>99.390650</td>\n      <td>0.0</td>\n    </tr>\n    <tr>\n      <th>972</th>\n      <td>7.230459</td>\n      <td>4.115599</td>\n      <td>7.287158</td>\n      <td>-5.830279</td>\n      <td>9.440366</td>\n      <td>10.000000</td>\n      <td>40.559634</td>\n      <td>4038.440290</td>\n      <td>1.0</td>\n      <td>32.880733</td>\n      <td>...</td>\n      <td>15.922014</td>\n      <td>64.310246</td>\n      <td>18.569339</td>\n      <td>110.321673</td>\n      <td>26.431828</td>\n      <td>76.815927</td>\n      <td>77.513116</td>\n      <td>187.137600</td>\n      <td>103.944945</td>\n      <td>0.0</td>\n    </tr>\n    <tr>\n      <th>973</th>\n      <td>7.233021</td>\n      <td>6.115778</td>\n      <td>6.434896</td>\n      <td>-7.374997</td>\n      <td>6.520836</td>\n      <td>7.390627</td>\n      <td>39.130209</td>\n      <td>3926.041797</td>\n      <td>1.0</td>\n      <td>25.302090</td>\n      <td>...</td>\n      <td>8.127612</td>\n      <td>78.002607</td>\n      <td>9.059652</td>\n      <td>138.695641</td>\n      <td>12.894938</td>\n      <td>62.881180</td>\n      <td>58.594676</td>\n      <td>201.576821</td>\n      <td>71.489613</td>\n      <td>0.0</td>\n    </tr>\n    <tr>\n      <th>974</th>\n      <td>7.281683</td>\n      <td>3.969773</td>\n      <td>6.191584</td>\n      <td>-5.039209</td>\n      <td>8.467326</td>\n      <td>8.850495</td>\n      <td>39.616832</td>\n      <td>4023.366301</td>\n      <td>1.0</td>\n      <td>30.168315</td>\n      <td>...</td>\n      <td>14.210394</td>\n      <td>65.682290</td>\n      <td>15.747983</td>\n      <td>110.423169</td>\n      <td>22.706100</td>\n      <td>89.572129</td>\n      <td>71.168149</td>\n      <td>199.995298</td>\n      <td>93.874249</td>\n      <td>0.0</td>\n    </tr>\n  </tbody>\n</table>\n<p>975 rows × 42 columns</p>\n</div>"
     },
     "metadata": {},
     "execution_count": 5
    }
   ],
   "source": [
    "df"
   ]
  },
  {
   "cell_type": "code",
   "execution_count": 6,
   "metadata": {},
   "outputs": [
    {
     "output_type": "execute_result",
     "data": {
      "text/plain": [
       "Index(['pH', 'BDecf', 'pCO2', 'BE', 'Apgar1', 'Apgar5', 'Gest. Weeks',\n",
       "       'Weight(g)', 'Sex', 'Age', 'Gravidity', 'Parity', 'Diabetes',\n",
       "       'Hypertension', 'Preeclampsia', 'Liq.', 'Pyrexia', 'Meconium',\n",
       "       'Presentation', 'Induced', 'I.stage', 'NoProgress', 'CK/KP', 'II.stage',\n",
       "       'Deliv. type', 'dbID', 'Rec. type', 'Pos. II.st.', 'Sig2Birth',\n",
       "       'Mean_FHR', 'Mean_UC', 'Median_FHR', 'Median_UC', 'Std_FHR', 'Std_UC',\n",
       "       'RMS_FHR', 'RMS_UC', 'Peak_to_RMS_FHR', 'Peak_to_RMS_UC', 'Peak_FHR',\n",
       "       'Peak_UC', 'target'],\n",
       "      dtype='object')"
      ]
     },
     "metadata": {},
     "execution_count": 6
    }
   ],
   "source": [
    "df.columns"
   ]
  },
  {
   "source": [
    "# Feature Engineering"
   ],
   "cell_type": "markdown",
   "metadata": {}
  },
  {
   "cell_type": "code",
   "execution_count": 7,
   "metadata": {},
   "outputs": [],
   "source": [
    "def f(x):\n",
    "    if 6.5<x<=10:\n",
    "        return  'Excellent'\n",
    "    elif 4<x<=6.5:\n",
    "        return 'ModeratelyAbnormal'\n",
    "    elif x<=4:\n",
    "        return 'Attention'\n",
    "\n",
    "df['Apgar1'] = df['Apgar1'].apply(lambda x: f(x))"
   ]
  },
  {
   "cell_type": "code",
   "execution_count": 8,
   "metadata": {},
   "outputs": [],
   "source": [
    "df['Apgar5'] = df['Apgar5'].apply(lambda x: f(x))"
   ]
  },
  {
   "cell_type": "code",
   "execution_count": 9,
   "metadata": {},
   "outputs": [
    {
     "output_type": "execute_result",
     "data": {
      "text/plain": [
       "Excellent             901\n",
       "ModeratelyAbnormal     47\n",
       "Attention              27\n",
       "Name: Apgar1, dtype: int64"
      ]
     },
     "metadata": {},
     "execution_count": 9
    }
   ],
   "source": [
    "df.Apgar1.value_counts()"
   ]
  },
  {
   "cell_type": "code",
   "execution_count": 10,
   "metadata": {},
   "outputs": [
    {
     "output_type": "execute_result",
     "data": {
      "text/plain": [
       "Excellent             957\n",
       "ModeratelyAbnormal     15\n",
       "Attention               3\n",
       "Name: Apgar5, dtype: int64"
      ]
     },
     "metadata": {},
     "execution_count": 10
    }
   ],
   "source": [
    "df.Apgar5.value_counts()"
   ]
  },
  {
   "cell_type": "code",
   "execution_count": 11,
   "metadata": {},
   "outputs": [
    {
     "output_type": "execute_result",
     "data": {
      "text/plain": [
       "1.0    488\n",
       "0.0    487\n",
       "Name: target, dtype: int64"
      ]
     },
     "metadata": {},
     "execution_count": 11
    }
   ],
   "source": [
    "df.target.value_counts()"
   ]
  },
  {
   "cell_type": "code",
   "execution_count": 12,
   "metadata": {},
   "outputs": [
    {
     "output_type": "execute_result",
     "data": {
      "text/plain": [
       "         pH     BDecf      pCO2        BE     Apgar1     Apgar5  Gest. Weeks  \\\n",
       "0    Normal  3.520000  6.000000 -4.700000  Excellent  Excellent    42.000000   \n",
       "1    Normal  2.500000  6.500000 -4.200000  Excellent  Excellent    41.000000   \n",
       "2    Normal  5.840000  6.600000 -7.400000  Excellent  Excellent    40.000000   \n",
       "3    Normal  2.720000  5.700000 -4.000000  Excellent  Excellent    39.000000   \n",
       "4    Normal  5.190000  5.500000 -6.400000  Excellent  Excellent    41.000000   \n",
       "..      ...       ...       ...       ...        ...        ...          ...   \n",
       "970  Normal  4.170062  6.214293 -5.257210  Excellent  Excellent    39.571415   \n",
       "971  Normal  3.440918  6.131623 -4.463584  Excellent  Excellent    39.736753   \n",
       "972  Normal  4.115599  7.287158 -5.830279  Excellent  Excellent    40.559634   \n",
       "973  Normal  6.115778  6.434896 -7.374997  Excellent  Excellent    39.130209   \n",
       "974  Normal  3.969773  6.191584 -5.039209  Excellent  Excellent    39.616832   \n",
       "\n",
       "       Weight(g)  Sex        Age  ...  Median_UC    Std_FHR     Std_UC  \\\n",
       "0    3100.000000  2.0  34.000000  ...  23.000000  55.948729  21.970835   \n",
       "1    3200.000000  1.0  29.000000  ...  20.500000  50.734943  24.685834   \n",
       "2    3900.000000  2.0  26.000000  ...   3.000000  50.552578  21.705502   \n",
       "3    2740.000000  1.0  24.000000  ...   6.000000  24.087743  30.393657   \n",
       "4    3370.000000  1.0  36.000000  ...  14.000000  51.581668  16.210997   \n",
       "..           ...  ...        ...  ...        ...        ...        ...   \n",
       "970  4014.282925  1.0  29.714146  ...  13.642683  66.832155  15.123756   \n",
       "971  4047.350650  1.0  31.367533  ...  15.709416  62.646109  17.396235   \n",
       "972  4038.440290  1.0  32.880733  ...  15.922014  64.310246  18.569339   \n",
       "973  3926.041797  1.0  25.302090  ...   8.127612  78.002607   9.059652   \n",
       "974  4023.366301  1.0  30.168315  ...  14.210394  65.682290  15.747983   \n",
       "\n",
       "        RMS_FHR     RMS_UC  Peak_to_RMS_FHR  Peak_to_RMS_UC    Peak_FHR  \\\n",
       "0    125.822264  33.143752        67.177736       93.856248  193.000000   \n",
       "1    140.395307  34.975993        83.604693       92.024007  224.000000   \n",
       "2    111.052168  26.323443        63.447832       73.676557  174.500000   \n",
       "3    136.057873  37.570082        30.692127       62.429918  166.750000   \n",
       "4    105.951334  22.315540       123.048666      100.684460  229.000000   \n",
       "..          ...        ...              ...             ...         ...   \n",
       "970  113.061862  21.790416        87.081041       69.994656  200.142902   \n",
       "971  103.455788  25.123933        96.149764       74.266717  199.605552   \n",
       "972  110.321673  26.431828        76.815927       77.513116  187.137600   \n",
       "973  138.695641  12.894938        62.881180       58.594676  201.576821   \n",
       "974  110.423169  22.706100        89.572129       71.168149  199.995298   \n",
       "\n",
       "        Peak_UC  target  \n",
       "0    127.000000     1.0  \n",
       "1    127.000000     1.0  \n",
       "2    100.000000     1.0  \n",
       "3    100.000000     1.0  \n",
       "4    123.000000     1.0  \n",
       "..          ...     ...  \n",
       "970   91.785073     0.0  \n",
       "971   99.390650     0.0  \n",
       "972  103.944945     0.0  \n",
       "973   71.489613     0.0  \n",
       "974   93.874249     0.0  \n",
       "\n",
       "[975 rows x 42 columns]"
      ],
      "text/html": "<div>\n<style scoped>\n    .dataframe tbody tr th:only-of-type {\n        vertical-align: middle;\n    }\n\n    .dataframe tbody tr th {\n        vertical-align: top;\n    }\n\n    .dataframe thead th {\n        text-align: right;\n    }\n</style>\n<table border=\"1\" class=\"dataframe\">\n  <thead>\n    <tr style=\"text-align: right;\">\n      <th></th>\n      <th>pH</th>\n      <th>BDecf</th>\n      <th>pCO2</th>\n      <th>BE</th>\n      <th>Apgar1</th>\n      <th>Apgar5</th>\n      <th>Gest. Weeks</th>\n      <th>Weight(g)</th>\n      <th>Sex</th>\n      <th>Age</th>\n      <th>...</th>\n      <th>Median_UC</th>\n      <th>Std_FHR</th>\n      <th>Std_UC</th>\n      <th>RMS_FHR</th>\n      <th>RMS_UC</th>\n      <th>Peak_to_RMS_FHR</th>\n      <th>Peak_to_RMS_UC</th>\n      <th>Peak_FHR</th>\n      <th>Peak_UC</th>\n      <th>target</th>\n    </tr>\n  </thead>\n  <tbody>\n    <tr>\n      <th>0</th>\n      <td>Normal</td>\n      <td>3.520000</td>\n      <td>6.000000</td>\n      <td>-4.700000</td>\n      <td>Excellent</td>\n      <td>Excellent</td>\n      <td>42.000000</td>\n      <td>3100.000000</td>\n      <td>2.0</td>\n      <td>34.000000</td>\n      <td>...</td>\n      <td>23.000000</td>\n      <td>55.948729</td>\n      <td>21.970835</td>\n      <td>125.822264</td>\n      <td>33.143752</td>\n      <td>67.177736</td>\n      <td>93.856248</td>\n      <td>193.000000</td>\n      <td>127.000000</td>\n      <td>1.0</td>\n    </tr>\n    <tr>\n      <th>1</th>\n      <td>Normal</td>\n      <td>2.500000</td>\n      <td>6.500000</td>\n      <td>-4.200000</td>\n      <td>Excellent</td>\n      <td>Excellent</td>\n      <td>41.000000</td>\n      <td>3200.000000</td>\n      <td>1.0</td>\n      <td>29.000000</td>\n      <td>...</td>\n      <td>20.500000</td>\n      <td>50.734943</td>\n      <td>24.685834</td>\n      <td>140.395307</td>\n      <td>34.975993</td>\n      <td>83.604693</td>\n      <td>92.024007</td>\n      <td>224.000000</td>\n      <td>127.000000</td>\n      <td>1.0</td>\n    </tr>\n    <tr>\n      <th>2</th>\n      <td>Normal</td>\n      <td>5.840000</td>\n      <td>6.600000</td>\n      <td>-7.400000</td>\n      <td>Excellent</td>\n      <td>Excellent</td>\n      <td>40.000000</td>\n      <td>3900.000000</td>\n      <td>2.0</td>\n      <td>26.000000</td>\n      <td>...</td>\n      <td>3.000000</td>\n      <td>50.552578</td>\n      <td>21.705502</td>\n      <td>111.052168</td>\n      <td>26.323443</td>\n      <td>63.447832</td>\n      <td>73.676557</td>\n      <td>174.500000</td>\n      <td>100.000000</td>\n      <td>1.0</td>\n    </tr>\n    <tr>\n      <th>3</th>\n      <td>Normal</td>\n      <td>2.720000</td>\n      <td>5.700000</td>\n      <td>-4.000000</td>\n      <td>Excellent</td>\n      <td>Excellent</td>\n      <td>39.000000</td>\n      <td>2740.000000</td>\n      <td>1.0</td>\n      <td>24.000000</td>\n      <td>...</td>\n      <td>6.000000</td>\n      <td>24.087743</td>\n      <td>30.393657</td>\n      <td>136.057873</td>\n      <td>37.570082</td>\n      <td>30.692127</td>\n      <td>62.429918</td>\n      <td>166.750000</td>\n      <td>100.000000</td>\n      <td>1.0</td>\n    </tr>\n    <tr>\n      <th>4</th>\n      <td>Normal</td>\n      <td>5.190000</td>\n      <td>5.500000</td>\n      <td>-6.400000</td>\n      <td>Excellent</td>\n      <td>Excellent</td>\n      <td>41.000000</td>\n      <td>3370.000000</td>\n      <td>1.0</td>\n      <td>36.000000</td>\n      <td>...</td>\n      <td>14.000000</td>\n      <td>51.581668</td>\n      <td>16.210997</td>\n      <td>105.951334</td>\n      <td>22.315540</td>\n      <td>123.048666</td>\n      <td>100.684460</td>\n      <td>229.000000</td>\n      <td>123.000000</td>\n      <td>1.0</td>\n    </tr>\n    <tr>\n      <th>...</th>\n      <td>...</td>\n      <td>...</td>\n      <td>...</td>\n      <td>...</td>\n      <td>...</td>\n      <td>...</td>\n      <td>...</td>\n      <td>...</td>\n      <td>...</td>\n      <td>...</td>\n      <td>...</td>\n      <td>...</td>\n      <td>...</td>\n      <td>...</td>\n      <td>...</td>\n      <td>...</td>\n      <td>...</td>\n      <td>...</td>\n      <td>...</td>\n      <td>...</td>\n      <td>...</td>\n    </tr>\n    <tr>\n      <th>970</th>\n      <td>Normal</td>\n      <td>4.170062</td>\n      <td>6.214293</td>\n      <td>-5.257210</td>\n      <td>Excellent</td>\n      <td>Excellent</td>\n      <td>39.571415</td>\n      <td>4014.282925</td>\n      <td>1.0</td>\n      <td>29.714146</td>\n      <td>...</td>\n      <td>13.642683</td>\n      <td>66.832155</td>\n      <td>15.123756</td>\n      <td>113.061862</td>\n      <td>21.790416</td>\n      <td>87.081041</td>\n      <td>69.994656</td>\n      <td>200.142902</td>\n      <td>91.785073</td>\n      <td>0.0</td>\n    </tr>\n    <tr>\n      <th>971</th>\n      <td>Normal</td>\n      <td>3.440918</td>\n      <td>6.131623</td>\n      <td>-4.463584</td>\n      <td>Excellent</td>\n      <td>Excellent</td>\n      <td>39.736753</td>\n      <td>4047.350650</td>\n      <td>1.0</td>\n      <td>31.367533</td>\n      <td>...</td>\n      <td>15.709416</td>\n      <td>62.646109</td>\n      <td>17.396235</td>\n      <td>103.455788</td>\n      <td>25.123933</td>\n      <td>96.149764</td>\n      <td>74.266717</td>\n      <td>199.605552</td>\n      <td>99.390650</td>\n      <td>0.0</td>\n    </tr>\n    <tr>\n      <th>972</th>\n      <td>Normal</td>\n      <td>4.115599</td>\n      <td>7.287158</td>\n      <td>-5.830279</td>\n      <td>Excellent</td>\n      <td>Excellent</td>\n      <td>40.559634</td>\n      <td>4038.440290</td>\n      <td>1.0</td>\n      <td>32.880733</td>\n      <td>...</td>\n      <td>15.922014</td>\n      <td>64.310246</td>\n      <td>18.569339</td>\n      <td>110.321673</td>\n      <td>26.431828</td>\n      <td>76.815927</td>\n      <td>77.513116</td>\n      <td>187.137600</td>\n      <td>103.944945</td>\n      <td>0.0</td>\n    </tr>\n    <tr>\n      <th>973</th>\n      <td>Normal</td>\n      <td>6.115778</td>\n      <td>6.434896</td>\n      <td>-7.374997</td>\n      <td>Excellent</td>\n      <td>Excellent</td>\n      <td>39.130209</td>\n      <td>3926.041797</td>\n      <td>1.0</td>\n      <td>25.302090</td>\n      <td>...</td>\n      <td>8.127612</td>\n      <td>78.002607</td>\n      <td>9.059652</td>\n      <td>138.695641</td>\n      <td>12.894938</td>\n      <td>62.881180</td>\n      <td>58.594676</td>\n      <td>201.576821</td>\n      <td>71.489613</td>\n      <td>0.0</td>\n    </tr>\n    <tr>\n      <th>974</th>\n      <td>Normal</td>\n      <td>3.969773</td>\n      <td>6.191584</td>\n      <td>-5.039209</td>\n      <td>Excellent</td>\n      <td>Excellent</td>\n      <td>39.616832</td>\n      <td>4023.366301</td>\n      <td>1.0</td>\n      <td>30.168315</td>\n      <td>...</td>\n      <td>14.210394</td>\n      <td>65.682290</td>\n      <td>15.747983</td>\n      <td>110.423169</td>\n      <td>22.706100</td>\n      <td>89.572129</td>\n      <td>71.168149</td>\n      <td>199.995298</td>\n      <td>93.874249</td>\n      <td>0.0</td>\n    </tr>\n  </tbody>\n</table>\n<p>975 rows × 42 columns</p>\n</div>"
     },
     "metadata": {},
     "execution_count": 12
    }
   ],
   "source": [
    "df['pH'] = df['pH'].apply(lambda x: 'Pathological' if x<=7.15 else 'Normal')\n",
    "df"
   ]
  },
  {
   "cell_type": "code",
   "execution_count": 13,
   "metadata": {},
   "outputs": [
    {
     "output_type": "execute_result",
     "data": {
      "text/plain": [
       "Normal          842\n",
       "Pathological    133\n",
       "Name: pH, dtype: int64"
      ]
     },
     "metadata": {},
     "execution_count": 13
    }
   ],
   "source": [
    "df.pH.value_counts()"
   ]
  },
  {
   "cell_type": "code",
   "execution_count": 14,
   "metadata": {},
   "outputs": [
    {
     "output_type": "execute_result",
     "data": {
      "text/plain": [
       "Index(['pH', 'BDecf', 'pCO2', 'BE', 'Apgar1', 'Apgar5', 'Gest. Weeks',\n",
       "       'Weight(g)', 'Sex', 'Age', 'Gravidity', 'Parity', 'Diabetes',\n",
       "       'Hypertension', 'Preeclampsia', 'Liq.', 'Pyrexia', 'Meconium',\n",
       "       'Presentation', 'Induced', 'I.stage', 'NoProgress', 'CK/KP', 'II.stage',\n",
       "       'Deliv. type', 'dbID', 'Rec. type', 'Pos. II.st.', 'Sig2Birth',\n",
       "       'Mean_FHR', 'Mean_UC', 'Median_FHR', 'Median_UC', 'Std_FHR', 'Std_UC',\n",
       "       'RMS_FHR', 'RMS_UC', 'Peak_to_RMS_FHR', 'Peak_to_RMS_UC', 'Peak_FHR',\n",
       "       'Peak_UC', 'target'],\n",
       "      dtype='object')"
      ]
     },
     "metadata": {},
     "execution_count": 14
    }
   ],
   "source": [
    "df.columns"
   ]
  },
  {
   "cell_type": "code",
   "execution_count": 15,
   "metadata": {},
   "outputs": [
    {
     "output_type": "execute_result",
     "data": {
      "text/plain": [
       "20"
      ]
     },
     "metadata": {},
     "execution_count": 15
    }
   ],
   "source": [
    "pd.get_option(\"display.max_columns\")"
   ]
  },
  {
   "cell_type": "code",
   "execution_count": 16,
   "metadata": {},
   "outputs": [
    {
     "output_type": "execute_result",
     "data": {
      "text/plain": [
       "         pH     BDecf      pCO2        BE     Apgar1     Apgar5  Gest. Weeks  \\\n",
       "0    Normal  3.520000  6.000000 -4.700000  Excellent  Excellent    42.000000   \n",
       "1    Normal  2.500000  6.500000 -4.200000  Excellent  Excellent    41.000000   \n",
       "2    Normal  5.840000  6.600000 -7.400000  Excellent  Excellent    40.000000   \n",
       "3    Normal  2.720000  5.700000 -4.000000  Excellent  Excellent    39.000000   \n",
       "4    Normal  5.190000  5.500000 -6.400000  Excellent  Excellent    41.000000   \n",
       "..      ...       ...       ...       ...        ...        ...          ...   \n",
       "970  Normal  4.170062  6.214293 -5.257210  Excellent  Excellent    39.571415   \n",
       "971  Normal  3.440918  6.131623 -4.463584  Excellent  Excellent    39.736753   \n",
       "972  Normal  4.115599  7.287158 -5.830279  Excellent  Excellent    40.559634   \n",
       "973  Normal  6.115778  6.434896 -7.374997  Excellent  Excellent    39.130209   \n",
       "974  Normal  3.969773  6.191584 -5.039209  Excellent  Excellent    39.616832   \n",
       "\n",
       "       Weight(g)  Sex        Age  ...  Median_UC    Std_FHR     Std_UC  \\\n",
       "0    3100.000000  2.0  34.000000  ...  23.000000  55.948729  21.970835   \n",
       "1    3200.000000  1.0  29.000000  ...  20.500000  50.734943  24.685834   \n",
       "2    3900.000000  2.0  26.000000  ...   3.000000  50.552578  21.705502   \n",
       "3    2740.000000  1.0  24.000000  ...   6.000000  24.087743  30.393657   \n",
       "4    3370.000000  1.0  36.000000  ...  14.000000  51.581668  16.210997   \n",
       "..           ...  ...        ...  ...        ...        ...        ...   \n",
       "970  4014.282925  1.0  29.714146  ...  13.642683  66.832155  15.123756   \n",
       "971  4047.350650  1.0  31.367533  ...  15.709416  62.646109  17.396235   \n",
       "972  4038.440290  1.0  32.880733  ...  15.922014  64.310246  18.569339   \n",
       "973  3926.041797  1.0  25.302090  ...   8.127612  78.002607   9.059652   \n",
       "974  4023.366301  1.0  30.168315  ...  14.210394  65.682290  15.747983   \n",
       "\n",
       "        RMS_FHR     RMS_UC  Peak_to_RMS_FHR  Peak_to_RMS_UC    Peak_FHR  \\\n",
       "0    125.822264  33.143752        67.177736       93.856248  193.000000   \n",
       "1    140.395307  34.975993        83.604693       92.024007  224.000000   \n",
       "2    111.052168  26.323443        63.447832       73.676557  174.500000   \n",
       "3    136.057873  37.570082        30.692127       62.429918  166.750000   \n",
       "4    105.951334  22.315540       123.048666      100.684460  229.000000   \n",
       "..          ...        ...              ...             ...         ...   \n",
       "970  113.061862  21.790416        87.081041       69.994656  200.142902   \n",
       "971  103.455788  25.123933        96.149764       74.266717  199.605552   \n",
       "972  110.321673  26.431828        76.815927       77.513116  187.137600   \n",
       "973  138.695641  12.894938        62.881180       58.594676  201.576821   \n",
       "974  110.423169  22.706100        89.572129       71.168149  199.995298   \n",
       "\n",
       "        Peak_UC  target  \n",
       "0    127.000000     1.0  \n",
       "1    127.000000     1.0  \n",
       "2    100.000000     1.0  \n",
       "3    100.000000     1.0  \n",
       "4    123.000000     1.0  \n",
       "..          ...     ...  \n",
       "970   91.785073     0.0  \n",
       "971   99.390650     0.0  \n",
       "972  103.944945     0.0  \n",
       "973   71.489613     0.0  \n",
       "974   93.874249     0.0  \n",
       "\n",
       "[975 rows x 42 columns]"
      ],
      "text/html": "<div>\n<style scoped>\n    .dataframe tbody tr th:only-of-type {\n        vertical-align: middle;\n    }\n\n    .dataframe tbody tr th {\n        vertical-align: top;\n    }\n\n    .dataframe thead th {\n        text-align: right;\n    }\n</style>\n<table border=\"1\" class=\"dataframe\">\n  <thead>\n    <tr style=\"text-align: right;\">\n      <th></th>\n      <th>pH</th>\n      <th>BDecf</th>\n      <th>pCO2</th>\n      <th>BE</th>\n      <th>Apgar1</th>\n      <th>Apgar5</th>\n      <th>Gest. Weeks</th>\n      <th>Weight(g)</th>\n      <th>Sex</th>\n      <th>Age</th>\n      <th>...</th>\n      <th>Median_UC</th>\n      <th>Std_FHR</th>\n      <th>Std_UC</th>\n      <th>RMS_FHR</th>\n      <th>RMS_UC</th>\n      <th>Peak_to_RMS_FHR</th>\n      <th>Peak_to_RMS_UC</th>\n      <th>Peak_FHR</th>\n      <th>Peak_UC</th>\n      <th>target</th>\n    </tr>\n  </thead>\n  <tbody>\n    <tr>\n      <th>0</th>\n      <td>Normal</td>\n      <td>3.520000</td>\n      <td>6.000000</td>\n      <td>-4.700000</td>\n      <td>Excellent</td>\n      <td>Excellent</td>\n      <td>42.000000</td>\n      <td>3100.000000</td>\n      <td>2.0</td>\n      <td>34.000000</td>\n      <td>...</td>\n      <td>23.000000</td>\n      <td>55.948729</td>\n      <td>21.970835</td>\n      <td>125.822264</td>\n      <td>33.143752</td>\n      <td>67.177736</td>\n      <td>93.856248</td>\n      <td>193.000000</td>\n      <td>127.000000</td>\n      <td>1.0</td>\n    </tr>\n    <tr>\n      <th>1</th>\n      <td>Normal</td>\n      <td>2.500000</td>\n      <td>6.500000</td>\n      <td>-4.200000</td>\n      <td>Excellent</td>\n      <td>Excellent</td>\n      <td>41.000000</td>\n      <td>3200.000000</td>\n      <td>1.0</td>\n      <td>29.000000</td>\n      <td>...</td>\n      <td>20.500000</td>\n      <td>50.734943</td>\n      <td>24.685834</td>\n      <td>140.395307</td>\n      <td>34.975993</td>\n      <td>83.604693</td>\n      <td>92.024007</td>\n      <td>224.000000</td>\n      <td>127.000000</td>\n      <td>1.0</td>\n    </tr>\n    <tr>\n      <th>2</th>\n      <td>Normal</td>\n      <td>5.840000</td>\n      <td>6.600000</td>\n      <td>-7.400000</td>\n      <td>Excellent</td>\n      <td>Excellent</td>\n      <td>40.000000</td>\n      <td>3900.000000</td>\n      <td>2.0</td>\n      <td>26.000000</td>\n      <td>...</td>\n      <td>3.000000</td>\n      <td>50.552578</td>\n      <td>21.705502</td>\n      <td>111.052168</td>\n      <td>26.323443</td>\n      <td>63.447832</td>\n      <td>73.676557</td>\n      <td>174.500000</td>\n      <td>100.000000</td>\n      <td>1.0</td>\n    </tr>\n    <tr>\n      <th>3</th>\n      <td>Normal</td>\n      <td>2.720000</td>\n      <td>5.700000</td>\n      <td>-4.000000</td>\n      <td>Excellent</td>\n      <td>Excellent</td>\n      <td>39.000000</td>\n      <td>2740.000000</td>\n      <td>1.0</td>\n      <td>24.000000</td>\n      <td>...</td>\n      <td>6.000000</td>\n      <td>24.087743</td>\n      <td>30.393657</td>\n      <td>136.057873</td>\n      <td>37.570082</td>\n      <td>30.692127</td>\n      <td>62.429918</td>\n      <td>166.750000</td>\n      <td>100.000000</td>\n      <td>1.0</td>\n    </tr>\n    <tr>\n      <th>4</th>\n      <td>Normal</td>\n      <td>5.190000</td>\n      <td>5.500000</td>\n      <td>-6.400000</td>\n      <td>Excellent</td>\n      <td>Excellent</td>\n      <td>41.000000</td>\n      <td>3370.000000</td>\n      <td>1.0</td>\n      <td>36.000000</td>\n      <td>...</td>\n      <td>14.000000</td>\n      <td>51.581668</td>\n      <td>16.210997</td>\n      <td>105.951334</td>\n      <td>22.315540</td>\n      <td>123.048666</td>\n      <td>100.684460</td>\n      <td>229.000000</td>\n      <td>123.000000</td>\n      <td>1.0</td>\n    </tr>\n    <tr>\n      <th>...</th>\n      <td>...</td>\n      <td>...</td>\n      <td>...</td>\n      <td>...</td>\n      <td>...</td>\n      <td>...</td>\n      <td>...</td>\n      <td>...</td>\n      <td>...</td>\n      <td>...</td>\n      <td>...</td>\n      <td>...</td>\n      <td>...</td>\n      <td>...</td>\n      <td>...</td>\n      <td>...</td>\n      <td>...</td>\n      <td>...</td>\n      <td>...</td>\n      <td>...</td>\n      <td>...</td>\n    </tr>\n    <tr>\n      <th>970</th>\n      <td>Normal</td>\n      <td>4.170062</td>\n      <td>6.214293</td>\n      <td>-5.257210</td>\n      <td>Excellent</td>\n      <td>Excellent</td>\n      <td>39.571415</td>\n      <td>4014.282925</td>\n      <td>1.0</td>\n      <td>29.714146</td>\n      <td>...</td>\n      <td>13.642683</td>\n      <td>66.832155</td>\n      <td>15.123756</td>\n      <td>113.061862</td>\n      <td>21.790416</td>\n      <td>87.081041</td>\n      <td>69.994656</td>\n      <td>200.142902</td>\n      <td>91.785073</td>\n      <td>0.0</td>\n    </tr>\n    <tr>\n      <th>971</th>\n      <td>Normal</td>\n      <td>3.440918</td>\n      <td>6.131623</td>\n      <td>-4.463584</td>\n      <td>Excellent</td>\n      <td>Excellent</td>\n      <td>39.736753</td>\n      <td>4047.350650</td>\n      <td>1.0</td>\n      <td>31.367533</td>\n      <td>...</td>\n      <td>15.709416</td>\n      <td>62.646109</td>\n      <td>17.396235</td>\n      <td>103.455788</td>\n      <td>25.123933</td>\n      <td>96.149764</td>\n      <td>74.266717</td>\n      <td>199.605552</td>\n      <td>99.390650</td>\n      <td>0.0</td>\n    </tr>\n    <tr>\n      <th>972</th>\n      <td>Normal</td>\n      <td>4.115599</td>\n      <td>7.287158</td>\n      <td>-5.830279</td>\n      <td>Excellent</td>\n      <td>Excellent</td>\n      <td>40.559634</td>\n      <td>4038.440290</td>\n      <td>1.0</td>\n      <td>32.880733</td>\n      <td>...</td>\n      <td>15.922014</td>\n      <td>64.310246</td>\n      <td>18.569339</td>\n      <td>110.321673</td>\n      <td>26.431828</td>\n      <td>76.815927</td>\n      <td>77.513116</td>\n      <td>187.137600</td>\n      <td>103.944945</td>\n      <td>0.0</td>\n    </tr>\n    <tr>\n      <th>973</th>\n      <td>Normal</td>\n      <td>6.115778</td>\n      <td>6.434896</td>\n      <td>-7.374997</td>\n      <td>Excellent</td>\n      <td>Excellent</td>\n      <td>39.130209</td>\n      <td>3926.041797</td>\n      <td>1.0</td>\n      <td>25.302090</td>\n      <td>...</td>\n      <td>8.127612</td>\n      <td>78.002607</td>\n      <td>9.059652</td>\n      <td>138.695641</td>\n      <td>12.894938</td>\n      <td>62.881180</td>\n      <td>58.594676</td>\n      <td>201.576821</td>\n      <td>71.489613</td>\n      <td>0.0</td>\n    </tr>\n    <tr>\n      <th>974</th>\n      <td>Normal</td>\n      <td>3.969773</td>\n      <td>6.191584</td>\n      <td>-5.039209</td>\n      <td>Excellent</td>\n      <td>Excellent</td>\n      <td>39.616832</td>\n      <td>4023.366301</td>\n      <td>1.0</td>\n      <td>30.168315</td>\n      <td>...</td>\n      <td>14.210394</td>\n      <td>65.682290</td>\n      <td>15.747983</td>\n      <td>110.423169</td>\n      <td>22.706100</td>\n      <td>89.572129</td>\n      <td>71.168149</td>\n      <td>199.995298</td>\n      <td>93.874249</td>\n      <td>0.0</td>\n    </tr>\n  </tbody>\n</table>\n<p>975 rows × 42 columns</p>\n</div>"
     },
     "metadata": {},
     "execution_count": 16
    }
   ],
   "source": [
    "df"
   ]
  },
  {
   "cell_type": "code",
   "execution_count": 17,
   "metadata": {},
   "outputs": [
    {
     "output_type": "execute_result",
     "data": {
      "text/plain": [
       "(975, 42)"
      ]
     },
     "metadata": {},
     "execution_count": 17
    }
   ],
   "source": [
    "df.shape"
   ]
  },
  {
   "cell_type": "code",
   "execution_count": 18,
   "metadata": {},
   "outputs": [
    {
     "output_type": "execute_result",
     "data": {
      "text/plain": [
       "   BDecf  pCO2   BE  Gest. Weeks  Weight(g)  Sex   Age  Gravidity  Parity  \\\n",
       "0   3.52   6.0 -4.7         42.0     3100.0  2.0  34.0        2.0     2.0   \n",
       "1   2.50   6.5 -4.2         41.0     3200.0  1.0  29.0        1.0     0.0   \n",
       "2   5.84   6.6 -7.4         40.0     3900.0  2.0  26.0        1.0     0.0   \n",
       "3   2.72   5.7 -4.0         39.0     2740.0  1.0  24.0        1.0     1.0   \n",
       "4   5.19   5.5 -6.4         41.0     3370.0  1.0  36.0        1.0     0.0   \n",
       "\n",
       "   Diabetes  ...  Peak_UC  target  pH_Normal  pH_Pathological  \\\n",
       "0       0.0  ...    127.0     1.0          1                0   \n",
       "1       0.0  ...    127.0     1.0          1                0   \n",
       "2       0.0  ...    100.0     1.0          1                0   \n",
       "3       0.0  ...    100.0     1.0          1                0   \n",
       "4       0.0  ...    123.0     1.0          1                0   \n",
       "\n",
       "   Apgar1_Attention  Apgar1_Excellent  Apgar1_ModeratelyAbnormal  \\\n",
       "0                 0                 1                          0   \n",
       "1                 0                 1                          0   \n",
       "2                 0                 1                          0   \n",
       "3                 0                 1                          0   \n",
       "4                 0                 1                          0   \n",
       "\n",
       "   Apgar5_Attention  Apgar5_Excellent  Apgar5_ModeratelyAbnormal  \n",
       "0                 0                 1                          0  \n",
       "1                 0                 1                          0  \n",
       "2                 0                 1                          0  \n",
       "3                 0                 1                          0  \n",
       "4                 0                 1                          0  \n",
       "\n",
       "[5 rows x 47 columns]"
      ],
      "text/html": "<div>\n<style scoped>\n    .dataframe tbody tr th:only-of-type {\n        vertical-align: middle;\n    }\n\n    .dataframe tbody tr th {\n        vertical-align: top;\n    }\n\n    .dataframe thead th {\n        text-align: right;\n    }\n</style>\n<table border=\"1\" class=\"dataframe\">\n  <thead>\n    <tr style=\"text-align: right;\">\n      <th></th>\n      <th>BDecf</th>\n      <th>pCO2</th>\n      <th>BE</th>\n      <th>Gest. Weeks</th>\n      <th>Weight(g)</th>\n      <th>Sex</th>\n      <th>Age</th>\n      <th>Gravidity</th>\n      <th>Parity</th>\n      <th>Diabetes</th>\n      <th>...</th>\n      <th>Peak_UC</th>\n      <th>target</th>\n      <th>pH_Normal</th>\n      <th>pH_Pathological</th>\n      <th>Apgar1_Attention</th>\n      <th>Apgar1_Excellent</th>\n      <th>Apgar1_ModeratelyAbnormal</th>\n      <th>Apgar5_Attention</th>\n      <th>Apgar5_Excellent</th>\n      <th>Apgar5_ModeratelyAbnormal</th>\n    </tr>\n  </thead>\n  <tbody>\n    <tr>\n      <th>0</th>\n      <td>3.52</td>\n      <td>6.0</td>\n      <td>-4.7</td>\n      <td>42.0</td>\n      <td>3100.0</td>\n      <td>2.0</td>\n      <td>34.0</td>\n      <td>2.0</td>\n      <td>2.0</td>\n      <td>0.0</td>\n      <td>...</td>\n      <td>127.0</td>\n      <td>1.0</td>\n      <td>1</td>\n      <td>0</td>\n      <td>0</td>\n      <td>1</td>\n      <td>0</td>\n      <td>0</td>\n      <td>1</td>\n      <td>0</td>\n    </tr>\n    <tr>\n      <th>1</th>\n      <td>2.50</td>\n      <td>6.5</td>\n      <td>-4.2</td>\n      <td>41.0</td>\n      <td>3200.0</td>\n      <td>1.0</td>\n      <td>29.0</td>\n      <td>1.0</td>\n      <td>0.0</td>\n      <td>0.0</td>\n      <td>...</td>\n      <td>127.0</td>\n      <td>1.0</td>\n      <td>1</td>\n      <td>0</td>\n      <td>0</td>\n      <td>1</td>\n      <td>0</td>\n      <td>0</td>\n      <td>1</td>\n      <td>0</td>\n    </tr>\n    <tr>\n      <th>2</th>\n      <td>5.84</td>\n      <td>6.6</td>\n      <td>-7.4</td>\n      <td>40.0</td>\n      <td>3900.0</td>\n      <td>2.0</td>\n      <td>26.0</td>\n      <td>1.0</td>\n      <td>0.0</td>\n      <td>0.0</td>\n      <td>...</td>\n      <td>100.0</td>\n      <td>1.0</td>\n      <td>1</td>\n      <td>0</td>\n      <td>0</td>\n      <td>1</td>\n      <td>0</td>\n      <td>0</td>\n      <td>1</td>\n      <td>0</td>\n    </tr>\n    <tr>\n      <th>3</th>\n      <td>2.72</td>\n      <td>5.7</td>\n      <td>-4.0</td>\n      <td>39.0</td>\n      <td>2740.0</td>\n      <td>1.0</td>\n      <td>24.0</td>\n      <td>1.0</td>\n      <td>1.0</td>\n      <td>0.0</td>\n      <td>...</td>\n      <td>100.0</td>\n      <td>1.0</td>\n      <td>1</td>\n      <td>0</td>\n      <td>0</td>\n      <td>1</td>\n      <td>0</td>\n      <td>0</td>\n      <td>1</td>\n      <td>0</td>\n    </tr>\n    <tr>\n      <th>4</th>\n      <td>5.19</td>\n      <td>5.5</td>\n      <td>-6.4</td>\n      <td>41.0</td>\n      <td>3370.0</td>\n      <td>1.0</td>\n      <td>36.0</td>\n      <td>1.0</td>\n      <td>0.0</td>\n      <td>0.0</td>\n      <td>...</td>\n      <td>123.0</td>\n      <td>1.0</td>\n      <td>1</td>\n      <td>0</td>\n      <td>0</td>\n      <td>1</td>\n      <td>0</td>\n      <td>0</td>\n      <td>1</td>\n      <td>0</td>\n    </tr>\n  </tbody>\n</table>\n<p>5 rows × 47 columns</p>\n</div>"
     },
     "metadata": {},
     "execution_count": 18
    }
   ],
   "source": [
    "# one hot encoding\n",
    "dts = pd.get_dummies(df)\n",
    "dts.head()"
   ]
  },
  {
   "cell_type": "code",
   "execution_count": 19,
   "metadata": {},
   "outputs": [
    {
     "output_type": "execute_result",
     "data": {
      "text/plain": [
       "(975, 47)"
      ]
     },
     "metadata": {},
     "execution_count": 19
    }
   ],
   "source": [
    "dts.shape"
   ]
  },
  {
   "cell_type": "code",
   "execution_count": 20,
   "metadata": {},
   "outputs": [
    {
     "output_type": "execute_result",
     "data": {
      "text/plain": [
       "Index(['BDecf', 'pCO2', 'BE', 'Gest. Weeks', 'Weight(g)', 'Sex', 'Age',\n",
       "       'Gravidity', 'Parity', 'Diabetes', 'Hypertension', 'Preeclampsia',\n",
       "       'Liq.', 'Pyrexia', 'Meconium', 'Presentation', 'Induced', 'I.stage',\n",
       "       'NoProgress', 'CK/KP', 'II.stage', 'Deliv. type', 'dbID', 'Rec. type',\n",
       "       'Pos. II.st.', 'Sig2Birth', 'Mean_FHR', 'Mean_UC', 'Median_FHR',\n",
       "       'Median_UC', 'Std_FHR', 'Std_UC', 'RMS_FHR', 'RMS_UC',\n",
       "       'Peak_to_RMS_FHR', 'Peak_to_RMS_UC', 'Peak_FHR', 'Peak_UC', 'target',\n",
       "       'pH_Normal', 'pH_Pathological', 'Apgar1_Attention', 'Apgar1_Excellent',\n",
       "       'Apgar1_ModeratelyAbnormal', 'Apgar5_Attention', 'Apgar5_Excellent',\n",
       "       'Apgar5_ModeratelyAbnormal'],\n",
       "      dtype='object')"
      ]
     },
     "metadata": {},
     "execution_count": 20
    }
   ],
   "source": [
    "dts.columns"
   ]
  },
  {
   "source": [
    "#  Creating train and test set"
   ],
   "cell_type": "markdown",
   "metadata": {}
  },
  {
   "cell_type": "code",
   "execution_count": 21,
   "metadata": {},
   "outputs": [],
   "source": [
    "X = dts.drop('target', axis=1)\n",
    "y = dts['target']"
   ]
  },
  {
   "cell_type": "code",
   "execution_count": 22,
   "metadata": {},
   "outputs": [
    {
     "output_type": "execute_result",
     "data": {
      "text/plain": [
       "        BDecf      pCO2        BE  Gest. Weeks    Weight(g)  Sex        Age  \\\n",
       "0    3.520000  6.000000 -4.700000    42.000000  3100.000000  2.0  34.000000   \n",
       "1    2.500000  6.500000 -4.200000    41.000000  3200.000000  1.0  29.000000   \n",
       "2    5.840000  6.600000 -7.400000    40.000000  3900.000000  2.0  26.000000   \n",
       "3    2.720000  5.700000 -4.000000    39.000000  2740.000000  1.0  24.000000   \n",
       "4    5.190000  5.500000 -6.400000    41.000000  3370.000000  1.0  36.000000   \n",
       "..        ...       ...       ...          ...          ...  ...        ...   \n",
       "970  4.170062  6.214293 -5.257210    39.571415  4014.282925  1.0  29.714146   \n",
       "971  3.440918  6.131623 -4.463584    39.736753  4047.350650  1.0  31.367533   \n",
       "972  4.115599  7.287158 -5.830279    40.559634  4038.440290  1.0  32.880733   \n",
       "973  6.115778  6.434896 -7.374997    39.130209  3926.041797  1.0  25.302090   \n",
       "974  3.969773  6.191584 -5.039209    39.616832  4023.366301  1.0  30.168315   \n",
       "\n",
       "     Gravidity    Parity  Diabetes  ...    Peak_FHR     Peak_UC  pH_Normal  \\\n",
       "0     2.000000  2.000000       0.0  ...  193.000000  127.000000          1   \n",
       "1     1.000000  0.000000       0.0  ...  224.000000  127.000000          1   \n",
       "2     1.000000  0.000000       0.0  ...  174.500000  100.000000          1   \n",
       "3     1.000000  1.000000       0.0  ...  166.750000  100.000000          1   \n",
       "4     1.000000  0.000000       0.0  ...  229.000000  123.000000          1   \n",
       "..         ...       ...       ...  ...         ...         ...        ...   \n",
       "970   2.142829  1.142829       0.0  ...  200.142902   91.785073          1   \n",
       "971   2.473507  1.473507       0.0  ...  199.605552   99.390650          1   \n",
       "972   2.440366  1.440366       0.0  ...  187.137600  103.944945          1   \n",
       "973   1.260418  0.260418       0.0  ...  201.576821   71.489613          1   \n",
       "974   2.233663  1.233663       0.0  ...  199.995298   93.874249          1   \n",
       "\n",
       "     pH_Pathological  Apgar1_Attention  Apgar1_Excellent  \\\n",
       "0                  0                 0                 1   \n",
       "1                  0                 0                 1   \n",
       "2                  0                 0                 1   \n",
       "3                  0                 0                 1   \n",
       "4                  0                 0                 1   \n",
       "..               ...               ...               ...   \n",
       "970                0                 0                 1   \n",
       "971                0                 0                 1   \n",
       "972                0                 0                 1   \n",
       "973                0                 0                 1   \n",
       "974                0                 0                 1   \n",
       "\n",
       "     Apgar1_ModeratelyAbnormal  Apgar5_Attention  Apgar5_Excellent  \\\n",
       "0                            0                 0                 1   \n",
       "1                            0                 0                 1   \n",
       "2                            0                 0                 1   \n",
       "3                            0                 0                 1   \n",
       "4                            0                 0                 1   \n",
       "..                         ...               ...               ...   \n",
       "970                          0                 0                 1   \n",
       "971                          0                 0                 1   \n",
       "972                          0                 0                 1   \n",
       "973                          0                 0                 1   \n",
       "974                          0                 0                 1   \n",
       "\n",
       "     Apgar5_ModeratelyAbnormal  \n",
       "0                            0  \n",
       "1                            0  \n",
       "2                            0  \n",
       "3                            0  \n",
       "4                            0  \n",
       "..                         ...  \n",
       "970                          0  \n",
       "971                          0  \n",
       "972                          0  \n",
       "973                          0  \n",
       "974                          0  \n",
       "\n",
       "[975 rows x 46 columns]"
      ],
      "text/html": "<div>\n<style scoped>\n    .dataframe tbody tr th:only-of-type {\n        vertical-align: middle;\n    }\n\n    .dataframe tbody tr th {\n        vertical-align: top;\n    }\n\n    .dataframe thead th {\n        text-align: right;\n    }\n</style>\n<table border=\"1\" class=\"dataframe\">\n  <thead>\n    <tr style=\"text-align: right;\">\n      <th></th>\n      <th>BDecf</th>\n      <th>pCO2</th>\n      <th>BE</th>\n      <th>Gest. Weeks</th>\n      <th>Weight(g)</th>\n      <th>Sex</th>\n      <th>Age</th>\n      <th>Gravidity</th>\n      <th>Parity</th>\n      <th>Diabetes</th>\n      <th>...</th>\n      <th>Peak_FHR</th>\n      <th>Peak_UC</th>\n      <th>pH_Normal</th>\n      <th>pH_Pathological</th>\n      <th>Apgar1_Attention</th>\n      <th>Apgar1_Excellent</th>\n      <th>Apgar1_ModeratelyAbnormal</th>\n      <th>Apgar5_Attention</th>\n      <th>Apgar5_Excellent</th>\n      <th>Apgar5_ModeratelyAbnormal</th>\n    </tr>\n  </thead>\n  <tbody>\n    <tr>\n      <th>0</th>\n      <td>3.520000</td>\n      <td>6.000000</td>\n      <td>-4.700000</td>\n      <td>42.000000</td>\n      <td>3100.000000</td>\n      <td>2.0</td>\n      <td>34.000000</td>\n      <td>2.000000</td>\n      <td>2.000000</td>\n      <td>0.0</td>\n      <td>...</td>\n      <td>193.000000</td>\n      <td>127.000000</td>\n      <td>1</td>\n      <td>0</td>\n      <td>0</td>\n      <td>1</td>\n      <td>0</td>\n      <td>0</td>\n      <td>1</td>\n      <td>0</td>\n    </tr>\n    <tr>\n      <th>1</th>\n      <td>2.500000</td>\n      <td>6.500000</td>\n      <td>-4.200000</td>\n      <td>41.000000</td>\n      <td>3200.000000</td>\n      <td>1.0</td>\n      <td>29.000000</td>\n      <td>1.000000</td>\n      <td>0.000000</td>\n      <td>0.0</td>\n      <td>...</td>\n      <td>224.000000</td>\n      <td>127.000000</td>\n      <td>1</td>\n      <td>0</td>\n      <td>0</td>\n      <td>1</td>\n      <td>0</td>\n      <td>0</td>\n      <td>1</td>\n      <td>0</td>\n    </tr>\n    <tr>\n      <th>2</th>\n      <td>5.840000</td>\n      <td>6.600000</td>\n      <td>-7.400000</td>\n      <td>40.000000</td>\n      <td>3900.000000</td>\n      <td>2.0</td>\n      <td>26.000000</td>\n      <td>1.000000</td>\n      <td>0.000000</td>\n      <td>0.0</td>\n      <td>...</td>\n      <td>174.500000</td>\n      <td>100.000000</td>\n      <td>1</td>\n      <td>0</td>\n      <td>0</td>\n      <td>1</td>\n      <td>0</td>\n      <td>0</td>\n      <td>1</td>\n      <td>0</td>\n    </tr>\n    <tr>\n      <th>3</th>\n      <td>2.720000</td>\n      <td>5.700000</td>\n      <td>-4.000000</td>\n      <td>39.000000</td>\n      <td>2740.000000</td>\n      <td>1.0</td>\n      <td>24.000000</td>\n      <td>1.000000</td>\n      <td>1.000000</td>\n      <td>0.0</td>\n      <td>...</td>\n      <td>166.750000</td>\n      <td>100.000000</td>\n      <td>1</td>\n      <td>0</td>\n      <td>0</td>\n      <td>1</td>\n      <td>0</td>\n      <td>0</td>\n      <td>1</td>\n      <td>0</td>\n    </tr>\n    <tr>\n      <th>4</th>\n      <td>5.190000</td>\n      <td>5.500000</td>\n      <td>-6.400000</td>\n      <td>41.000000</td>\n      <td>3370.000000</td>\n      <td>1.0</td>\n      <td>36.000000</td>\n      <td>1.000000</td>\n      <td>0.000000</td>\n      <td>0.0</td>\n      <td>...</td>\n      <td>229.000000</td>\n      <td>123.000000</td>\n      <td>1</td>\n      <td>0</td>\n      <td>0</td>\n      <td>1</td>\n      <td>0</td>\n      <td>0</td>\n      <td>1</td>\n      <td>0</td>\n    </tr>\n    <tr>\n      <th>...</th>\n      <td>...</td>\n      <td>...</td>\n      <td>...</td>\n      <td>...</td>\n      <td>...</td>\n      <td>...</td>\n      <td>...</td>\n      <td>...</td>\n      <td>...</td>\n      <td>...</td>\n      <td>...</td>\n      <td>...</td>\n      <td>...</td>\n      <td>...</td>\n      <td>...</td>\n      <td>...</td>\n      <td>...</td>\n      <td>...</td>\n      <td>...</td>\n      <td>...</td>\n      <td>...</td>\n    </tr>\n    <tr>\n      <th>970</th>\n      <td>4.170062</td>\n      <td>6.214293</td>\n      <td>-5.257210</td>\n      <td>39.571415</td>\n      <td>4014.282925</td>\n      <td>1.0</td>\n      <td>29.714146</td>\n      <td>2.142829</td>\n      <td>1.142829</td>\n      <td>0.0</td>\n      <td>...</td>\n      <td>200.142902</td>\n      <td>91.785073</td>\n      <td>1</td>\n      <td>0</td>\n      <td>0</td>\n      <td>1</td>\n      <td>0</td>\n      <td>0</td>\n      <td>1</td>\n      <td>0</td>\n    </tr>\n    <tr>\n      <th>971</th>\n      <td>3.440918</td>\n      <td>6.131623</td>\n      <td>-4.463584</td>\n      <td>39.736753</td>\n      <td>4047.350650</td>\n      <td>1.0</td>\n      <td>31.367533</td>\n      <td>2.473507</td>\n      <td>1.473507</td>\n      <td>0.0</td>\n      <td>...</td>\n      <td>199.605552</td>\n      <td>99.390650</td>\n      <td>1</td>\n      <td>0</td>\n      <td>0</td>\n      <td>1</td>\n      <td>0</td>\n      <td>0</td>\n      <td>1</td>\n      <td>0</td>\n    </tr>\n    <tr>\n      <th>972</th>\n      <td>4.115599</td>\n      <td>7.287158</td>\n      <td>-5.830279</td>\n      <td>40.559634</td>\n      <td>4038.440290</td>\n      <td>1.0</td>\n      <td>32.880733</td>\n      <td>2.440366</td>\n      <td>1.440366</td>\n      <td>0.0</td>\n      <td>...</td>\n      <td>187.137600</td>\n      <td>103.944945</td>\n      <td>1</td>\n      <td>0</td>\n      <td>0</td>\n      <td>1</td>\n      <td>0</td>\n      <td>0</td>\n      <td>1</td>\n      <td>0</td>\n    </tr>\n    <tr>\n      <th>973</th>\n      <td>6.115778</td>\n      <td>6.434896</td>\n      <td>-7.374997</td>\n      <td>39.130209</td>\n      <td>3926.041797</td>\n      <td>1.0</td>\n      <td>25.302090</td>\n      <td>1.260418</td>\n      <td>0.260418</td>\n      <td>0.0</td>\n      <td>...</td>\n      <td>201.576821</td>\n      <td>71.489613</td>\n      <td>1</td>\n      <td>0</td>\n      <td>0</td>\n      <td>1</td>\n      <td>0</td>\n      <td>0</td>\n      <td>1</td>\n      <td>0</td>\n    </tr>\n    <tr>\n      <th>974</th>\n      <td>3.969773</td>\n      <td>6.191584</td>\n      <td>-5.039209</td>\n      <td>39.616832</td>\n      <td>4023.366301</td>\n      <td>1.0</td>\n      <td>30.168315</td>\n      <td>2.233663</td>\n      <td>1.233663</td>\n      <td>0.0</td>\n      <td>...</td>\n      <td>199.995298</td>\n      <td>93.874249</td>\n      <td>1</td>\n      <td>0</td>\n      <td>0</td>\n      <td>1</td>\n      <td>0</td>\n      <td>0</td>\n      <td>1</td>\n      <td>0</td>\n    </tr>\n  </tbody>\n</table>\n<p>975 rows × 46 columns</p>\n</div>"
     },
     "metadata": {},
     "execution_count": 22
    }
   ],
   "source": [
    "X"
   ]
  },
  {
   "cell_type": "code",
   "execution_count": 23,
   "metadata": {},
   "outputs": [
    {
     "output_type": "execute_result",
     "data": {
      "text/plain": [
       "0      1.0\n",
       "1      1.0\n",
       "2      1.0\n",
       "3      1.0\n",
       "4      1.0\n",
       "      ... \n",
       "970    0.0\n",
       "971    0.0\n",
       "972    0.0\n",
       "973    0.0\n",
       "974    0.0\n",
       "Name: target, Length: 975, dtype: float64"
      ]
     },
     "metadata": {},
     "execution_count": 23
    }
   ],
   "source": [
    "y"
   ]
  },
  {
   "cell_type": "code",
   "execution_count": 24,
   "metadata": {},
   "outputs": [
    {
     "output_type": "stream",
     "name": "stdout",
     "text": [
      "Training dataset len: 780, Test data len: 195\n"
     ]
    }
   ],
   "source": [
    "X_train, X_test, y_train, y_test = train_test_split(X, y, test_size = 0.20, random_state = 42)\n",
    "print('Training dataset len: {}, Test data len: {}'.format(X_train.shape[0], y_test.shape[0]))"
   ]
  },
  {
   "source": [
    "# Scaling values"
   ],
   "cell_type": "markdown",
   "metadata": {}
  },
  {
   "cell_type": "code",
   "execution_count": 25,
   "metadata": {},
   "outputs": [],
   "source": [
    "sc = StandardScaler()\n",
    "X_train = sc.fit_transform(X_train.values)"
   ]
  },
  {
   "cell_type": "code",
   "execution_count": 26,
   "metadata": {},
   "outputs": [],
   "source": [
    "X_test = sc.transform(X_test)"
   ]
  },
  {
   "source": [
    "# Model Training"
   ],
   "cell_type": "markdown",
   "metadata": {}
  },
  {
   "cell_type": "code",
   "execution_count": 27,
   "metadata": {},
   "outputs": [
    {
     "output_type": "stream",
     "name": "stdout",
     "text": [
      "[13:10:33] WARNING: ..\\src\\learner.cc:1061: Starting in XGBoost 1.3.0, the default evaluation metric used with the objective 'binary:logistic' was changed from 'error' to 'logloss'. Explicitly set eval_metric if you'd like to restore the old behavior.\n",
      "C:\\Users\\AnantGupta\\Anaconda3\\envs\\mainenv\\lib\\site-packages\\xgboost\\sklearn.py:888: UserWarning: The use of label encoder in XGBClassifier is deprecated and will be removed in a future release. To remove this warning, do the following: 1) Pass option use_label_encoder=False when constructing XGBClassifier object; and 2) Encode your labels (y) as integers starting with 0, i.e. 0, 1, 2, ..., [num_class - 1].\n",
      "  warnings.warn(label_encoder_deprecation_msg, UserWarning)\n"
     ]
    },
    {
     "output_type": "execute_result",
     "data": {
      "text/plain": [
       "XGBClassifier(base_score=0.5, booster='gbtree', colsample_bylevel=1,\n",
       "              colsample_bynode=1, colsample_bytree=1, gamma=0, gpu_id=-1,\n",
       "              importance_type='gain', interaction_constraints='',\n",
       "              learning_rate=0.300000012, max_delta_step=0, max_depth=6,\n",
       "              min_child_weight=1, missing=nan, monotone_constraints='()',\n",
       "              n_estimators=100, n_jobs=4, num_parallel_tree=1, random_state=0,\n",
       "              reg_alpha=0, reg_lambda=1, scale_pos_weight=1, subsample=1,\n",
       "              tree_method='exact', validate_parameters=1, verbosity=None)"
      ]
     },
     "metadata": {},
     "execution_count": 27
    }
   ],
   "source": [
    "model = XGBClassifier()\n",
    "model.fit(X_train, y_train)"
   ]
  },
  {
   "cell_type": "code",
   "execution_count": 28,
   "metadata": {},
   "outputs": [],
   "source": [
    "y_pred = model.predict(X_test)\n",
    "predictions = [round(value) for value in y_pred]"
   ]
  },
  {
   "cell_type": "code",
   "execution_count": 29,
   "metadata": {},
   "outputs": [
    {
     "output_type": "stream",
     "name": "stdout",
     "text": [
      "Accuracy: 95.38%\n"
     ]
    }
   ],
   "source": [
    "accuracy = accuracy_score(y_test, predictions)\n",
    "print(\"Accuracy: %.2f%%\" % (accuracy * 100.0))"
   ]
  },
  {
   "cell_type": "code",
   "execution_count": 30,
   "metadata": {},
   "outputs": [
    {
     "output_type": "stream",
     "name": "stdout",
     "text": [
      "Confusion matrix :- \n [[93  4]\n [ 5 93]]\nClassification Report :- \n               precision    recall  f1-score   support\n\n         0.0       0.95      0.96      0.95        97\n         1.0       0.96      0.95      0.95        98\n\n    accuracy                           0.95       195\n   macro avg       0.95      0.95      0.95       195\nweighted avg       0.95      0.95      0.95       195\n\n"
     ]
    }
   ],
   "source": [
    "print('Confusion matrix :- \\n',confusion_matrix(y_test, predictions))\n",
    "print(\"Classification Report :- \\n\",classification_report(y_test, predictions))"
   ]
  },
  {
   "cell_type": "code",
   "execution_count": 31,
   "metadata": {},
   "outputs": [
    {
     "output_type": "display_data",
     "data": {
      "text/plain": "<Figure size 1080x1080 with 1 Axes>",
      "image/svg+xml": "<?xml version=\"1.0\" encoding=\"utf-8\" standalone=\"no\"?>\r\n<!DOCTYPE svg PUBLIC \"-//W3C//DTD SVG 1.1//EN\"\r\n  \"http://www.w3.org/Graphics/SVG/1.1/DTD/svg11.dtd\">\r\n<!-- Created with matplotlib (https://matplotlib.org/) -->\r\n<svg height=\"875.274375pt\" version=\"1.1\" viewBox=\"0 0 888.323437 875.274375\" width=\"888.323437pt\" xmlns=\"http://www.w3.org/2000/svg\" xmlns:xlink=\"http://www.w3.org/1999/xlink\">\r\n <metadata>\r\n  <rdf:RDF xmlns:cc=\"http://creativecommons.org/ns#\" xmlns:dc=\"http://purl.org/dc/elements/1.1/\" xmlns:rdf=\"http://www.w3.org/1999/02/22-rdf-syntax-ns#\">\r\n   <cc:Work>\r\n    <dc:type rdf:resource=\"http://purl.org/dc/dcmitype/StillImage\"/>\r\n    <dc:date>2021-03-23T13:10:34.941244</dc:date>\r\n    <dc:format>image/svg+xml</dc:format>\r\n    <dc:creator>\r\n     <cc:Agent>\r\n      <dc:title>Matplotlib v3.3.4, https://matplotlib.org/</dc:title>\r\n     </cc:Agent>\r\n    </dc:creator>\r\n   </cc:Work>\r\n  </rdf:RDF>\r\n </metadata>\r\n <defs>\r\n  <style type=\"text/css\">*{stroke-linecap:butt;stroke-linejoin:round;}</style>\r\n </defs>\r\n <g id=\"figure_1\">\r\n  <g id=\"patch_1\">\r\n   <path d=\"M 0 875.274375 \r\nL 888.323437 875.274375 \r\nL 888.323437 0 \r\nL 0 0 \r\nz\r\n\" style=\"fill:none;\"/>\r\n  </g>\r\n  <g id=\"axes_1\">\r\n   <g id=\"patch_2\">\r\n    <path d=\"M 44.123438 837.718125 \r\nL 881.123438 837.718125 \r\nL 881.123438 22.318125 \r\nL 44.123438 22.318125 \r\nz\r\n\" style=\"fill:#ffffff;\"/>\r\n   </g>\r\n   <g id=\"patch_3\">\r\n    <path clip-path=\"url(#p80a356279d)\" d=\"M 44.123438 824.128125 \r\nL 57.24256 824.128125 \r\nL 57.24256 806.008125 \r\nL 44.123438 806.008125 \r\nz\r\n\" style=\"fill:#008000;\"/>\r\n   </g>\r\n   <g id=\"patch_4\">\r\n    <path clip-path=\"url(#p80a356279d)\" d=\"M 44.123438 801.478125 \r\nL 57.24256 801.478125 \r\nL 57.24256 783.358125 \r\nL 44.123438 783.358125 \r\nz\r\n\" style=\"fill:#008000;\"/>\r\n   </g>\r\n   <g id=\"patch_5\">\r\n    <path clip-path=\"url(#p80a356279d)\" d=\"M 44.123438 778.828125 \r\nL 57.24256 778.828125 \r\nL 57.24256 760.708125 \r\nL 44.123438 760.708125 \r\nz\r\n\" style=\"fill:#008000;\"/>\r\n   </g>\r\n   <g id=\"patch_6\">\r\n    <path clip-path=\"url(#p80a356279d)\" d=\"M 44.123438 756.178125 \r\nL 70.361682 756.178125 \r\nL 70.361682 738.058125 \r\nL 44.123438 738.058125 \r\nz\r\n\" style=\"fill:#008000;\"/>\r\n   </g>\r\n   <g id=\"patch_7\">\r\n    <path clip-path=\"url(#p80a356279d)\" d=\"M 44.123438 733.528125 \r\nL 70.361682 733.528125 \r\nL 70.361682 715.408125 \r\nL 44.123438 715.408125 \r\nz\r\n\" style=\"fill:#008000;\"/>\r\n   </g>\r\n   <g id=\"patch_8\">\r\n    <path clip-path=\"url(#p80a356279d)\" d=\"M 44.123438 710.878125 \r\nL 70.361682 710.878125 \r\nL 70.361682 692.758125 \r\nL 44.123438 692.758125 \r\nz\r\n\" style=\"fill:#008000;\"/>\r\n   </g>\r\n   <g id=\"patch_9\">\r\n    <path clip-path=\"url(#p80a356279d)\" d=\"M 44.123438 688.228125 \r\nL 83.480804 688.228125 \r\nL 83.480804 670.108125 \r\nL 44.123438 670.108125 \r\nz\r\n\" style=\"fill:#008000;\"/>\r\n   </g>\r\n   <g id=\"patch_10\">\r\n    <path clip-path=\"url(#p80a356279d)\" d=\"M 44.123438 665.578125 \r\nL 109.719049 665.578125 \r\nL 109.719049 647.458125 \r\nL 44.123438 647.458125 \r\nz\r\n\" style=\"fill:#008000;\"/>\r\n   </g>\r\n   <g id=\"patch_11\">\r\n    <path clip-path=\"url(#p80a356279d)\" d=\"M 44.123438 642.928125 \r\nL 122.838171 642.928125 \r\nL 122.838171 624.808125 \r\nL 44.123438 624.808125 \r\nz\r\n\" style=\"fill:#008000;\"/>\r\n   </g>\r\n   <g id=\"patch_12\">\r\n    <path clip-path=\"url(#p80a356279d)\" d=\"M 44.123438 620.278125 \r\nL 162.195538 620.278125 \r\nL 162.195538 602.158125 \r\nL 44.123438 602.158125 \r\nz\r\n\" style=\"fill:#008000;\"/>\r\n   </g>\r\n   <g id=\"patch_13\">\r\n    <path clip-path=\"url(#p80a356279d)\" d=\"M 44.123438 597.628125 \r\nL 162.195538 597.628125 \r\nL 162.195538 579.508125 \r\nL 44.123438 579.508125 \r\nz\r\n\" style=\"fill:#008000;\"/>\r\n   </g>\r\n   <g id=\"patch_14\">\r\n    <path clip-path=\"url(#p80a356279d)\" d=\"M 44.123438 574.978125 \r\nL 175.31466 574.978125 \r\nL 175.31466 556.858125 \r\nL 44.123438 556.858125 \r\nz\r\n\" style=\"fill:#008000;\"/>\r\n   </g>\r\n   <g id=\"patch_15\">\r\n    <path clip-path=\"url(#p80a356279d)\" d=\"M 44.123438 552.328125 \r\nL 175.31466 552.328125 \r\nL 175.31466 534.208125 \r\nL 44.123438 534.208125 \r\nz\r\n\" style=\"fill:#008000;\"/>\r\n   </g>\r\n   <g id=\"patch_16\">\r\n    <path clip-path=\"url(#p80a356279d)\" d=\"M 44.123438 529.678125 \r\nL 175.31466 529.678125 \r\nL 175.31466 511.558125 \r\nL 44.123438 511.558125 \r\nz\r\n\" style=\"fill:#008000;\"/>\r\n   </g>\r\n   <g id=\"patch_17\">\r\n    <path clip-path=\"url(#p80a356279d)\" d=\"M 44.123438 507.028125 \r\nL 188.433782 507.028125 \r\nL 188.433782 488.908125 \r\nL 44.123438 488.908125 \r\nz\r\n\" style=\"fill:#008000;\"/>\r\n   </g>\r\n   <g id=\"patch_18\">\r\n    <path clip-path=\"url(#p80a356279d)\" d=\"M 44.123438 484.378125 \r\nL 227.791149 484.378125 \r\nL 227.791149 466.258125 \r\nL 44.123438 466.258125 \r\nz\r\n\" style=\"fill:#008000;\"/>\r\n   </g>\r\n   <g id=\"patch_19\">\r\n    <path clip-path=\"url(#p80a356279d)\" d=\"M 44.123438 461.728125 \r\nL 227.791149 461.728125 \r\nL 227.791149 443.608125 \r\nL 44.123438 443.608125 \r\nz\r\n\" style=\"fill:#008000;\"/>\r\n   </g>\r\n   <g id=\"patch_20\">\r\n    <path clip-path=\"url(#p80a356279d)\" d=\"M 44.123438 439.078125 \r\nL 267.148516 439.078125 \r\nL 267.148516 420.958125 \r\nL 44.123438 420.958125 \r\nz\r\n\" style=\"fill:#008000;\"/>\r\n   </g>\r\n   <g id=\"patch_21\">\r\n    <path clip-path=\"url(#p80a356279d)\" d=\"M 44.123438 416.428125 \r\nL 306.505883 416.428125 \r\nL 306.505883 398.308125 \r\nL 44.123438 398.308125 \r\nz\r\n\" style=\"fill:#008000;\"/>\r\n   </g>\r\n   <g id=\"patch_22\">\r\n    <path clip-path=\"url(#p80a356279d)\" d=\"M 44.123438 393.778125 \r\nL 319.625005 393.778125 \r\nL 319.625005 375.658125 \r\nL 44.123438 375.658125 \r\nz\r\n\" style=\"fill:#008000;\"/>\r\n   </g>\r\n   <g id=\"patch_23\">\r\n    <path clip-path=\"url(#p80a356279d)\" d=\"M 44.123438 371.128125 \r\nL 319.625005 371.128125 \r\nL 319.625005 353.008125 \r\nL 44.123438 353.008125 \r\nz\r\n\" style=\"fill:#008000;\"/>\r\n   </g>\r\n   <g id=\"patch_24\">\r\n    <path clip-path=\"url(#p80a356279d)\" d=\"M 44.123438 348.478125 \r\nL 319.625005 348.478125 \r\nL 319.625005 330.358125 \r\nL 44.123438 330.358125 \r\nz\r\n\" style=\"fill:#008000;\"/>\r\n   </g>\r\n   <g id=\"patch_25\">\r\n    <path clip-path=\"url(#p80a356279d)\" d=\"M 44.123438 325.828125 \r\nL 345.863249 325.828125 \r\nL 345.863249 307.708125 \r\nL 44.123438 307.708125 \r\nz\r\n\" style=\"fill:#008000;\"/>\r\n   </g>\r\n   <g id=\"patch_26\">\r\n    <path clip-path=\"url(#p80a356279d)\" d=\"M 44.123438 303.178125 \r\nL 345.863249 303.178125 \r\nL 345.863249 285.058125 \r\nL 44.123438 285.058125 \r\nz\r\n\" style=\"fill:#008000;\"/>\r\n   </g>\r\n   <g id=\"patch_27\">\r\n    <path clip-path=\"url(#p80a356279d)\" d=\"M 44.123438 280.528125 \r\nL 372.101494 280.528125 \r\nL 372.101494 262.408125 \r\nL 44.123438 262.408125 \r\nz\r\n\" style=\"fill:#008000;\"/>\r\n   </g>\r\n   <g id=\"patch_28\">\r\n    <path clip-path=\"url(#p80a356279d)\" d=\"M 44.123438 257.878125 \r\nL 385.220616 257.878125 \r\nL 385.220616 239.758125 \r\nL 44.123438 239.758125 \r\nz\r\n\" style=\"fill:#008000;\"/>\r\n   </g>\r\n   <g id=\"patch_29\">\r\n    <path clip-path=\"url(#p80a356279d)\" d=\"M 44.123438 235.228125 \r\nL 450.816227 235.228125 \r\nL 450.816227 217.108125 \r\nL 44.123438 217.108125 \r\nz\r\n\" style=\"fill:#008000;\"/>\r\n   </g>\r\n   <g id=\"patch_30\">\r\n    <path clip-path=\"url(#p80a356279d)\" d=\"M 44.123438 212.578125 \r\nL 463.93535 212.578125 \r\nL 463.93535 194.458125 \r\nL 44.123438 194.458125 \r\nz\r\n\" style=\"fill:#008000;\"/>\r\n   </g>\r\n   <g id=\"patch_31\">\r\n    <path clip-path=\"url(#p80a356279d)\" d=\"M 44.123438 189.928125 \r\nL 463.93535 189.928125 \r\nL 463.93535 171.808125 \r\nL 44.123438 171.808125 \r\nz\r\n\" style=\"fill:#008000;\"/>\r\n   </g>\r\n   <g id=\"patch_32\">\r\n    <path clip-path=\"url(#p80a356279d)\" d=\"M 44.123438 167.278125 \r\nL 503.292716 167.278125 \r\nL 503.292716 149.158125 \r\nL 44.123438 149.158125 \r\nz\r\n\" style=\"fill:#008000;\"/>\r\n   </g>\r\n   <g id=\"patch_33\">\r\n    <path clip-path=\"url(#p80a356279d)\" d=\"M 44.123438 144.628125 \r\nL 516.411839 144.628125 \r\nL 516.411839 126.508125 \r\nL 44.123438 126.508125 \r\nz\r\n\" style=\"fill:#008000;\"/>\r\n   </g>\r\n   <g id=\"patch_34\">\r\n    <path clip-path=\"url(#p80a356279d)\" d=\"M 44.123438 121.978125 \r\nL 529.530961 121.978125 \r\nL 529.530961 103.858125 \r\nL 44.123438 103.858125 \r\nz\r\n\" style=\"fill:#008000;\"/>\r\n   </g>\r\n   <g id=\"patch_35\">\r\n    <path clip-path=\"url(#p80a356279d)\" d=\"M 44.123438 99.328125 \r\nL 647.603061 99.328125 \r\nL 647.603061 81.208125 \r\nL 44.123438 81.208125 \r\nz\r\n\" style=\"fill:#008000;\"/>\r\n   </g>\r\n   <g id=\"patch_36\">\r\n    <path clip-path=\"url(#p80a356279d)\" d=\"M 44.123438 76.678125 \r\nL 791.913406 76.678125 \r\nL 791.913406 58.558125 \r\nL 44.123438 58.558125 \r\nz\r\n\" style=\"fill:#008000;\"/>\r\n   </g>\r\n   <g id=\"patch_37\">\r\n    <path clip-path=\"url(#p80a356279d)\" d=\"M 44.123438 54.028125 \r\nL 805.032528 54.028125 \r\nL 805.032528 35.908125 \r\nL 44.123438 35.908125 \r\nz\r\n\" style=\"fill:#008000;\"/>\r\n   </g>\r\n   <g id=\"matplotlib.axis_1\">\r\n    <g id=\"xtick_1\">\r\n     <g id=\"line2d_1\">\r\n      <path clip-path=\"url(#p80a356279d)\" d=\"M 44.123438 837.718125 \r\nL 44.123438 22.318125 \r\n\" style=\"fill:none;stroke:#b0b0b0;stroke-linecap:square;stroke-width:0.8;\"/>\r\n     </g>\r\n     <g id=\"line2d_2\">\r\n      <defs>\r\n       <path d=\"M 0 0 \r\nL 0 3.5 \r\n\" id=\"mde58516c32\" style=\"stroke:#000000;stroke-width:0.8;\"/>\r\n      </defs>\r\n      <g>\r\n       <use style=\"stroke:#000000;stroke-width:0.8;\" x=\"44.123438\" xlink:href=\"#mde58516c32\" y=\"837.718125\"/>\r\n      </g>\r\n     </g>\r\n     <g id=\"text_1\">\r\n      <!-- 0 -->\r\n      <g transform=\"translate(40.942188 852.316562)scale(0.1 -0.1)\">\r\n       <defs>\r\n        <path d=\"M 31.78125 66.40625 \r\nQ 24.171875 66.40625 20.328125 58.90625 \r\nQ 16.5 51.421875 16.5 36.375 \r\nQ 16.5 21.390625 20.328125 13.890625 \r\nQ 24.171875 6.390625 31.78125 6.390625 \r\nQ 39.453125 6.390625 43.28125 13.890625 \r\nQ 47.125 21.390625 47.125 36.375 \r\nQ 47.125 51.421875 43.28125 58.90625 \r\nQ 39.453125 66.40625 31.78125 66.40625 \r\nz\r\nM 31.78125 74.21875 \r\nQ 44.046875 74.21875 50.515625 64.515625 \r\nQ 56.984375 54.828125 56.984375 36.375 \r\nQ 56.984375 17.96875 50.515625 8.265625 \r\nQ 44.046875 -1.421875 31.78125 -1.421875 \r\nQ 19.53125 -1.421875 13.0625 8.265625 \r\nQ 6.59375 17.96875 6.59375 36.375 \r\nQ 6.59375 54.828125 13.0625 64.515625 \r\nQ 19.53125 74.21875 31.78125 74.21875 \r\nz\r\n\" id=\"DejaVuSans-48\"/>\r\n       </defs>\r\n       <use xlink:href=\"#DejaVuSans-48\"/>\r\n      </g>\r\n     </g>\r\n    </g>\r\n    <g id=\"xtick_2\">\r\n     <g id=\"line2d_3\">\r\n      <path clip-path=\"url(#p80a356279d)\" d=\"M 175.31466 837.718125 \r\nL 175.31466 22.318125 \r\n\" style=\"fill:none;stroke:#b0b0b0;stroke-linecap:square;stroke-width:0.8;\"/>\r\n     </g>\r\n     <g id=\"line2d_4\">\r\n      <g>\r\n       <use style=\"stroke:#000000;stroke-width:0.8;\" x=\"175.31466\" xlink:href=\"#mde58516c32\" y=\"837.718125\"/>\r\n      </g>\r\n     </g>\r\n     <g id=\"text_2\">\r\n      <!-- 10 -->\r\n      <g transform=\"translate(168.95216 852.316562)scale(0.1 -0.1)\">\r\n       <defs>\r\n        <path d=\"M 12.40625 8.296875 \r\nL 28.515625 8.296875 \r\nL 28.515625 63.921875 \r\nL 10.984375 60.40625 \r\nL 10.984375 69.390625 \r\nL 28.421875 72.90625 \r\nL 38.28125 72.90625 \r\nL 38.28125 8.296875 \r\nL 54.390625 8.296875 \r\nL 54.390625 0 \r\nL 12.40625 0 \r\nz\r\n\" id=\"DejaVuSans-49\"/>\r\n       </defs>\r\n       <use xlink:href=\"#DejaVuSans-49\"/>\r\n       <use x=\"63.623047\" xlink:href=\"#DejaVuSans-48\"/>\r\n      </g>\r\n     </g>\r\n    </g>\r\n    <g id=\"xtick_3\">\r\n     <g id=\"line2d_5\">\r\n      <path clip-path=\"url(#p80a356279d)\" d=\"M 306.505883 837.718125 \r\nL 306.505883 22.318125 \r\n\" style=\"fill:none;stroke:#b0b0b0;stroke-linecap:square;stroke-width:0.8;\"/>\r\n     </g>\r\n     <g id=\"line2d_6\">\r\n      <g>\r\n       <use style=\"stroke:#000000;stroke-width:0.8;\" x=\"306.505883\" xlink:href=\"#mde58516c32\" y=\"837.718125\"/>\r\n      </g>\r\n     </g>\r\n     <g id=\"text_3\">\r\n      <!-- 20 -->\r\n      <g transform=\"translate(300.143383 852.316562)scale(0.1 -0.1)\">\r\n       <defs>\r\n        <path d=\"M 19.1875 8.296875 \r\nL 53.609375 8.296875 \r\nL 53.609375 0 \r\nL 7.328125 0 \r\nL 7.328125 8.296875 \r\nQ 12.9375 14.109375 22.625 23.890625 \r\nQ 32.328125 33.6875 34.8125 36.53125 \r\nQ 39.546875 41.84375 41.421875 45.53125 \r\nQ 43.3125 49.21875 43.3125 52.78125 \r\nQ 43.3125 58.59375 39.234375 62.25 \r\nQ 35.15625 65.921875 28.609375 65.921875 \r\nQ 23.96875 65.921875 18.8125 64.3125 \r\nQ 13.671875 62.703125 7.8125 59.421875 \r\nL 7.8125 69.390625 \r\nQ 13.765625 71.78125 18.9375 73 \r\nQ 24.125 74.21875 28.421875 74.21875 \r\nQ 39.75 74.21875 46.484375 68.546875 \r\nQ 53.21875 62.890625 53.21875 53.421875 \r\nQ 53.21875 48.921875 51.53125 44.890625 \r\nQ 49.859375 40.875 45.40625 35.40625 \r\nQ 44.1875 33.984375 37.640625 27.21875 \r\nQ 31.109375 20.453125 19.1875 8.296875 \r\nz\r\n\" id=\"DejaVuSans-50\"/>\r\n       </defs>\r\n       <use xlink:href=\"#DejaVuSans-50\"/>\r\n       <use x=\"63.623047\" xlink:href=\"#DejaVuSans-48\"/>\r\n      </g>\r\n     </g>\r\n    </g>\r\n    <g id=\"xtick_4\">\r\n     <g id=\"line2d_7\">\r\n      <path clip-path=\"url(#p80a356279d)\" d=\"M 437.697105 837.718125 \r\nL 437.697105 22.318125 \r\n\" style=\"fill:none;stroke:#b0b0b0;stroke-linecap:square;stroke-width:0.8;\"/>\r\n     </g>\r\n     <g id=\"line2d_8\">\r\n      <g>\r\n       <use style=\"stroke:#000000;stroke-width:0.8;\" x=\"437.697105\" xlink:href=\"#mde58516c32\" y=\"837.718125\"/>\r\n      </g>\r\n     </g>\r\n     <g id=\"text_4\">\r\n      <!-- 30 -->\r\n      <g transform=\"translate(431.334605 852.316562)scale(0.1 -0.1)\">\r\n       <defs>\r\n        <path d=\"M 40.578125 39.3125 \r\nQ 47.65625 37.796875 51.625 33 \r\nQ 55.609375 28.21875 55.609375 21.1875 \r\nQ 55.609375 10.40625 48.1875 4.484375 \r\nQ 40.765625 -1.421875 27.09375 -1.421875 \r\nQ 22.515625 -1.421875 17.65625 -0.515625 \r\nQ 12.796875 0.390625 7.625 2.203125 \r\nL 7.625 11.71875 \r\nQ 11.71875 9.328125 16.59375 8.109375 \r\nQ 21.484375 6.890625 26.8125 6.890625 \r\nQ 36.078125 6.890625 40.9375 10.546875 \r\nQ 45.796875 14.203125 45.796875 21.1875 \r\nQ 45.796875 27.640625 41.28125 31.265625 \r\nQ 36.765625 34.90625 28.71875 34.90625 \r\nL 20.21875 34.90625 \r\nL 20.21875 43.015625 \r\nL 29.109375 43.015625 \r\nQ 36.375 43.015625 40.234375 45.921875 \r\nQ 44.09375 48.828125 44.09375 54.296875 \r\nQ 44.09375 59.90625 40.109375 62.90625 \r\nQ 36.140625 65.921875 28.71875 65.921875 \r\nQ 24.65625 65.921875 20.015625 65.03125 \r\nQ 15.375 64.15625 9.8125 62.3125 \r\nL 9.8125 71.09375 \r\nQ 15.4375 72.65625 20.34375 73.4375 \r\nQ 25.25 74.21875 29.59375 74.21875 \r\nQ 40.828125 74.21875 47.359375 69.109375 \r\nQ 53.90625 64.015625 53.90625 55.328125 \r\nQ 53.90625 49.265625 50.4375 45.09375 \r\nQ 46.96875 40.921875 40.578125 39.3125 \r\nz\r\n\" id=\"DejaVuSans-51\"/>\r\n       </defs>\r\n       <use xlink:href=\"#DejaVuSans-51\"/>\r\n       <use x=\"63.623047\" xlink:href=\"#DejaVuSans-48\"/>\r\n      </g>\r\n     </g>\r\n    </g>\r\n    <g id=\"xtick_5\">\r\n     <g id=\"line2d_9\">\r\n      <path clip-path=\"url(#p80a356279d)\" d=\"M 568.888328 837.718125 \r\nL 568.888328 22.318125 \r\n\" style=\"fill:none;stroke:#b0b0b0;stroke-linecap:square;stroke-width:0.8;\"/>\r\n     </g>\r\n     <g id=\"line2d_10\">\r\n      <g>\r\n       <use style=\"stroke:#000000;stroke-width:0.8;\" x=\"568.888328\" xlink:href=\"#mde58516c32\" y=\"837.718125\"/>\r\n      </g>\r\n     </g>\r\n     <g id=\"text_5\">\r\n      <!-- 40 -->\r\n      <g transform=\"translate(562.525828 852.316562)scale(0.1 -0.1)\">\r\n       <defs>\r\n        <path d=\"M 37.796875 64.3125 \r\nL 12.890625 25.390625 \r\nL 37.796875 25.390625 \r\nz\r\nM 35.203125 72.90625 \r\nL 47.609375 72.90625 \r\nL 47.609375 25.390625 \r\nL 58.015625 25.390625 \r\nL 58.015625 17.1875 \r\nL 47.609375 17.1875 \r\nL 47.609375 0 \r\nL 37.796875 0 \r\nL 37.796875 17.1875 \r\nL 4.890625 17.1875 \r\nL 4.890625 26.703125 \r\nz\r\n\" id=\"DejaVuSans-52\"/>\r\n       </defs>\r\n       <use xlink:href=\"#DejaVuSans-52\"/>\r\n       <use x=\"63.623047\" xlink:href=\"#DejaVuSans-48\"/>\r\n      </g>\r\n     </g>\r\n    </g>\r\n    <g id=\"xtick_6\">\r\n     <g id=\"line2d_11\">\r\n      <path clip-path=\"url(#p80a356279d)\" d=\"M 700.07955 837.718125 \r\nL 700.07955 22.318125 \r\n\" style=\"fill:none;stroke:#b0b0b0;stroke-linecap:square;stroke-width:0.8;\"/>\r\n     </g>\r\n     <g id=\"line2d_12\">\r\n      <g>\r\n       <use style=\"stroke:#000000;stroke-width:0.8;\" x=\"700.07955\" xlink:href=\"#mde58516c32\" y=\"837.718125\"/>\r\n      </g>\r\n     </g>\r\n     <g id=\"text_6\">\r\n      <!-- 50 -->\r\n      <g transform=\"translate(693.71705 852.316562)scale(0.1 -0.1)\">\r\n       <defs>\r\n        <path d=\"M 10.796875 72.90625 \r\nL 49.515625 72.90625 \r\nL 49.515625 64.59375 \r\nL 19.828125 64.59375 \r\nL 19.828125 46.734375 \r\nQ 21.96875 47.46875 24.109375 47.828125 \r\nQ 26.265625 48.1875 28.421875 48.1875 \r\nQ 40.625 48.1875 47.75 41.5 \r\nQ 54.890625 34.8125 54.890625 23.390625 \r\nQ 54.890625 11.625 47.5625 5.09375 \r\nQ 40.234375 -1.421875 26.90625 -1.421875 \r\nQ 22.3125 -1.421875 17.546875 -0.640625 \r\nQ 12.796875 0.140625 7.71875 1.703125 \r\nL 7.71875 11.625 \r\nQ 12.109375 9.234375 16.796875 8.0625 \r\nQ 21.484375 6.890625 26.703125 6.890625 \r\nQ 35.15625 6.890625 40.078125 11.328125 \r\nQ 45.015625 15.765625 45.015625 23.390625 \r\nQ 45.015625 31 40.078125 35.4375 \r\nQ 35.15625 39.890625 26.703125 39.890625 \r\nQ 22.75 39.890625 18.8125 39.015625 \r\nQ 14.890625 38.140625 10.796875 36.28125 \r\nz\r\n\" id=\"DejaVuSans-53\"/>\r\n       </defs>\r\n       <use xlink:href=\"#DejaVuSans-53\"/>\r\n       <use x=\"63.623047\" xlink:href=\"#DejaVuSans-48\"/>\r\n      </g>\r\n     </g>\r\n    </g>\r\n    <g id=\"xtick_7\">\r\n     <g id=\"line2d_13\">\r\n      <path clip-path=\"url(#p80a356279d)\" d=\"M 831.270773 837.718125 \r\nL 831.270773 22.318125 \r\n\" style=\"fill:none;stroke:#b0b0b0;stroke-linecap:square;stroke-width:0.8;\"/>\r\n     </g>\r\n     <g id=\"line2d_14\">\r\n      <g>\r\n       <use style=\"stroke:#000000;stroke-width:0.8;\" x=\"831.270773\" xlink:href=\"#mde58516c32\" y=\"837.718125\"/>\r\n      </g>\r\n     </g>\r\n     <g id=\"text_7\">\r\n      <!-- 60 -->\r\n      <g transform=\"translate(824.908273 852.316562)scale(0.1 -0.1)\">\r\n       <defs>\r\n        <path d=\"M 33.015625 40.375 \r\nQ 26.375 40.375 22.484375 35.828125 \r\nQ 18.609375 31.296875 18.609375 23.390625 \r\nQ 18.609375 15.53125 22.484375 10.953125 \r\nQ 26.375 6.390625 33.015625 6.390625 \r\nQ 39.65625 6.390625 43.53125 10.953125 \r\nQ 47.40625 15.53125 47.40625 23.390625 \r\nQ 47.40625 31.296875 43.53125 35.828125 \r\nQ 39.65625 40.375 33.015625 40.375 \r\nz\r\nM 52.59375 71.296875 \r\nL 52.59375 62.3125 \r\nQ 48.875 64.0625 45.09375 64.984375 \r\nQ 41.3125 65.921875 37.59375 65.921875 \r\nQ 27.828125 65.921875 22.671875 59.328125 \r\nQ 17.53125 52.734375 16.796875 39.40625 \r\nQ 19.671875 43.65625 24.015625 45.921875 \r\nQ 28.375 48.1875 33.59375 48.1875 \r\nQ 44.578125 48.1875 50.953125 41.515625 \r\nQ 57.328125 34.859375 57.328125 23.390625 \r\nQ 57.328125 12.15625 50.6875 5.359375 \r\nQ 44.046875 -1.421875 33.015625 -1.421875 \r\nQ 20.359375 -1.421875 13.671875 8.265625 \r\nQ 6.984375 17.96875 6.984375 36.375 \r\nQ 6.984375 53.65625 15.1875 63.9375 \r\nQ 23.390625 74.21875 37.203125 74.21875 \r\nQ 40.921875 74.21875 44.703125 73.484375 \r\nQ 48.484375 72.75 52.59375 71.296875 \r\nz\r\n\" id=\"DejaVuSans-54\"/>\r\n       </defs>\r\n       <use xlink:href=\"#DejaVuSans-54\"/>\r\n       <use x=\"63.623047\" xlink:href=\"#DejaVuSans-48\"/>\r\n      </g>\r\n     </g>\r\n    </g>\r\n    <g id=\"text_8\">\r\n     <!-- F score -->\r\n     <g transform=\"translate(444.725781 865.994687)scale(0.1 -0.1)\">\r\n      <defs>\r\n       <path d=\"M 9.8125 72.90625 \r\nL 51.703125 72.90625 \r\nL 51.703125 64.59375 \r\nL 19.671875 64.59375 \r\nL 19.671875 43.109375 \r\nL 48.578125 43.109375 \r\nL 48.578125 34.8125 \r\nL 19.671875 34.8125 \r\nL 19.671875 0 \r\nL 9.8125 0 \r\nz\r\n\" id=\"DejaVuSans-70\"/>\r\n       <path id=\"DejaVuSans-32\"/>\r\n       <path d=\"M 44.28125 53.078125 \r\nL 44.28125 44.578125 \r\nQ 40.484375 46.53125 36.375 47.5 \r\nQ 32.28125 48.484375 27.875 48.484375 \r\nQ 21.1875 48.484375 17.84375 46.4375 \r\nQ 14.5 44.390625 14.5 40.28125 \r\nQ 14.5 37.15625 16.890625 35.375 \r\nQ 19.28125 33.59375 26.515625 31.984375 \r\nL 29.59375 31.296875 \r\nQ 39.15625 29.25 43.1875 25.515625 \r\nQ 47.21875 21.78125 47.21875 15.09375 \r\nQ 47.21875 7.46875 41.1875 3.015625 \r\nQ 35.15625 -1.421875 24.609375 -1.421875 \r\nQ 20.21875 -1.421875 15.453125 -0.5625 \r\nQ 10.6875 0.296875 5.421875 2 \r\nL 5.421875 11.28125 \r\nQ 10.40625 8.6875 15.234375 7.390625 \r\nQ 20.0625 6.109375 24.8125 6.109375 \r\nQ 31.15625 6.109375 34.5625 8.28125 \r\nQ 37.984375 10.453125 37.984375 14.40625 \r\nQ 37.984375 18.0625 35.515625 20.015625 \r\nQ 33.0625 21.96875 24.703125 23.78125 \r\nL 21.578125 24.515625 \r\nQ 13.234375 26.265625 9.515625 29.90625 \r\nQ 5.8125 33.546875 5.8125 39.890625 \r\nQ 5.8125 47.609375 11.28125 51.796875 \r\nQ 16.75 56 26.8125 56 \r\nQ 31.78125 56 36.171875 55.265625 \r\nQ 40.578125 54.546875 44.28125 53.078125 \r\nz\r\n\" id=\"DejaVuSans-115\"/>\r\n       <path d=\"M 48.78125 52.59375 \r\nL 48.78125 44.1875 \r\nQ 44.96875 46.296875 41.140625 47.34375 \r\nQ 37.3125 48.390625 33.40625 48.390625 \r\nQ 24.65625 48.390625 19.8125 42.84375 \r\nQ 14.984375 37.3125 14.984375 27.296875 \r\nQ 14.984375 17.28125 19.8125 11.734375 \r\nQ 24.65625 6.203125 33.40625 6.203125 \r\nQ 37.3125 6.203125 41.140625 7.25 \r\nQ 44.96875 8.296875 48.78125 10.40625 \r\nL 48.78125 2.09375 \r\nQ 45.015625 0.34375 40.984375 -0.53125 \r\nQ 36.96875 -1.421875 32.421875 -1.421875 \r\nQ 20.0625 -1.421875 12.78125 6.34375 \r\nQ 5.515625 14.109375 5.515625 27.296875 \r\nQ 5.515625 40.671875 12.859375 48.328125 \r\nQ 20.21875 56 33.015625 56 \r\nQ 37.15625 56 41.109375 55.140625 \r\nQ 45.0625 54.296875 48.78125 52.59375 \r\nz\r\n\" id=\"DejaVuSans-99\"/>\r\n       <path d=\"M 30.609375 48.390625 \r\nQ 23.390625 48.390625 19.1875 42.75 \r\nQ 14.984375 37.109375 14.984375 27.296875 \r\nQ 14.984375 17.484375 19.15625 11.84375 \r\nQ 23.34375 6.203125 30.609375 6.203125 \r\nQ 37.796875 6.203125 41.984375 11.859375 \r\nQ 46.1875 17.53125 46.1875 27.296875 \r\nQ 46.1875 37.015625 41.984375 42.703125 \r\nQ 37.796875 48.390625 30.609375 48.390625 \r\nz\r\nM 30.609375 56 \r\nQ 42.328125 56 49.015625 48.375 \r\nQ 55.71875 40.765625 55.71875 27.296875 \r\nQ 55.71875 13.875 49.015625 6.21875 \r\nQ 42.328125 -1.421875 30.609375 -1.421875 \r\nQ 18.84375 -1.421875 12.171875 6.21875 \r\nQ 5.515625 13.875 5.515625 27.296875 \r\nQ 5.515625 40.765625 12.171875 48.375 \r\nQ 18.84375 56 30.609375 56 \r\nz\r\n\" id=\"DejaVuSans-111\"/>\r\n       <path d=\"M 41.109375 46.296875 \r\nQ 39.59375 47.171875 37.8125 47.578125 \r\nQ 36.03125 48 33.890625 48 \r\nQ 26.265625 48 22.1875 43.046875 \r\nQ 18.109375 38.09375 18.109375 28.8125 \r\nL 18.109375 0 \r\nL 9.078125 0 \r\nL 9.078125 54.6875 \r\nL 18.109375 54.6875 \r\nL 18.109375 46.1875 \r\nQ 20.953125 51.171875 25.484375 53.578125 \r\nQ 30.03125 56 36.53125 56 \r\nQ 37.453125 56 38.578125 55.875 \r\nQ 39.703125 55.765625 41.0625 55.515625 \r\nz\r\n\" id=\"DejaVuSans-114\"/>\r\n       <path d=\"M 56.203125 29.59375 \r\nL 56.203125 25.203125 \r\nL 14.890625 25.203125 \r\nQ 15.484375 15.921875 20.484375 11.0625 \r\nQ 25.484375 6.203125 34.421875 6.203125 \r\nQ 39.59375 6.203125 44.453125 7.46875 \r\nQ 49.3125 8.734375 54.109375 11.28125 \r\nL 54.109375 2.78125 \r\nQ 49.265625 0.734375 44.1875 -0.34375 \r\nQ 39.109375 -1.421875 33.890625 -1.421875 \r\nQ 20.796875 -1.421875 13.15625 6.1875 \r\nQ 5.515625 13.8125 5.515625 26.8125 \r\nQ 5.515625 40.234375 12.765625 48.109375 \r\nQ 20.015625 56 32.328125 56 \r\nQ 43.359375 56 49.78125 48.890625 \r\nQ 56.203125 41.796875 56.203125 29.59375 \r\nz\r\nM 47.21875 32.234375 \r\nQ 47.125 39.59375 43.09375 43.984375 \r\nQ 39.0625 48.390625 32.421875 48.390625 \r\nQ 24.90625 48.390625 20.390625 44.140625 \r\nQ 15.875 39.890625 15.1875 32.171875 \r\nz\r\n\" id=\"DejaVuSans-101\"/>\r\n      </defs>\r\n      <use xlink:href=\"#DejaVuSans-70\"/>\r\n      <use x=\"57.519531\" xlink:href=\"#DejaVuSans-32\"/>\r\n      <use x=\"89.306641\" xlink:href=\"#DejaVuSans-115\"/>\r\n      <use x=\"141.40625\" xlink:href=\"#DejaVuSans-99\"/>\r\n      <use x=\"196.386719\" xlink:href=\"#DejaVuSans-111\"/>\r\n      <use x=\"257.568359\" xlink:href=\"#DejaVuSans-114\"/>\r\n      <use x=\"296.431641\" xlink:href=\"#DejaVuSans-101\"/>\r\n     </g>\r\n    </g>\r\n   </g>\r\n   <g id=\"matplotlib.axis_2\">\r\n    <g id=\"ytick_1\">\r\n     <g id=\"line2d_15\">\r\n      <path clip-path=\"url(#p80a356279d)\" d=\"M 44.123438 815.068125 \r\nL 881.123438 815.068125 \r\n\" style=\"fill:none;stroke:#b0b0b0;stroke-linecap:square;stroke-width:0.8;\"/>\r\n     </g>\r\n     <g id=\"line2d_16\">\r\n      <defs>\r\n       <path d=\"M 0 0 \r\nL -3.5 0 \r\n\" id=\"m43950b0706\" style=\"stroke:#000000;stroke-width:0.8;\"/>\r\n      </defs>\r\n      <g>\r\n       <use style=\"stroke:#000000;stroke-width:0.8;\" x=\"44.123438\" xlink:href=\"#m43950b0706\" y=\"815.068125\"/>\r\n      </g>\r\n     </g>\r\n     <g id=\"text_9\">\r\n      <!-- f21 -->\r\n      <g transform=\"translate(20.878125 818.867344)scale(0.1 -0.1)\">\r\n       <defs>\r\n        <path d=\"M 37.109375 75.984375 \r\nL 37.109375 68.5 \r\nL 28.515625 68.5 \r\nQ 23.6875 68.5 21.796875 66.546875 \r\nQ 19.921875 64.59375 19.921875 59.515625 \r\nL 19.921875 54.6875 \r\nL 34.71875 54.6875 \r\nL 34.71875 47.703125 \r\nL 19.921875 47.703125 \r\nL 19.921875 0 \r\nL 10.890625 0 \r\nL 10.890625 47.703125 \r\nL 2.296875 47.703125 \r\nL 2.296875 54.6875 \r\nL 10.890625 54.6875 \r\nL 10.890625 58.5 \r\nQ 10.890625 67.625 15.140625 71.796875 \r\nQ 19.390625 75.984375 28.609375 75.984375 \r\nz\r\n\" id=\"DejaVuSans-102\"/>\r\n       </defs>\r\n       <use xlink:href=\"#DejaVuSans-102\"/>\r\n       <use x=\"35.205078\" xlink:href=\"#DejaVuSans-50\"/>\r\n       <use x=\"98.828125\" xlink:href=\"#DejaVuSans-49\"/>\r\n      </g>\r\n     </g>\r\n    </g>\r\n    <g id=\"ytick_2\">\r\n     <g id=\"line2d_17\">\r\n      <path clip-path=\"url(#p80a356279d)\" d=\"M 44.123438 792.418125 \r\nL 881.123438 792.418125 \r\n\" style=\"fill:none;stroke:#b0b0b0;stroke-linecap:square;stroke-width:0.8;\"/>\r\n     </g>\r\n     <g id=\"line2d_18\">\r\n      <g>\r\n       <use style=\"stroke:#000000;stroke-width:0.8;\" x=\"44.123438\" xlink:href=\"#m43950b0706\" y=\"792.418125\"/>\r\n      </g>\r\n     </g>\r\n     <g id=\"text_10\">\r\n      <!-- f24 -->\r\n      <g transform=\"translate(20.878125 796.217344)scale(0.1 -0.1)\">\r\n       <use xlink:href=\"#DejaVuSans-102\"/>\r\n       <use x=\"35.205078\" xlink:href=\"#DejaVuSans-50\"/>\r\n       <use x=\"98.828125\" xlink:href=\"#DejaVuSans-52\"/>\r\n      </g>\r\n     </g>\r\n    </g>\r\n    <g id=\"ytick_3\">\r\n     <g id=\"line2d_19\">\r\n      <path clip-path=\"url(#p80a356279d)\" d=\"M 44.123438 769.768125 \r\nL 881.123438 769.768125 \r\n\" style=\"fill:none;stroke:#b0b0b0;stroke-linecap:square;stroke-width:0.8;\"/>\r\n     </g>\r\n     <g id=\"line2d_20\">\r\n      <g>\r\n       <use style=\"stroke:#000000;stroke-width:0.8;\" x=\"44.123438\" xlink:href=\"#m43950b0706\" y=\"769.768125\"/>\r\n      </g>\r\n     </g>\r\n     <g id=\"text_11\">\r\n      <!-- f14 -->\r\n      <g transform=\"translate(20.878125 773.567344)scale(0.1 -0.1)\">\r\n       <use xlink:href=\"#DejaVuSans-102\"/>\r\n       <use x=\"35.205078\" xlink:href=\"#DejaVuSans-49\"/>\r\n       <use x=\"98.828125\" xlink:href=\"#DejaVuSans-52\"/>\r\n      </g>\r\n     </g>\r\n    </g>\r\n    <g id=\"ytick_4\">\r\n     <g id=\"line2d_21\">\r\n      <path clip-path=\"url(#p80a356279d)\" d=\"M 44.123438 747.118125 \r\nL 881.123438 747.118125 \r\n\" style=\"fill:none;stroke:#b0b0b0;stroke-linecap:square;stroke-width:0.8;\"/>\r\n     </g>\r\n     <g id=\"line2d_22\">\r\n      <g>\r\n       <use style=\"stroke:#000000;stroke-width:0.8;\" x=\"44.123438\" xlink:href=\"#m43950b0706\" y=\"747.118125\"/>\r\n      </g>\r\n     </g>\r\n     <g id=\"text_12\">\r\n      <!-- f10 -->\r\n      <g transform=\"translate(20.878125 750.917344)scale(0.1 -0.1)\">\r\n       <use xlink:href=\"#DejaVuSans-102\"/>\r\n       <use x=\"35.205078\" xlink:href=\"#DejaVuSans-49\"/>\r\n       <use x=\"98.828125\" xlink:href=\"#DejaVuSans-48\"/>\r\n      </g>\r\n     </g>\r\n    </g>\r\n    <g id=\"ytick_5\">\r\n     <g id=\"line2d_23\">\r\n      <path clip-path=\"url(#p80a356279d)\" d=\"M 44.123438 724.468125 \r\nL 881.123438 724.468125 \r\n\" style=\"fill:none;stroke:#b0b0b0;stroke-linecap:square;stroke-width:0.8;\"/>\r\n     </g>\r\n     <g id=\"line2d_24\">\r\n      <g>\r\n       <use style=\"stroke:#000000;stroke-width:0.8;\" x=\"44.123438\" xlink:href=\"#m43950b0706\" y=\"724.468125\"/>\r\n      </g>\r\n     </g>\r\n     <g id=\"text_13\">\r\n      <!-- f7 -->\r\n      <g transform=\"translate(27.240625 728.267344)scale(0.1 -0.1)\">\r\n       <defs>\r\n        <path d=\"M 8.203125 72.90625 \r\nL 55.078125 72.90625 \r\nL 55.078125 68.703125 \r\nL 28.609375 0 \r\nL 18.3125 0 \r\nL 43.21875 64.59375 \r\nL 8.203125 64.59375 \r\nz\r\n\" id=\"DejaVuSans-55\"/>\r\n       </defs>\r\n       <use xlink:href=\"#DejaVuSans-102\"/>\r\n       <use x=\"35.205078\" xlink:href=\"#DejaVuSans-55\"/>\r\n      </g>\r\n     </g>\r\n    </g>\r\n    <g id=\"ytick_6\">\r\n     <g id=\"line2d_25\">\r\n      <path clip-path=\"url(#p80a356279d)\" d=\"M 44.123438 701.818125 \r\nL 881.123438 701.818125 \r\n\" style=\"fill:none;stroke:#b0b0b0;stroke-linecap:square;stroke-width:0.8;\"/>\r\n     </g>\r\n     <g id=\"line2d_26\">\r\n      <g>\r\n       <use style=\"stroke:#000000;stroke-width:0.8;\" x=\"44.123438\" xlink:href=\"#m43950b0706\" y=\"701.818125\"/>\r\n      </g>\r\n     </g>\r\n     <g id=\"text_14\">\r\n      <!-- f15 -->\r\n      <g transform=\"translate(20.878125 705.617344)scale(0.1 -0.1)\">\r\n       <use xlink:href=\"#DejaVuSans-102\"/>\r\n       <use x=\"35.205078\" xlink:href=\"#DejaVuSans-49\"/>\r\n       <use x=\"98.828125\" xlink:href=\"#DejaVuSans-53\"/>\r\n      </g>\r\n     </g>\r\n    </g>\r\n    <g id=\"ytick_7\">\r\n     <g id=\"line2d_27\">\r\n      <path clip-path=\"url(#p80a356279d)\" d=\"M 44.123438 679.168125 \r\nL 881.123438 679.168125 \r\n\" style=\"fill:none;stroke:#b0b0b0;stroke-linecap:square;stroke-width:0.8;\"/>\r\n     </g>\r\n     <g id=\"line2d_28\">\r\n      <g>\r\n       <use style=\"stroke:#000000;stroke-width:0.8;\" x=\"44.123438\" xlink:href=\"#m43950b0706\" y=\"679.168125\"/>\r\n      </g>\r\n     </g>\r\n     <g id=\"text_15\">\r\n      <!-- f19 -->\r\n      <g transform=\"translate(20.878125 682.967344)scale(0.1 -0.1)\">\r\n       <defs>\r\n        <path d=\"M 10.984375 1.515625 \r\nL 10.984375 10.5 \r\nQ 14.703125 8.734375 18.5 7.8125 \r\nQ 22.3125 6.890625 25.984375 6.890625 \r\nQ 35.75 6.890625 40.890625 13.453125 \r\nQ 46.046875 20.015625 46.78125 33.40625 \r\nQ 43.953125 29.203125 39.59375 26.953125 \r\nQ 35.25 24.703125 29.984375 24.703125 \r\nQ 19.046875 24.703125 12.671875 31.3125 \r\nQ 6.296875 37.9375 6.296875 49.421875 \r\nQ 6.296875 60.640625 12.9375 67.421875 \r\nQ 19.578125 74.21875 30.609375 74.21875 \r\nQ 43.265625 74.21875 49.921875 64.515625 \r\nQ 56.59375 54.828125 56.59375 36.375 \r\nQ 56.59375 19.140625 48.40625 8.859375 \r\nQ 40.234375 -1.421875 26.421875 -1.421875 \r\nQ 22.703125 -1.421875 18.890625 -0.6875 \r\nQ 15.09375 0.046875 10.984375 1.515625 \r\nz\r\nM 30.609375 32.421875 \r\nQ 37.25 32.421875 41.125 36.953125 \r\nQ 45.015625 41.5 45.015625 49.421875 \r\nQ 45.015625 57.28125 41.125 61.84375 \r\nQ 37.25 66.40625 30.609375 66.40625 \r\nQ 23.96875 66.40625 20.09375 61.84375 \r\nQ 16.21875 57.28125 16.21875 49.421875 \r\nQ 16.21875 41.5 20.09375 36.953125 \r\nQ 23.96875 32.421875 30.609375 32.421875 \r\nz\r\n\" id=\"DejaVuSans-57\"/>\r\n       </defs>\r\n       <use xlink:href=\"#DejaVuSans-102\"/>\r\n       <use x=\"35.205078\" xlink:href=\"#DejaVuSans-49\"/>\r\n       <use x=\"98.828125\" xlink:href=\"#DejaVuSans-57\"/>\r\n      </g>\r\n     </g>\r\n    </g>\r\n    <g id=\"ytick_8\">\r\n     <g id=\"line2d_29\">\r\n      <path clip-path=\"url(#p80a356279d)\" d=\"M 44.123438 656.518125 \r\nL 881.123438 656.518125 \r\n\" style=\"fill:none;stroke:#b0b0b0;stroke-linecap:square;stroke-width:0.8;\"/>\r\n     </g>\r\n     <g id=\"line2d_30\">\r\n      <g>\r\n       <use style=\"stroke:#000000;stroke-width:0.8;\" x=\"44.123438\" xlink:href=\"#m43950b0706\" y=\"656.518125\"/>\r\n      </g>\r\n     </g>\r\n     <g id=\"text_16\">\r\n      <!-- f33 -->\r\n      <g transform=\"translate(20.878125 660.317344)scale(0.1 -0.1)\">\r\n       <use xlink:href=\"#DejaVuSans-102\"/>\r\n       <use x=\"35.205078\" xlink:href=\"#DejaVuSans-51\"/>\r\n       <use x=\"98.828125\" xlink:href=\"#DejaVuSans-51\"/>\r\n      </g>\r\n     </g>\r\n    </g>\r\n    <g id=\"ytick_9\">\r\n     <g id=\"line2d_31\">\r\n      <path clip-path=\"url(#p80a356279d)\" d=\"M 44.123438 633.868125 \r\nL 881.123438 633.868125 \r\n\" style=\"fill:none;stroke:#b0b0b0;stroke-linecap:square;stroke-width:0.8;\"/>\r\n     </g>\r\n     <g id=\"line2d_32\">\r\n      <g>\r\n       <use style=\"stroke:#000000;stroke-width:0.8;\" x=\"44.123438\" xlink:href=\"#m43950b0706\" y=\"633.868125\"/>\r\n      </g>\r\n     </g>\r\n     <g id=\"text_17\">\r\n      <!-- f2 -->\r\n      <g transform=\"translate(27.240625 637.667344)scale(0.1 -0.1)\">\r\n       <use xlink:href=\"#DejaVuSans-102\"/>\r\n       <use x=\"35.205078\" xlink:href=\"#DejaVuSans-50\"/>\r\n      </g>\r\n     </g>\r\n    </g>\r\n    <g id=\"ytick_10\">\r\n     <g id=\"line2d_33\">\r\n      <path clip-path=\"url(#p80a356279d)\" d=\"M 44.123438 611.218125 \r\nL 881.123438 611.218125 \r\n\" style=\"fill:none;stroke:#b0b0b0;stroke-linecap:square;stroke-width:0.8;\"/>\r\n     </g>\r\n     <g id=\"line2d_34\">\r\n      <g>\r\n       <use style=\"stroke:#000000;stroke-width:0.8;\" x=\"44.123438\" xlink:href=\"#m43950b0706\" y=\"611.218125\"/>\r\n      </g>\r\n     </g>\r\n     <g id=\"text_18\">\r\n      <!-- f32 -->\r\n      <g transform=\"translate(20.878125 615.017344)scale(0.1 -0.1)\">\r\n       <use xlink:href=\"#DejaVuSans-102\"/>\r\n       <use x=\"35.205078\" xlink:href=\"#DejaVuSans-51\"/>\r\n       <use x=\"98.828125\" xlink:href=\"#DejaVuSans-50\"/>\r\n      </g>\r\n     </g>\r\n    </g>\r\n    <g id=\"ytick_11\">\r\n     <g id=\"line2d_35\">\r\n      <path clip-path=\"url(#p80a356279d)\" d=\"M 44.123438 588.568125 \r\nL 881.123438 588.568125 \r\n\" style=\"fill:none;stroke:#b0b0b0;stroke-linecap:square;stroke-width:0.8;\"/>\r\n     </g>\r\n     <g id=\"line2d_36\">\r\n      <g>\r\n       <use style=\"stroke:#000000;stroke-width:0.8;\" x=\"44.123438\" xlink:href=\"#m43950b0706\" y=\"588.568125\"/>\r\n      </g>\r\n     </g>\r\n     <g id=\"text_19\">\r\n      <!-- f27 -->\r\n      <g transform=\"translate(20.878125 592.367344)scale(0.1 -0.1)\">\r\n       <use xlink:href=\"#DejaVuSans-102\"/>\r\n       <use x=\"35.205078\" xlink:href=\"#DejaVuSans-50\"/>\r\n       <use x=\"98.828125\" xlink:href=\"#DejaVuSans-55\"/>\r\n      </g>\r\n     </g>\r\n    </g>\r\n    <g id=\"ytick_12\">\r\n     <g id=\"line2d_37\">\r\n      <path clip-path=\"url(#p80a356279d)\" d=\"M 44.123438 565.918125 \r\nL 881.123438 565.918125 \r\n\" style=\"fill:none;stroke:#b0b0b0;stroke-linecap:square;stroke-width:0.8;\"/>\r\n     </g>\r\n     <g id=\"line2d_38\">\r\n      <g>\r\n       <use style=\"stroke:#000000;stroke-width:0.8;\" x=\"44.123438\" xlink:href=\"#m43950b0706\" y=\"565.918125\"/>\r\n      </g>\r\n     </g>\r\n     <g id=\"text_20\">\r\n      <!-- f0 -->\r\n      <g transform=\"translate(27.240625 569.717344)scale(0.1 -0.1)\">\r\n       <use xlink:href=\"#DejaVuSans-102\"/>\r\n       <use x=\"35.205078\" xlink:href=\"#DejaVuSans-48\"/>\r\n      </g>\r\n     </g>\r\n    </g>\r\n    <g id=\"ytick_13\">\r\n     <g id=\"line2d_39\">\r\n      <path clip-path=\"url(#p80a356279d)\" d=\"M 44.123438 543.268125 \r\nL 881.123438 543.268125 \r\n\" style=\"fill:none;stroke:#b0b0b0;stroke-linecap:square;stroke-width:0.8;\"/>\r\n     </g>\r\n     <g id=\"line2d_40\">\r\n      <g>\r\n       <use style=\"stroke:#000000;stroke-width:0.8;\" x=\"44.123438\" xlink:href=\"#m43950b0706\" y=\"543.268125\"/>\r\n      </g>\r\n     </g>\r\n     <g id=\"text_21\">\r\n      <!-- f12 -->\r\n      <g transform=\"translate(20.878125 547.067344)scale(0.1 -0.1)\">\r\n       <use xlink:href=\"#DejaVuSans-102\"/>\r\n       <use x=\"35.205078\" xlink:href=\"#DejaVuSans-49\"/>\r\n       <use x=\"98.828125\" xlink:href=\"#DejaVuSans-50\"/>\r\n      </g>\r\n     </g>\r\n    </g>\r\n    <g id=\"ytick_14\">\r\n     <g id=\"line2d_41\">\r\n      <path clip-path=\"url(#p80a356279d)\" d=\"M 44.123438 520.618125 \r\nL 881.123438 520.618125 \r\n\" style=\"fill:none;stroke:#b0b0b0;stroke-linecap:square;stroke-width:0.8;\"/>\r\n     </g>\r\n     <g id=\"line2d_42\">\r\n      <g>\r\n       <use style=\"stroke:#000000;stroke-width:0.8;\" x=\"44.123438\" xlink:href=\"#m43950b0706\" y=\"520.618125\"/>\r\n      </g>\r\n     </g>\r\n     <g id=\"text_22\">\r\n      <!-- f28 -->\r\n      <g transform=\"translate(20.878125 524.417344)scale(0.1 -0.1)\">\r\n       <defs>\r\n        <path d=\"M 31.78125 34.625 \r\nQ 24.75 34.625 20.71875 30.859375 \r\nQ 16.703125 27.09375 16.703125 20.515625 \r\nQ 16.703125 13.921875 20.71875 10.15625 \r\nQ 24.75 6.390625 31.78125 6.390625 \r\nQ 38.8125 6.390625 42.859375 10.171875 \r\nQ 46.921875 13.96875 46.921875 20.515625 \r\nQ 46.921875 27.09375 42.890625 30.859375 \r\nQ 38.875 34.625 31.78125 34.625 \r\nz\r\nM 21.921875 38.8125 \r\nQ 15.578125 40.375 12.03125 44.71875 \r\nQ 8.5 49.078125 8.5 55.328125 \r\nQ 8.5 64.0625 14.71875 69.140625 \r\nQ 20.953125 74.21875 31.78125 74.21875 \r\nQ 42.671875 74.21875 48.875 69.140625 \r\nQ 55.078125 64.0625 55.078125 55.328125 \r\nQ 55.078125 49.078125 51.53125 44.71875 \r\nQ 48 40.375 41.703125 38.8125 \r\nQ 48.828125 37.15625 52.796875 32.3125 \r\nQ 56.78125 27.484375 56.78125 20.515625 \r\nQ 56.78125 9.90625 50.3125 4.234375 \r\nQ 43.84375 -1.421875 31.78125 -1.421875 \r\nQ 19.734375 -1.421875 13.25 4.234375 \r\nQ 6.78125 9.90625 6.78125 20.515625 \r\nQ 6.78125 27.484375 10.78125 32.3125 \r\nQ 14.796875 37.15625 21.921875 38.8125 \r\nz\r\nM 18.3125 54.390625 \r\nQ 18.3125 48.734375 21.84375 45.5625 \r\nQ 25.390625 42.390625 31.78125 42.390625 \r\nQ 38.140625 42.390625 41.71875 45.5625 \r\nQ 45.3125 48.734375 45.3125 54.390625 \r\nQ 45.3125 60.0625 41.71875 63.234375 \r\nQ 38.140625 66.40625 31.78125 66.40625 \r\nQ 25.390625 66.40625 21.84375 63.234375 \r\nQ 18.3125 60.0625 18.3125 54.390625 \r\nz\r\n\" id=\"DejaVuSans-56\"/>\r\n       </defs>\r\n       <use xlink:href=\"#DejaVuSans-102\"/>\r\n       <use x=\"35.205078\" xlink:href=\"#DejaVuSans-50\"/>\r\n       <use x=\"98.828125\" xlink:href=\"#DejaVuSans-56\"/>\r\n      </g>\r\n     </g>\r\n    </g>\r\n    <g id=\"ytick_15\">\r\n     <g id=\"line2d_43\">\r\n      <path clip-path=\"url(#p80a356279d)\" d=\"M 44.123438 497.968125 \r\nL 881.123438 497.968125 \r\n\" style=\"fill:none;stroke:#b0b0b0;stroke-linecap:square;stroke-width:0.8;\"/>\r\n     </g>\r\n     <g id=\"line2d_44\">\r\n      <g>\r\n       <use style=\"stroke:#000000;stroke-width:0.8;\" x=\"44.123438\" xlink:href=\"#m43950b0706\" y=\"497.968125\"/>\r\n      </g>\r\n     </g>\r\n     <g id=\"text_23\">\r\n      <!-- f8 -->\r\n      <g transform=\"translate(27.240625 501.767344)scale(0.1 -0.1)\">\r\n       <use xlink:href=\"#DejaVuSans-102\"/>\r\n       <use x=\"35.205078\" xlink:href=\"#DejaVuSans-56\"/>\r\n      </g>\r\n     </g>\r\n    </g>\r\n    <g id=\"ytick_16\">\r\n     <g id=\"line2d_45\">\r\n      <path clip-path=\"url(#p80a356279d)\" d=\"M 44.123438 475.318125 \r\nL 881.123438 475.318125 \r\n\" style=\"fill:none;stroke:#b0b0b0;stroke-linecap:square;stroke-width:0.8;\"/>\r\n     </g>\r\n     <g id=\"line2d_46\">\r\n      <g>\r\n       <use style=\"stroke:#000000;stroke-width:0.8;\" x=\"44.123438\" xlink:href=\"#m43950b0706\" y=\"475.318125\"/>\r\n      </g>\r\n     </g>\r\n     <g id=\"text_24\">\r\n      <!-- f18 -->\r\n      <g transform=\"translate(20.878125 479.117344)scale(0.1 -0.1)\">\r\n       <use xlink:href=\"#DejaVuSans-102\"/>\r\n       <use x=\"35.205078\" xlink:href=\"#DejaVuSans-49\"/>\r\n       <use x=\"98.828125\" xlink:href=\"#DejaVuSans-56\"/>\r\n      </g>\r\n     </g>\r\n    </g>\r\n    <g id=\"ytick_17\">\r\n     <g id=\"line2d_47\">\r\n      <path clip-path=\"url(#p80a356279d)\" d=\"M 44.123438 452.668125 \r\nL 881.123438 452.668125 \r\n\" style=\"fill:none;stroke:#b0b0b0;stroke-linecap:square;stroke-width:0.8;\"/>\r\n     </g>\r\n     <g id=\"line2d_48\">\r\n      <g>\r\n       <use style=\"stroke:#000000;stroke-width:0.8;\" x=\"44.123438\" xlink:href=\"#m43950b0706\" y=\"452.668125\"/>\r\n      </g>\r\n     </g>\r\n     <g id=\"text_25\">\r\n      <!-- f9 -->\r\n      <g transform=\"translate(27.240625 456.467344)scale(0.1 -0.1)\">\r\n       <use xlink:href=\"#DejaVuSans-102\"/>\r\n       <use x=\"35.205078\" xlink:href=\"#DejaVuSans-57\"/>\r\n      </g>\r\n     </g>\r\n    </g>\r\n    <g id=\"ytick_18\">\r\n     <g id=\"line2d_49\">\r\n      <path clip-path=\"url(#p80a356279d)\" d=\"M 44.123438 430.018125 \r\nL 881.123438 430.018125 \r\n\" style=\"fill:none;stroke:#b0b0b0;stroke-linecap:square;stroke-width:0.8;\"/>\r\n     </g>\r\n     <g id=\"line2d_50\">\r\n      <g>\r\n       <use style=\"stroke:#000000;stroke-width:0.8;\" x=\"44.123438\" xlink:href=\"#m43950b0706\" y=\"430.018125\"/>\r\n      </g>\r\n     </g>\r\n     <g id=\"text_26\">\r\n      <!-- f23 -->\r\n      <g transform=\"translate(20.878125 433.817344)scale(0.1 -0.1)\">\r\n       <use xlink:href=\"#DejaVuSans-102\"/>\r\n       <use x=\"35.205078\" xlink:href=\"#DejaVuSans-50\"/>\r\n       <use x=\"98.828125\" xlink:href=\"#DejaVuSans-51\"/>\r\n      </g>\r\n     </g>\r\n    </g>\r\n    <g id=\"ytick_19\">\r\n     <g id=\"line2d_51\">\r\n      <path clip-path=\"url(#p80a356279d)\" d=\"M 44.123438 407.368125 \r\nL 881.123438 407.368125 \r\n\" style=\"fill:none;stroke:#b0b0b0;stroke-linecap:square;stroke-width:0.8;\"/>\r\n     </g>\r\n     <g id=\"line2d_52\">\r\n      <g>\r\n       <use style=\"stroke:#000000;stroke-width:0.8;\" x=\"44.123438\" xlink:href=\"#m43950b0706\" y=\"407.368125\"/>\r\n      </g>\r\n     </g>\r\n     <g id=\"text_27\">\r\n      <!-- f31 -->\r\n      <g transform=\"translate(20.878125 411.167344)scale(0.1 -0.1)\">\r\n       <use xlink:href=\"#DejaVuSans-102\"/>\r\n       <use x=\"35.205078\" xlink:href=\"#DejaVuSans-51\"/>\r\n       <use x=\"98.828125\" xlink:href=\"#DejaVuSans-49\"/>\r\n      </g>\r\n     </g>\r\n    </g>\r\n    <g id=\"ytick_20\">\r\n     <g id=\"line2d_53\">\r\n      <path clip-path=\"url(#p80a356279d)\" d=\"M 44.123438 384.718125 \r\nL 881.123438 384.718125 \r\n\" style=\"fill:none;stroke:#b0b0b0;stroke-linecap:square;stroke-width:0.8;\"/>\r\n     </g>\r\n     <g id=\"line2d_54\">\r\n      <g>\r\n       <use style=\"stroke:#000000;stroke-width:0.8;\" x=\"44.123438\" xlink:href=\"#m43950b0706\" y=\"384.718125\"/>\r\n      </g>\r\n     </g>\r\n     <g id=\"text_28\">\r\n      <!-- f6 -->\r\n      <g transform=\"translate(27.240625 388.517344)scale(0.1 -0.1)\">\r\n       <use xlink:href=\"#DejaVuSans-102\"/>\r\n       <use x=\"35.205078\" xlink:href=\"#DejaVuSans-54\"/>\r\n      </g>\r\n     </g>\r\n    </g>\r\n    <g id=\"ytick_21\">\r\n     <g id=\"line2d_55\">\r\n      <path clip-path=\"url(#p80a356279d)\" d=\"M 44.123438 362.068125 \r\nL 881.123438 362.068125 \r\n\" style=\"fill:none;stroke:#b0b0b0;stroke-linecap:square;stroke-width:0.8;\"/>\r\n     </g>\r\n     <g id=\"line2d_56\">\r\n      <g>\r\n       <use style=\"stroke:#000000;stroke-width:0.8;\" x=\"44.123438\" xlink:href=\"#m43950b0706\" y=\"362.068125\"/>\r\n      </g>\r\n     </g>\r\n     <g id=\"text_29\">\r\n      <!-- f34 -->\r\n      <g transform=\"translate(20.878125 365.867344)scale(0.1 -0.1)\">\r\n       <use xlink:href=\"#DejaVuSans-102\"/>\r\n       <use x=\"35.205078\" xlink:href=\"#DejaVuSans-51\"/>\r\n       <use x=\"98.828125\" xlink:href=\"#DejaVuSans-52\"/>\r\n      </g>\r\n     </g>\r\n    </g>\r\n    <g id=\"ytick_22\">\r\n     <g id=\"line2d_57\">\r\n      <path clip-path=\"url(#p80a356279d)\" d=\"M 44.123438 339.418125 \r\nL 881.123438 339.418125 \r\n\" style=\"fill:none;stroke:#b0b0b0;stroke-linecap:square;stroke-width:0.8;\"/>\r\n     </g>\r\n     <g id=\"line2d_58\">\r\n      <g>\r\n       <use style=\"stroke:#000000;stroke-width:0.8;\" x=\"44.123438\" xlink:href=\"#m43950b0706\" y=\"339.418125\"/>\r\n      </g>\r\n     </g>\r\n     <g id=\"text_30\">\r\n      <!-- f35 -->\r\n      <g transform=\"translate(20.878125 343.217344)scale(0.1 -0.1)\">\r\n       <use xlink:href=\"#DejaVuSans-102\"/>\r\n       <use x=\"35.205078\" xlink:href=\"#DejaVuSans-51\"/>\r\n       <use x=\"98.828125\" xlink:href=\"#DejaVuSans-53\"/>\r\n      </g>\r\n     </g>\r\n    </g>\r\n    <g id=\"ytick_23\">\r\n     <g id=\"line2d_59\">\r\n      <path clip-path=\"url(#p80a356279d)\" d=\"M 44.123438 316.768125 \r\nL 881.123438 316.768125 \r\n\" style=\"fill:none;stroke:#b0b0b0;stroke-linecap:square;stroke-width:0.8;\"/>\r\n     </g>\r\n     <g id=\"line2d_60\">\r\n      <g>\r\n       <use style=\"stroke:#000000;stroke-width:0.8;\" x=\"44.123438\" xlink:href=\"#m43950b0706\" y=\"316.768125\"/>\r\n      </g>\r\n     </g>\r\n     <g id=\"text_31\">\r\n      <!-- f37 -->\r\n      <g transform=\"translate(20.878125 320.567344)scale(0.1 -0.1)\">\r\n       <use xlink:href=\"#DejaVuSans-102\"/>\r\n       <use x=\"35.205078\" xlink:href=\"#DejaVuSans-51\"/>\r\n       <use x=\"98.828125\" xlink:href=\"#DejaVuSans-55\"/>\r\n      </g>\r\n     </g>\r\n    </g>\r\n    <g id=\"ytick_24\">\r\n     <g id=\"line2d_61\">\r\n      <path clip-path=\"url(#p80a356279d)\" d=\"M 44.123438 294.118125 \r\nL 881.123438 294.118125 \r\n\" style=\"fill:none;stroke:#b0b0b0;stroke-linecap:square;stroke-width:0.8;\"/>\r\n     </g>\r\n     <g id=\"line2d_62\">\r\n      <g>\r\n       <use style=\"stroke:#000000;stroke-width:0.8;\" x=\"44.123438\" xlink:href=\"#m43950b0706\" y=\"294.118125\"/>\r\n      </g>\r\n     </g>\r\n     <g id=\"text_32\">\r\n      <!-- f20 -->\r\n      <g transform=\"translate(20.878125 297.917344)scale(0.1 -0.1)\">\r\n       <use xlink:href=\"#DejaVuSans-102\"/>\r\n       <use x=\"35.205078\" xlink:href=\"#DejaVuSans-50\"/>\r\n       <use x=\"98.828125\" xlink:href=\"#DejaVuSans-48\"/>\r\n      </g>\r\n     </g>\r\n    </g>\r\n    <g id=\"ytick_25\">\r\n     <g id=\"line2d_63\">\r\n      <path clip-path=\"url(#p80a356279d)\" d=\"M 44.123438 271.468125 \r\nL 881.123438 271.468125 \r\n\" style=\"fill:none;stroke:#b0b0b0;stroke-linecap:square;stroke-width:0.8;\"/>\r\n     </g>\r\n     <g id=\"line2d_64\">\r\n      <g>\r\n       <use style=\"stroke:#000000;stroke-width:0.8;\" x=\"44.123438\" xlink:href=\"#m43950b0706\" y=\"271.468125\"/>\r\n      </g>\r\n     </g>\r\n     <g id=\"text_33\">\r\n      <!-- f17 -->\r\n      <g transform=\"translate(20.878125 275.267344)scale(0.1 -0.1)\">\r\n       <use xlink:href=\"#DejaVuSans-102\"/>\r\n       <use x=\"35.205078\" xlink:href=\"#DejaVuSans-49\"/>\r\n       <use x=\"98.828125\" xlink:href=\"#DejaVuSans-55\"/>\r\n      </g>\r\n     </g>\r\n    </g>\r\n    <g id=\"ytick_26\">\r\n     <g id=\"line2d_65\">\r\n      <path clip-path=\"url(#p80a356279d)\" d=\"M 44.123438 248.818125 \r\nL 881.123438 248.818125 \r\n\" style=\"fill:none;stroke:#b0b0b0;stroke-linecap:square;stroke-width:0.8;\"/>\r\n     </g>\r\n     <g id=\"line2d_66\">\r\n      <g>\r\n       <use style=\"stroke:#000000;stroke-width:0.8;\" x=\"44.123438\" xlink:href=\"#m43950b0706\" y=\"248.818125\"/>\r\n      </g>\r\n     </g>\r\n     <g id=\"text_34\">\r\n      <!-- f4 -->\r\n      <g transform=\"translate(27.240625 252.617344)scale(0.1 -0.1)\">\r\n       <use xlink:href=\"#DejaVuSans-102\"/>\r\n       <use x=\"35.205078\" xlink:href=\"#DejaVuSans-52\"/>\r\n      </g>\r\n     </g>\r\n    </g>\r\n    <g id=\"ytick_27\">\r\n     <g id=\"line2d_67\">\r\n      <path clip-path=\"url(#p80a356279d)\" d=\"M 44.123438 226.168125 \r\nL 881.123438 226.168125 \r\n\" style=\"fill:none;stroke:#b0b0b0;stroke-linecap:square;stroke-width:0.8;\"/>\r\n     </g>\r\n     <g id=\"line2d_68\">\r\n      <g>\r\n       <use style=\"stroke:#000000;stroke-width:0.8;\" x=\"44.123438\" xlink:href=\"#m43950b0706\" y=\"226.168125\"/>\r\n      </g>\r\n     </g>\r\n     <g id=\"text_35\">\r\n      <!-- f5 -->\r\n      <g transform=\"translate(27.240625 229.967344)scale(0.1 -0.1)\">\r\n       <use xlink:href=\"#DejaVuSans-102\"/>\r\n       <use x=\"35.205078\" xlink:href=\"#DejaVuSans-53\"/>\r\n      </g>\r\n     </g>\r\n    </g>\r\n    <g id=\"ytick_28\">\r\n     <g id=\"line2d_69\">\r\n      <path clip-path=\"url(#p80a356279d)\" d=\"M 44.123438 203.518125 \r\nL 881.123438 203.518125 \r\n\" style=\"fill:none;stroke:#b0b0b0;stroke-linecap:square;stroke-width:0.8;\"/>\r\n     </g>\r\n     <g id=\"line2d_70\">\r\n      <g>\r\n       <use style=\"stroke:#000000;stroke-width:0.8;\" x=\"44.123438\" xlink:href=\"#m43950b0706\" y=\"203.518125\"/>\r\n      </g>\r\n     </g>\r\n     <g id=\"text_36\">\r\n      <!-- f29 -->\r\n      <g transform=\"translate(20.878125 207.317344)scale(0.1 -0.1)\">\r\n       <use xlink:href=\"#DejaVuSans-102\"/>\r\n       <use x=\"35.205078\" xlink:href=\"#DejaVuSans-50\"/>\r\n       <use x=\"98.828125\" xlink:href=\"#DejaVuSans-57\"/>\r\n      </g>\r\n     </g>\r\n    </g>\r\n    <g id=\"ytick_29\">\r\n     <g id=\"line2d_71\">\r\n      <path clip-path=\"url(#p80a356279d)\" d=\"M 44.123438 180.868125 \r\nL 881.123438 180.868125 \r\n\" style=\"fill:none;stroke:#b0b0b0;stroke-linecap:square;stroke-width:0.8;\"/>\r\n     </g>\r\n     <g id=\"line2d_72\">\r\n      <g>\r\n       <use style=\"stroke:#000000;stroke-width:0.8;\" x=\"44.123438\" xlink:href=\"#m43950b0706\" y=\"180.868125\"/>\r\n      </g>\r\n     </g>\r\n     <g id=\"text_37\">\r\n      <!-- f16 -->\r\n      <g transform=\"translate(20.878125 184.667344)scale(0.1 -0.1)\">\r\n       <use xlink:href=\"#DejaVuSans-102\"/>\r\n       <use x=\"35.205078\" xlink:href=\"#DejaVuSans-49\"/>\r\n       <use x=\"98.828125\" xlink:href=\"#DejaVuSans-54\"/>\r\n      </g>\r\n     </g>\r\n    </g>\r\n    <g id=\"ytick_30\">\r\n     <g id=\"line2d_73\">\r\n      <path clip-path=\"url(#p80a356279d)\" d=\"M 44.123438 158.218125 \r\nL 881.123438 158.218125 \r\n\" style=\"fill:none;stroke:#b0b0b0;stroke-linecap:square;stroke-width:0.8;\"/>\r\n     </g>\r\n     <g id=\"line2d_74\">\r\n      <g>\r\n       <use style=\"stroke:#000000;stroke-width:0.8;\" x=\"44.123438\" xlink:href=\"#m43950b0706\" y=\"158.218125\"/>\r\n      </g>\r\n     </g>\r\n     <g id=\"text_38\">\r\n      <!-- f26 -->\r\n      <g transform=\"translate(20.878125 162.017344)scale(0.1 -0.1)\">\r\n       <use xlink:href=\"#DejaVuSans-102\"/>\r\n       <use x=\"35.205078\" xlink:href=\"#DejaVuSans-50\"/>\r\n       <use x=\"98.828125\" xlink:href=\"#DejaVuSans-54\"/>\r\n      </g>\r\n     </g>\r\n    </g>\r\n    <g id=\"ytick_31\">\r\n     <g id=\"line2d_75\">\r\n      <path clip-path=\"url(#p80a356279d)\" d=\"M 44.123438 135.568125 \r\nL 881.123438 135.568125 \r\n\" style=\"fill:none;stroke:#b0b0b0;stroke-linecap:square;stroke-width:0.8;\"/>\r\n     </g>\r\n     <g id=\"line2d_76\">\r\n      <g>\r\n       <use style=\"stroke:#000000;stroke-width:0.8;\" x=\"44.123438\" xlink:href=\"#m43950b0706\" y=\"135.568125\"/>\r\n      </g>\r\n     </g>\r\n     <g id=\"text_39\">\r\n      <!-- f36 -->\r\n      <g transform=\"translate(20.878125 139.367344)scale(0.1 -0.1)\">\r\n       <use xlink:href=\"#DejaVuSans-102\"/>\r\n       <use x=\"35.205078\" xlink:href=\"#DejaVuSans-51\"/>\r\n       <use x=\"98.828125\" xlink:href=\"#DejaVuSans-54\"/>\r\n      </g>\r\n     </g>\r\n    </g>\r\n    <g id=\"ytick_32\">\r\n     <g id=\"line2d_77\">\r\n      <path clip-path=\"url(#p80a356279d)\" d=\"M 44.123438 112.918125 \r\nL 881.123438 112.918125 \r\n\" style=\"fill:none;stroke:#b0b0b0;stroke-linecap:square;stroke-width:0.8;\"/>\r\n     </g>\r\n     <g id=\"line2d_78\">\r\n      <g>\r\n       <use style=\"stroke:#000000;stroke-width:0.8;\" x=\"44.123438\" xlink:href=\"#m43950b0706\" y=\"112.918125\"/>\r\n      </g>\r\n     </g>\r\n     <g id=\"text_40\">\r\n      <!-- f3 -->\r\n      <g transform=\"translate(27.240625 116.717344)scale(0.1 -0.1)\">\r\n       <use xlink:href=\"#DejaVuSans-102\"/>\r\n       <use x=\"35.205078\" xlink:href=\"#DejaVuSans-51\"/>\r\n      </g>\r\n     </g>\r\n    </g>\r\n    <g id=\"ytick_33\">\r\n     <g id=\"line2d_79\">\r\n      <path clip-path=\"url(#p80a356279d)\" d=\"M 44.123438 90.268125 \r\nL 881.123438 90.268125 \r\n\" style=\"fill:none;stroke:#b0b0b0;stroke-linecap:square;stroke-width:0.8;\"/>\r\n     </g>\r\n     <g id=\"line2d_80\">\r\n      <g>\r\n       <use style=\"stroke:#000000;stroke-width:0.8;\" x=\"44.123438\" xlink:href=\"#m43950b0706\" y=\"90.268125\"/>\r\n      </g>\r\n     </g>\r\n     <g id=\"text_41\">\r\n      <!-- f1 -->\r\n      <g transform=\"translate(27.240625 94.067344)scale(0.1 -0.1)\">\r\n       <use xlink:href=\"#DejaVuSans-102\"/>\r\n       <use x=\"35.205078\" xlink:href=\"#DejaVuSans-49\"/>\r\n      </g>\r\n     </g>\r\n    </g>\r\n    <g id=\"ytick_34\">\r\n     <g id=\"line2d_81\">\r\n      <path clip-path=\"url(#p80a356279d)\" d=\"M 44.123438 67.618125 \r\nL 881.123438 67.618125 \r\n\" style=\"fill:none;stroke:#b0b0b0;stroke-linecap:square;stroke-width:0.8;\"/>\r\n     </g>\r\n     <g id=\"line2d_82\">\r\n      <g>\r\n       <use style=\"stroke:#000000;stroke-width:0.8;\" x=\"44.123438\" xlink:href=\"#m43950b0706\" y=\"67.618125\"/>\r\n      </g>\r\n     </g>\r\n     <g id=\"text_42\">\r\n      <!-- f22 -->\r\n      <g transform=\"translate(20.878125 71.417344)scale(0.1 -0.1)\">\r\n       <use xlink:href=\"#DejaVuSans-102\"/>\r\n       <use x=\"35.205078\" xlink:href=\"#DejaVuSans-50\"/>\r\n       <use x=\"98.828125\" xlink:href=\"#DejaVuSans-50\"/>\r\n      </g>\r\n     </g>\r\n    </g>\r\n    <g id=\"ytick_35\">\r\n     <g id=\"line2d_83\">\r\n      <path clip-path=\"url(#p80a356279d)\" d=\"M 44.123438 44.968125 \r\nL 881.123438 44.968125 \r\n\" style=\"fill:none;stroke:#b0b0b0;stroke-linecap:square;stroke-width:0.8;\"/>\r\n     </g>\r\n     <g id=\"line2d_84\">\r\n      <g>\r\n       <use style=\"stroke:#000000;stroke-width:0.8;\" x=\"44.123438\" xlink:href=\"#m43950b0706\" y=\"44.968125\"/>\r\n      </g>\r\n     </g>\r\n     <g id=\"text_43\">\r\n      <!-- f30 -->\r\n      <g transform=\"translate(20.878125 48.767344)scale(0.1 -0.1)\">\r\n       <use xlink:href=\"#DejaVuSans-102\"/>\r\n       <use x=\"35.205078\" xlink:href=\"#DejaVuSans-51\"/>\r\n       <use x=\"98.828125\" xlink:href=\"#DejaVuSans-48\"/>\r\n      </g>\r\n     </g>\r\n    </g>\r\n    <g id=\"text_44\">\r\n     <!-- Features -->\r\n     <g transform=\"translate(14.798438 451.512656)rotate(-90)scale(0.1 -0.1)\">\r\n      <defs>\r\n       <path d=\"M 34.28125 27.484375 \r\nQ 23.390625 27.484375 19.1875 25 \r\nQ 14.984375 22.515625 14.984375 16.5 \r\nQ 14.984375 11.71875 18.140625 8.90625 \r\nQ 21.296875 6.109375 26.703125 6.109375 \r\nQ 34.1875 6.109375 38.703125 11.40625 \r\nQ 43.21875 16.703125 43.21875 25.484375 \r\nL 43.21875 27.484375 \r\nz\r\nM 52.203125 31.203125 \r\nL 52.203125 0 \r\nL 43.21875 0 \r\nL 43.21875 8.296875 \r\nQ 40.140625 3.328125 35.546875 0.953125 \r\nQ 30.953125 -1.421875 24.3125 -1.421875 \r\nQ 15.921875 -1.421875 10.953125 3.296875 \r\nQ 6 8.015625 6 15.921875 \r\nQ 6 25.140625 12.171875 29.828125 \r\nQ 18.359375 34.515625 30.609375 34.515625 \r\nL 43.21875 34.515625 \r\nL 43.21875 35.40625 \r\nQ 43.21875 41.609375 39.140625 45 \r\nQ 35.0625 48.390625 27.6875 48.390625 \r\nQ 23 48.390625 18.546875 47.265625 \r\nQ 14.109375 46.140625 10.015625 43.890625 \r\nL 10.015625 52.203125 \r\nQ 14.9375 54.109375 19.578125 55.046875 \r\nQ 24.21875 56 28.609375 56 \r\nQ 40.484375 56 46.34375 49.84375 \r\nQ 52.203125 43.703125 52.203125 31.203125 \r\nz\r\n\" id=\"DejaVuSans-97\"/>\r\n       <path d=\"M 18.3125 70.21875 \r\nL 18.3125 54.6875 \r\nL 36.8125 54.6875 \r\nL 36.8125 47.703125 \r\nL 18.3125 47.703125 \r\nL 18.3125 18.015625 \r\nQ 18.3125 11.328125 20.140625 9.421875 \r\nQ 21.96875 7.515625 27.59375 7.515625 \r\nL 36.8125 7.515625 \r\nL 36.8125 0 \r\nL 27.59375 0 \r\nQ 17.1875 0 13.234375 3.875 \r\nQ 9.28125 7.765625 9.28125 18.015625 \r\nL 9.28125 47.703125 \r\nL 2.6875 47.703125 \r\nL 2.6875 54.6875 \r\nL 9.28125 54.6875 \r\nL 9.28125 70.21875 \r\nz\r\n\" id=\"DejaVuSans-116\"/>\r\n       <path d=\"M 8.5 21.578125 \r\nL 8.5 54.6875 \r\nL 17.484375 54.6875 \r\nL 17.484375 21.921875 \r\nQ 17.484375 14.15625 20.5 10.265625 \r\nQ 23.53125 6.390625 29.59375 6.390625 \r\nQ 36.859375 6.390625 41.078125 11.03125 \r\nQ 45.3125 15.671875 45.3125 23.6875 \r\nL 45.3125 54.6875 \r\nL 54.296875 54.6875 \r\nL 54.296875 0 \r\nL 45.3125 0 \r\nL 45.3125 8.40625 \r\nQ 42.046875 3.421875 37.71875 1 \r\nQ 33.40625 -1.421875 27.6875 -1.421875 \r\nQ 18.265625 -1.421875 13.375 4.4375 \r\nQ 8.5 10.296875 8.5 21.578125 \r\nz\r\nM 31.109375 56 \r\nz\r\n\" id=\"DejaVuSans-117\"/>\r\n      </defs>\r\n      <use xlink:href=\"#DejaVuSans-70\"/>\r\n      <use x=\"52.019531\" xlink:href=\"#DejaVuSans-101\"/>\r\n      <use x=\"113.542969\" xlink:href=\"#DejaVuSans-97\"/>\r\n      <use x=\"174.822266\" xlink:href=\"#DejaVuSans-116\"/>\r\n      <use x=\"214.03125\" xlink:href=\"#DejaVuSans-117\"/>\r\n      <use x=\"277.410156\" xlink:href=\"#DejaVuSans-114\"/>\r\n      <use x=\"316.273438\" xlink:href=\"#DejaVuSans-101\"/>\r\n      <use x=\"377.796875\" xlink:href=\"#DejaVuSans-115\"/>\r\n     </g>\r\n    </g>\r\n   </g>\r\n   <g id=\"patch_38\">\r\n    <path d=\"M 44.123438 837.718125 \r\nL 44.123438 22.318125 \r\n\" style=\"fill:none;stroke:#000000;stroke-linecap:square;stroke-linejoin:miter;stroke-width:0.8;\"/>\r\n   </g>\r\n   <g id=\"patch_39\">\r\n    <path d=\"M 881.123438 837.718125 \r\nL 881.123438 22.318125 \r\n\" style=\"fill:none;stroke:#000000;stroke-linecap:square;stroke-linejoin:miter;stroke-width:0.8;\"/>\r\n   </g>\r\n   <g id=\"patch_40\">\r\n    <path d=\"M 44.123438 837.718125 \r\nL 881.123437 837.718125 \r\n\" style=\"fill:none;stroke:#000000;stroke-linecap:square;stroke-linejoin:miter;stroke-width:0.8;\"/>\r\n   </g>\r\n   <g id=\"patch_41\">\r\n    <path d=\"M 44.123438 22.318125 \r\nL 881.123437 22.318125 \r\n\" style=\"fill:none;stroke:#000000;stroke-linecap:square;stroke-linejoin:miter;stroke-width:0.8;\"/>\r\n   </g>\r\n   <g id=\"text_45\">\r\n    <!-- 1 -->\r\n    <g transform=\"translate(70.361682 817.8275)scale(0.1 -0.1)\">\r\n     <use xlink:href=\"#DejaVuSans-49\"/>\r\n    </g>\r\n   </g>\r\n   <g id=\"text_46\">\r\n    <!-- 1 -->\r\n    <g transform=\"translate(70.361682 795.1775)scale(0.1 -0.1)\">\r\n     <use xlink:href=\"#DejaVuSans-49\"/>\r\n    </g>\r\n   </g>\r\n   <g id=\"text_47\">\r\n    <!-- 1 -->\r\n    <g transform=\"translate(70.361682 772.5275)scale(0.1 -0.1)\">\r\n     <use xlink:href=\"#DejaVuSans-49\"/>\r\n    </g>\r\n   </g>\r\n   <g id=\"text_48\">\r\n    <!-- 2 -->\r\n    <g transform=\"translate(83.480804 749.8775)scale(0.1 -0.1)\">\r\n     <use xlink:href=\"#DejaVuSans-50\"/>\r\n    </g>\r\n   </g>\r\n   <g id=\"text_49\">\r\n    <!-- 2 -->\r\n    <g transform=\"translate(83.480804 727.2275)scale(0.1 -0.1)\">\r\n     <use xlink:href=\"#DejaVuSans-50\"/>\r\n    </g>\r\n   </g>\r\n   <g id=\"text_50\">\r\n    <!-- 2 -->\r\n    <g transform=\"translate(83.480804 704.5775)scale(0.1 -0.1)\">\r\n     <use xlink:href=\"#DejaVuSans-50\"/>\r\n    </g>\r\n   </g>\r\n   <g id=\"text_51\">\r\n    <!-- 3 -->\r\n    <g transform=\"translate(96.599927 681.9275)scale(0.1 -0.1)\">\r\n     <use xlink:href=\"#DejaVuSans-51\"/>\r\n    </g>\r\n   </g>\r\n   <g id=\"text_52\">\r\n    <!-- 5 -->\r\n    <g transform=\"translate(122.838171 659.2775)scale(0.1 -0.1)\">\r\n     <use xlink:href=\"#DejaVuSans-53\"/>\r\n    </g>\r\n   </g>\r\n   <g id=\"text_53\">\r\n    <!-- 6 -->\r\n    <g transform=\"translate(135.957293 636.6275)scale(0.1 -0.1)\">\r\n     <use xlink:href=\"#DejaVuSans-54\"/>\r\n    </g>\r\n   </g>\r\n   <g id=\"text_54\">\r\n    <!-- 9 -->\r\n    <g transform=\"translate(175.31466 613.9775)scale(0.1 -0.1)\">\r\n     <use xlink:href=\"#DejaVuSans-57\"/>\r\n    </g>\r\n   </g>\r\n   <g id=\"text_55\">\r\n    <!-- 9 -->\r\n    <g transform=\"translate(175.31466 591.3275)scale(0.1 -0.1)\">\r\n     <use xlink:href=\"#DejaVuSans-57\"/>\r\n    </g>\r\n   </g>\r\n   <g id=\"text_56\">\r\n    <!-- 10 -->\r\n    <g transform=\"translate(188.433782 568.6775)scale(0.1 -0.1)\">\r\n     <use xlink:href=\"#DejaVuSans-49\"/>\r\n     <use x=\"63.623047\" xlink:href=\"#DejaVuSans-48\"/>\r\n    </g>\r\n   </g>\r\n   <g id=\"text_57\">\r\n    <!-- 10 -->\r\n    <g transform=\"translate(188.433782 546.0275)scale(0.1 -0.1)\">\r\n     <use xlink:href=\"#DejaVuSans-49\"/>\r\n     <use x=\"63.623047\" xlink:href=\"#DejaVuSans-48\"/>\r\n    </g>\r\n   </g>\r\n   <g id=\"text_58\">\r\n    <!-- 10 -->\r\n    <g transform=\"translate(188.433782 523.3775)scale(0.1 -0.1)\">\r\n     <use xlink:href=\"#DejaVuSans-49\"/>\r\n     <use x=\"63.623047\" xlink:href=\"#DejaVuSans-48\"/>\r\n    </g>\r\n   </g>\r\n   <g id=\"text_59\">\r\n    <!-- 11 -->\r\n    <g transform=\"translate(201.552905 500.7275)scale(0.1 -0.1)\">\r\n     <use xlink:href=\"#DejaVuSans-49\"/>\r\n     <use x=\"63.623047\" xlink:href=\"#DejaVuSans-49\"/>\r\n    </g>\r\n   </g>\r\n   <g id=\"text_60\">\r\n    <!-- 14 -->\r\n    <g transform=\"translate(240.910271 478.0775)scale(0.1 -0.1)\">\r\n     <use xlink:href=\"#DejaVuSans-49\"/>\r\n     <use x=\"63.623047\" xlink:href=\"#DejaVuSans-52\"/>\r\n    </g>\r\n   </g>\r\n   <g id=\"text_61\">\r\n    <!-- 14 -->\r\n    <g transform=\"translate(240.910271 455.4275)scale(0.1 -0.1)\">\r\n     <use xlink:href=\"#DejaVuSans-49\"/>\r\n     <use x=\"63.623047\" xlink:href=\"#DejaVuSans-52\"/>\r\n    </g>\r\n   </g>\r\n   <g id=\"text_62\">\r\n    <!-- 17 -->\r\n    <g transform=\"translate(280.267638 432.7775)scale(0.1 -0.1)\">\r\n     <use xlink:href=\"#DejaVuSans-49\"/>\r\n     <use x=\"63.623047\" xlink:href=\"#DejaVuSans-55\"/>\r\n    </g>\r\n   </g>\r\n   <g id=\"text_63\">\r\n    <!-- 20 -->\r\n    <g transform=\"translate(319.625005 410.1275)scale(0.1 -0.1)\">\r\n     <use xlink:href=\"#DejaVuSans-50\"/>\r\n     <use x=\"63.623047\" xlink:href=\"#DejaVuSans-48\"/>\r\n    </g>\r\n   </g>\r\n   <g id=\"text_64\">\r\n    <!-- 21 -->\r\n    <g transform=\"translate(332.744127 387.4775)scale(0.1 -0.1)\">\r\n     <use xlink:href=\"#DejaVuSans-50\"/>\r\n     <use x=\"63.623047\" xlink:href=\"#DejaVuSans-49\"/>\r\n    </g>\r\n   </g>\r\n   <g id=\"text_65\">\r\n    <!-- 21 -->\r\n    <g transform=\"translate(332.744127 364.8275)scale(0.1 -0.1)\">\r\n     <use xlink:href=\"#DejaVuSans-50\"/>\r\n     <use x=\"63.623047\" xlink:href=\"#DejaVuSans-49\"/>\r\n    </g>\r\n   </g>\r\n   <g id=\"text_66\">\r\n    <!-- 21 -->\r\n    <g transform=\"translate(332.744127 342.1775)scale(0.1 -0.1)\">\r\n     <use xlink:href=\"#DejaVuSans-50\"/>\r\n     <use x=\"63.623047\" xlink:href=\"#DejaVuSans-49\"/>\r\n    </g>\r\n   </g>\r\n   <g id=\"text_67\">\r\n    <!-- 23 -->\r\n    <g transform=\"translate(358.982372 319.5275)scale(0.1 -0.1)\">\r\n     <use xlink:href=\"#DejaVuSans-50\"/>\r\n     <use x=\"63.623047\" xlink:href=\"#DejaVuSans-51\"/>\r\n    </g>\r\n   </g>\r\n   <g id=\"text_68\">\r\n    <!-- 23 -->\r\n    <g transform=\"translate(358.982372 296.8775)scale(0.1 -0.1)\">\r\n     <use xlink:href=\"#DejaVuSans-50\"/>\r\n     <use x=\"63.623047\" xlink:href=\"#DejaVuSans-51\"/>\r\n    </g>\r\n   </g>\r\n   <g id=\"text_69\">\r\n    <!-- 25 -->\r\n    <g transform=\"translate(385.220616 274.2275)scale(0.1 -0.1)\">\r\n     <use xlink:href=\"#DejaVuSans-50\"/>\r\n     <use x=\"63.623047\" xlink:href=\"#DejaVuSans-53\"/>\r\n    </g>\r\n   </g>\r\n   <g id=\"text_70\">\r\n    <!-- 26 -->\r\n    <g transform=\"translate(398.339738 251.5775)scale(0.1 -0.1)\">\r\n     <use xlink:href=\"#DejaVuSans-50\"/>\r\n     <use x=\"63.623047\" xlink:href=\"#DejaVuSans-54\"/>\r\n    </g>\r\n   </g>\r\n   <g id=\"text_71\">\r\n    <!-- 31 -->\r\n    <g transform=\"translate(463.93535 228.9275)scale(0.1 -0.1)\">\r\n     <use xlink:href=\"#DejaVuSans-51\"/>\r\n     <use x=\"63.623047\" xlink:href=\"#DejaVuSans-49\"/>\r\n    </g>\r\n   </g>\r\n   <g id=\"text_72\">\r\n    <!-- 32 -->\r\n    <g transform=\"translate(477.054472 206.2775)scale(0.1 -0.1)\">\r\n     <use xlink:href=\"#DejaVuSans-51\"/>\r\n     <use x=\"63.623047\" xlink:href=\"#DejaVuSans-50\"/>\r\n    </g>\r\n   </g>\r\n   <g id=\"text_73\">\r\n    <!-- 32 -->\r\n    <g transform=\"translate(477.054472 183.6275)scale(0.1 -0.1)\">\r\n     <use xlink:href=\"#DejaVuSans-51\"/>\r\n     <use x=\"63.623047\" xlink:href=\"#DejaVuSans-50\"/>\r\n    </g>\r\n   </g>\r\n   <g id=\"text_74\">\r\n    <!-- 35 -->\r\n    <g transform=\"translate(516.411839 160.9775)scale(0.1 -0.1)\">\r\n     <use xlink:href=\"#DejaVuSans-51\"/>\r\n     <use x=\"63.623047\" xlink:href=\"#DejaVuSans-53\"/>\r\n    </g>\r\n   </g>\r\n   <g id=\"text_75\">\r\n    <!-- 36 -->\r\n    <g transform=\"translate(529.530961 138.3275)scale(0.1 -0.1)\">\r\n     <use xlink:href=\"#DejaVuSans-51\"/>\r\n     <use x=\"63.623047\" xlink:href=\"#DejaVuSans-54\"/>\r\n    </g>\r\n   </g>\r\n   <g id=\"text_76\">\r\n    <!-- 37 -->\r\n    <g transform=\"translate(542.650083 115.6775)scale(0.1 -0.1)\">\r\n     <use xlink:href=\"#DejaVuSans-51\"/>\r\n     <use x=\"63.623047\" xlink:href=\"#DejaVuSans-55\"/>\r\n    </g>\r\n   </g>\r\n   <g id=\"text_77\">\r\n    <!-- 46 -->\r\n    <g transform=\"translate(660.722184 93.0275)scale(0.1 -0.1)\">\r\n     <use xlink:href=\"#DejaVuSans-52\"/>\r\n     <use x=\"63.623047\" xlink:href=\"#DejaVuSans-54\"/>\r\n    </g>\r\n   </g>\r\n   <g id=\"text_78\">\r\n    <!-- 57 -->\r\n    <g transform=\"translate(805.032528 70.3775)scale(0.1 -0.1)\">\r\n     <use xlink:href=\"#DejaVuSans-53\"/>\r\n     <use x=\"63.623047\" xlink:href=\"#DejaVuSans-55\"/>\r\n    </g>\r\n   </g>\r\n   <g id=\"text_79\">\r\n    <!-- 58 -->\r\n    <g transform=\"translate(818.151651 47.7275)scale(0.1 -0.1)\">\r\n     <use xlink:href=\"#DejaVuSans-53\"/>\r\n     <use x=\"63.623047\" xlink:href=\"#DejaVuSans-56\"/>\r\n    </g>\r\n   </g>\r\n   <g id=\"text_80\">\r\n    <!-- Features importance (XGBoost) -->\r\n    <g transform=\"translate(368.357813 16.318125)scale(0.12 -0.12)\">\r\n     <defs>\r\n      <path d=\"M 9.421875 54.6875 \r\nL 18.40625 54.6875 \r\nL 18.40625 0 \r\nL 9.421875 0 \r\nz\r\nM 9.421875 75.984375 \r\nL 18.40625 75.984375 \r\nL 18.40625 64.59375 \r\nL 9.421875 64.59375 \r\nz\r\n\" id=\"DejaVuSans-105\"/>\r\n      <path d=\"M 52 44.1875 \r\nQ 55.375 50.25 60.0625 53.125 \r\nQ 64.75 56 71.09375 56 \r\nQ 79.640625 56 84.28125 50.015625 \r\nQ 88.921875 44.046875 88.921875 33.015625 \r\nL 88.921875 0 \r\nL 79.890625 0 \r\nL 79.890625 32.71875 \r\nQ 79.890625 40.578125 77.09375 44.375 \r\nQ 74.3125 48.1875 68.609375 48.1875 \r\nQ 61.625 48.1875 57.5625 43.546875 \r\nQ 53.515625 38.921875 53.515625 30.90625 \r\nL 53.515625 0 \r\nL 44.484375 0 \r\nL 44.484375 32.71875 \r\nQ 44.484375 40.625 41.703125 44.40625 \r\nQ 38.921875 48.1875 33.109375 48.1875 \r\nQ 26.21875 48.1875 22.15625 43.53125 \r\nQ 18.109375 38.875 18.109375 30.90625 \r\nL 18.109375 0 \r\nL 9.078125 0 \r\nL 9.078125 54.6875 \r\nL 18.109375 54.6875 \r\nL 18.109375 46.1875 \r\nQ 21.1875 51.21875 25.484375 53.609375 \r\nQ 29.78125 56 35.6875 56 \r\nQ 41.65625 56 45.828125 52.96875 \r\nQ 50 49.953125 52 44.1875 \r\nz\r\n\" id=\"DejaVuSans-109\"/>\r\n      <path d=\"M 18.109375 8.203125 \r\nL 18.109375 -20.796875 \r\nL 9.078125 -20.796875 \r\nL 9.078125 54.6875 \r\nL 18.109375 54.6875 \r\nL 18.109375 46.390625 \r\nQ 20.953125 51.265625 25.265625 53.625 \r\nQ 29.59375 56 35.59375 56 \r\nQ 45.5625 56 51.78125 48.09375 \r\nQ 58.015625 40.1875 58.015625 27.296875 \r\nQ 58.015625 14.40625 51.78125 6.484375 \r\nQ 45.5625 -1.421875 35.59375 -1.421875 \r\nQ 29.59375 -1.421875 25.265625 0.953125 \r\nQ 20.953125 3.328125 18.109375 8.203125 \r\nz\r\nM 48.6875 27.296875 \r\nQ 48.6875 37.203125 44.609375 42.84375 \r\nQ 40.53125 48.484375 33.40625 48.484375 \r\nQ 26.265625 48.484375 22.1875 42.84375 \r\nQ 18.109375 37.203125 18.109375 27.296875 \r\nQ 18.109375 17.390625 22.1875 11.75 \r\nQ 26.265625 6.109375 33.40625 6.109375 \r\nQ 40.53125 6.109375 44.609375 11.75 \r\nQ 48.6875 17.390625 48.6875 27.296875 \r\nz\r\n\" id=\"DejaVuSans-112\"/>\r\n      <path d=\"M 54.890625 33.015625 \r\nL 54.890625 0 \r\nL 45.90625 0 \r\nL 45.90625 32.71875 \r\nQ 45.90625 40.484375 42.875 44.328125 \r\nQ 39.84375 48.1875 33.796875 48.1875 \r\nQ 26.515625 48.1875 22.3125 43.546875 \r\nQ 18.109375 38.921875 18.109375 30.90625 \r\nL 18.109375 0 \r\nL 9.078125 0 \r\nL 9.078125 54.6875 \r\nL 18.109375 54.6875 \r\nL 18.109375 46.1875 \r\nQ 21.34375 51.125 25.703125 53.5625 \r\nQ 30.078125 56 35.796875 56 \r\nQ 45.21875 56 50.046875 50.171875 \r\nQ 54.890625 44.34375 54.890625 33.015625 \r\nz\r\n\" id=\"DejaVuSans-110\"/>\r\n      <path d=\"M 31 75.875 \r\nQ 24.46875 64.65625 21.28125 53.65625 \r\nQ 18.109375 42.671875 18.109375 31.390625 \r\nQ 18.109375 20.125 21.3125 9.0625 \r\nQ 24.515625 -2 31 -13.1875 \r\nL 23.1875 -13.1875 \r\nQ 15.875 -1.703125 12.234375 9.375 \r\nQ 8.59375 20.453125 8.59375 31.390625 \r\nQ 8.59375 42.28125 12.203125 53.3125 \r\nQ 15.828125 64.359375 23.1875 75.875 \r\nz\r\n\" id=\"DejaVuSans-40\"/>\r\n      <path d=\"M 6.296875 72.90625 \r\nL 16.890625 72.90625 \r\nL 35.015625 45.796875 \r\nL 53.21875 72.90625 \r\nL 63.8125 72.90625 \r\nL 40.375 37.890625 \r\nL 65.375 0 \r\nL 54.78125 0 \r\nL 34.28125 31 \r\nL 13.625 0 \r\nL 2.984375 0 \r\nL 29 38.921875 \r\nz\r\n\" id=\"DejaVuSans-88\"/>\r\n      <path d=\"M 59.515625 10.40625 \r\nL 59.515625 29.984375 \r\nL 43.40625 29.984375 \r\nL 43.40625 38.09375 \r\nL 69.28125 38.09375 \r\nL 69.28125 6.78125 \r\nQ 63.578125 2.734375 56.6875 0.65625 \r\nQ 49.8125 -1.421875 42 -1.421875 \r\nQ 24.90625 -1.421875 15.25 8.5625 \r\nQ 5.609375 18.5625 5.609375 36.375 \r\nQ 5.609375 54.25 15.25 64.234375 \r\nQ 24.90625 74.21875 42 74.21875 \r\nQ 49.125 74.21875 55.546875 72.453125 \r\nQ 61.96875 70.703125 67.390625 67.28125 \r\nL 67.390625 56.78125 \r\nQ 61.921875 61.421875 55.765625 63.765625 \r\nQ 49.609375 66.109375 42.828125 66.109375 \r\nQ 29.4375 66.109375 22.71875 58.640625 \r\nQ 16.015625 51.171875 16.015625 36.375 \r\nQ 16.015625 21.625 22.71875 14.15625 \r\nQ 29.4375 6.6875 42.828125 6.6875 \r\nQ 48.046875 6.6875 52.140625 7.59375 \r\nQ 56.25 8.5 59.515625 10.40625 \r\nz\r\n\" id=\"DejaVuSans-71\"/>\r\n      <path d=\"M 19.671875 34.8125 \r\nL 19.671875 8.109375 \r\nL 35.5 8.109375 \r\nQ 43.453125 8.109375 47.28125 11.40625 \r\nQ 51.125 14.703125 51.125 21.484375 \r\nQ 51.125 28.328125 47.28125 31.5625 \r\nQ 43.453125 34.8125 35.5 34.8125 \r\nz\r\nM 19.671875 64.796875 \r\nL 19.671875 42.828125 \r\nL 34.28125 42.828125 \r\nQ 41.5 42.828125 45.03125 45.53125 \r\nQ 48.578125 48.25 48.578125 53.8125 \r\nQ 48.578125 59.328125 45.03125 62.0625 \r\nQ 41.5 64.796875 34.28125 64.796875 \r\nz\r\nM 9.8125 72.90625 \r\nL 35.015625 72.90625 \r\nQ 46.296875 72.90625 52.390625 68.21875 \r\nQ 58.5 63.53125 58.5 54.890625 \r\nQ 58.5 48.1875 55.375 44.234375 \r\nQ 52.25 40.28125 46.1875 39.3125 \r\nQ 53.46875 37.75 57.5 32.78125 \r\nQ 61.53125 27.828125 61.53125 20.40625 \r\nQ 61.53125 10.640625 54.890625 5.3125 \r\nQ 48.25 0 35.984375 0 \r\nL 9.8125 0 \r\nz\r\n\" id=\"DejaVuSans-66\"/>\r\n      <path d=\"M 8.015625 75.875 \r\nL 15.828125 75.875 \r\nQ 23.140625 64.359375 26.78125 53.3125 \r\nQ 30.421875 42.28125 30.421875 31.390625 \r\nQ 30.421875 20.453125 26.78125 9.375 \r\nQ 23.140625 -1.703125 15.828125 -13.1875 \r\nL 8.015625 -13.1875 \r\nQ 14.5 -2 17.703125 9.0625 \r\nQ 20.90625 20.125 20.90625 31.390625 \r\nQ 20.90625 42.671875 17.703125 53.65625 \r\nQ 14.5 64.65625 8.015625 75.875 \r\nz\r\n\" id=\"DejaVuSans-41\"/>\r\n     </defs>\r\n     <use xlink:href=\"#DejaVuSans-70\"/>\r\n     <use x=\"52.019531\" xlink:href=\"#DejaVuSans-101\"/>\r\n     <use x=\"113.542969\" xlink:href=\"#DejaVuSans-97\"/>\r\n     <use x=\"174.822266\" xlink:href=\"#DejaVuSans-116\"/>\r\n     <use x=\"214.03125\" xlink:href=\"#DejaVuSans-117\"/>\r\n     <use x=\"277.410156\" xlink:href=\"#DejaVuSans-114\"/>\r\n     <use x=\"316.273438\" xlink:href=\"#DejaVuSans-101\"/>\r\n     <use x=\"377.796875\" xlink:href=\"#DejaVuSans-115\"/>\r\n     <use x=\"429.896484\" xlink:href=\"#DejaVuSans-32\"/>\r\n     <use x=\"461.683594\" xlink:href=\"#DejaVuSans-105\"/>\r\n     <use x=\"489.466797\" xlink:href=\"#DejaVuSans-109\"/>\r\n     <use x=\"586.878906\" xlink:href=\"#DejaVuSans-112\"/>\r\n     <use x=\"650.355469\" xlink:href=\"#DejaVuSans-111\"/>\r\n     <use x=\"711.537109\" xlink:href=\"#DejaVuSans-114\"/>\r\n     <use x=\"752.650391\" xlink:href=\"#DejaVuSans-116\"/>\r\n     <use x=\"791.859375\" xlink:href=\"#DejaVuSans-97\"/>\r\n     <use x=\"853.138672\" xlink:href=\"#DejaVuSans-110\"/>\r\n     <use x=\"916.517578\" xlink:href=\"#DejaVuSans-99\"/>\r\n     <use x=\"971.498047\" xlink:href=\"#DejaVuSans-101\"/>\r\n     <use x=\"1033.021484\" xlink:href=\"#DejaVuSans-32\"/>\r\n     <use x=\"1064.808594\" xlink:href=\"#DejaVuSans-40\"/>\r\n     <use x=\"1103.822266\" xlink:href=\"#DejaVuSans-88\"/>\r\n     <use x=\"1172.328125\" xlink:href=\"#DejaVuSans-71\"/>\r\n     <use x=\"1249.818359\" xlink:href=\"#DejaVuSans-66\"/>\r\n     <use x=\"1318.421875\" xlink:href=\"#DejaVuSans-111\"/>\r\n     <use x=\"1379.603516\" xlink:href=\"#DejaVuSans-111\"/>\r\n     <use x=\"1440.785156\" xlink:href=\"#DejaVuSans-115\"/>\r\n     <use x=\"1492.884766\" xlink:href=\"#DejaVuSans-116\"/>\r\n     <use x=\"1532.09375\" xlink:href=\"#DejaVuSans-41\"/>\r\n    </g>\r\n   </g>\r\n  </g>\r\n </g>\r\n <defs>\r\n  <clipPath id=\"p80a356279d\">\r\n   <rect height=\"815.4\" width=\"837\" x=\"44.123438\" y=\"22.318125\"/>\r\n  </clipPath>\r\n </defs>\r\n</svg>\r\n",
      "image/png": "[encoded data removed]"
     },
     "metadata": {
      "needs_background": "light"
     }
    }
   ],
   "source": [
    "fig, (ax) = plt.subplots(ncols=1, figsize=(15,15))\n",
    "xgb.plot_importance(model, height=0.8, title=\"Features importance (XGBoost)\", ax=ax, color=\"green\") \n",
    "plt.show()"
   ]
  },
  {
   "cell_type": "code",
   "execution_count": 32,
   "metadata": {},
   "outputs": [
    {
     "output_type": "stream",
     "name": "stdout",
     "text": [
      "Important Features:\nStd_FHR\ndbID\npCO2\nGest. Weeks\nPeak_FHR\nMean_FHR\nInduced\nMedian_UC\nSex\nWeight(g)\n"
     ]
    }
   ],
   "source": [
    "print(\"Important Features:\")\n",
    "for i in [30,22,1,3,36,26,16,29,5,4]:\n",
    "    print(dts.columns[i])"
   ]
  },
  {
   "source": [
    "# OPTIMIZE XGBOOST HYPERPARAMETERS BY PERFORMING GRID SEARCH"
   ],
   "cell_type": "markdown",
   "metadata": {}
  },
  {
   "cell_type": "code",
   "execution_count": 33,
   "metadata": {
    "tags": [
     "outputPrepend"
    ]
   },
   "outputs": [
    {
     "output_type": "stream",
     "name": "stdout",
     "text": [
      "me=   1.4s\n",
      "[13:12:21] WARNING: ..\\src\\learner.cc:1061: Starting in XGBoost 1.3.0, the default evaluation metric used with the objective 'binary:logistic' was changed from 'error' to 'logloss'. Explicitly set eval_metric if you'd like to restore the old behavior.\n",
      "C:\\Users\\AnantGupta\\Anaconda3\\envs\\mainenv\\lib\\site-packages\\xgboost\\sklearn.py:888: UserWarning: The use of label encoder in XGBClassifier is deprecated and will be removed in a future release. To remove this warning, do the following: 1) Pass option use_label_encoder=False when constructing XGBClassifier object; and 2) Encode your labels (y) as integers starting with 0, i.e. 0, 1, 2, ..., [num_class - 1].\n",
      "  warnings.warn(label_encoder_deprecation_msg, UserWarning)\n",
      "[CV 3/5] END colsample_bytree=1.0, gamma=5, max_depth=7, n_estimators=300, subsample=1.0; total time=   1.5s\n",
      "[13:12:23] WARNING: ..\\src\\learner.cc:1061: Starting in XGBoost 1.3.0, the default evaluation metric used with the objective 'binary:logistic' was changed from 'error' to 'logloss'. Explicitly set eval_metric if you'd like to restore the old behavior.\n",
      "C:\\Users\\AnantGupta\\Anaconda3\\envs\\mainenv\\lib\\site-packages\\xgboost\\sklearn.py:888: UserWarning: The use of label encoder in XGBClassifier is deprecated and will be removed in a future release. To remove this warning, do the following: 1) Pass option use_label_encoder=False when constructing XGBClassifier object; and 2) Encode your labels (y) as integers starting with 0, i.e. 0, 1, 2, ..., [num_class - 1].\n",
      "  warnings.warn(label_encoder_deprecation_msg, UserWarning)\n",
      "[CV 4/5] END colsample_bytree=1.0, gamma=5, max_depth=7, n_estimators=300, subsample=1.0; total time=   1.3s\n",
      "[13:12:24] WARNING: ..\\src\\learner.cc:1061: Starting in XGBoost 1.3.0, the default evaluation metric used with the objective 'binary:logistic' was changed from 'error' to 'logloss'. Explicitly set eval_metric if you'd like to restore the old behavior.\n",
      "C:\\Users\\AnantGupta\\Anaconda3\\envs\\mainenv\\lib\\site-packages\\xgboost\\sklearn.py:888: UserWarning: The use of label encoder in XGBClassifier is deprecated and will be removed in a future release. To remove this warning, do the following: 1) Pass option use_label_encoder=False when constructing XGBClassifier object; and 2) Encode your labels (y) as integers starting with 0, i.e. 0, 1, 2, ..., [num_class - 1].\n",
      "  warnings.warn(label_encoder_deprecation_msg, UserWarning)\n",
      "[CV 5/5] END colsample_bytree=1.0, gamma=5, max_depth=7, n_estimators=300, subsample=1.0; total time=   1.2s\n",
      "[13:12:26] WARNING: ..\\src\\learner.cc:1061: Starting in XGBoost 1.3.0, the default evaluation metric used with the objective 'binary:logistic' was changed from 'error' to 'logloss'. Explicitly set eval_metric if you'd like to restore the old behavior.\n",
      "C:\\Users\\AnantGupta\\Anaconda3\\envs\\mainenv\\lib\\site-packages\\xgboost\\sklearn.py:888: UserWarning: The use of label encoder in XGBClassifier is deprecated and will be removed in a future release. To remove this warning, do the following: 1) Pass option use_label_encoder=False when constructing XGBClassifier object; and 2) Encode your labels (y) as integers starting with 0, i.e. 0, 1, 2, ..., [num_class - 1].\n",
      "  warnings.warn(label_encoder_deprecation_msg, UserWarning)\n",
      "[CV 1/5] END colsample_bytree=1.0, gamma=5, max_depth=5, n_estimators=100, subsample=0.8; total time=   0.4s\n",
      "[13:12:26] WARNING: ..\\src\\learner.cc:1061: Starting in XGBoost 1.3.0, the default evaluation metric used with the objective 'binary:logistic' was changed from 'error' to 'logloss'. Explicitly set eval_metric if you'd like to restore the old behavior.\n",
      "C:\\Users\\AnantGupta\\Anaconda3\\envs\\mainenv\\lib\\site-packages\\xgboost\\sklearn.py:888: UserWarning: The use of label encoder in XGBClassifier is deprecated and will be removed in a future release. To remove this warning, do the following: 1) Pass option use_label_encoder=False when constructing XGBClassifier object; and 2) Encode your labels (y) as integers starting with 0, i.e. 0, 1, 2, ..., [num_class - 1].\n",
      "  warnings.warn(label_encoder_deprecation_msg, UserWarning)\n",
      "[CV 2/5] END colsample_bytree=1.0, gamma=5, max_depth=5, n_estimators=100, subsample=0.8; total time=   0.2s\n",
      "[13:12:26] WARNING: ..\\src\\learner.cc:1061: Starting in XGBoost 1.3.0, the default evaluation metric used with the objective 'binary:logistic' was changed from 'error' to 'logloss'. Explicitly set eval_metric if you'd like to restore the old behavior.\n",
      "C:\\Users\\AnantGupta\\Anaconda3\\envs\\mainenv\\lib\\site-packages\\xgboost\\sklearn.py:888: UserWarning: The use of label encoder in XGBClassifier is deprecated and will be removed in a future release. To remove this warning, do the following: 1) Pass option use_label_encoder=False when constructing XGBClassifier object; and 2) Encode your labels (y) as integers starting with 0, i.e. 0, 1, 2, ..., [num_class - 1].\n",
      "  warnings.warn(label_encoder_deprecation_msg, UserWarning)\n",
      "[CV 3/5] END colsample_bytree=1.0, gamma=5, max_depth=5, n_estimators=100, subsample=0.8; total time=   0.4s\n",
      "[13:12:27] WARNING: ..\\src\\learner.cc:1061: Starting in XGBoost 1.3.0, the default evaluation metric used with the objective 'binary:logistic' was changed from 'error' to 'logloss'. Explicitly set eval_metric if you'd like to restore the old behavior.\n",
      "C:\\Users\\AnantGupta\\Anaconda3\\envs\\mainenv\\lib\\site-packages\\xgboost\\sklearn.py:888: UserWarning: The use of label encoder in XGBClassifier is deprecated and will be removed in a future release. To remove this warning, do the following: 1) Pass option use_label_encoder=False when constructing XGBClassifier object; and 2) Encode your labels (y) as integers starting with 0, i.e. 0, 1, 2, ..., [num_class - 1].\n",
      "  warnings.warn(label_encoder_deprecation_msg, UserWarning)\n",
      "[CV 4/5] END colsample_bytree=1.0, gamma=5, max_depth=5, n_estimators=100, subsample=0.8; total time=   0.3s\n",
      "[13:12:27] WARNING: ..\\src\\learner.cc:1061: Starting in XGBoost 1.3.0, the default evaluation metric used with the objective 'binary:logistic' was changed from 'error' to 'logloss'. Explicitly set eval_metric if you'd like to restore the old behavior.\n",
      "C:\\Users\\AnantGupta\\Anaconda3\\envs\\mainenv\\lib\\site-packages\\xgboost\\sklearn.py:888: UserWarning: The use of label encoder in XGBClassifier is deprecated and will be removed in a future release. To remove this warning, do the following: 1) Pass option use_label_encoder=False when constructing XGBClassifier object; and 2) Encode your labels (y) as integers starting with 0, i.e. 0, 1, 2, ..., [num_class - 1].\n",
      "  warnings.warn(label_encoder_deprecation_msg, UserWarning)\n",
      "[CV 5/5] END colsample_bytree=1.0, gamma=5, max_depth=5, n_estimators=100, subsample=0.8; total time=   0.2s\n",
      "[13:12:28] WARNING: ..\\src\\learner.cc:1061: Starting in XGBoost 1.3.0, the default evaluation metric used with the objective 'binary:logistic' was changed from 'error' to 'logloss'. Explicitly set eval_metric if you'd like to restore the old behavior.\n",
      "C:\\Users\\AnantGupta\\Anaconda3\\envs\\mainenv\\lib\\site-packages\\xgboost\\sklearn.py:888: UserWarning: The use of label encoder in XGBClassifier is deprecated and will be removed in a future release. To remove this warning, do the following: 1) Pass option use_label_encoder=False when constructing XGBClassifier object; and 2) Encode your labels (y) as integers starting with 0, i.e. 0, 1, 2, ..., [num_class - 1].\n",
      "  warnings.warn(label_encoder_deprecation_msg, UserWarning)\n",
      "[CV 1/5] END colsample_bytree=1.0, gamma=5, max_depth=5, n_estimators=100, subsample=1.0; total time=   0.3s\n",
      "[13:12:28] WARNING: ..\\src\\learner.cc:1061: Starting in XGBoost 1.3.0, the default evaluation metric used with the objective 'binary:logistic' was changed from 'error' to 'logloss'. Explicitly set eval_metric if you'd like to restore the old behavior.\n",
      "C:\\Users\\AnantGupta\\Anaconda3\\envs\\mainenv\\lib\\site-packages\\xgboost\\sklearn.py:888: UserWarning: The use of label encoder in XGBClassifier is deprecated and will be removed in a future release. To remove this warning, do the following: 1) Pass option use_label_encoder=False when constructing XGBClassifier object; and 2) Encode your labels (y) as integers starting with 0, i.e. 0, 1, 2, ..., [num_class - 1].\n",
      "  warnings.warn(label_encoder_deprecation_msg, UserWarning)\n",
      "[CV 2/5] END colsample_bytree=1.0, gamma=5, max_depth=5, n_estimators=100, subsample=1.0; total time=   0.5s\n",
      "[13:12:29] WARNING: ..\\src\\learner.cc:1061: Starting in XGBoost 1.3.0, the default evaluation metric used with the objective 'binary:logistic' was changed from 'error' to 'logloss'. Explicitly set eval_metric if you'd like to restore the old behavior.\n",
      "C:\\Users\\AnantGupta\\Anaconda3\\envs\\mainenv\\lib\\site-packages\\xgboost\\sklearn.py:888: UserWarning: The use of label encoder in XGBClassifier is deprecated and will be removed in a future release. To remove this warning, do the following: 1) Pass option use_label_encoder=False when constructing XGBClassifier object; and 2) Encode your labels (y) as integers starting with 0, i.e. 0, 1, 2, ..., [num_class - 1].\n",
      "  warnings.warn(label_encoder_deprecation_msg, UserWarning)\n",
      "[CV 3/5] END colsample_bytree=1.0, gamma=5, max_depth=5, n_estimators=100, subsample=1.0; total time=   0.4s\n",
      "[13:12:29] WARNING: ..\\src\\learner.cc:1061: Starting in XGBoost 1.3.0, the default evaluation metric used with the objective 'binary:logistic' was changed from 'error' to 'logloss'. Explicitly set eval_metric if you'd like to restore the old behavior.\n",
      "C:\\Users\\AnantGupta\\Anaconda3\\envs\\mainenv\\lib\\site-packages\\xgboost\\sklearn.py:888: UserWarning: The use of label encoder in XGBClassifier is deprecated and will be removed in a future release. To remove this warning, do the following: 1) Pass option use_label_encoder=False when constructing XGBClassifier object; and 2) Encode your labels (y) as integers starting with 0, i.e. 0, 1, 2, ..., [num_class - 1].\n",
      "  warnings.warn(label_encoder_deprecation_msg, UserWarning)\n",
      "[CV 4/5] END colsample_bytree=1.0, gamma=5, max_depth=5, n_estimators=100, subsample=1.0; total time=   0.3s\n",
      "[13:12:29] WARNING: ..\\src\\learner.cc:1061: Starting in XGBoost 1.3.0, the default evaluation metric used with the objective 'binary:logistic' was changed from 'error' to 'logloss'. Explicitly set eval_metric if you'd like to restore the old behavior.\n",
      "C:\\Users\\AnantGupta\\Anaconda3\\envs\\mainenv\\lib\\site-packages\\xgboost\\sklearn.py:888: UserWarning: The use of label encoder in XGBClassifier is deprecated and will be removed in a future release. To remove this warning, do the following: 1) Pass option use_label_encoder=False when constructing XGBClassifier object; and 2) Encode your labels (y) as integers starting with 0, i.e. 0, 1, 2, ..., [num_class - 1].\n",
      "  warnings.warn(label_encoder_deprecation_msg, UserWarning)\n",
      "[CV 5/5] END colsample_bytree=1.0, gamma=5, max_depth=5, n_estimators=100, subsample=1.0; total time=   0.4s\n",
      "[13:12:30] WARNING: ..\\src\\learner.cc:1061: Starting in XGBoost 1.3.0, the default evaluation metric used with the objective 'binary:logistic' was changed from 'error' to 'logloss'. Explicitly set eval_metric if you'd like to restore the old behavior.\n",
      "C:\\Users\\AnantGupta\\Anaconda3\\envs\\mainenv\\lib\\site-packages\\xgboost\\sklearn.py:888: UserWarning: The use of label encoder in XGBClassifier is deprecated and will be removed in a future release. To remove this warning, do the following: 1) Pass option use_label_encoder=False when constructing XGBClassifier object; and 2) Encode your labels (y) as integers starting with 0, i.e. 0, 1, 2, ..., [num_class - 1].\n",
      "  warnings.warn(label_encoder_deprecation_msg, UserWarning)\n",
      "[CV 1/5] END colsample_bytree=1.0, gamma=5, max_depth=5, n_estimators=300, subsample=0.8; total time=   1.1s\n",
      "[13:12:31] WARNING: ..\\src\\learner.cc:1061: Starting in XGBoost 1.3.0, the default evaluation metric used with the objective 'binary:logistic' was changed from 'error' to 'logloss'. Explicitly set eval_metric if you'd like to restore the old behavior.\n",
      "C:\\Users\\AnantGupta\\Anaconda3\\envs\\mainenv\\lib\\site-packages\\xgboost\\sklearn.py:888: UserWarning: The use of label encoder in XGBClassifier is deprecated and will be removed in a future release. To remove this warning, do the following: 1) Pass option use_label_encoder=False when constructing XGBClassifier object; and 2) Encode your labels (y) as integers starting with 0, i.e. 0, 1, 2, ..., [num_class - 1].\n",
      "  warnings.warn(label_encoder_deprecation_msg, UserWarning)\n",
      "[CV 2/5] END colsample_bytree=1.0, gamma=5, max_depth=5, n_estimators=300, subsample=0.8; total time=   1.0s\n",
      "[13:12:32] WARNING: ..\\src\\learner.cc:1061: Starting in XGBoost 1.3.0, the default evaluation metric used with the objective 'binary:logistic' was changed from 'error' to 'logloss'. Explicitly set eval_metric if you'd like to restore the old behavior.\n",
      "C:\\Users\\AnantGupta\\Anaconda3\\envs\\mainenv\\lib\\site-packages\\xgboost\\sklearn.py:888: UserWarning: The use of label encoder in XGBClassifier is deprecated and will be removed in a future release. To remove this warning, do the following: 1) Pass option use_label_encoder=False when constructing XGBClassifier object; and 2) Encode your labels (y) as integers starting with 0, i.e. 0, 1, 2, ..., [num_class - 1].\n",
      "  warnings.warn(label_encoder_deprecation_msg, UserWarning)\n",
      "[CV 3/5] END colsample_bytree=1.0, gamma=5, max_depth=5, n_estimators=300, subsample=0.8; total time=   1.0s\n",
      "[13:12:33] WARNING: ..\\src\\learner.cc:1061: Starting in XGBoost 1.3.0, the default evaluation metric used with the objective 'binary:logistic' was changed from 'error' to 'logloss'. Explicitly set eval_metric if you'd like to restore the old behavior.\n",
      "C:\\Users\\AnantGupta\\Anaconda3\\envs\\mainenv\\lib\\site-packages\\xgboost\\sklearn.py:888: UserWarning: The use of label encoder in XGBClassifier is deprecated and will be removed in a future release. To remove this warning, do the following: 1) Pass option use_label_encoder=False when constructing XGBClassifier object; and 2) Encode your labels (y) as integers starting with 0, i.e. 0, 1, 2, ..., [num_class - 1].\n",
      "  warnings.warn(label_encoder_deprecation_msg, UserWarning)\n",
      "[CV 4/5] END colsample_bytree=1.0, gamma=5, max_depth=5, n_estimators=300, subsample=0.8; total time=   2.6s\n",
      "[13:12:36] WARNING: ..\\src\\learner.cc:1061: Starting in XGBoost 1.3.0, the default evaluation metric used with the objective 'binary:logistic' was changed from 'error' to 'logloss'. Explicitly set eval_metric if you'd like to restore the old behavior.\n",
      "C:\\Users\\AnantGupta\\Anaconda3\\envs\\mainenv\\lib\\site-packages\\xgboost\\sklearn.py:888: UserWarning: The use of label encoder in XGBClassifier is deprecated and will be removed in a future release. To remove this warning, do the following: 1) Pass option use_label_encoder=False when constructing XGBClassifier object; and 2) Encode your labels (y) as integers starting with 0, i.e. 0, 1, 2, ..., [num_class - 1].\n",
      "  warnings.warn(label_encoder_deprecation_msg, UserWarning)\n",
      "[CV 5/5] END colsample_bytree=1.0, gamma=5, max_depth=5, n_estimators=300, subsample=0.8; total time=   1.3s\n",
      "[13:12:37] WARNING: ..\\src\\learner.cc:1061: Starting in XGBoost 1.3.0, the default evaluation metric used with the objective 'binary:logistic' was changed from 'error' to 'logloss'. Explicitly set eval_metric if you'd like to restore the old behavior.\n",
      "C:\\Users\\AnantGupta\\Anaconda3\\envs\\mainenv\\lib\\site-packages\\xgboost\\sklearn.py:888: UserWarning: The use of label encoder in XGBClassifier is deprecated and will be removed in a future release. To remove this warning, do the following: 1) Pass option use_label_encoder=False when constructing XGBClassifier object; and 2) Encode your labels (y) as integers starting with 0, i.e. 0, 1, 2, ..., [num_class - 1].\n",
      "  warnings.warn(label_encoder_deprecation_msg, UserWarning)\n",
      "[CV 1/5] END colsample_bytree=1.0, gamma=5, max_depth=5, n_estimators=300, subsample=1.0; total time=   2.1s\n",
      "[13:12:40] WARNING: ..\\src\\learner.cc:1061: Starting in XGBoost 1.3.0, the default evaluation metric used with the objective 'binary:logistic' was changed from 'error' to 'logloss'. Explicitly set eval_metric if you'd like to restore the old behavior.\n",
      "C:\\Users\\AnantGupta\\Anaconda3\\envs\\mainenv\\lib\\site-packages\\xgboost\\sklearn.py:888: UserWarning: The use of label encoder in XGBClassifier is deprecated and will be removed in a future release. To remove this warning, do the following: 1) Pass option use_label_encoder=False when constructing XGBClassifier object; and 2) Encode your labels (y) as integers starting with 0, i.e. 0, 1, 2, ..., [num_class - 1].\n",
      "  warnings.warn(label_encoder_deprecation_msg, UserWarning)\n",
      "[CV 2/5] END colsample_bytree=1.0, gamma=5, max_depth=5, n_estimators=300, subsample=1.0; total time=   1.1s\n",
      "[13:12:41] WARNING: ..\\src\\learner.cc:1061: Starting in XGBoost 1.3.0, the default evaluation metric used with the objective 'binary:logistic' was changed from 'error' to 'logloss'. Explicitly set eval_metric if you'd like to restore the old behavior.\n",
      "C:\\Users\\AnantGupta\\Anaconda3\\envs\\mainenv\\lib\\site-packages\\xgboost\\sklearn.py:888: UserWarning: The use of label encoder in XGBClassifier is deprecated and will be removed in a future release. To remove this warning, do the following: 1) Pass option use_label_encoder=False when constructing XGBClassifier object; and 2) Encode your labels (y) as integers starting with 0, i.e. 0, 1, 2, ..., [num_class - 1].\n",
      "  warnings.warn(label_encoder_deprecation_msg, UserWarning)\n",
      "[CV 3/5] END colsample_bytree=1.0, gamma=5, max_depth=5, n_estimators=300, subsample=1.0; total time=   1.0s\n",
      "[13:12:42] WARNING: ..\\src\\learner.cc:1061: Starting in XGBoost 1.3.0, the default evaluation metric used with the objective 'binary:logistic' was changed from 'error' to 'logloss'. Explicitly set eval_metric if you'd like to restore the old behavior.\n",
      "C:\\Users\\AnantGupta\\Anaconda3\\envs\\mainenv\\lib\\site-packages\\xgboost\\sklearn.py:888: UserWarning: The use of label encoder in XGBClassifier is deprecated and will be removed in a future release. To remove this warning, do the following: 1) Pass option use_label_encoder=False when constructing XGBClassifier object; and 2) Encode your labels (y) as integers starting with 0, i.e. 0, 1, 2, ..., [num_class - 1].\n",
      "  warnings.warn(label_encoder_deprecation_msg, UserWarning)\n",
      "[CV 4/5] END colsample_bytree=1.0, gamma=5, max_depth=5, n_estimators=300, subsample=1.0; total time=   1.0s\n",
      "[13:12:43] WARNING: ..\\src\\learner.cc:1061: Starting in XGBoost 1.3.0, the default evaluation metric used with the objective 'binary:logistic' was changed from 'error' to 'logloss'. Explicitly set eval_metric if you'd like to restore the old behavior.\n",
      "C:\\Users\\AnantGupta\\Anaconda3\\envs\\mainenv\\lib\\site-packages\\xgboost\\sklearn.py:888: UserWarning: The use of label encoder in XGBClassifier is deprecated and will be removed in a future release. To remove this warning, do the following: 1) Pass option use_label_encoder=False when constructing XGBClassifier object; and 2) Encode your labels (y) as integers starting with 0, i.e. 0, 1, 2, ..., [num_class - 1].\n",
      "  warnings.warn(label_encoder_deprecation_msg, UserWarning)\n",
      "[CV 5/5] END colsample_bytree=1.0, gamma=5, max_depth=5, n_estimators=300, subsample=1.0; total time=   0.9s\n",
      "[13:12:44] WARNING: ..\\src\\learner.cc:1061: Starting in XGBoost 1.3.0, the default evaluation metric used with the objective 'binary:logistic' was changed from 'error' to 'logloss'. Explicitly set eval_metric if you'd like to restore the old behavior.\n",
      "C:\\Users\\AnantGupta\\Anaconda3\\envs\\mainenv\\lib\\site-packages\\xgboost\\sklearn.py:888: UserWarning: The use of label encoder in XGBClassifier is deprecated and will be removed in a future release. To remove this warning, do the following: 1) Pass option use_label_encoder=False when constructing XGBClassifier object; and 2) Encode your labels (y) as integers starting with 0, i.e. 0, 1, 2, ..., [num_class - 1].\n",
      "  warnings.warn(label_encoder_deprecation_msg, UserWarning)\n",
      "Best Score: 93.59 %\n",
      "Best Parameters: {'colsample_bytree': 0.8, 'gamma': 1, 'max_depth': 7, 'n_estimators': 300, 'subsample': 1.0}\n"
     ]
    }
   ],
   "source": [
    "from sklearn.model_selection import GridSearchCV\n",
    "\n",
    "param_grid = {'gamma': [1, 5],   # regularization parameter\n",
    "              'subsample': [0.8, 1.0], # % of rows taken to build each tree\n",
    "              'colsample_bytree': [0.8, 1.0], # number of columns used by each tree\n",
    "              'max_depth': [7, 5], # depth of each tree\n",
    "              'n_estimators': [100, 300] #no. of trees\n",
    "             }\n",
    "\n",
    "xgb_model = xgb.XGBClassifier(objective='binary:logistic', learning_rate = 0.01)\n",
    "grid = GridSearchCV(xgb_model, \n",
    "                    param_grid, \n",
    "                    refit = True, \n",
    "                    verbose = 4\n",
    "                   )\n",
    "grid.fit(X_train, y_train)\n",
    "print(\"Best Score: {:.2f} %\".format(grid.best_score_ * 100))\n",
    "print(\"Best Parameters:\", grid.best_params_)"
   ]
  },
  {
   "cell_type": "code",
   "execution_count": 34,
   "metadata": {},
   "outputs": [
    {
     "output_type": "stream",
     "name": "stdout",
     "text": [
      "Best Score: 93.59 %\nBest Parameters: {'colsample_bytree': 0.8, 'gamma': 1, 'max_depth': 7, 'n_estimators': 300, 'subsample': 1.0}\n"
     ]
    }
   ],
   "source": [
    "print(\"Best Score: {:.2f} %\".format(grid.best_score_ * 100))\n",
    "print(\"Best Parameters:\", grid.best_params_)"
   ]
  },
  {
   "cell_type": "code",
   "execution_count": 35,
   "metadata": {},
   "outputs": [
    {
     "output_type": "stream",
     "name": "stdout",
     "text": [
      "Accuracy 95.38 %\nConfusion matrix :- \n [[93  4]\n [ 5 93]]\nClassification Report :- \n               precision    recall  f1-score   support\n\n         0.0       0.95      0.96      0.95        97\n         1.0       0.96      0.95      0.95        98\n\n    accuracy                           0.95       195\n   macro avg       0.95      0.95      0.95       195\nweighted avg       0.95      0.95      0.95       195\n\n"
     ]
    }
   ],
   "source": [
    "grid_model = grid.best_estimator_\n",
    "\n",
    "pred = grid_model.predict(X_test)\n",
    "\n",
    "print(\"Accuracy {:.2f} %\".format( 100 * accuracy_score(y_test, pred)))\n",
    "# Testing Set Performance\n",
    "print('Confusion matrix :- \\n',confusion_matrix(y_test, pred))\n",
    "print(\"Classification Report :- \\n\",classification_report(y_test, pred))"
   ]
  },
  {
   "source": [
    "# Performing K-fold Cross Validation on XGBoost model"
   ],
   "cell_type": "markdown",
   "metadata": {}
  },
  {
   "cell_type": "code",
   "execution_count": 38,
   "metadata": {},
   "outputs": [
    {
     "output_type": "stream",
     "name": "stderr",
     "text": [
      "C:\\Users\\AnantGupta\\Anaconda3\\envs\\mainenv\\lib\\site-packages\\xgboost\\sklearn.py:888: UserWarning: The use of label encoder in XGBClassifier is deprecated and will be removed in a future release. To remove this warning, do the following: 1) Pass option use_label_encoder=False when constructing XGBClassifier object; and 2) Encode your labels (y) as integers starting with 0, i.e. 0, 1, 2, ..., [num_class - 1].\n",
      "  warnings.warn(label_encoder_deprecation_msg, UserWarning)\n",
      "[13:15:41] WARNING: ..\\src\\learner.cc:1061: Starting in XGBoost 1.3.0, the default evaluation metric used with the objective 'binary:logistic' was changed from 'error' to 'logloss'. Explicitly set eval_metric if you'd like to restore the old behavior.\n",
      "C:\\Users\\AnantGupta\\Anaconda3\\envs\\mainenv\\lib\\site-packages\\xgboost\\sklearn.py:888: UserWarning: The use of label encoder in XGBClassifier is deprecated and will be removed in a future release. To remove this warning, do the following: 1) Pass option use_label_encoder=False when constructing XGBClassifier object; and 2) Encode your labels (y) as integers starting with 0, i.e. 0, 1, 2, ..., [num_class - 1].\n",
      "  warnings.warn(label_encoder_deprecation_msg, UserWarning)\n",
      "[13:15:42] WARNING: ..\\src\\learner.cc:1061: Starting in XGBoost 1.3.0, the default evaluation metric used with the objective 'binary:logistic' was changed from 'error' to 'logloss'. Explicitly set eval_metric if you'd like to restore the old behavior.\n",
      "C:\\Users\\AnantGupta\\Anaconda3\\envs\\mainenv\\lib\\site-packages\\xgboost\\sklearn.py:888: UserWarning: The use of label encoder in XGBClassifier is deprecated and will be removed in a future release. To remove this warning, do the following: 1) Pass option use_label_encoder=False when constructing XGBClassifier object; and 2) Encode your labels (y) as integers starting with 0, i.e. 0, 1, 2, ..., [num_class - 1].\n",
      "  warnings.warn(label_encoder_deprecation_msg, UserWarning)\n",
      "[13:15:44] WARNING: ..\\src\\learner.cc:1061: Starting in XGBoost 1.3.0, the default evaluation metric used with the objective 'binary:logistic' was changed from 'error' to 'logloss'. Explicitly set eval_metric if you'd like to restore the old behavior.\n",
      "C:\\Users\\AnantGupta\\Anaconda3\\envs\\mainenv\\lib\\site-packages\\xgboost\\sklearn.py:888: UserWarning: The use of label encoder in XGBClassifier is deprecated and will be removed in a future release. To remove this warning, do the following: 1) Pass option use_label_encoder=False when constructing XGBClassifier object; and 2) Encode your labels (y) as integers starting with 0, i.e. 0, 1, 2, ..., [num_class - 1].\n",
      "  warnings.warn(label_encoder_deprecation_msg, UserWarning)\n",
      "[13:15:45] WARNING: ..\\src\\learner.cc:1061: Starting in XGBoost 1.3.0, the default evaluation metric used with the objective 'binary:logistic' was changed from 'error' to 'logloss'. Explicitly set eval_metric if you'd like to restore the old behavior.\n",
      "C:\\Users\\AnantGupta\\Anaconda3\\envs\\mainenv\\lib\\site-packages\\xgboost\\sklearn.py:888: UserWarning: The use of label encoder in XGBClassifier is deprecated and will be removed in a future release. To remove this warning, do the following: 1) Pass option use_label_encoder=False when constructing XGBClassifier object; and 2) Encode your labels (y) as integers starting with 0, i.e. 0, 1, 2, ..., [num_class - 1].\n",
      "  warnings.warn(label_encoder_deprecation_msg, UserWarning)\n",
      "[13:15:47] WARNING: ..\\src\\learner.cc:1061: Starting in XGBoost 1.3.0, the default evaluation metric used with the objective 'binary:logistic' was changed from 'error' to 'logloss'. Explicitly set eval_metric if you'd like to restore the old behavior.\n",
      "C:\\Users\\AnantGupta\\Anaconda3\\envs\\mainenv\\lib\\site-packages\\xgboost\\sklearn.py:888: UserWarning: The use of label encoder in XGBClassifier is deprecated and will be removed in a future release. To remove this warning, do the following: 1) Pass option use_label_encoder=False when constructing XGBClassifier object; and 2) Encode your labels (y) as integers starting with 0, i.e. 0, 1, 2, ..., [num_class - 1].\n",
      "  warnings.warn(label_encoder_deprecation_msg, UserWarning)\n",
      "[13:15:49] WARNING: ..\\src\\learner.cc:1061: Starting in XGBoost 1.3.0, the default evaluation metric used with the objective 'binary:logistic' was changed from 'error' to 'logloss'. Explicitly set eval_metric if you'd like to restore the old behavior.\n",
      "C:\\Users\\AnantGupta\\Anaconda3\\envs\\mainenv\\lib\\site-packages\\xgboost\\sklearn.py:888: UserWarning: The use of label encoder in XGBClassifier is deprecated and will be removed in a future release. To remove this warning, do the following: 1) Pass option use_label_encoder=False when constructing XGBClassifier object; and 2) Encode your labels (y) as integers starting with 0, i.e. 0, 1, 2, ..., [num_class - 1].\n",
      "  warnings.warn(label_encoder_deprecation_msg, UserWarning)\n",
      "[13:15:50] WARNING: ..\\src\\learner.cc:1061: Starting in XGBoost 1.3.0, the default evaluation metric used with the objective 'binary:logistic' was changed from 'error' to 'logloss'. Explicitly set eval_metric if you'd like to restore the old behavior.\n",
      "C:\\Users\\AnantGupta\\Anaconda3\\envs\\mainenv\\lib\\site-packages\\xgboost\\sklearn.py:888: UserWarning: The use of label encoder in XGBClassifier is deprecated and will be removed in a future release. To remove this warning, do the following: 1) Pass option use_label_encoder=False when constructing XGBClassifier object; and 2) Encode your labels (y) as integers starting with 0, i.e. 0, 1, 2, ..., [num_class - 1].\n",
      "  warnings.warn(label_encoder_deprecation_msg, UserWarning)\n",
      "[13:15:51] WARNING: ..\\src\\learner.cc:1061: Starting in XGBoost 1.3.0, the default evaluation metric used with the objective 'binary:logistic' was changed from 'error' to 'logloss'. Explicitly set eval_metric if you'd like to restore the old behavior.\n",
      "C:\\Users\\AnantGupta\\Anaconda3\\envs\\mainenv\\lib\\site-packages\\xgboost\\sklearn.py:888: UserWarning: The use of label encoder in XGBClassifier is deprecated and will be removed in a future release. To remove this warning, do the following: 1) Pass option use_label_encoder=False when constructing XGBClassifier object; and 2) Encode your labels (y) as integers starting with 0, i.e. 0, 1, 2, ..., [num_class - 1].\n",
      "  warnings.warn(label_encoder_deprecation_msg, UserWarning)\n",
      "[13:15:53] WARNING: ..\\src\\learner.cc:1061: Starting in XGBoost 1.3.0, the default evaluation metric used with the objective 'binary:logistic' was changed from 'error' to 'logloss'. Explicitly set eval_metric if you'd like to restore the old behavior.\n",
      "C:\\Users\\AnantGupta\\Anaconda3\\envs\\mainenv\\lib\\site-packages\\xgboost\\sklearn.py:888: UserWarning: The use of label encoder in XGBClassifier is deprecated and will be removed in a future release. To remove this warning, do the following: 1) Pass option use_label_encoder=False when constructing XGBClassifier object; and 2) Encode your labels (y) as integers starting with 0, i.e. 0, 1, 2, ..., [num_class - 1].\n",
      "  warnings.warn(label_encoder_deprecation_msg, UserWarning)\n",
      "[13:15:55] WARNING: ..\\src\\learner.cc:1061: Starting in XGBoost 1.3.0, the default evaluation metric used with the objective 'binary:logistic' was changed from 'error' to 'logloss'. Explicitly set eval_metric if you'd like to restore the old behavior.\n",
      "Accuracies of 10-flod cv: [0.78571429 0.97959184 0.86734694 0.95918367 0.95918367 0.91752577\n",
      " 0.94845361 0.92783505 0.96907216 0.97938144]\n",
      "Accuracy: 92.93 %\n",
      "Standard Deviation: 5.78 %\n"
     ]
    }
   ],
   "source": [
    "from sklearn.model_selection import cross_val_score\n",
    "# Hyper parameter tuned model by grid search\n",
    "accuracies = cross_val_score(estimator = grid_model, X = sc.transform(X), y = y, cv = 10)\n",
    "print(\"Accuracies of 10-flod cv:\", accuracies)\n",
    "print(\"Accuracy: {:.2f} %\".format(accuracies.mean()*100))\n",
    "print(\"Standard Deviation: {:.2f} %\".format(accuracies.std()*100))"
   ]
  },
  {
   "cell_type": "code",
   "execution_count": 41,
   "metadata": {},
   "outputs": [
    {
     "output_type": "stream",
     "name": "stdout",
     "text": [
      "Accuracies of 10-flod cv: [0.78571429 0.97959184 0.86734694 0.95918367 0.95918367 0.91752577\n 0.94845361 0.92783505 0.96907216 0.97938144]\nMean Accuracy of 10-folds: 92.93 %\nStandard Deviation of 10-folds: 5.78 %\n"
     ]
    }
   ],
   "source": [
    "print(\"Accuracies of 10-flod cv:\", accuracies)\n",
    "print(\"Mean Accuracy of 10-folds: {:.2f} %\".format(accuracies.mean()*100))\n",
    "print(\"Standard Deviation of 10-folds: {:.2f} %\".format(accuracies.std()*100))"
   ]
  },
  {
   "cell_type": "code",
   "execution_count": 42,
   "metadata": {},
   "outputs": [
    {
     "output_type": "stream",
     "name": "stderr",
     "text": [
      "C:\\Users\\AnantGupta\\Anaconda3\\envs\\mainenv\\lib\\site-packages\\xgboost\\sklearn.py:888: UserWarning: The use of label encoder in XGBClassifier is deprecated and will be removed in a future release. To remove this warning, do the following: 1) Pass option use_label_encoder=False when constructing XGBClassifier object; and 2) Encode your labels (y) as integers starting with 0, i.e. 0, 1, 2, ..., [num_class - 1].\n",
      "  warnings.warn(label_encoder_deprecation_msg, UserWarning)\n",
      "[13:19:03] WARNING: ..\\src\\learner.cc:1061: Starting in XGBoost 1.3.0, the default evaluation metric used with the objective 'binary:logistic' was changed from 'error' to 'logloss'. Explicitly set eval_metric if you'd like to restore the old behavior.\n",
      "C:\\Users\\AnantGupta\\Anaconda3\\envs\\mainenv\\lib\\site-packages\\xgboost\\sklearn.py:888: UserWarning: The use of label encoder in XGBClassifier is deprecated and will be removed in a future release. To remove this warning, do the following: 1) Pass option use_label_encoder=False when constructing XGBClassifier object; and 2) Encode your labels (y) as integers starting with 0, i.e. 0, 1, 2, ..., [num_class - 1].\n",
      "  warnings.warn(label_encoder_deprecation_msg, UserWarning)\n",
      "[13:19:03] WARNING: ..\\src\\learner.cc:1061: Starting in XGBoost 1.3.0, the default evaluation metric used with the objective 'binary:logistic' was changed from 'error' to 'logloss'. Explicitly set eval_metric if you'd like to restore the old behavior.\n",
      "C:\\Users\\AnantGupta\\Anaconda3\\envs\\mainenv\\lib\\site-packages\\xgboost\\sklearn.py:888: UserWarning: The use of label encoder in XGBClassifier is deprecated and will be removed in a future release. To remove this warning, do the following: 1) Pass option use_label_encoder=False when constructing XGBClassifier object; and 2) Encode your labels (y) as integers starting with 0, i.e. 0, 1, 2, ..., [num_class - 1].\n",
      "  warnings.warn(label_encoder_deprecation_msg, UserWarning)\n",
      "[13:19:04] WARNING: ..\\src\\learner.cc:1061: Starting in XGBoost 1.3.0, the default evaluation metric used with the objective 'binary:logistic' was changed from 'error' to 'logloss'. Explicitly set eval_metric if you'd like to restore the old behavior.\n",
      "C:\\Users\\AnantGupta\\Anaconda3\\envs\\mainenv\\lib\\site-packages\\xgboost\\sklearn.py:888: UserWarning: The use of label encoder in XGBClassifier is deprecated and will be removed in a future release. To remove this warning, do the following: 1) Pass option use_label_encoder=False when constructing XGBClassifier object; and 2) Encode your labels (y) as integers starting with 0, i.e. 0, 1, 2, ..., [num_class - 1].\n",
      "  warnings.warn(label_encoder_deprecation_msg, UserWarning)\n",
      "[13:19:04] WARNING: ..\\src\\learner.cc:1061: Starting in XGBoost 1.3.0, the default evaluation metric used with the objective 'binary:logistic' was changed from 'error' to 'logloss'. Explicitly set eval_metric if you'd like to restore the old behavior.\n",
      "C:\\Users\\AnantGupta\\Anaconda3\\envs\\mainenv\\lib\\site-packages\\xgboost\\sklearn.py:888: UserWarning: The use of label encoder in XGBClassifier is deprecated and will be removed in a future release. To remove this warning, do the following: 1) Pass option use_label_encoder=False when constructing XGBClassifier object; and 2) Encode your labels (y) as integers starting with 0, i.e. 0, 1, 2, ..., [num_class - 1].\n",
      "  warnings.warn(label_encoder_deprecation_msg, UserWarning)\n",
      "[13:19:05] WARNING: ..\\src\\learner.cc:1061: Starting in XGBoost 1.3.0, the default evaluation metric used with the objective 'binary:logistic' was changed from 'error' to 'logloss'. Explicitly set eval_metric if you'd like to restore the old behavior.\n",
      "C:\\Users\\AnantGupta\\Anaconda3\\envs\\mainenv\\lib\\site-packages\\xgboost\\sklearn.py:888: UserWarning: The use of label encoder in XGBClassifier is deprecated and will be removed in a future release. To remove this warning, do the following: 1) Pass option use_label_encoder=False when constructing XGBClassifier object; and 2) Encode your labels (y) as integers starting with 0, i.e. 0, 1, 2, ..., [num_class - 1].\n",
      "  warnings.warn(label_encoder_deprecation_msg, UserWarning)\n",
      "[13:19:05] WARNING: ..\\src\\learner.cc:1061: Starting in XGBoost 1.3.0, the default evaluation metric used with the objective 'binary:logistic' was changed from 'error' to 'logloss'. Explicitly set eval_metric if you'd like to restore the old behavior.\n",
      "C:\\Users\\AnantGupta\\Anaconda3\\envs\\mainenv\\lib\\site-packages\\xgboost\\sklearn.py:888: UserWarning: The use of label encoder in XGBClassifier is deprecated and will be removed in a future release. To remove this warning, do the following: 1) Pass option use_label_encoder=False when constructing XGBClassifier object; and 2) Encode your labels (y) as integers starting with 0, i.e. 0, 1, 2, ..., [num_class - 1].\n",
      "  warnings.warn(label_encoder_deprecation_msg, UserWarning)\n",
      "[13:19:06] WARNING: ..\\src\\learner.cc:1061: Starting in XGBoost 1.3.0, the default evaluation metric used with the objective 'binary:logistic' was changed from 'error' to 'logloss'. Explicitly set eval_metric if you'd like to restore the old behavior.\n",
      "C:\\Users\\AnantGupta\\Anaconda3\\envs\\mainenv\\lib\\site-packages\\xgboost\\sklearn.py:888: UserWarning: The use of label encoder in XGBClassifier is deprecated and will be removed in a future release. To remove this warning, do the following: 1) Pass option use_label_encoder=False when constructing XGBClassifier object; and 2) Encode your labels (y) as integers starting with 0, i.e. 0, 1, 2, ..., [num_class - 1].\n",
      "  warnings.warn(label_encoder_deprecation_msg, UserWarning)\n",
      "[13:19:06] WARNING: ..\\src\\learner.cc:1061: Starting in XGBoost 1.3.0, the default evaluation metric used with the objective 'binary:logistic' was changed from 'error' to 'logloss'. Explicitly set eval_metric if you'd like to restore the old behavior.\n",
      "C:\\Users\\AnantGupta\\Anaconda3\\envs\\mainenv\\lib\\site-packages\\xgboost\\sklearn.py:888: UserWarning: The use of label encoder in XGBClassifier is deprecated and will be removed in a future release. To remove this warning, do the following: 1) Pass option use_label_encoder=False when constructing XGBClassifier object; and 2) Encode your labels (y) as integers starting with 0, i.e. 0, 1, 2, ..., [num_class - 1].\n",
      "  warnings.warn(label_encoder_deprecation_msg, UserWarning)\n",
      "[13:19:07] WARNING: ..\\src\\learner.cc:1061: Starting in XGBoost 1.3.0, the default evaluation metric used with the objective 'binary:logistic' was changed from 'error' to 'logloss'. Explicitly set eval_metric if you'd like to restore the old behavior.\n",
      "C:\\Users\\AnantGupta\\Anaconda3\\envs\\mainenv\\lib\\site-packages\\xgboost\\sklearn.py:888: UserWarning: The use of label encoder in XGBClassifier is deprecated and will be removed in a future release. To remove this warning, do the following: 1) Pass option use_label_encoder=False when constructing XGBClassifier object; and 2) Encode your labels (y) as integers starting with 0, i.e. 0, 1, 2, ..., [num_class - 1].\n",
      "  warnings.warn(label_encoder_deprecation_msg, UserWarning)\n",
      "[13:19:07] WARNING: ..\\src\\learner.cc:1061: Starting in XGBoost 1.3.0, the default evaluation metric used with the objective 'binary:logistic' was changed from 'error' to 'logloss'. Explicitly set eval_metric if you'd like to restore the old behavior.\n"
     ]
    }
   ],
   "source": [
    "accuracies = cross_val_score(estimator = model, X = sc.transform(X), y = y, cv = 10)"
   ]
  },
  {
   "cell_type": "code",
   "execution_count": 43,
   "metadata": {},
   "outputs": [
    {
     "output_type": "stream",
     "name": "stdout",
     "text": [
      "Accuracies of 10-flod cv: [0.7244898  0.98979592 0.93877551 0.94897959 0.97959184 0.97938144\n 0.97938144 0.94845361 0.95876289 0.96907216]\nMean Accuracy of 10-folds: 94.17 %\nStandard Deviation of 10-folds: 7.41 %\n"
     ]
    }
   ],
   "source": [
    "print(\"Accuracies of 10-flod cv:\", accuracies)\n",
    "print(\"Mean Accuracy of 10-folds: {:.2f} %\".format(accuracies.mean()*100))\n",
    "print(\"Standard Deviation of 10-folds: {:.2f} %\".format(accuracies.std()*100))"
   ]
  },
  {
   "cell_type": "code",
   "execution_count": null,
   "metadata": {},
   "outputs": [],
   "source": []
  }
 ]
}