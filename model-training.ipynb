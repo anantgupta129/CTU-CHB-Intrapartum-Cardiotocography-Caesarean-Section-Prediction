{
 "metadata": {
  "language_info": {
   "codemirror_mode": {
    "name": "ipython",
    "version": 3
   },
   "file_extension": ".py",
   "mimetype": "text/x-python",
   "name": "python",
   "nbconvert_exporter": "python",
   "pygments_lexer": "ipython3",
   "version": "3.8.8-final"
  },
  "orig_nbformat": 2,
  "kernelspec": {
   "name": "python3",
   "display_name": "Python 3.8.8 64-bit ('mainenv': conda)",
   "metadata": {
    "interpreter": {
     "hash": "03bc33754ff9dbbe153500dcec0d0c07a6b19bc01f477c0f6fe8747e680d5171"
    }
   }
  }
 },
 "nbformat": 4,
 "nbformat_minor": 2,
 "cells": [
  {
   "cell_type": "code",
   "execution_count": 48,
   "metadata": {},
   "outputs": [],
   "source": [
    "import pandas as pd\n",
    "import numpy as np"
   ]
  },
  {
   "cell_type": "code",
   "execution_count": 2,
   "metadata": {},
   "outputs": [
    {
     "output_type": "execute_result",
     "data": {
      "text/plain": [
       "     Unnamed: 0           ID        pH     BDecf      pCO2        BE  \\\n",
       "0             0  1220.000000  7.300000  3.520000  6.000000 -4.700000   \n",
       "1             1  1234.000000  7.290000  2.500000  6.500000 -4.200000   \n",
       "2             2  1208.000000  7.230000  5.840000  6.600000 -7.400000   \n",
       "3             3  1038.000000  7.330000  2.720000  5.700000 -4.000000   \n",
       "4             4  1004.000000  7.300000  5.190000  5.500000 -6.400000   \n",
       "..          ...          ...       ...       ...       ...       ...   \n",
       "970         970  1612.415502  7.277141  4.170062  6.214293 -5.257210   \n",
       "971         971  1767.337796  7.293675  3.440918  6.131623 -4.463584   \n",
       "972         972  1481.788323  7.230459  4.115599  7.287158 -5.830279   \n",
       "973         973  1199.005821  7.233021  6.115778  6.434896 -7.374997   \n",
       "974         974  1654.971118  7.281683  3.969773  6.191584 -5.039209   \n",
       "\n",
       "        Apgar1     Apgar5  Gest. Weeks    Weight(g)  ...  Median UC  \\\n",
       "0     9.000000  10.000000    42.000000  3100.000000  ...  23.000000   \n",
       "1     8.000000   9.000000    41.000000  3200.000000  ...  20.500000   \n",
       "2     9.000000   9.000000    40.000000  3900.000000  ...   3.000000   \n",
       "3    10.000000  10.000000    39.000000  2740.000000  ...   6.000000   \n",
       "4     8.000000   9.000000    41.000000  3370.000000  ...  14.000000   \n",
       "..         ...        ...          ...          ...  ...        ...   \n",
       "970   8.285658   8.714244    39.571415  4014.282925  ...  13.642683   \n",
       "971   8.947013   9.210260    39.736753  4047.350650  ...  15.709416   \n",
       "972   9.440366  10.000000    40.559634  4038.440290  ...  15.922014   \n",
       "973   6.520836   7.390627    39.130209  3926.041797  ...   8.127612   \n",
       "974   8.467326   8.850495    39.616832  4023.366301  ...  14.210394   \n",
       "\n",
       "       Std FHR     Std UC     RMS FHR     RMS UC  Peak to RMS FHR  \\\n",
       "0    59.376698  21.970835  122.357020  33.143752        70.642980   \n",
       "1    59.311329  24.685834  135.710988  34.975993        88.289012   \n",
       "2    51.554942  21.705502  109.963878  26.323443        64.536122   \n",
       "3    26.070361  30.393657  135.560556  37.570082        31.189444   \n",
       "4    51.581668  16.210997  105.951334  22.315540       123.048666   \n",
       "..         ...        ...         ...        ...              ...   \n",
       "970  66.893660  15.123756  112.954032  21.790416        87.188871   \n",
       "971  62.683887  17.396235  103.389556  25.123933        96.215996   \n",
       "972  64.601882  18.569339  109.909654  26.431828        77.227946   \n",
       "973  78.127428   9.059652  138.476805  12.894938        63.100015   \n",
       "974  65.737277  15.747983  110.326765  22.706100        89.668532   \n",
       "\n",
       "     Peak to RMS UC    Peak FHR     Peak UC  target  \n",
       "0         93.856248  193.000000  127.000000     1.0  \n",
       "1         92.024007  224.000000  127.000000     1.0  \n",
       "2         73.676557  174.500000  100.000000     1.0  \n",
       "3         62.429918  166.750000  100.000000     1.0  \n",
       "4        100.684460  229.000000  123.000000     1.0  \n",
       "..              ...         ...         ...     ...  \n",
       "970       69.994656  200.142902   91.785073     0.0  \n",
       "971       74.266717  199.605552   99.390650     0.0  \n",
       "972       77.513116  187.137600  103.944945     0.0  \n",
       "973       58.594676  201.576821   71.489613     0.0  \n",
       "974       71.168149  199.995298   93.874249     0.0  \n",
       "\n",
       "[975 rows x 44 columns]"
      ],
      "text/html": "<div>\n<style scoped>\n    .dataframe tbody tr th:only-of-type {\n        vertical-align: middle;\n    }\n\n    .dataframe tbody tr th {\n        vertical-align: top;\n    }\n\n    .dataframe thead th {\n        text-align: right;\n    }\n</style>\n<table border=\"1\" class=\"dataframe\">\n  <thead>\n    <tr style=\"text-align: right;\">\n      <th></th>\n      <th>Unnamed: 0</th>\n      <th>ID</th>\n      <th>pH</th>\n      <th>BDecf</th>\n      <th>pCO2</th>\n      <th>BE</th>\n      <th>Apgar1</th>\n      <th>Apgar5</th>\n      <th>Gest. Weeks</th>\n      <th>Weight(g)</th>\n      <th>...</th>\n      <th>Median UC</th>\n      <th>Std FHR</th>\n      <th>Std UC</th>\n      <th>RMS FHR</th>\n      <th>RMS UC</th>\n      <th>Peak to RMS FHR</th>\n      <th>Peak to RMS UC</th>\n      <th>Peak FHR</th>\n      <th>Peak UC</th>\n      <th>target</th>\n    </tr>\n  </thead>\n  <tbody>\n    <tr>\n      <th>0</th>\n      <td>0</td>\n      <td>1220.000000</td>\n      <td>7.300000</td>\n      <td>3.520000</td>\n      <td>6.000000</td>\n      <td>-4.700000</td>\n      <td>9.000000</td>\n      <td>10.000000</td>\n      <td>42.000000</td>\n      <td>3100.000000</td>\n      <td>...</td>\n      <td>23.000000</td>\n      <td>59.376698</td>\n      <td>21.970835</td>\n      <td>122.357020</td>\n      <td>33.143752</td>\n      <td>70.642980</td>\n      <td>93.856248</td>\n      <td>193.000000</td>\n      <td>127.000000</td>\n      <td>1.0</td>\n    </tr>\n    <tr>\n      <th>1</th>\n      <td>1</td>\n      <td>1234.000000</td>\n      <td>7.290000</td>\n      <td>2.500000</td>\n      <td>6.500000</td>\n      <td>-4.200000</td>\n      <td>8.000000</td>\n      <td>9.000000</td>\n      <td>41.000000</td>\n      <td>3200.000000</td>\n      <td>...</td>\n      <td>20.500000</td>\n      <td>59.311329</td>\n      <td>24.685834</td>\n      <td>135.710988</td>\n      <td>34.975993</td>\n      <td>88.289012</td>\n      <td>92.024007</td>\n      <td>224.000000</td>\n      <td>127.000000</td>\n      <td>1.0</td>\n    </tr>\n    <tr>\n      <th>2</th>\n      <td>2</td>\n      <td>1208.000000</td>\n      <td>7.230000</td>\n      <td>5.840000</td>\n      <td>6.600000</td>\n      <td>-7.400000</td>\n      <td>9.000000</td>\n      <td>9.000000</td>\n      <td>40.000000</td>\n      <td>3900.000000</td>\n      <td>...</td>\n      <td>3.000000</td>\n      <td>51.554942</td>\n      <td>21.705502</td>\n      <td>109.963878</td>\n      <td>26.323443</td>\n      <td>64.536122</td>\n      <td>73.676557</td>\n      <td>174.500000</td>\n      <td>100.000000</td>\n      <td>1.0</td>\n    </tr>\n    <tr>\n      <th>3</th>\n      <td>3</td>\n      <td>1038.000000</td>\n      <td>7.330000</td>\n      <td>2.720000</td>\n      <td>5.700000</td>\n      <td>-4.000000</td>\n      <td>10.000000</td>\n      <td>10.000000</td>\n      <td>39.000000</td>\n      <td>2740.000000</td>\n      <td>...</td>\n      <td>6.000000</td>\n      <td>26.070361</td>\n      <td>30.393657</td>\n      <td>135.560556</td>\n      <td>37.570082</td>\n      <td>31.189444</td>\n      <td>62.429918</td>\n      <td>166.750000</td>\n      <td>100.000000</td>\n      <td>1.0</td>\n    </tr>\n    <tr>\n      <th>4</th>\n      <td>4</td>\n      <td>1004.000000</td>\n      <td>7.300000</td>\n      <td>5.190000</td>\n      <td>5.500000</td>\n      <td>-6.400000</td>\n      <td>8.000000</td>\n      <td>9.000000</td>\n      <td>41.000000</td>\n      <td>3370.000000</td>\n      <td>...</td>\n      <td>14.000000</td>\n      <td>51.581668</td>\n      <td>16.210997</td>\n      <td>105.951334</td>\n      <td>22.315540</td>\n      <td>123.048666</td>\n      <td>100.684460</td>\n      <td>229.000000</td>\n      <td>123.000000</td>\n      <td>1.0</td>\n    </tr>\n    <tr>\n      <th>...</th>\n      <td>...</td>\n      <td>...</td>\n      <td>...</td>\n      <td>...</td>\n      <td>...</td>\n      <td>...</td>\n      <td>...</td>\n      <td>...</td>\n      <td>...</td>\n      <td>...</td>\n      <td>...</td>\n      <td>...</td>\n      <td>...</td>\n      <td>...</td>\n      <td>...</td>\n      <td>...</td>\n      <td>...</td>\n      <td>...</td>\n      <td>...</td>\n      <td>...</td>\n      <td>...</td>\n    </tr>\n    <tr>\n      <th>970</th>\n      <td>970</td>\n      <td>1612.415502</td>\n      <td>7.277141</td>\n      <td>4.170062</td>\n      <td>6.214293</td>\n      <td>-5.257210</td>\n      <td>8.285658</td>\n      <td>8.714244</td>\n      <td>39.571415</td>\n      <td>4014.282925</td>\n      <td>...</td>\n      <td>13.642683</td>\n      <td>66.893660</td>\n      <td>15.123756</td>\n      <td>112.954032</td>\n      <td>21.790416</td>\n      <td>87.188871</td>\n      <td>69.994656</td>\n      <td>200.142902</td>\n      <td>91.785073</td>\n      <td>0.0</td>\n    </tr>\n    <tr>\n      <th>971</th>\n      <td>971</td>\n      <td>1767.337796</td>\n      <td>7.293675</td>\n      <td>3.440918</td>\n      <td>6.131623</td>\n      <td>-4.463584</td>\n      <td>8.947013</td>\n      <td>9.210260</td>\n      <td>39.736753</td>\n      <td>4047.350650</td>\n      <td>...</td>\n      <td>15.709416</td>\n      <td>62.683887</td>\n      <td>17.396235</td>\n      <td>103.389556</td>\n      <td>25.123933</td>\n      <td>96.215996</td>\n      <td>74.266717</td>\n      <td>199.605552</td>\n      <td>99.390650</td>\n      <td>0.0</td>\n    </tr>\n    <tr>\n      <th>972</th>\n      <td>972</td>\n      <td>1481.788323</td>\n      <td>7.230459</td>\n      <td>4.115599</td>\n      <td>7.287158</td>\n      <td>-5.830279</td>\n      <td>9.440366</td>\n      <td>10.000000</td>\n      <td>40.559634</td>\n      <td>4038.440290</td>\n      <td>...</td>\n      <td>15.922014</td>\n      <td>64.601882</td>\n      <td>18.569339</td>\n      <td>109.909654</td>\n      <td>26.431828</td>\n      <td>77.227946</td>\n      <td>77.513116</td>\n      <td>187.137600</td>\n      <td>103.944945</td>\n      <td>0.0</td>\n    </tr>\n    <tr>\n      <th>973</th>\n      <td>973</td>\n      <td>1199.005821</td>\n      <td>7.233021</td>\n      <td>6.115778</td>\n      <td>6.434896</td>\n      <td>-7.374997</td>\n      <td>6.520836</td>\n      <td>7.390627</td>\n      <td>39.130209</td>\n      <td>3926.041797</td>\n      <td>...</td>\n      <td>8.127612</td>\n      <td>78.127428</td>\n      <td>9.059652</td>\n      <td>138.476805</td>\n      <td>12.894938</td>\n      <td>63.100015</td>\n      <td>58.594676</td>\n      <td>201.576821</td>\n      <td>71.489613</td>\n      <td>0.0</td>\n    </tr>\n    <tr>\n      <th>974</th>\n      <td>974</td>\n      <td>1654.971118</td>\n      <td>7.281683</td>\n      <td>3.969773</td>\n      <td>6.191584</td>\n      <td>-5.039209</td>\n      <td>8.467326</td>\n      <td>8.850495</td>\n      <td>39.616832</td>\n      <td>4023.366301</td>\n      <td>...</td>\n      <td>14.210394</td>\n      <td>65.737277</td>\n      <td>15.747983</td>\n      <td>110.326765</td>\n      <td>22.706100</td>\n      <td>89.668532</td>\n      <td>71.168149</td>\n      <td>199.995298</td>\n      <td>93.874249</td>\n      <td>0.0</td>\n    </tr>\n  </tbody>\n</table>\n<p>975 rows × 44 columns</p>\n</div>"
     },
     "metadata": {},
     "execution_count": 2
    }
   ],
   "source": [
    "df = pd.read_csv(r'database\\final.csv')\n",
    "df"
   ]
  },
  {
   "cell_type": "code",
   "execution_count": 5,
   "metadata": {},
   "outputs": [],
   "source": [
    "df.drop('Unnamed: 0', axis=1, inplace=True)"
   ]
  },
  {
   "cell_type": "code",
   "execution_count": 8,
   "metadata": {},
   "outputs": [
    {
     "output_type": "execute_result",
     "data": {
      "text/plain": [
       "0"
      ]
     },
     "metadata": {},
     "execution_count": 8
    }
   ],
   "source": [
    "df.isnull().sum().sum()"
   ]
  },
  {
   "cell_type": "code",
   "execution_count": 6,
   "metadata": {},
   "outputs": [
    {
     "output_type": "execute_result",
     "data": {
      "text/plain": [
       "              ID        pH     BDecf      pCO2        BE     Apgar1  \\\n",
       "0    1220.000000  7.300000  3.520000  6.000000 -4.700000   9.000000   \n",
       "1    1234.000000  7.290000  2.500000  6.500000 -4.200000   8.000000   \n",
       "2    1208.000000  7.230000  5.840000  6.600000 -7.400000   9.000000   \n",
       "3    1038.000000  7.330000  2.720000  5.700000 -4.000000  10.000000   \n",
       "4    1004.000000  7.300000  5.190000  5.500000 -6.400000   8.000000   \n",
       "..           ...       ...       ...       ...       ...        ...   \n",
       "970  1612.415502  7.277141  4.170062  6.214293 -5.257210   8.285658   \n",
       "971  1767.337796  7.293675  3.440918  6.131623 -4.463584   8.947013   \n",
       "972  1481.788323  7.230459  4.115599  7.287158 -5.830279   9.440366   \n",
       "973  1199.005821  7.233021  6.115778  6.434896 -7.374997   6.520836   \n",
       "974  1654.971118  7.281683  3.969773  6.191584 -5.039209   8.467326   \n",
       "\n",
       "        Apgar5  Gest. Weeks    Weight(g)  Sex  ...  Median UC    Std FHR  \\\n",
       "0    10.000000    42.000000  3100.000000  2.0  ...  23.000000  59.376698   \n",
       "1     9.000000    41.000000  3200.000000  1.0  ...  20.500000  59.311329   \n",
       "2     9.000000    40.000000  3900.000000  2.0  ...   3.000000  51.554942   \n",
       "3    10.000000    39.000000  2740.000000  1.0  ...   6.000000  26.070361   \n",
       "4     9.000000    41.000000  3370.000000  1.0  ...  14.000000  51.581668   \n",
       "..         ...          ...          ...  ...  ...        ...        ...   \n",
       "970   8.714244    39.571415  4014.282925  1.0  ...  13.642683  66.893660   \n",
       "971   9.210260    39.736753  4047.350650  1.0  ...  15.709416  62.683887   \n",
       "972  10.000000    40.559634  4038.440290  1.0  ...  15.922014  64.601882   \n",
       "973   7.390627    39.130209  3926.041797  1.0  ...   8.127612  78.127428   \n",
       "974   8.850495    39.616832  4023.366301  1.0  ...  14.210394  65.737277   \n",
       "\n",
       "        Std UC     RMS FHR     RMS UC  Peak to RMS FHR  Peak to RMS UC  \\\n",
       "0    21.970835  122.357020  33.143752        70.642980       93.856248   \n",
       "1    24.685834  135.710988  34.975993        88.289012       92.024007   \n",
       "2    21.705502  109.963878  26.323443        64.536122       73.676557   \n",
       "3    30.393657  135.560556  37.570082        31.189444       62.429918   \n",
       "4    16.210997  105.951334  22.315540       123.048666      100.684460   \n",
       "..         ...         ...        ...              ...             ...   \n",
       "970  15.123756  112.954032  21.790416        87.188871       69.994656   \n",
       "971  17.396235  103.389556  25.123933        96.215996       74.266717   \n",
       "972  18.569339  109.909654  26.431828        77.227946       77.513116   \n",
       "973   9.059652  138.476805  12.894938        63.100015       58.594676   \n",
       "974  15.747983  110.326765  22.706100        89.668532       71.168149   \n",
       "\n",
       "       Peak FHR     Peak UC  target  \n",
       "0    193.000000  127.000000     1.0  \n",
       "1    224.000000  127.000000     1.0  \n",
       "2    174.500000  100.000000     1.0  \n",
       "3    166.750000  100.000000     1.0  \n",
       "4    229.000000  123.000000     1.0  \n",
       "..          ...         ...     ...  \n",
       "970  200.142902   91.785073     0.0  \n",
       "971  199.605552   99.390650     0.0  \n",
       "972  187.137600  103.944945     0.0  \n",
       "973  201.576821   71.489613     0.0  \n",
       "974  199.995298   93.874249     0.0  \n",
       "\n",
       "[975 rows x 43 columns]"
      ],
      "text/html": "<div>\n<style scoped>\n    .dataframe tbody tr th:only-of-type {\n        vertical-align: middle;\n    }\n\n    .dataframe tbody tr th {\n        vertical-align: top;\n    }\n\n    .dataframe thead th {\n        text-align: right;\n    }\n</style>\n<table border=\"1\" class=\"dataframe\">\n  <thead>\n    <tr style=\"text-align: right;\">\n      <th></th>\n      <th>ID</th>\n      <th>pH</th>\n      <th>BDecf</th>\n      <th>pCO2</th>\n      <th>BE</th>\n      <th>Apgar1</th>\n      <th>Apgar5</th>\n      <th>Gest. Weeks</th>\n      <th>Weight(g)</th>\n      <th>Sex</th>\n      <th>...</th>\n      <th>Median UC</th>\n      <th>Std FHR</th>\n      <th>Std UC</th>\n      <th>RMS FHR</th>\n      <th>RMS UC</th>\n      <th>Peak to RMS FHR</th>\n      <th>Peak to RMS UC</th>\n      <th>Peak FHR</th>\n      <th>Peak UC</th>\n      <th>target</th>\n    </tr>\n  </thead>\n  <tbody>\n    <tr>\n      <th>0</th>\n      <td>1220.000000</td>\n      <td>7.300000</td>\n      <td>3.520000</td>\n      <td>6.000000</td>\n      <td>-4.700000</td>\n      <td>9.000000</td>\n      <td>10.000000</td>\n      <td>42.000000</td>\n      <td>3100.000000</td>\n      <td>2.0</td>\n      <td>...</td>\n      <td>23.000000</td>\n      <td>59.376698</td>\n      <td>21.970835</td>\n      <td>122.357020</td>\n      <td>33.143752</td>\n      <td>70.642980</td>\n      <td>93.856248</td>\n      <td>193.000000</td>\n      <td>127.000000</td>\n      <td>1.0</td>\n    </tr>\n    <tr>\n      <th>1</th>\n      <td>1234.000000</td>\n      <td>7.290000</td>\n      <td>2.500000</td>\n      <td>6.500000</td>\n      <td>-4.200000</td>\n      <td>8.000000</td>\n      <td>9.000000</td>\n      <td>41.000000</td>\n      <td>3200.000000</td>\n      <td>1.0</td>\n      <td>...</td>\n      <td>20.500000</td>\n      <td>59.311329</td>\n      <td>24.685834</td>\n      <td>135.710988</td>\n      <td>34.975993</td>\n      <td>88.289012</td>\n      <td>92.024007</td>\n      <td>224.000000</td>\n      <td>127.000000</td>\n      <td>1.0</td>\n    </tr>\n    <tr>\n      <th>2</th>\n      <td>1208.000000</td>\n      <td>7.230000</td>\n      <td>5.840000</td>\n      <td>6.600000</td>\n      <td>-7.400000</td>\n      <td>9.000000</td>\n      <td>9.000000</td>\n      <td>40.000000</td>\n      <td>3900.000000</td>\n      <td>2.0</td>\n      <td>...</td>\n      <td>3.000000</td>\n      <td>51.554942</td>\n      <td>21.705502</td>\n      <td>109.963878</td>\n      <td>26.323443</td>\n      <td>64.536122</td>\n      <td>73.676557</td>\n      <td>174.500000</td>\n      <td>100.000000</td>\n      <td>1.0</td>\n    </tr>\n    <tr>\n      <th>3</th>\n      <td>1038.000000</td>\n      <td>7.330000</td>\n      <td>2.720000</td>\n      <td>5.700000</td>\n      <td>-4.000000</td>\n      <td>10.000000</td>\n      <td>10.000000</td>\n      <td>39.000000</td>\n      <td>2740.000000</td>\n      <td>1.0</td>\n      <td>...</td>\n      <td>6.000000</td>\n      <td>26.070361</td>\n      <td>30.393657</td>\n      <td>135.560556</td>\n      <td>37.570082</td>\n      <td>31.189444</td>\n      <td>62.429918</td>\n      <td>166.750000</td>\n      <td>100.000000</td>\n      <td>1.0</td>\n    </tr>\n    <tr>\n      <th>4</th>\n      <td>1004.000000</td>\n      <td>7.300000</td>\n      <td>5.190000</td>\n      <td>5.500000</td>\n      <td>-6.400000</td>\n      <td>8.000000</td>\n      <td>9.000000</td>\n      <td>41.000000</td>\n      <td>3370.000000</td>\n      <td>1.0</td>\n      <td>...</td>\n      <td>14.000000</td>\n      <td>51.581668</td>\n      <td>16.210997</td>\n      <td>105.951334</td>\n      <td>22.315540</td>\n      <td>123.048666</td>\n      <td>100.684460</td>\n      <td>229.000000</td>\n      <td>123.000000</td>\n      <td>1.0</td>\n    </tr>\n    <tr>\n      <th>...</th>\n      <td>...</td>\n      <td>...</td>\n      <td>...</td>\n      <td>...</td>\n      <td>...</td>\n      <td>...</td>\n      <td>...</td>\n      <td>...</td>\n      <td>...</td>\n      <td>...</td>\n      <td>...</td>\n      <td>...</td>\n      <td>...</td>\n      <td>...</td>\n      <td>...</td>\n      <td>...</td>\n      <td>...</td>\n      <td>...</td>\n      <td>...</td>\n      <td>...</td>\n      <td>...</td>\n    </tr>\n    <tr>\n      <th>970</th>\n      <td>1612.415502</td>\n      <td>7.277141</td>\n      <td>4.170062</td>\n      <td>6.214293</td>\n      <td>-5.257210</td>\n      <td>8.285658</td>\n      <td>8.714244</td>\n      <td>39.571415</td>\n      <td>4014.282925</td>\n      <td>1.0</td>\n      <td>...</td>\n      <td>13.642683</td>\n      <td>66.893660</td>\n      <td>15.123756</td>\n      <td>112.954032</td>\n      <td>21.790416</td>\n      <td>87.188871</td>\n      <td>69.994656</td>\n      <td>200.142902</td>\n      <td>91.785073</td>\n      <td>0.0</td>\n    </tr>\n    <tr>\n      <th>971</th>\n      <td>1767.337796</td>\n      <td>7.293675</td>\n      <td>3.440918</td>\n      <td>6.131623</td>\n      <td>-4.463584</td>\n      <td>8.947013</td>\n      <td>9.210260</td>\n      <td>39.736753</td>\n      <td>4047.350650</td>\n      <td>1.0</td>\n      <td>...</td>\n      <td>15.709416</td>\n      <td>62.683887</td>\n      <td>17.396235</td>\n      <td>103.389556</td>\n      <td>25.123933</td>\n      <td>96.215996</td>\n      <td>74.266717</td>\n      <td>199.605552</td>\n      <td>99.390650</td>\n      <td>0.0</td>\n    </tr>\n    <tr>\n      <th>972</th>\n      <td>1481.788323</td>\n      <td>7.230459</td>\n      <td>4.115599</td>\n      <td>7.287158</td>\n      <td>-5.830279</td>\n      <td>9.440366</td>\n      <td>10.000000</td>\n      <td>40.559634</td>\n      <td>4038.440290</td>\n      <td>1.0</td>\n      <td>...</td>\n      <td>15.922014</td>\n      <td>64.601882</td>\n      <td>18.569339</td>\n      <td>109.909654</td>\n      <td>26.431828</td>\n      <td>77.227946</td>\n      <td>77.513116</td>\n      <td>187.137600</td>\n      <td>103.944945</td>\n      <td>0.0</td>\n    </tr>\n    <tr>\n      <th>973</th>\n      <td>1199.005821</td>\n      <td>7.233021</td>\n      <td>6.115778</td>\n      <td>6.434896</td>\n      <td>-7.374997</td>\n      <td>6.520836</td>\n      <td>7.390627</td>\n      <td>39.130209</td>\n      <td>3926.041797</td>\n      <td>1.0</td>\n      <td>...</td>\n      <td>8.127612</td>\n      <td>78.127428</td>\n      <td>9.059652</td>\n      <td>138.476805</td>\n      <td>12.894938</td>\n      <td>63.100015</td>\n      <td>58.594676</td>\n      <td>201.576821</td>\n      <td>71.489613</td>\n      <td>0.0</td>\n    </tr>\n    <tr>\n      <th>974</th>\n      <td>1654.971118</td>\n      <td>7.281683</td>\n      <td>3.969773</td>\n      <td>6.191584</td>\n      <td>-5.039209</td>\n      <td>8.467326</td>\n      <td>8.850495</td>\n      <td>39.616832</td>\n      <td>4023.366301</td>\n      <td>1.0</td>\n      <td>...</td>\n      <td>14.210394</td>\n      <td>65.737277</td>\n      <td>15.747983</td>\n      <td>110.326765</td>\n      <td>22.706100</td>\n      <td>89.668532</td>\n      <td>71.168149</td>\n      <td>199.995298</td>\n      <td>93.874249</td>\n      <td>0.0</td>\n    </tr>\n  </tbody>\n</table>\n<p>975 rows × 43 columns</p>\n</div>"
     },
     "metadata": {},
     "execution_count": 6
    }
   ],
   "source": [
    "df"
   ]
  },
  {
   "cell_type": "code",
   "execution_count": 9,
   "metadata": {},
   "outputs": [
    {
     "output_type": "execute_result",
     "data": {
      "text/plain": [
       "Index(['ID', 'pH', 'BDecf', 'pCO2', 'BE', 'Apgar1', 'Apgar5', 'Gest. Weeks',\n",
       "       'Weight(g)', 'Sex', 'Age', 'Gravidity', 'Parity', 'Diabetes',\n",
       "       'Hypertension', 'Preeclampsia', 'Liq.', 'Pyrexia', 'Meconium',\n",
       "       'Presentation', 'Induced', 'I.stage', 'NoProgress', 'CK/KP', 'II.stage',\n",
       "       'Deliv. type', 'dbID', 'Rec. type', 'Pos. II.st.', 'Sig2Birth',\n",
       "       'Mean FHR', 'Mean UC', 'Median FHR', 'Median UC', 'Std FHR', 'Std UC',\n",
       "       'RMS FHR', 'RMS UC', 'Peak to RMS FHR', 'Peak to RMS UC', 'Peak FHR',\n",
       "       'Peak UC', 'target'],\n",
       "      dtype='object')"
      ]
     },
     "metadata": {},
     "execution_count": 9
    }
   ],
   "source": [
    "df.columns"
   ]
  },
  {
   "cell_type": "code",
   "execution_count": 23,
   "metadata": {},
   "outputs": [],
   "source": [
    "def f(x):\n",
    "    if 6.5<x<=10:\n",
    "        return  'Excellent'\n",
    "    elif 4<x<=6.5:\n",
    "        return 'ModeratelyAbnormal'\n",
    "    elif x<=4:\n",
    "        return 'Attention'\n",
    "\n",
    "df['Apgar1'] = df['Apgar1'].apply(lambda x: f(x))"
   ]
  },
  {
   "cell_type": "code",
   "execution_count": 24,
   "metadata": {},
   "outputs": [],
   "source": [
    "df['Apgar5'] = df['Apgar5'].apply(lambda x: f(x))"
   ]
  },
  {
   "cell_type": "code",
   "execution_count": 25,
   "metadata": {},
   "outputs": [
    {
     "output_type": "execute_result",
     "data": {
      "text/plain": [
       "              ID        pH     BDecf      pCO2        BE     Apgar1  \\\n",
       "0    1220.000000  7.300000  3.520000  6.000000 -4.700000  Excellent   \n",
       "1    1234.000000  7.290000  2.500000  6.500000 -4.200000  Excellent   \n",
       "2    1208.000000  7.230000  5.840000  6.600000 -7.400000  Excellent   \n",
       "3    1038.000000  7.330000  2.720000  5.700000 -4.000000  Excellent   \n",
       "4    1004.000000  7.300000  5.190000  5.500000 -6.400000  Excellent   \n",
       "..           ...       ...       ...       ...       ...        ...   \n",
       "970  1612.415502  7.277141  4.170062  6.214293 -5.257210  Excellent   \n",
       "971  1767.337796  7.293675  3.440918  6.131623 -4.463584  Excellent   \n",
       "972  1481.788323  7.230459  4.115599  7.287158 -5.830279  Excellent   \n",
       "973  1199.005821  7.233021  6.115778  6.434896 -7.374997  Excellent   \n",
       "974  1654.971118  7.281683  3.969773  6.191584 -5.039209  Excellent   \n",
       "\n",
       "        Apgar5  Gest. Weeks    Weight(g)  Sex  ...  Median UC    Std FHR  \\\n",
       "0    Excellent    42.000000  3100.000000  2.0  ...  23.000000  59.376698   \n",
       "1    Excellent    41.000000  3200.000000  1.0  ...  20.500000  59.311329   \n",
       "2    Excellent    40.000000  3900.000000  2.0  ...   3.000000  51.554942   \n",
       "3    Excellent    39.000000  2740.000000  1.0  ...   6.000000  26.070361   \n",
       "4    Excellent    41.000000  3370.000000  1.0  ...  14.000000  51.581668   \n",
       "..         ...          ...          ...  ...  ...        ...        ...   \n",
       "970  Excellent    39.571415  4014.282925  1.0  ...  13.642683  66.893660   \n",
       "971  Excellent    39.736753  4047.350650  1.0  ...  15.709416  62.683887   \n",
       "972  Excellent    40.559634  4038.440290  1.0  ...  15.922014  64.601882   \n",
       "973  Excellent    39.130209  3926.041797  1.0  ...   8.127612  78.127428   \n",
       "974  Excellent    39.616832  4023.366301  1.0  ...  14.210394  65.737277   \n",
       "\n",
       "        Std UC     RMS FHR     RMS UC  Peak to RMS FHR  Peak to RMS UC  \\\n",
       "0    21.970835  122.357020  33.143752        70.642980       93.856248   \n",
       "1    24.685834  135.710988  34.975993        88.289012       92.024007   \n",
       "2    21.705502  109.963878  26.323443        64.536122       73.676557   \n",
       "3    30.393657  135.560556  37.570082        31.189444       62.429918   \n",
       "4    16.210997  105.951334  22.315540       123.048666      100.684460   \n",
       "..         ...         ...        ...              ...             ...   \n",
       "970  15.123756  112.954032  21.790416        87.188871       69.994656   \n",
       "971  17.396235  103.389556  25.123933        96.215996       74.266717   \n",
       "972  18.569339  109.909654  26.431828        77.227946       77.513116   \n",
       "973   9.059652  138.476805  12.894938        63.100015       58.594676   \n",
       "974  15.747983  110.326765  22.706100        89.668532       71.168149   \n",
       "\n",
       "       Peak FHR     Peak UC  target  \n",
       "0    193.000000  127.000000     1.0  \n",
       "1    224.000000  127.000000     1.0  \n",
       "2    174.500000  100.000000     1.0  \n",
       "3    166.750000  100.000000     1.0  \n",
       "4    229.000000  123.000000     1.0  \n",
       "..          ...         ...     ...  \n",
       "970  200.142902   91.785073     0.0  \n",
       "971  199.605552   99.390650     0.0  \n",
       "972  187.137600  103.944945     0.0  \n",
       "973  201.576821   71.489613     0.0  \n",
       "974  199.995298   93.874249     0.0  \n",
       "\n",
       "[975 rows x 43 columns]"
      ],
      "text/html": "<div>\n<style scoped>\n    .dataframe tbody tr th:only-of-type {\n        vertical-align: middle;\n    }\n\n    .dataframe tbody tr th {\n        vertical-align: top;\n    }\n\n    .dataframe thead th {\n        text-align: right;\n    }\n</style>\n<table border=\"1\" class=\"dataframe\">\n  <thead>\n    <tr style=\"text-align: right;\">\n      <th></th>\n      <th>ID</th>\n      <th>pH</th>\n      <th>BDecf</th>\n      <th>pCO2</th>\n      <th>BE</th>\n      <th>Apgar1</th>\n      <th>Apgar5</th>\n      <th>Gest. Weeks</th>\n      <th>Weight(g)</th>\n      <th>Sex</th>\n      <th>...</th>\n      <th>Median UC</th>\n      <th>Std FHR</th>\n      <th>Std UC</th>\n      <th>RMS FHR</th>\n      <th>RMS UC</th>\n      <th>Peak to RMS FHR</th>\n      <th>Peak to RMS UC</th>\n      <th>Peak FHR</th>\n      <th>Peak UC</th>\n      <th>target</th>\n    </tr>\n  </thead>\n  <tbody>\n    <tr>\n      <th>0</th>\n      <td>1220.000000</td>\n      <td>7.300000</td>\n      <td>3.520000</td>\n      <td>6.000000</td>\n      <td>-4.700000</td>\n      <td>Excellent</td>\n      <td>Excellent</td>\n      <td>42.000000</td>\n      <td>3100.000000</td>\n      <td>2.0</td>\n      <td>...</td>\n      <td>23.000000</td>\n      <td>59.376698</td>\n      <td>21.970835</td>\n      <td>122.357020</td>\n      <td>33.143752</td>\n      <td>70.642980</td>\n      <td>93.856248</td>\n      <td>193.000000</td>\n      <td>127.000000</td>\n      <td>1.0</td>\n    </tr>\n    <tr>\n      <th>1</th>\n      <td>1234.000000</td>\n      <td>7.290000</td>\n      <td>2.500000</td>\n      <td>6.500000</td>\n      <td>-4.200000</td>\n      <td>Excellent</td>\n      <td>Excellent</td>\n      <td>41.000000</td>\n      <td>3200.000000</td>\n      <td>1.0</td>\n      <td>...</td>\n      <td>20.500000</td>\n      <td>59.311329</td>\n      <td>24.685834</td>\n      <td>135.710988</td>\n      <td>34.975993</td>\n      <td>88.289012</td>\n      <td>92.024007</td>\n      <td>224.000000</td>\n      <td>127.000000</td>\n      <td>1.0</td>\n    </tr>\n    <tr>\n      <th>2</th>\n      <td>1208.000000</td>\n      <td>7.230000</td>\n      <td>5.840000</td>\n      <td>6.600000</td>\n      <td>-7.400000</td>\n      <td>Excellent</td>\n      <td>Excellent</td>\n      <td>40.000000</td>\n      <td>3900.000000</td>\n      <td>2.0</td>\n      <td>...</td>\n      <td>3.000000</td>\n      <td>51.554942</td>\n      <td>21.705502</td>\n      <td>109.963878</td>\n      <td>26.323443</td>\n      <td>64.536122</td>\n      <td>73.676557</td>\n      <td>174.500000</td>\n      <td>100.000000</td>\n      <td>1.0</td>\n    </tr>\n    <tr>\n      <th>3</th>\n      <td>1038.000000</td>\n      <td>7.330000</td>\n      <td>2.720000</td>\n      <td>5.700000</td>\n      <td>-4.000000</td>\n      <td>Excellent</td>\n      <td>Excellent</td>\n      <td>39.000000</td>\n      <td>2740.000000</td>\n      <td>1.0</td>\n      <td>...</td>\n      <td>6.000000</td>\n      <td>26.070361</td>\n      <td>30.393657</td>\n      <td>135.560556</td>\n      <td>37.570082</td>\n      <td>31.189444</td>\n      <td>62.429918</td>\n      <td>166.750000</td>\n      <td>100.000000</td>\n      <td>1.0</td>\n    </tr>\n    <tr>\n      <th>4</th>\n      <td>1004.000000</td>\n      <td>7.300000</td>\n      <td>5.190000</td>\n      <td>5.500000</td>\n      <td>-6.400000</td>\n      <td>Excellent</td>\n      <td>Excellent</td>\n      <td>41.000000</td>\n      <td>3370.000000</td>\n      <td>1.0</td>\n      <td>...</td>\n      <td>14.000000</td>\n      <td>51.581668</td>\n      <td>16.210997</td>\n      <td>105.951334</td>\n      <td>22.315540</td>\n      <td>123.048666</td>\n      <td>100.684460</td>\n      <td>229.000000</td>\n      <td>123.000000</td>\n      <td>1.0</td>\n    </tr>\n    <tr>\n      <th>...</th>\n      <td>...</td>\n      <td>...</td>\n      <td>...</td>\n      <td>...</td>\n      <td>...</td>\n      <td>...</td>\n      <td>...</td>\n      <td>...</td>\n      <td>...</td>\n      <td>...</td>\n      <td>...</td>\n      <td>...</td>\n      <td>...</td>\n      <td>...</td>\n      <td>...</td>\n      <td>...</td>\n      <td>...</td>\n      <td>...</td>\n      <td>...</td>\n      <td>...</td>\n      <td>...</td>\n    </tr>\n    <tr>\n      <th>970</th>\n      <td>1612.415502</td>\n      <td>7.277141</td>\n      <td>4.170062</td>\n      <td>6.214293</td>\n      <td>-5.257210</td>\n      <td>Excellent</td>\n      <td>Excellent</td>\n      <td>39.571415</td>\n      <td>4014.282925</td>\n      <td>1.0</td>\n      <td>...</td>\n      <td>13.642683</td>\n      <td>66.893660</td>\n      <td>15.123756</td>\n      <td>112.954032</td>\n      <td>21.790416</td>\n      <td>87.188871</td>\n      <td>69.994656</td>\n      <td>200.142902</td>\n      <td>91.785073</td>\n      <td>0.0</td>\n    </tr>\n    <tr>\n      <th>971</th>\n      <td>1767.337796</td>\n      <td>7.293675</td>\n      <td>3.440918</td>\n      <td>6.131623</td>\n      <td>-4.463584</td>\n      <td>Excellent</td>\n      <td>Excellent</td>\n      <td>39.736753</td>\n      <td>4047.350650</td>\n      <td>1.0</td>\n      <td>...</td>\n      <td>15.709416</td>\n      <td>62.683887</td>\n      <td>17.396235</td>\n      <td>103.389556</td>\n      <td>25.123933</td>\n      <td>96.215996</td>\n      <td>74.266717</td>\n      <td>199.605552</td>\n      <td>99.390650</td>\n      <td>0.0</td>\n    </tr>\n    <tr>\n      <th>972</th>\n      <td>1481.788323</td>\n      <td>7.230459</td>\n      <td>4.115599</td>\n      <td>7.287158</td>\n      <td>-5.830279</td>\n      <td>Excellent</td>\n      <td>Excellent</td>\n      <td>40.559634</td>\n      <td>4038.440290</td>\n      <td>1.0</td>\n      <td>...</td>\n      <td>15.922014</td>\n      <td>64.601882</td>\n      <td>18.569339</td>\n      <td>109.909654</td>\n      <td>26.431828</td>\n      <td>77.227946</td>\n      <td>77.513116</td>\n      <td>187.137600</td>\n      <td>103.944945</td>\n      <td>0.0</td>\n    </tr>\n    <tr>\n      <th>973</th>\n      <td>1199.005821</td>\n      <td>7.233021</td>\n      <td>6.115778</td>\n      <td>6.434896</td>\n      <td>-7.374997</td>\n      <td>Excellent</td>\n      <td>Excellent</td>\n      <td>39.130209</td>\n      <td>3926.041797</td>\n      <td>1.0</td>\n      <td>...</td>\n      <td>8.127612</td>\n      <td>78.127428</td>\n      <td>9.059652</td>\n      <td>138.476805</td>\n      <td>12.894938</td>\n      <td>63.100015</td>\n      <td>58.594676</td>\n      <td>201.576821</td>\n      <td>71.489613</td>\n      <td>0.0</td>\n    </tr>\n    <tr>\n      <th>974</th>\n      <td>1654.971118</td>\n      <td>7.281683</td>\n      <td>3.969773</td>\n      <td>6.191584</td>\n      <td>-5.039209</td>\n      <td>Excellent</td>\n      <td>Excellent</td>\n      <td>39.616832</td>\n      <td>4023.366301</td>\n      <td>1.0</td>\n      <td>...</td>\n      <td>14.210394</td>\n      <td>65.737277</td>\n      <td>15.747983</td>\n      <td>110.326765</td>\n      <td>22.706100</td>\n      <td>89.668532</td>\n      <td>71.168149</td>\n      <td>199.995298</td>\n      <td>93.874249</td>\n      <td>0.0</td>\n    </tr>\n  </tbody>\n</table>\n<p>975 rows × 43 columns</p>\n</div>"
     },
     "metadata": {},
     "execution_count": 25
    }
   ],
   "source": [
    "df"
   ]
  },
  {
   "cell_type": "code",
   "execution_count": 28,
   "metadata": {},
   "outputs": [
    {
     "output_type": "execute_result",
     "data": {
      "text/plain": [
       "Excellent             901\n",
       "ModeratelyAbnormal     47\n",
       "Attention              27\n",
       "Name: Apgar1, dtype: int64"
      ]
     },
     "metadata": {},
     "execution_count": 28
    }
   ],
   "source": [
    "df.Apgar1.value_counts()"
   ]
  },
  {
   "cell_type": "code",
   "execution_count": 29,
   "metadata": {},
   "outputs": [
    {
     "output_type": "execute_result",
     "data": {
      "text/plain": [
       "Excellent             957\n",
       "ModeratelyAbnormal     15\n",
       "Attention               3\n",
       "Name: Apgar5, dtype: int64"
      ]
     },
     "metadata": {},
     "execution_count": 29
    }
   ],
   "source": [
    "df.Apgar5.value_counts()"
   ]
  },
  {
   "cell_type": "code",
   "execution_count": 30,
   "metadata": {},
   "outputs": [
    {
     "output_type": "execute_result",
     "data": {
      "text/plain": [
       "1.0    488\n",
       "0.0    487\n",
       "Name: target, dtype: int64"
      ]
     },
     "metadata": {},
     "execution_count": 30
    }
   ],
   "source": [
    "df.target.value_counts()"
   ]
  },
  {
   "cell_type": "code",
   "execution_count": 31,
   "metadata": {},
   "outputs": [
    {
     "output_type": "execute_result",
     "data": {
      "text/plain": [
       "              ID      pH     BDecf      pCO2        BE     Apgar1     Apgar5  \\\n",
       "0    1220.000000  Normal  3.520000  6.000000 -4.700000  Excellent  Excellent   \n",
       "1    1234.000000  Normal  2.500000  6.500000 -4.200000  Excellent  Excellent   \n",
       "2    1208.000000  Normal  5.840000  6.600000 -7.400000  Excellent  Excellent   \n",
       "3    1038.000000  Normal  2.720000  5.700000 -4.000000  Excellent  Excellent   \n",
       "4    1004.000000  Normal  5.190000  5.500000 -6.400000  Excellent  Excellent   \n",
       "..           ...     ...       ...       ...       ...        ...        ...   \n",
       "970  1612.415502  Normal  4.170062  6.214293 -5.257210  Excellent  Excellent   \n",
       "971  1767.337796  Normal  3.440918  6.131623 -4.463584  Excellent  Excellent   \n",
       "972  1481.788323  Normal  4.115599  7.287158 -5.830279  Excellent  Excellent   \n",
       "973  1199.005821  Normal  6.115778  6.434896 -7.374997  Excellent  Excellent   \n",
       "974  1654.971118  Normal  3.969773  6.191584 -5.039209  Excellent  Excellent   \n",
       "\n",
       "     Gest. Weeks    Weight(g)  Sex  ...  Median UC    Std FHR     Std UC  \\\n",
       "0      42.000000  3100.000000  2.0  ...  23.000000  59.376698  21.970835   \n",
       "1      41.000000  3200.000000  1.0  ...  20.500000  59.311329  24.685834   \n",
       "2      40.000000  3900.000000  2.0  ...   3.000000  51.554942  21.705502   \n",
       "3      39.000000  2740.000000  1.0  ...   6.000000  26.070361  30.393657   \n",
       "4      41.000000  3370.000000  1.0  ...  14.000000  51.581668  16.210997   \n",
       "..           ...          ...  ...  ...        ...        ...        ...   \n",
       "970    39.571415  4014.282925  1.0  ...  13.642683  66.893660  15.123756   \n",
       "971    39.736753  4047.350650  1.0  ...  15.709416  62.683887  17.396235   \n",
       "972    40.559634  4038.440290  1.0  ...  15.922014  64.601882  18.569339   \n",
       "973    39.130209  3926.041797  1.0  ...   8.127612  78.127428   9.059652   \n",
       "974    39.616832  4023.366301  1.0  ...  14.210394  65.737277  15.747983   \n",
       "\n",
       "        RMS FHR     RMS UC  Peak to RMS FHR  Peak to RMS UC    Peak FHR  \\\n",
       "0    122.357020  33.143752        70.642980       93.856248  193.000000   \n",
       "1    135.710988  34.975993        88.289012       92.024007  224.000000   \n",
       "2    109.963878  26.323443        64.536122       73.676557  174.500000   \n",
       "3    135.560556  37.570082        31.189444       62.429918  166.750000   \n",
       "4    105.951334  22.315540       123.048666      100.684460  229.000000   \n",
       "..          ...        ...              ...             ...         ...   \n",
       "970  112.954032  21.790416        87.188871       69.994656  200.142902   \n",
       "971  103.389556  25.123933        96.215996       74.266717  199.605552   \n",
       "972  109.909654  26.431828        77.227946       77.513116  187.137600   \n",
       "973  138.476805  12.894938        63.100015       58.594676  201.576821   \n",
       "974  110.326765  22.706100        89.668532       71.168149  199.995298   \n",
       "\n",
       "        Peak UC  target  \n",
       "0    127.000000     1.0  \n",
       "1    127.000000     1.0  \n",
       "2    100.000000     1.0  \n",
       "3    100.000000     1.0  \n",
       "4    123.000000     1.0  \n",
       "..          ...     ...  \n",
       "970   91.785073     0.0  \n",
       "971   99.390650     0.0  \n",
       "972  103.944945     0.0  \n",
       "973   71.489613     0.0  \n",
       "974   93.874249     0.0  \n",
       "\n",
       "[975 rows x 43 columns]"
      ],
      "text/html": "<div>\n<style scoped>\n    .dataframe tbody tr th:only-of-type {\n        vertical-align: middle;\n    }\n\n    .dataframe tbody tr th {\n        vertical-align: top;\n    }\n\n    .dataframe thead th {\n        text-align: right;\n    }\n</style>\n<table border=\"1\" class=\"dataframe\">\n  <thead>\n    <tr style=\"text-align: right;\">\n      <th></th>\n      <th>ID</th>\n      <th>pH</th>\n      <th>BDecf</th>\n      <th>pCO2</th>\n      <th>BE</th>\n      <th>Apgar1</th>\n      <th>Apgar5</th>\n      <th>Gest. Weeks</th>\n      <th>Weight(g)</th>\n      <th>Sex</th>\n      <th>...</th>\n      <th>Median UC</th>\n      <th>Std FHR</th>\n      <th>Std UC</th>\n      <th>RMS FHR</th>\n      <th>RMS UC</th>\n      <th>Peak to RMS FHR</th>\n      <th>Peak to RMS UC</th>\n      <th>Peak FHR</th>\n      <th>Peak UC</th>\n      <th>target</th>\n    </tr>\n  </thead>\n  <tbody>\n    <tr>\n      <th>0</th>\n      <td>1220.000000</td>\n      <td>Normal</td>\n      <td>3.520000</td>\n      <td>6.000000</td>\n      <td>-4.700000</td>\n      <td>Excellent</td>\n      <td>Excellent</td>\n      <td>42.000000</td>\n      <td>3100.000000</td>\n      <td>2.0</td>\n      <td>...</td>\n      <td>23.000000</td>\n      <td>59.376698</td>\n      <td>21.970835</td>\n      <td>122.357020</td>\n      <td>33.143752</td>\n      <td>70.642980</td>\n      <td>93.856248</td>\n      <td>193.000000</td>\n      <td>127.000000</td>\n      <td>1.0</td>\n    </tr>\n    <tr>\n      <th>1</th>\n      <td>1234.000000</td>\n      <td>Normal</td>\n      <td>2.500000</td>\n      <td>6.500000</td>\n      <td>-4.200000</td>\n      <td>Excellent</td>\n      <td>Excellent</td>\n      <td>41.000000</td>\n      <td>3200.000000</td>\n      <td>1.0</td>\n      <td>...</td>\n      <td>20.500000</td>\n      <td>59.311329</td>\n      <td>24.685834</td>\n      <td>135.710988</td>\n      <td>34.975993</td>\n      <td>88.289012</td>\n      <td>92.024007</td>\n      <td>224.000000</td>\n      <td>127.000000</td>\n      <td>1.0</td>\n    </tr>\n    <tr>\n      <th>2</th>\n      <td>1208.000000</td>\n      <td>Normal</td>\n      <td>5.840000</td>\n      <td>6.600000</td>\n      <td>-7.400000</td>\n      <td>Excellent</td>\n      <td>Excellent</td>\n      <td>40.000000</td>\n      <td>3900.000000</td>\n      <td>2.0</td>\n      <td>...</td>\n      <td>3.000000</td>\n      <td>51.554942</td>\n      <td>21.705502</td>\n      <td>109.963878</td>\n      <td>26.323443</td>\n      <td>64.536122</td>\n      <td>73.676557</td>\n      <td>174.500000</td>\n      <td>100.000000</td>\n      <td>1.0</td>\n    </tr>\n    <tr>\n      <th>3</th>\n      <td>1038.000000</td>\n      <td>Normal</td>\n      <td>2.720000</td>\n      <td>5.700000</td>\n      <td>-4.000000</td>\n      <td>Excellent</td>\n      <td>Excellent</td>\n      <td>39.000000</td>\n      <td>2740.000000</td>\n      <td>1.0</td>\n      <td>...</td>\n      <td>6.000000</td>\n      <td>26.070361</td>\n      <td>30.393657</td>\n      <td>135.560556</td>\n      <td>37.570082</td>\n      <td>31.189444</td>\n      <td>62.429918</td>\n      <td>166.750000</td>\n      <td>100.000000</td>\n      <td>1.0</td>\n    </tr>\n    <tr>\n      <th>4</th>\n      <td>1004.000000</td>\n      <td>Normal</td>\n      <td>5.190000</td>\n      <td>5.500000</td>\n      <td>-6.400000</td>\n      <td>Excellent</td>\n      <td>Excellent</td>\n      <td>41.000000</td>\n      <td>3370.000000</td>\n      <td>1.0</td>\n      <td>...</td>\n      <td>14.000000</td>\n      <td>51.581668</td>\n      <td>16.210997</td>\n      <td>105.951334</td>\n      <td>22.315540</td>\n      <td>123.048666</td>\n      <td>100.684460</td>\n      <td>229.000000</td>\n      <td>123.000000</td>\n      <td>1.0</td>\n    </tr>\n    <tr>\n      <th>...</th>\n      <td>...</td>\n      <td>...</td>\n      <td>...</td>\n      <td>...</td>\n      <td>...</td>\n      <td>...</td>\n      <td>...</td>\n      <td>...</td>\n      <td>...</td>\n      <td>...</td>\n      <td>...</td>\n      <td>...</td>\n      <td>...</td>\n      <td>...</td>\n      <td>...</td>\n      <td>...</td>\n      <td>...</td>\n      <td>...</td>\n      <td>...</td>\n      <td>...</td>\n      <td>...</td>\n    </tr>\n    <tr>\n      <th>970</th>\n      <td>1612.415502</td>\n      <td>Normal</td>\n      <td>4.170062</td>\n      <td>6.214293</td>\n      <td>-5.257210</td>\n      <td>Excellent</td>\n      <td>Excellent</td>\n      <td>39.571415</td>\n      <td>4014.282925</td>\n      <td>1.0</td>\n      <td>...</td>\n      <td>13.642683</td>\n      <td>66.893660</td>\n      <td>15.123756</td>\n      <td>112.954032</td>\n      <td>21.790416</td>\n      <td>87.188871</td>\n      <td>69.994656</td>\n      <td>200.142902</td>\n      <td>91.785073</td>\n      <td>0.0</td>\n    </tr>\n    <tr>\n      <th>971</th>\n      <td>1767.337796</td>\n      <td>Normal</td>\n      <td>3.440918</td>\n      <td>6.131623</td>\n      <td>-4.463584</td>\n      <td>Excellent</td>\n      <td>Excellent</td>\n      <td>39.736753</td>\n      <td>4047.350650</td>\n      <td>1.0</td>\n      <td>...</td>\n      <td>15.709416</td>\n      <td>62.683887</td>\n      <td>17.396235</td>\n      <td>103.389556</td>\n      <td>25.123933</td>\n      <td>96.215996</td>\n      <td>74.266717</td>\n      <td>199.605552</td>\n      <td>99.390650</td>\n      <td>0.0</td>\n    </tr>\n    <tr>\n      <th>972</th>\n      <td>1481.788323</td>\n      <td>Normal</td>\n      <td>4.115599</td>\n      <td>7.287158</td>\n      <td>-5.830279</td>\n      <td>Excellent</td>\n      <td>Excellent</td>\n      <td>40.559634</td>\n      <td>4038.440290</td>\n      <td>1.0</td>\n      <td>...</td>\n      <td>15.922014</td>\n      <td>64.601882</td>\n      <td>18.569339</td>\n      <td>109.909654</td>\n      <td>26.431828</td>\n      <td>77.227946</td>\n      <td>77.513116</td>\n      <td>187.137600</td>\n      <td>103.944945</td>\n      <td>0.0</td>\n    </tr>\n    <tr>\n      <th>973</th>\n      <td>1199.005821</td>\n      <td>Normal</td>\n      <td>6.115778</td>\n      <td>6.434896</td>\n      <td>-7.374997</td>\n      <td>Excellent</td>\n      <td>Excellent</td>\n      <td>39.130209</td>\n      <td>3926.041797</td>\n      <td>1.0</td>\n      <td>...</td>\n      <td>8.127612</td>\n      <td>78.127428</td>\n      <td>9.059652</td>\n      <td>138.476805</td>\n      <td>12.894938</td>\n      <td>63.100015</td>\n      <td>58.594676</td>\n      <td>201.576821</td>\n      <td>71.489613</td>\n      <td>0.0</td>\n    </tr>\n    <tr>\n      <th>974</th>\n      <td>1654.971118</td>\n      <td>Normal</td>\n      <td>3.969773</td>\n      <td>6.191584</td>\n      <td>-5.039209</td>\n      <td>Excellent</td>\n      <td>Excellent</td>\n      <td>39.616832</td>\n      <td>4023.366301</td>\n      <td>1.0</td>\n      <td>...</td>\n      <td>14.210394</td>\n      <td>65.737277</td>\n      <td>15.747983</td>\n      <td>110.326765</td>\n      <td>22.706100</td>\n      <td>89.668532</td>\n      <td>71.168149</td>\n      <td>199.995298</td>\n      <td>93.874249</td>\n      <td>0.0</td>\n    </tr>\n  </tbody>\n</table>\n<p>975 rows × 43 columns</p>\n</div>"
     },
     "metadata": {},
     "execution_count": 31
    }
   ],
   "source": [
    "df['pH'] = df['pH'].apply(lambda x: 'Pathological' if x<=7.15 else 'Normal')\n",
    "df"
   ]
  },
  {
   "cell_type": "code",
   "execution_count": 33,
   "metadata": {},
   "outputs": [
    {
     "output_type": "execute_result",
     "data": {
      "text/plain": [
       "Normal          842\n",
       "Pathological    133\n",
       "Name: pH, dtype: int64"
      ]
     },
     "metadata": {},
     "execution_count": 33
    }
   ],
   "source": [
    "df.pH.value_counts()"
   ]
  },
  {
   "cell_type": "code",
   "execution_count": 36,
   "metadata": {},
   "outputs": [
    {
     "output_type": "execute_result",
     "data": {
      "text/plain": [
       "Index(['ID', 'pH', 'BDecf', 'pCO2', 'BE', 'Apgar1', 'Apgar5', 'Gest. Weeks',\n",
       "       'Weight(g)', 'Sex', 'Age', 'Gravidity', 'Parity', 'Diabetes',\n",
       "       'Hypertension', 'Preeclampsia', 'Liq.', 'Pyrexia', 'Meconium',\n",
       "       'Presentation', 'Induced', 'I.stage', 'NoProgress', 'CK/KP', 'II.stage',\n",
       "       'Deliv. type', 'dbID', 'Rec. type', 'Pos. II.st.', 'Sig2Birth',\n",
       "       'Mean FHR', 'Mean UC', 'Median FHR', 'Median UC', 'Std FHR', 'Std UC',\n",
       "       'RMS FHR', 'RMS UC', 'Peak to RMS FHR', 'Peak to RMS UC', 'Peak FHR',\n",
       "       'Peak UC', 'target'],\n",
       "      dtype='object')"
      ]
     },
     "metadata": {},
     "execution_count": 36
    }
   ],
   "source": [
    "df.columns"
   ]
  },
  {
   "cell_type": "code",
   "execution_count": 37,
   "metadata": {},
   "outputs": [
    {
     "output_type": "execute_result",
     "data": {
      "text/plain": [
       "20"
      ]
     },
     "metadata": {},
     "execution_count": 37
    }
   ],
   "source": [
    "pd.get_option(\"display.max_columns\")"
   ]
  },
  {
   "cell_type": "code",
   "execution_count": 38,
   "metadata": {},
   "outputs": [],
   "source": []
  },
  {
   "cell_type": "code",
   "execution_count": 39,
   "metadata": {},
   "outputs": [
    {
     "output_type": "execute_result",
     "data": {
      "text/plain": [
       "              ID      pH     BDecf      pCO2        BE     Apgar1     Apgar5  \\\n",
       "0    1220.000000  Normal  3.520000  6.000000 -4.700000  Excellent  Excellent   \n",
       "1    1234.000000  Normal  2.500000  6.500000 -4.200000  Excellent  Excellent   \n",
       "2    1208.000000  Normal  5.840000  6.600000 -7.400000  Excellent  Excellent   \n",
       "3    1038.000000  Normal  2.720000  5.700000 -4.000000  Excellent  Excellent   \n",
       "4    1004.000000  Normal  5.190000  5.500000 -6.400000  Excellent  Excellent   \n",
       "..           ...     ...       ...       ...       ...        ...        ...   \n",
       "970  1612.415502  Normal  4.170062  6.214293 -5.257210  Excellent  Excellent   \n",
       "971  1767.337796  Normal  3.440918  6.131623 -4.463584  Excellent  Excellent   \n",
       "972  1481.788323  Normal  4.115599  7.287158 -5.830279  Excellent  Excellent   \n",
       "973  1199.005821  Normal  6.115778  6.434896 -7.374997  Excellent  Excellent   \n",
       "974  1654.971118  Normal  3.969773  6.191584 -5.039209  Excellent  Excellent   \n",
       "\n",
       "     Gest. Weeks    Weight(g)  Sex  ...  Median UC    Std FHR     Std UC  \\\n",
       "0      42.000000  3100.000000  2.0  ...  23.000000  59.376698  21.970835   \n",
       "1      41.000000  3200.000000  1.0  ...  20.500000  59.311329  24.685834   \n",
       "2      40.000000  3900.000000  2.0  ...   3.000000  51.554942  21.705502   \n",
       "3      39.000000  2740.000000  1.0  ...   6.000000  26.070361  30.393657   \n",
       "4      41.000000  3370.000000  1.0  ...  14.000000  51.581668  16.210997   \n",
       "..           ...          ...  ...  ...        ...        ...        ...   \n",
       "970    39.571415  4014.282925  1.0  ...  13.642683  66.893660  15.123756   \n",
       "971    39.736753  4047.350650  1.0  ...  15.709416  62.683887  17.396235   \n",
       "972    40.559634  4038.440290  1.0  ...  15.922014  64.601882  18.569339   \n",
       "973    39.130209  3926.041797  1.0  ...   8.127612  78.127428   9.059652   \n",
       "974    39.616832  4023.366301  1.0  ...  14.210394  65.737277  15.747983   \n",
       "\n",
       "        RMS FHR     RMS UC  Peak to RMS FHR  Peak to RMS UC    Peak FHR  \\\n",
       "0    122.357020  33.143752        70.642980       93.856248  193.000000   \n",
       "1    135.710988  34.975993        88.289012       92.024007  224.000000   \n",
       "2    109.963878  26.323443        64.536122       73.676557  174.500000   \n",
       "3    135.560556  37.570082        31.189444       62.429918  166.750000   \n",
       "4    105.951334  22.315540       123.048666      100.684460  229.000000   \n",
       "..          ...        ...              ...             ...         ...   \n",
       "970  112.954032  21.790416        87.188871       69.994656  200.142902   \n",
       "971  103.389556  25.123933        96.215996       74.266717  199.605552   \n",
       "972  109.909654  26.431828        77.227946       77.513116  187.137600   \n",
       "973  138.476805  12.894938        63.100015       58.594676  201.576821   \n",
       "974  110.326765  22.706100        89.668532       71.168149  199.995298   \n",
       "\n",
       "        Peak UC  target  \n",
       "0    127.000000     1.0  \n",
       "1    127.000000     1.0  \n",
       "2    100.000000     1.0  \n",
       "3    100.000000     1.0  \n",
       "4    123.000000     1.0  \n",
       "..          ...     ...  \n",
       "970   91.785073     0.0  \n",
       "971   99.390650     0.0  \n",
       "972  103.944945     0.0  \n",
       "973   71.489613     0.0  \n",
       "974   93.874249     0.0  \n",
       "\n",
       "[975 rows x 43 columns]"
      ],
      "text/html": "<div>\n<style scoped>\n    .dataframe tbody tr th:only-of-type {\n        vertical-align: middle;\n    }\n\n    .dataframe tbody tr th {\n        vertical-align: top;\n    }\n\n    .dataframe thead th {\n        text-align: right;\n    }\n</style>\n<table border=\"1\" class=\"dataframe\">\n  <thead>\n    <tr style=\"text-align: right;\">\n      <th></th>\n      <th>ID</th>\n      <th>pH</th>\n      <th>BDecf</th>\n      <th>pCO2</th>\n      <th>BE</th>\n      <th>Apgar1</th>\n      <th>Apgar5</th>\n      <th>Gest. Weeks</th>\n      <th>Weight(g)</th>\n      <th>Sex</th>\n      <th>...</th>\n      <th>Median UC</th>\n      <th>Std FHR</th>\n      <th>Std UC</th>\n      <th>RMS FHR</th>\n      <th>RMS UC</th>\n      <th>Peak to RMS FHR</th>\n      <th>Peak to RMS UC</th>\n      <th>Peak FHR</th>\n      <th>Peak UC</th>\n      <th>target</th>\n    </tr>\n  </thead>\n  <tbody>\n    <tr>\n      <th>0</th>\n      <td>1220.000000</td>\n      <td>Normal</td>\n      <td>3.520000</td>\n      <td>6.000000</td>\n      <td>-4.700000</td>\n      <td>Excellent</td>\n      <td>Excellent</td>\n      <td>42.000000</td>\n      <td>3100.000000</td>\n      <td>2.0</td>\n      <td>...</td>\n      <td>23.000000</td>\n      <td>59.376698</td>\n      <td>21.970835</td>\n      <td>122.357020</td>\n      <td>33.143752</td>\n      <td>70.642980</td>\n      <td>93.856248</td>\n      <td>193.000000</td>\n      <td>127.000000</td>\n      <td>1.0</td>\n    </tr>\n    <tr>\n      <th>1</th>\n      <td>1234.000000</td>\n      <td>Normal</td>\n      <td>2.500000</td>\n      <td>6.500000</td>\n      <td>-4.200000</td>\n      <td>Excellent</td>\n      <td>Excellent</td>\n      <td>41.000000</td>\n      <td>3200.000000</td>\n      <td>1.0</td>\n      <td>...</td>\n      <td>20.500000</td>\n      <td>59.311329</td>\n      <td>24.685834</td>\n      <td>135.710988</td>\n      <td>34.975993</td>\n      <td>88.289012</td>\n      <td>92.024007</td>\n      <td>224.000000</td>\n      <td>127.000000</td>\n      <td>1.0</td>\n    </tr>\n    <tr>\n      <th>2</th>\n      <td>1208.000000</td>\n      <td>Normal</td>\n      <td>5.840000</td>\n      <td>6.600000</td>\n      <td>-7.400000</td>\n      <td>Excellent</td>\n      <td>Excellent</td>\n      <td>40.000000</td>\n      <td>3900.000000</td>\n      <td>2.0</td>\n      <td>...</td>\n      <td>3.000000</td>\n      <td>51.554942</td>\n      <td>21.705502</td>\n      <td>109.963878</td>\n      <td>26.323443</td>\n      <td>64.536122</td>\n      <td>73.676557</td>\n      <td>174.500000</td>\n      <td>100.000000</td>\n      <td>1.0</td>\n    </tr>\n    <tr>\n      <th>3</th>\n      <td>1038.000000</td>\n      <td>Normal</td>\n      <td>2.720000</td>\n      <td>5.700000</td>\n      <td>-4.000000</td>\n      <td>Excellent</td>\n      <td>Excellent</td>\n      <td>39.000000</td>\n      <td>2740.000000</td>\n      <td>1.0</td>\n      <td>...</td>\n      <td>6.000000</td>\n      <td>26.070361</td>\n      <td>30.393657</td>\n      <td>135.560556</td>\n      <td>37.570082</td>\n      <td>31.189444</td>\n      <td>62.429918</td>\n      <td>166.750000</td>\n      <td>100.000000</td>\n      <td>1.0</td>\n    </tr>\n    <tr>\n      <th>4</th>\n      <td>1004.000000</td>\n      <td>Normal</td>\n      <td>5.190000</td>\n      <td>5.500000</td>\n      <td>-6.400000</td>\n      <td>Excellent</td>\n      <td>Excellent</td>\n      <td>41.000000</td>\n      <td>3370.000000</td>\n      <td>1.0</td>\n      <td>...</td>\n      <td>14.000000</td>\n      <td>51.581668</td>\n      <td>16.210997</td>\n      <td>105.951334</td>\n      <td>22.315540</td>\n      <td>123.048666</td>\n      <td>100.684460</td>\n      <td>229.000000</td>\n      <td>123.000000</td>\n      <td>1.0</td>\n    </tr>\n    <tr>\n      <th>...</th>\n      <td>...</td>\n      <td>...</td>\n      <td>...</td>\n      <td>...</td>\n      <td>...</td>\n      <td>...</td>\n      <td>...</td>\n      <td>...</td>\n      <td>...</td>\n      <td>...</td>\n      <td>...</td>\n      <td>...</td>\n      <td>...</td>\n      <td>...</td>\n      <td>...</td>\n      <td>...</td>\n      <td>...</td>\n      <td>...</td>\n      <td>...</td>\n      <td>...</td>\n      <td>...</td>\n    </tr>\n    <tr>\n      <th>970</th>\n      <td>1612.415502</td>\n      <td>Normal</td>\n      <td>4.170062</td>\n      <td>6.214293</td>\n      <td>-5.257210</td>\n      <td>Excellent</td>\n      <td>Excellent</td>\n      <td>39.571415</td>\n      <td>4014.282925</td>\n      <td>1.0</td>\n      <td>...</td>\n      <td>13.642683</td>\n      <td>66.893660</td>\n      <td>15.123756</td>\n      <td>112.954032</td>\n      <td>21.790416</td>\n      <td>87.188871</td>\n      <td>69.994656</td>\n      <td>200.142902</td>\n      <td>91.785073</td>\n      <td>0.0</td>\n    </tr>\n    <tr>\n      <th>971</th>\n      <td>1767.337796</td>\n      <td>Normal</td>\n      <td>3.440918</td>\n      <td>6.131623</td>\n      <td>-4.463584</td>\n      <td>Excellent</td>\n      <td>Excellent</td>\n      <td>39.736753</td>\n      <td>4047.350650</td>\n      <td>1.0</td>\n      <td>...</td>\n      <td>15.709416</td>\n      <td>62.683887</td>\n      <td>17.396235</td>\n      <td>103.389556</td>\n      <td>25.123933</td>\n      <td>96.215996</td>\n      <td>74.266717</td>\n      <td>199.605552</td>\n      <td>99.390650</td>\n      <td>0.0</td>\n    </tr>\n    <tr>\n      <th>972</th>\n      <td>1481.788323</td>\n      <td>Normal</td>\n      <td>4.115599</td>\n      <td>7.287158</td>\n      <td>-5.830279</td>\n      <td>Excellent</td>\n      <td>Excellent</td>\n      <td>40.559634</td>\n      <td>4038.440290</td>\n      <td>1.0</td>\n      <td>...</td>\n      <td>15.922014</td>\n      <td>64.601882</td>\n      <td>18.569339</td>\n      <td>109.909654</td>\n      <td>26.431828</td>\n      <td>77.227946</td>\n      <td>77.513116</td>\n      <td>187.137600</td>\n      <td>103.944945</td>\n      <td>0.0</td>\n    </tr>\n    <tr>\n      <th>973</th>\n      <td>1199.005821</td>\n      <td>Normal</td>\n      <td>6.115778</td>\n      <td>6.434896</td>\n      <td>-7.374997</td>\n      <td>Excellent</td>\n      <td>Excellent</td>\n      <td>39.130209</td>\n      <td>3926.041797</td>\n      <td>1.0</td>\n      <td>...</td>\n      <td>8.127612</td>\n      <td>78.127428</td>\n      <td>9.059652</td>\n      <td>138.476805</td>\n      <td>12.894938</td>\n      <td>63.100015</td>\n      <td>58.594676</td>\n      <td>201.576821</td>\n      <td>71.489613</td>\n      <td>0.0</td>\n    </tr>\n    <tr>\n      <th>974</th>\n      <td>1654.971118</td>\n      <td>Normal</td>\n      <td>3.969773</td>\n      <td>6.191584</td>\n      <td>-5.039209</td>\n      <td>Excellent</td>\n      <td>Excellent</td>\n      <td>39.616832</td>\n      <td>4023.366301</td>\n      <td>1.0</td>\n      <td>...</td>\n      <td>14.210394</td>\n      <td>65.737277</td>\n      <td>15.747983</td>\n      <td>110.326765</td>\n      <td>22.706100</td>\n      <td>89.668532</td>\n      <td>71.168149</td>\n      <td>199.995298</td>\n      <td>93.874249</td>\n      <td>0.0</td>\n    </tr>\n  </tbody>\n</table>\n<p>975 rows × 43 columns</p>\n</div>"
     },
     "metadata": {},
     "execution_count": 39
    }
   ],
   "source": [
    "df"
   ]
  },
  {
   "cell_type": "code",
   "execution_count": 40,
   "metadata": {},
   "outputs": [
    {
     "output_type": "execute_result",
     "data": {
      "text/plain": [
       "(975, 43)"
      ]
     },
     "metadata": {},
     "execution_count": 40
    }
   ],
   "source": [
    "df.shape"
   ]
  },
  {
   "cell_type": "code",
   "execution_count": 41,
   "metadata": {},
   "outputs": [
    {
     "output_type": "execute_result",
     "data": {
      "text/plain": [
       "       ID  BDecf  pCO2   BE  Gest. Weeks  Weight(g)  Sex   Age  Gravidity  \\\n",
       "0  1220.0   3.52   6.0 -4.7         42.0     3100.0  2.0  34.0        2.0   \n",
       "1  1234.0   2.50   6.5 -4.2         41.0     3200.0  1.0  29.0        1.0   \n",
       "2  1208.0   5.84   6.6 -7.4         40.0     3900.0  2.0  26.0        1.0   \n",
       "3  1038.0   2.72   5.7 -4.0         39.0     2740.0  1.0  24.0        1.0   \n",
       "4  1004.0   5.19   5.5 -6.4         41.0     3370.0  1.0  36.0        1.0   \n",
       "\n",
       "   Parity  ...  Peak UC  target  pH_Normal  pH_Pathological  Apgar1_Attention  \\\n",
       "0     2.0  ...    127.0     1.0          1                0                 0   \n",
       "1     0.0  ...    127.0     1.0          1                0                 0   \n",
       "2     0.0  ...    100.0     1.0          1                0                 0   \n",
       "3     1.0  ...    100.0     1.0          1                0                 0   \n",
       "4     0.0  ...    123.0     1.0          1                0                 0   \n",
       "\n",
       "   Apgar1_Excellent  Apgar1_ModeratelyAbnormal  Apgar5_Attention  \\\n",
       "0                 1                          0                 0   \n",
       "1                 1                          0                 0   \n",
       "2                 1                          0                 0   \n",
       "3                 1                          0                 0   \n",
       "4                 1                          0                 0   \n",
       "\n",
       "   Apgar5_Excellent  Apgar5_ModeratelyAbnormal  \n",
       "0                 1                          0  \n",
       "1                 1                          0  \n",
       "2                 1                          0  \n",
       "3                 1                          0  \n",
       "4                 1                          0  \n",
       "\n",
       "[5 rows x 48 columns]"
      ],
      "text/html": "<div>\n<style scoped>\n    .dataframe tbody tr th:only-of-type {\n        vertical-align: middle;\n    }\n\n    .dataframe tbody tr th {\n        vertical-align: top;\n    }\n\n    .dataframe thead th {\n        text-align: right;\n    }\n</style>\n<table border=\"1\" class=\"dataframe\">\n  <thead>\n    <tr style=\"text-align: right;\">\n      <th></th>\n      <th>ID</th>\n      <th>BDecf</th>\n      <th>pCO2</th>\n      <th>BE</th>\n      <th>Gest. Weeks</th>\n      <th>Weight(g)</th>\n      <th>Sex</th>\n      <th>Age</th>\n      <th>Gravidity</th>\n      <th>Parity</th>\n      <th>...</th>\n      <th>Peak UC</th>\n      <th>target</th>\n      <th>pH_Normal</th>\n      <th>pH_Pathological</th>\n      <th>Apgar1_Attention</th>\n      <th>Apgar1_Excellent</th>\n      <th>Apgar1_ModeratelyAbnormal</th>\n      <th>Apgar5_Attention</th>\n      <th>Apgar5_Excellent</th>\n      <th>Apgar5_ModeratelyAbnormal</th>\n    </tr>\n  </thead>\n  <tbody>\n    <tr>\n      <th>0</th>\n      <td>1220.0</td>\n      <td>3.52</td>\n      <td>6.0</td>\n      <td>-4.7</td>\n      <td>42.0</td>\n      <td>3100.0</td>\n      <td>2.0</td>\n      <td>34.0</td>\n      <td>2.0</td>\n      <td>2.0</td>\n      <td>...</td>\n      <td>127.0</td>\n      <td>1.0</td>\n      <td>1</td>\n      <td>0</td>\n      <td>0</td>\n      <td>1</td>\n      <td>0</td>\n      <td>0</td>\n      <td>1</td>\n      <td>0</td>\n    </tr>\n    <tr>\n      <th>1</th>\n      <td>1234.0</td>\n      <td>2.50</td>\n      <td>6.5</td>\n      <td>-4.2</td>\n      <td>41.0</td>\n      <td>3200.0</td>\n      <td>1.0</td>\n      <td>29.0</td>\n      <td>1.0</td>\n      <td>0.0</td>\n      <td>...</td>\n      <td>127.0</td>\n      <td>1.0</td>\n      <td>1</td>\n      <td>0</td>\n      <td>0</td>\n      <td>1</td>\n      <td>0</td>\n      <td>0</td>\n      <td>1</td>\n      <td>0</td>\n    </tr>\n    <tr>\n      <th>2</th>\n      <td>1208.0</td>\n      <td>5.84</td>\n      <td>6.6</td>\n      <td>-7.4</td>\n      <td>40.0</td>\n      <td>3900.0</td>\n      <td>2.0</td>\n      <td>26.0</td>\n      <td>1.0</td>\n      <td>0.0</td>\n      <td>...</td>\n      <td>100.0</td>\n      <td>1.0</td>\n      <td>1</td>\n      <td>0</td>\n      <td>0</td>\n      <td>1</td>\n      <td>0</td>\n      <td>0</td>\n      <td>1</td>\n      <td>0</td>\n    </tr>\n    <tr>\n      <th>3</th>\n      <td>1038.0</td>\n      <td>2.72</td>\n      <td>5.7</td>\n      <td>-4.0</td>\n      <td>39.0</td>\n      <td>2740.0</td>\n      <td>1.0</td>\n      <td>24.0</td>\n      <td>1.0</td>\n      <td>1.0</td>\n      <td>...</td>\n      <td>100.0</td>\n      <td>1.0</td>\n      <td>1</td>\n      <td>0</td>\n      <td>0</td>\n      <td>1</td>\n      <td>0</td>\n      <td>0</td>\n      <td>1</td>\n      <td>0</td>\n    </tr>\n    <tr>\n      <th>4</th>\n      <td>1004.0</td>\n      <td>5.19</td>\n      <td>5.5</td>\n      <td>-6.4</td>\n      <td>41.0</td>\n      <td>3370.0</td>\n      <td>1.0</td>\n      <td>36.0</td>\n      <td>1.0</td>\n      <td>0.0</td>\n      <td>...</td>\n      <td>123.0</td>\n      <td>1.0</td>\n      <td>1</td>\n      <td>0</td>\n      <td>0</td>\n      <td>1</td>\n      <td>0</td>\n      <td>0</td>\n      <td>1</td>\n      <td>0</td>\n    </tr>\n  </tbody>\n</table>\n<p>5 rows × 48 columns</p>\n</div>"
     },
     "metadata": {},
     "execution_count": 41
    }
   ],
   "source": [
    "dts = pd.get_dummies(df)\n",
    "dts.head()"
   ]
  },
  {
   "cell_type": "code",
   "execution_count": 42,
   "metadata": {},
   "outputs": [
    {
     "output_type": "execute_result",
     "data": {
      "text/plain": [
       "(975, 48)"
      ]
     },
     "metadata": {},
     "execution_count": 42
    }
   ],
   "source": [
    "dts.shape"
   ]
  },
  {
   "cell_type": "code",
   "execution_count": 43,
   "metadata": {},
   "outputs": [
    {
     "output_type": "execute_result",
     "data": {
      "text/plain": [
       "Index(['ID', 'BDecf', 'pCO2', 'BE', 'Gest. Weeks', 'Weight(g)', 'Sex', 'Age',\n",
       "       'Gravidity', 'Parity', 'Diabetes', 'Hypertension', 'Preeclampsia',\n",
       "       'Liq.', 'Pyrexia', 'Meconium', 'Presentation', 'Induced', 'I.stage',\n",
       "       'NoProgress', 'CK/KP', 'II.stage', 'Deliv. type', 'dbID', 'Rec. type',\n",
       "       'Pos. II.st.', 'Sig2Birth', 'Mean FHR', 'Mean UC', 'Median FHR',\n",
       "       'Median UC', 'Std FHR', 'Std UC', 'RMS FHR', 'RMS UC',\n",
       "       'Peak to RMS FHR', 'Peak to RMS UC', 'Peak FHR', 'Peak UC', 'target',\n",
       "       'pH_Normal', 'pH_Pathological', 'Apgar1_Attention', 'Apgar1_Excellent',\n",
       "       'Apgar1_ModeratelyAbnormal', 'Apgar5_Attention', 'Apgar5_Excellent',\n",
       "       'Apgar5_ModeratelyAbnormal'],\n",
       "      dtype='object')"
      ]
     },
     "metadata": {},
     "execution_count": 43
    }
   ],
   "source": [
    "dts.columns"
   ]
  },
  {
   "cell_type": "code",
   "execution_count": 44,
   "metadata": {},
   "outputs": [],
   "source": [
    "X = dts.drop('target', axis=1)\n",
    "y = dts['target']"
   ]
  },
  {
   "cell_type": "code",
   "execution_count": 45,
   "metadata": {},
   "outputs": [
    {
     "output_type": "execute_result",
     "data": {
      "text/plain": [
       "              ID     BDecf      pCO2        BE  Gest. Weeks    Weight(g)  Sex  \\\n",
       "0    1220.000000  3.520000  6.000000 -4.700000    42.000000  3100.000000  2.0   \n",
       "1    1234.000000  2.500000  6.500000 -4.200000    41.000000  3200.000000  1.0   \n",
       "2    1208.000000  5.840000  6.600000 -7.400000    40.000000  3900.000000  2.0   \n",
       "3    1038.000000  2.720000  5.700000 -4.000000    39.000000  2740.000000  1.0   \n",
       "4    1004.000000  5.190000  5.500000 -6.400000    41.000000  3370.000000  1.0   \n",
       "..           ...       ...       ...       ...          ...          ...  ...   \n",
       "970  1612.415502  4.170062  6.214293 -5.257210    39.571415  4014.282925  1.0   \n",
       "971  1767.337796  3.440918  6.131623 -4.463584    39.736753  4047.350650  1.0   \n",
       "972  1481.788323  4.115599  7.287158 -5.830279    40.559634  4038.440290  1.0   \n",
       "973  1199.005821  6.115778  6.434896 -7.374997    39.130209  3926.041797  1.0   \n",
       "974  1654.971118  3.969773  6.191584 -5.039209    39.616832  4023.366301  1.0   \n",
       "\n",
       "           Age  Gravidity    Parity  ...    Peak FHR     Peak UC  pH_Normal  \\\n",
       "0    34.000000   2.000000  2.000000  ...  193.000000  127.000000          1   \n",
       "1    29.000000   1.000000  0.000000  ...  224.000000  127.000000          1   \n",
       "2    26.000000   1.000000  0.000000  ...  174.500000  100.000000          1   \n",
       "3    24.000000   1.000000  1.000000  ...  166.750000  100.000000          1   \n",
       "4    36.000000   1.000000  0.000000  ...  229.000000  123.000000          1   \n",
       "..         ...        ...       ...  ...         ...         ...        ...   \n",
       "970  29.714146   2.142829  1.142829  ...  200.142902   91.785073          1   \n",
       "971  31.367533   2.473507  1.473507  ...  199.605552   99.390650          1   \n",
       "972  32.880733   2.440366  1.440366  ...  187.137600  103.944945          1   \n",
       "973  25.302090   1.260418  0.260418  ...  201.576821   71.489613          1   \n",
       "974  30.168315   2.233663  1.233663  ...  199.995298   93.874249          1   \n",
       "\n",
       "     pH_Pathological  Apgar1_Attention  Apgar1_Excellent  \\\n",
       "0                  0                 0                 1   \n",
       "1                  0                 0                 1   \n",
       "2                  0                 0                 1   \n",
       "3                  0                 0                 1   \n",
       "4                  0                 0                 1   \n",
       "..               ...               ...               ...   \n",
       "970                0                 0                 1   \n",
       "971                0                 0                 1   \n",
       "972                0                 0                 1   \n",
       "973                0                 0                 1   \n",
       "974                0                 0                 1   \n",
       "\n",
       "     Apgar1_ModeratelyAbnormal  Apgar5_Attention  Apgar5_Excellent  \\\n",
       "0                            0                 0                 1   \n",
       "1                            0                 0                 1   \n",
       "2                            0                 0                 1   \n",
       "3                            0                 0                 1   \n",
       "4                            0                 0                 1   \n",
       "..                         ...               ...               ...   \n",
       "970                          0                 0                 1   \n",
       "971                          0                 0                 1   \n",
       "972                          0                 0                 1   \n",
       "973                          0                 0                 1   \n",
       "974                          0                 0                 1   \n",
       "\n",
       "     Apgar5_ModeratelyAbnormal  \n",
       "0                            0  \n",
       "1                            0  \n",
       "2                            0  \n",
       "3                            0  \n",
       "4                            0  \n",
       "..                         ...  \n",
       "970                          0  \n",
       "971                          0  \n",
       "972                          0  \n",
       "973                          0  \n",
       "974                          0  \n",
       "\n",
       "[975 rows x 47 columns]"
      ],
      "text/html": "<div>\n<style scoped>\n    .dataframe tbody tr th:only-of-type {\n        vertical-align: middle;\n    }\n\n    .dataframe tbody tr th {\n        vertical-align: top;\n    }\n\n    .dataframe thead th {\n        text-align: right;\n    }\n</style>\n<table border=\"1\" class=\"dataframe\">\n  <thead>\n    <tr style=\"text-align: right;\">\n      <th></th>\n      <th>ID</th>\n      <th>BDecf</th>\n      <th>pCO2</th>\n      <th>BE</th>\n      <th>Gest. Weeks</th>\n      <th>Weight(g)</th>\n      <th>Sex</th>\n      <th>Age</th>\n      <th>Gravidity</th>\n      <th>Parity</th>\n      <th>...</th>\n      <th>Peak FHR</th>\n      <th>Peak UC</th>\n      <th>pH_Normal</th>\n      <th>pH_Pathological</th>\n      <th>Apgar1_Attention</th>\n      <th>Apgar1_Excellent</th>\n      <th>Apgar1_ModeratelyAbnormal</th>\n      <th>Apgar5_Attention</th>\n      <th>Apgar5_Excellent</th>\n      <th>Apgar5_ModeratelyAbnormal</th>\n    </tr>\n  </thead>\n  <tbody>\n    <tr>\n      <th>0</th>\n      <td>1220.000000</td>\n      <td>3.520000</td>\n      <td>6.000000</td>\n      <td>-4.700000</td>\n      <td>42.000000</td>\n      <td>3100.000000</td>\n      <td>2.0</td>\n      <td>34.000000</td>\n      <td>2.000000</td>\n      <td>2.000000</td>\n      <td>...</td>\n      <td>193.000000</td>\n      <td>127.000000</td>\n      <td>1</td>\n      <td>0</td>\n      <td>0</td>\n      <td>1</td>\n      <td>0</td>\n      <td>0</td>\n      <td>1</td>\n      <td>0</td>\n    </tr>\n    <tr>\n      <th>1</th>\n      <td>1234.000000</td>\n      <td>2.500000</td>\n      <td>6.500000</td>\n      <td>-4.200000</td>\n      <td>41.000000</td>\n      <td>3200.000000</td>\n      <td>1.0</td>\n      <td>29.000000</td>\n      <td>1.000000</td>\n      <td>0.000000</td>\n      <td>...</td>\n      <td>224.000000</td>\n      <td>127.000000</td>\n      <td>1</td>\n      <td>0</td>\n      <td>0</td>\n      <td>1</td>\n      <td>0</td>\n      <td>0</td>\n      <td>1</td>\n      <td>0</td>\n    </tr>\n    <tr>\n      <th>2</th>\n      <td>1208.000000</td>\n      <td>5.840000</td>\n      <td>6.600000</td>\n      <td>-7.400000</td>\n      <td>40.000000</td>\n      <td>3900.000000</td>\n      <td>2.0</td>\n      <td>26.000000</td>\n      <td>1.000000</td>\n      <td>0.000000</td>\n      <td>...</td>\n      <td>174.500000</td>\n      <td>100.000000</td>\n      <td>1</td>\n      <td>0</td>\n      <td>0</td>\n      <td>1</td>\n      <td>0</td>\n      <td>0</td>\n      <td>1</td>\n      <td>0</td>\n    </tr>\n    <tr>\n      <th>3</th>\n      <td>1038.000000</td>\n      <td>2.720000</td>\n      <td>5.700000</td>\n      <td>-4.000000</td>\n      <td>39.000000</td>\n      <td>2740.000000</td>\n      <td>1.0</td>\n      <td>24.000000</td>\n      <td>1.000000</td>\n      <td>1.000000</td>\n      <td>...</td>\n      <td>166.750000</td>\n      <td>100.000000</td>\n      <td>1</td>\n      <td>0</td>\n      <td>0</td>\n      <td>1</td>\n      <td>0</td>\n      <td>0</td>\n      <td>1</td>\n      <td>0</td>\n    </tr>\n    <tr>\n      <th>4</th>\n      <td>1004.000000</td>\n      <td>5.190000</td>\n      <td>5.500000</td>\n      <td>-6.400000</td>\n      <td>41.000000</td>\n      <td>3370.000000</td>\n      <td>1.0</td>\n      <td>36.000000</td>\n      <td>1.000000</td>\n      <td>0.000000</td>\n      <td>...</td>\n      <td>229.000000</td>\n      <td>123.000000</td>\n      <td>1</td>\n      <td>0</td>\n      <td>0</td>\n      <td>1</td>\n      <td>0</td>\n      <td>0</td>\n      <td>1</td>\n      <td>0</td>\n    </tr>\n    <tr>\n      <th>...</th>\n      <td>...</td>\n      <td>...</td>\n      <td>...</td>\n      <td>...</td>\n      <td>...</td>\n      <td>...</td>\n      <td>...</td>\n      <td>...</td>\n      <td>...</td>\n      <td>...</td>\n      <td>...</td>\n      <td>...</td>\n      <td>...</td>\n      <td>...</td>\n      <td>...</td>\n      <td>...</td>\n      <td>...</td>\n      <td>...</td>\n      <td>...</td>\n      <td>...</td>\n      <td>...</td>\n    </tr>\n    <tr>\n      <th>970</th>\n      <td>1612.415502</td>\n      <td>4.170062</td>\n      <td>6.214293</td>\n      <td>-5.257210</td>\n      <td>39.571415</td>\n      <td>4014.282925</td>\n      <td>1.0</td>\n      <td>29.714146</td>\n      <td>2.142829</td>\n      <td>1.142829</td>\n      <td>...</td>\n      <td>200.142902</td>\n      <td>91.785073</td>\n      <td>1</td>\n      <td>0</td>\n      <td>0</td>\n      <td>1</td>\n      <td>0</td>\n      <td>0</td>\n      <td>1</td>\n      <td>0</td>\n    </tr>\n    <tr>\n      <th>971</th>\n      <td>1767.337796</td>\n      <td>3.440918</td>\n      <td>6.131623</td>\n      <td>-4.463584</td>\n      <td>39.736753</td>\n      <td>4047.350650</td>\n      <td>1.0</td>\n      <td>31.367533</td>\n      <td>2.473507</td>\n      <td>1.473507</td>\n      <td>...</td>\n      <td>199.605552</td>\n      <td>99.390650</td>\n      <td>1</td>\n      <td>0</td>\n      <td>0</td>\n      <td>1</td>\n      <td>0</td>\n      <td>0</td>\n      <td>1</td>\n      <td>0</td>\n    </tr>\n    <tr>\n      <th>972</th>\n      <td>1481.788323</td>\n      <td>4.115599</td>\n      <td>7.287158</td>\n      <td>-5.830279</td>\n      <td>40.559634</td>\n      <td>4038.440290</td>\n      <td>1.0</td>\n      <td>32.880733</td>\n      <td>2.440366</td>\n      <td>1.440366</td>\n      <td>...</td>\n      <td>187.137600</td>\n      <td>103.944945</td>\n      <td>1</td>\n      <td>0</td>\n      <td>0</td>\n      <td>1</td>\n      <td>0</td>\n      <td>0</td>\n      <td>1</td>\n      <td>0</td>\n    </tr>\n    <tr>\n      <th>973</th>\n      <td>1199.005821</td>\n      <td>6.115778</td>\n      <td>6.434896</td>\n      <td>-7.374997</td>\n      <td>39.130209</td>\n      <td>3926.041797</td>\n      <td>1.0</td>\n      <td>25.302090</td>\n      <td>1.260418</td>\n      <td>0.260418</td>\n      <td>...</td>\n      <td>201.576821</td>\n      <td>71.489613</td>\n      <td>1</td>\n      <td>0</td>\n      <td>0</td>\n      <td>1</td>\n      <td>0</td>\n      <td>0</td>\n      <td>1</td>\n      <td>0</td>\n    </tr>\n    <tr>\n      <th>974</th>\n      <td>1654.971118</td>\n      <td>3.969773</td>\n      <td>6.191584</td>\n      <td>-5.039209</td>\n      <td>39.616832</td>\n      <td>4023.366301</td>\n      <td>1.0</td>\n      <td>30.168315</td>\n      <td>2.233663</td>\n      <td>1.233663</td>\n      <td>...</td>\n      <td>199.995298</td>\n      <td>93.874249</td>\n      <td>1</td>\n      <td>0</td>\n      <td>0</td>\n      <td>1</td>\n      <td>0</td>\n      <td>0</td>\n      <td>1</td>\n      <td>0</td>\n    </tr>\n  </tbody>\n</table>\n<p>975 rows × 47 columns</p>\n</div>"
     },
     "metadata": {},
     "execution_count": 45
    }
   ],
   "source": [
    "X"
   ]
  },
  {
   "cell_type": "code",
   "execution_count": 46,
   "metadata": {},
   "outputs": [
    {
     "output_type": "execute_result",
     "data": {
      "text/plain": [
       "0      1.0\n",
       "1      1.0\n",
       "2      1.0\n",
       "3      1.0\n",
       "4      1.0\n",
       "      ... \n",
       "970    0.0\n",
       "971    0.0\n",
       "972    0.0\n",
       "973    0.0\n",
       "974    0.0\n",
       "Name: target, Length: 975, dtype: float64"
      ]
     },
     "metadata": {},
     "execution_count": 46
    }
   ],
   "source": [
    "y"
   ]
  },
  {
   "cell_type": "code",
   "execution_count": 59,
   "metadata": {},
   "outputs": [
    {
     "output_type": "stream",
     "name": "stdout",
     "text": [
      "Training dataset len: 780, Test data len: 195\n"
     ]
    }
   ],
   "source": [
    "from sklearn.model_selection import train_test_split\n",
    "X_train, X_test, y_train, y_test = train_test_split(X, y, test_size = 0.20, random_state = 42)\n",
    "print('Training dataset len: {}, Test data len: {}'.format(X_train.shape[0], y_test.shape[0]))"
   ]
  },
  {
   "cell_type": "code",
   "execution_count": 60,
   "metadata": {},
   "outputs": [],
   "source": [
    "from sklearn.preprocessing import StandardScaler\n",
    "sc = StandardScaler()\n",
    "X_train = sc.fit_transform(X_train.values)"
   ]
  },
  {
   "cell_type": "code",
   "execution_count": 62,
   "metadata": {},
   "outputs": [],
   "source": [
    "X_test = sc.transform(X_test)"
   ]
  },
  {
   "cell_type": "code",
   "execution_count": 63,
   "metadata": {},
   "outputs": [
    {
     "output_type": "stream",
     "name": "stderr",
     "text": [
      "C:\\Users\\AnantGupta\\Anaconda3\\envs\\mainenv\\lib\\site-packages\\xgboost\\sklearn.py:888: UserWarning: The use of label encoder in XGBClassifier is deprecated and will be removed in a future release. To remove this warning, do the following: 1) Pass option use_label_encoder=False when constructing XGBClassifier object; and 2) Encode your labels (y) as integers starting with 0, i.e. 0, 1, 2, ..., [num_class - 1].\n",
      "  warnings.warn(label_encoder_deprecation_msg, UserWarning)\n",
      "[16:44:41] WARNING: ..\\src\\learner.cc:1061: Starting in XGBoost 1.3.0, the default evaluation metric used with the objective 'binary:logistic' was changed from 'error' to 'logloss'. Explicitly set eval_metric if you'd like to restore the old behavior.\n"
     ]
    },
    {
     "output_type": "execute_result",
     "data": {
      "text/plain": [
       "XGBClassifier(base_score=0.5, booster='gbtree', colsample_bylevel=1,\n",
       "              colsample_bynode=1, colsample_bytree=1, gamma=0, gpu_id=-1,\n",
       "              importance_type='gain', interaction_constraints='',\n",
       "              learning_rate=0.300000012, max_delta_step=0, max_depth=6,\n",
       "              min_child_weight=1, missing=nan, monotone_constraints='()',\n",
       "              n_estimators=100, n_jobs=4, num_parallel_tree=1, random_state=0,\n",
       "              reg_alpha=0, reg_lambda=1, scale_pos_weight=1, subsample=1,\n",
       "              tree_method='exact', validate_parameters=1, verbosity=None)"
      ]
     },
     "metadata": {},
     "execution_count": 63
    }
   ],
   "source": [
    "from xgboost import XGBClassifier\n",
    "model = XGBClassifier()\n",
    "model.fit(X_train, y_train)"
   ]
  },
  {
   "cell_type": "code",
   "execution_count": 67,
   "metadata": {},
   "outputs": [],
   "source": [
    "y_pred = model.predict(X_test)\n",
    "predictions = [round(value) for value in y_pred]"
   ]
  },
  {
   "cell_type": "code",
   "execution_count": 68,
   "metadata": {},
   "outputs": [
    {
     "output_type": "stream",
     "name": "stdout",
     "text": [
      "Accuracy: 95.90%\n"
     ]
    }
   ],
   "source": [
    "from sklearn.metrics import accuracy_score\n",
    "accuracy = accuracy_score(y_test, predictions)\n",
    "print(\"Accuracy: %.2f%%\" % (accuracy * 100.0))"
   ]
  },
  {
   "cell_type": "code",
   "execution_count": 69,
   "metadata": {},
   "outputs": [
    {
     "output_type": "stream",
     "name": "stdout",
     "text": [
      "Confusion matrix :- \n [[95  2]\n [ 6 92]]\nClassification Report :- \n               precision    recall  f1-score   support\n\n         0.0       0.94      0.98      0.96        97\n         1.0       0.98      0.94      0.96        98\n\n    accuracy                           0.96       195\n   macro avg       0.96      0.96      0.96       195\nweighted avg       0.96      0.96      0.96       195\n\n"
     ]
    }
   ],
   "source": [
    "from sklearn.metrics import confusion_matrix, classification_report\n",
    "\n",
    "print('Confusion matrix :- \\n',confusion_matrix(y_test, predictions))\n",
    "print(\"Classification Report :- \\n\",classification_report(y_test, predictions))"
   ]
  },
  {
   "cell_type": "code",
   "execution_count": null,
   "metadata": {},
   "outputs": [],
   "source": []
  }
 ]
}